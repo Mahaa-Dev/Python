{
 "cells": [
  {
   "cell_type": "code",
   "execution_count": 1,
   "id": "f3ae8bc0",
   "metadata": {},
   "outputs": [],
   "source": [
    "import pandas as pd\n",
    "import numpy as np"
   ]
  },
  {
   "cell_type": "code",
   "execution_count": 2,
   "id": "7a4cf7a4",
   "metadata": {},
   "outputs": [],
   "source": [
    "#create pandas dataframe with raw data\n",
    "df = pd.DataFrame({'gender': np.repeat(np.array(['Male', 'Female']), 150),\n",
    "                   'sport': np.repeat(np.array(['Baseball', 'Basketball', 'Football',\n",
    "                                                'Soccer', 'Baseball', 'Basketball',\n",
    "                                                'Football', 'Soccer']), \n",
    "                                    (34, 40, 58, 18, 34, 52, 20, 44))})"
   ]
  },
  {
   "cell_type": "code",
   "execution_count": 3,
   "id": "25ddca12",
   "metadata": {},
   "outputs": [],
   "source": [
    "#produce contingency table to summarize raw data\n",
    "survey_data = pd.crosstab(index=df['gender'], columns=df['sport'], margins=True)"
   ]
  },
  {
   "cell_type": "code",
   "execution_count": 4,
   "id": "85c6fec2",
   "metadata": {},
   "outputs": [
    {
     "data": {
      "text/html": [
       "<div>\n",
       "<style scoped>\n",
       "    .dataframe tbody tr th:only-of-type {\n",
       "        vertical-align: middle;\n",
       "    }\n",
       "\n",
       "    .dataframe tbody tr th {\n",
       "        vertical-align: top;\n",
       "    }\n",
       "\n",
       "    .dataframe thead th {\n",
       "        text-align: right;\n",
       "    }\n",
       "</style>\n",
       "<table border=\"1\" class=\"dataframe\">\n",
       "  <thead>\n",
       "    <tr style=\"text-align: right;\">\n",
       "      <th>sport</th>\n",
       "      <th>Baseball</th>\n",
       "      <th>Basketball</th>\n",
       "      <th>Football</th>\n",
       "      <th>Soccer</th>\n",
       "      <th>All</th>\n",
       "    </tr>\n",
       "    <tr>\n",
       "      <th>gender</th>\n",
       "      <th></th>\n",
       "      <th></th>\n",
       "      <th></th>\n",
       "      <th></th>\n",
       "      <th></th>\n",
       "    </tr>\n",
       "  </thead>\n",
       "  <tbody>\n",
       "    <tr>\n",
       "      <th>Female</th>\n",
       "      <td>34</td>\n",
       "      <td>52</td>\n",
       "      <td>20</td>\n",
       "      <td>44</td>\n",
       "      <td>150</td>\n",
       "    </tr>\n",
       "    <tr>\n",
       "      <th>Male</th>\n",
       "      <td>34</td>\n",
       "      <td>40</td>\n",
       "      <td>58</td>\n",
       "      <td>18</td>\n",
       "      <td>150</td>\n",
       "    </tr>\n",
       "    <tr>\n",
       "      <th>All</th>\n",
       "      <td>68</td>\n",
       "      <td>92</td>\n",
       "      <td>78</td>\n",
       "      <td>62</td>\n",
       "      <td>300</td>\n",
       "    </tr>\n",
       "  </tbody>\n",
       "</table>\n",
       "</div>"
      ],
      "text/plain": [
       "sport   Baseball  Basketball  Football  Soccer  All\n",
       "gender                                             \n",
       "Female        34          52        20      44  150\n",
       "Male          34          40        58      18  150\n",
       "All           68          92        78      62  300"
      ]
     },
     "execution_count": 4,
     "metadata": {},
     "output_type": "execute_result"
    }
   ],
   "source": [
    "#view contingency table\n",
    "survey_data"
   ]
  },
  {
   "cell_type": "code",
   "execution_count": 5,
   "id": "27478572",
   "metadata": {},
   "outputs": [
    {
     "data": {
      "text/plain": [
       "34"
      ]
     },
     "execution_count": 5,
     "metadata": {},
     "output_type": "execute_result"
    }
   ],
   "source": [
    "#extract value in second row and first column \n",
    "survey_data.iloc[1, 0]"
   ]
  },
  {
   "cell_type": "code",
   "execution_count": 6,
   "id": "64378479",
   "metadata": {},
   "outputs": [
    {
     "data": {
      "text/plain": [
       "0.5"
      ]
     },
     "execution_count": 6,
     "metadata": {},
     "output_type": "execute_result"
    }
   ],
   "source": [
    "#calculate probability of being male, given that individual prefers baseball\n",
    "survey_data.iloc[1, 0] / survey_data.iloc[2, 0]"
   ]
  },
  {
   "cell_type": "code",
   "execution_count": 8,
   "id": "80ce7bac",
   "metadata": {},
   "outputs": [
    {
     "data": {
      "text/plain": [
       "0.3466666666666667"
      ]
     },
     "execution_count": 8,
     "metadata": {},
     "output_type": "execute_result"
    }
   ],
   "source": [
    "#calculate probability of preferring basketball, given that individual is female\n",
    "survey_data.iloc[0, 1] / survey_data.iloc[0, 4]\n",
    "\n"
   ]
  },
  {
   "cell_type": "code",
   "execution_count": null,
   "id": "8d1a803e",
   "metadata": {},
   "outputs": [],
   "source": []
  }
 ],
 "metadata": {
  "kernelspec": {
   "display_name": "Python 3 (ipykernel)",
   "language": "python",
   "name": "python3"
  },
  "language_info": {
   "codemirror_mode": {
    "name": "ipython",
    "version": 3
   },
   "file_extension": ".py",
   "mimetype": "text/x-python",
   "name": "python",
   "nbconvert_exporter": "python",
   "pygments_lexer": "ipython3",
   "version": "3.9.6"
  }
 },
 "nbformat": 4,
 "nbformat_minor": 5
}
