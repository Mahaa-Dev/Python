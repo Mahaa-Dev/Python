{
 "cells": [
  {
   "cell_type": "code",
   "execution_count": 1,
   "id": "c2f0954a",
   "metadata": {},
   "outputs": [],
   "source": [
    "import pandas as pd\n",
    "import numpy as np\n",
    "%matplotlib inline"
   ]
  },
  {
   "cell_type": "code",
   "execution_count": 2,
   "id": "40eb53c4",
   "metadata": {},
   "outputs": [],
   "source": [
    "from plotly import __version__"
   ]
  },
  {
   "cell_type": "code",
   "execution_count": 3,
   "id": "ddfa025a",
   "metadata": {},
   "outputs": [
    {
     "name": "stdout",
     "output_type": "stream",
     "text": [
      "5.2.1\n"
     ]
    }
   ],
   "source": [
    "print(__version__)"
   ]
  },
  {
   "cell_type": "code",
   "execution_count": 4,
   "id": "21951bcf",
   "metadata": {},
   "outputs": [],
   "source": [
    "import cufflinks as cf"
   ]
  },
  {
   "cell_type": "code",
   "execution_count": 5,
   "id": "5024d1c5",
   "metadata": {},
   "outputs": [],
   "source": [
    "from plotly.offline import download_plotlyjs,init_notebook_mode,plot,iplot"
   ]
  },
  {
   "cell_type": "code",
   "execution_count": 6,
   "id": "0ef3e48e",
   "metadata": {},
   "outputs": [
    {
     "data": {
      "text/html": [
       "        <script type=\"text/javascript\">\n",
       "        window.PlotlyConfig = {MathJaxConfig: 'local'};\n",
       "        if (window.MathJax) {MathJax.Hub.Config({SVG: {font: \"STIX-Web\"}});}\n",
       "        if (typeof require !== 'undefined') {\n",
       "        require.undef(\"plotly\");\n",
       "        requirejs.config({\n",
       "            paths: {\n",
       "                'plotly': ['https://cdn.plot.ly/plotly-2.3.1.min']\n",
       "            }\n",
       "        });\n",
       "        require(['plotly'], function(Plotly) {\n",
       "            window._Plotly = Plotly;\n",
       "        });\n",
       "        }\n",
       "        </script>\n",
       "        "
      ]
     },
     "metadata": {},
     "output_type": "display_data"
    }
   ],
   "source": [
    "init_notebook_mode(connected=True)"
   ]
  },
  {
   "cell_type": "code",
   "execution_count": 7,
   "id": "bded562c",
   "metadata": {},
   "outputs": [
    {
     "data": {
      "text/html": [
       "        <script type=\"text/javascript\">\n",
       "        window.PlotlyConfig = {MathJaxConfig: 'local'};\n",
       "        if (window.MathJax) {MathJax.Hub.Config({SVG: {font: \"STIX-Web\"}});}\n",
       "        if (typeof require !== 'undefined') {\n",
       "        require.undef(\"plotly\");\n",
       "        requirejs.config({\n",
       "            paths: {\n",
       "                'plotly': ['https://cdn.plot.ly/plotly-2.3.1.min']\n",
       "            }\n",
       "        });\n",
       "        require(['plotly'], function(Plotly) {\n",
       "            window._Plotly = Plotly;\n",
       "        });\n",
       "        }\n",
       "        </script>\n",
       "        "
      ]
     },
     "metadata": {},
     "output_type": "display_data"
    }
   ],
   "source": [
    "cf.go_offline()"
   ]
  },
  {
   "cell_type": "code",
   "execution_count": 8,
   "id": "f6a8d417",
   "metadata": {},
   "outputs": [],
   "source": [
    "df = pd.DataFrame(np.random.randn(100, 4),columns='A B C D'.split())"
   ]
  },
  {
   "cell_type": "code",
   "execution_count": 9,
   "id": "119037e4",
   "metadata": {},
   "outputs": [
    {
     "data": {
      "text/html": [
       "<div>\n",
       "<style scoped>\n",
       "    .dataframe tbody tr th:only-of-type {\n",
       "        vertical-align: middle;\n",
       "    }\n",
       "\n",
       "    .dataframe tbody tr th {\n",
       "        vertical-align: top;\n",
       "    }\n",
       "\n",
       "    .dataframe thead th {\n",
       "        text-align: right;\n",
       "    }\n",
       "</style>\n",
       "<table border=\"1\" class=\"dataframe\">\n",
       "  <thead>\n",
       "    <tr style=\"text-align: right;\">\n",
       "      <th></th>\n",
       "      <th>A</th>\n",
       "      <th>B</th>\n",
       "      <th>C</th>\n",
       "      <th>D</th>\n",
       "    </tr>\n",
       "  </thead>\n",
       "  <tbody>\n",
       "    <tr>\n",
       "      <th>0</th>\n",
       "      <td>0.257667</td>\n",
       "      <td>1.324844</td>\n",
       "      <td>-2.361762</td>\n",
       "      <td>0.611714</td>\n",
       "    </tr>\n",
       "    <tr>\n",
       "      <th>1</th>\n",
       "      <td>-0.968368</td>\n",
       "      <td>0.057350</td>\n",
       "      <td>0.560168</td>\n",
       "      <td>0.638605</td>\n",
       "    </tr>\n",
       "    <tr>\n",
       "      <th>2</th>\n",
       "      <td>0.407977</td>\n",
       "      <td>-1.325228</td>\n",
       "      <td>0.739779</td>\n",
       "      <td>-0.024778</td>\n",
       "    </tr>\n",
       "    <tr>\n",
       "      <th>3</th>\n",
       "      <td>-0.355217</td>\n",
       "      <td>0.203707</td>\n",
       "      <td>-0.662378</td>\n",
       "      <td>0.619770</td>\n",
       "    </tr>\n",
       "    <tr>\n",
       "      <th>4</th>\n",
       "      <td>0.106770</td>\n",
       "      <td>0.113901</td>\n",
       "      <td>0.685787</td>\n",
       "      <td>-1.196738</td>\n",
       "    </tr>\n",
       "  </tbody>\n",
       "</table>\n",
       "</div>"
      ],
      "text/plain": [
       "          A         B         C         D\n",
       "0  0.257667  1.324844 -2.361762  0.611714\n",
       "1 -0.968368  0.057350  0.560168  0.638605\n",
       "2  0.407977 -1.325228  0.739779 -0.024778\n",
       "3 -0.355217  0.203707 -0.662378  0.619770\n",
       "4  0.106770  0.113901  0.685787 -1.196738"
      ]
     },
     "execution_count": 9,
     "metadata": {},
     "output_type": "execute_result"
    }
   ],
   "source": [
    "df.head()"
   ]
  },
  {
   "cell_type": "code",
   "execution_count": 10,
   "id": "ab82446b",
   "metadata": {},
   "outputs": [],
   "source": [
    "df2 = pd.DataFrame({'category':['A','B','C'],'values':[32,43,50]})"
   ]
  },
  {
   "cell_type": "code",
   "execution_count": 11,
   "id": "8bb93317",
   "metadata": {},
   "outputs": [
    {
     "data": {
      "text/html": [
       "<div>\n",
       "<style scoped>\n",
       "    .dataframe tbody tr th:only-of-type {\n",
       "        vertical-align: middle;\n",
       "    }\n",
       "\n",
       "    .dataframe tbody tr th {\n",
       "        vertical-align: top;\n",
       "    }\n",
       "\n",
       "    .dataframe thead th {\n",
       "        text-align: right;\n",
       "    }\n",
       "</style>\n",
       "<table border=\"1\" class=\"dataframe\">\n",
       "  <thead>\n",
       "    <tr style=\"text-align: right;\">\n",
       "      <th></th>\n",
       "      <th>category</th>\n",
       "      <th>values</th>\n",
       "    </tr>\n",
       "  </thead>\n",
       "  <tbody>\n",
       "    <tr>\n",
       "      <th>0</th>\n",
       "      <td>A</td>\n",
       "      <td>32</td>\n",
       "    </tr>\n",
       "    <tr>\n",
       "      <th>1</th>\n",
       "      <td>B</td>\n",
       "      <td>43</td>\n",
       "    </tr>\n",
       "    <tr>\n",
       "      <th>2</th>\n",
       "      <td>C</td>\n",
       "      <td>50</td>\n",
       "    </tr>\n",
       "  </tbody>\n",
       "</table>\n",
       "</div>"
      ],
      "text/plain": [
       "  category  values\n",
       "0        A      32\n",
       "1        B      43\n",
       "2        C      50"
      ]
     },
     "execution_count": 11,
     "metadata": {},
     "output_type": "execute_result"
    }
   ],
   "source": [
    "df2.head()"
   ]
  },
  {
   "cell_type": "code",
   "execution_count": 12,
   "id": "39a5f33f",
   "metadata": {},
   "outputs": [
    {
     "data": {
      "text/plain": [
       "<AxesSubplot:>"
      ]
     },
     "execution_count": 12,
     "metadata": {},
     "output_type": "execute_result"
    },
    {
     "data": {
      "image/png": "[encoded data removed]",
      "text/plain": [
       "<Figure size 432x288 with 1 Axes>"
      ]
     },
     "metadata": {
      "needs_background": "light"
     },
     "output_type": "display_data"
    }
   ],
   "source": [
    "df2.plot()"
   ]
  },
  {
   "cell_type": "code",
   "execution_count": 13,
   "id": "0c16cc52",
   "metadata": {},
   "outputs": [
    {
     "data": {
      "application/vnd.plotly.v1+json": {
       "config": {
        "linkText": "Export to plot.ly",
        "plotlyServerURL": "https://plot.ly",
        "showLink": true
       },
       "data": [
        {
         "line": {
          "color": "rgba(255, 153, 51, 1.0)",
          "dash": "solid",
          "shape": "linear",
          "width": 1.3
         },
         "mode": "lines",
         "name": "A",
         "text": "",
         "type": "scatter",
         "x": [
          0,
          1,
          2,
          3,
          4,
          5,
          6,
          7,
          8,
          9,
          10,
          11,
          12,
          13,
          14,
          15,
          16,
          17,
          18,
          19,
          20,
          21,
          22,
          23,
          24,
          25,
          26,
          27,
          28,
          29,
          30,
          31,
          32,
          33,
          34,
          35,
          36,
          37,
          38,
          39,
          40,
          41,
          42,
          43,
          44,
          45,
          46,
          47,
          48,
          49,
          50,
          51,
          52,
          53,
          54,
          55,
          56,
          57,
          58,
          59,
          60,
          61,
          62,
          63,
          64,
          65,
          66,
          67,
          68,
          69,
          70,
          71,
          72,
          73,
          74,
          75,
          76,
          77,
          78,
          79,
          80,
          81,
          82,
          83,
          84,
          85,
          86,
          87,
          88,
          89,
          90,
          91,
          92,
          93,
          94,
          95,
          96,
          97,
          98,
          99
         ],
         "y": [
          0.25766725273870794,
          -0.9683683498568538,
          0.4079767983323879,
          -0.35521716328951264,
          0.1067697108260012,
          0.055264414905670536,
          0.16748678722052524,
          -0.03884642071252894,
          -1.9569206918568747,
          -0.012030065425278914,
          0.5147917475168186,
          -1.1929830986432766,
          -0.28630897965301283,
          -0.7269486914270185,
          -0.6042854575279359,
          -0.7860299666916818,
          -1.2232950810912862,
          -0.13550737994759923,
          -1.0734549238772075,
          0.24804028348226617,
          0.6481756930738801,
          -1.6101508373062166,
          -0.1609375642387576,
          -0.4537761843382195,
          0.6669660076254208,
          -0.844428975954758,
          0.5129831796429379,
          1.155804462649625,
          0.6941037484143968,
          2.325681370776554,
          -1.1934765913970897,
          -1.3331393887106655,
          -0.5842075563796505,
          0.823264907901564,
          0.5077909681150676,
          0.04079208347736599,
          -0.3774067504355232,
          1.684633944827573,
          0.8108285494289319,
          -0.9614720723440364,
          0.8033391836123334,
          1.366141053396587,
          1.22710335380521,
          0.5007861886024525,
          0.343001046248468,
          0.9821044423294414,
          1.058739583049605,
          -0.302159064903064,
          0.01997985590888351,
          -0.33131002906924917,
          0.2717518499836177,
          1.3142633549959786,
          -0.8617857664810039,
          0.1400785711199423,
          0.45416005353468314,
          -1.6845394060445138,
          -1.2870651849530947,
          -1.368366894386971,
          0.7796978263073777,
          0.8049718982440207,
          0.6720806332514321,
          0.019012236335749715,
          0.9820030162836629,
          -1.3032056716341103,
          0.24368134319022605,
          -0.11259416554794206,
          0.4777042747792598,
          0.7994237775854384,
          -0.5912923178386565,
          1.8620316169982516,
          1.5979147218970453,
          0.6982224574224856,
          0.06113753691724821,
          0.2011006952610454,
          -0.5264422448448134,
          -0.2860199234535764,
          1.1520711810777065,
          0.3853847234561283,
          0.8496286363248838,
          0.21092045657163339,
          0.4992727903258261,
          0.019602502769003088,
          1.479898271696008,
          0.13819373894873163,
          0.4943303710765866,
          0.8121478456947057,
          -0.920576847331459,
          0.10674261995226657,
          1.2436406766350976,
          0.6251502982138215,
          0.5576995553252935,
          0.15981433848144747,
          -0.46484952881209385,
          0.34931673594281165,
          -1.3197036618486955,
          2.030244713325367,
          1.3293527484805516,
          -0.6014582498008547,
          2.3177502612429897,
          0.24869161904699996
         ]
        },
        {
         "line": {
          "color": "rgba(55, 128, 191, 1.0)",
          "dash": "solid",
          "shape": "linear",
          "width": 1.3
         },
         "mode": "lines",
         "name": "B",
         "text": "",
         "type": "scatter",
         "x": [
          0,
          1,
          2,
          3,
          4,
          5,
          6,
          7,
          8,
          9,
          10,
          11,
          12,
          13,
          14,
          15,
          16,
          17,
          18,
          19,
          20,
          21,
          22,
          23,
          24,
          25,
          26,
          27,
          28,
          29,
          30,
          31,
          32,
          33,
          34,
          35,
          36,
          37,
          38,
          39,
          40,
          41,
          42,
          43,
          44,
          45,
          46,
          47,
          48,
          49,
          50,
          51,
          52,
          53,
          54,
          55,
          56,
          57,
          58,
          59,
          60,
          61,
          62,
          63,
          64,
          65,
          66,
          67,
          68,
          69,
          70,
          71,
          72,
          73,
          74,
          75,
          76,
          77,
          78,
          79,
          80,
          81,
          82,
          83,
          84,
          85,
          86,
          87,
          88,
          89,
          90,
          91,
          92,
          93,
          94,
          95,
          96,
          97,
          98,
          99
         ],
         "y": [
          1.3248435021986862,
          0.05735020938283478,
          -1.3252283251090466,
          0.2037073853435116,
          0.11390051896740837,
          0.036274803977040415,
          0.07886059125519548,
          -0.2107540123227492,
          0.5438429832196089,
          -1.495186139925318,
          -0.2786757262126936,
          -2.2472868977499583,
          0.5401780372965783,
          -1.2660125619710452,
          2.8917618341817137,
          0.9135784244832255,
          0.8070773007502883,
          -0.47655287637741833,
          -0.6916594268489628,
          -0.29857439303094707,
          -0.5028419053588357,
          -1.097380972947273,
          0.9013779502854321,
          -2.0539267239812853,
          -0.09946671171319675,
          0.027103790935514682,
          0.910952326494662,
          -0.3450271482134044,
          -2.016022367725986,
          1.2318197128416584,
          -0.48882763052385303,
          -1.0985539746033637,
          0.1469041002146205,
          -1.8300962817655162,
          0.3295661962110016,
          1.5269919414554993,
          -0.08726602386535882,
          -0.2746372475405285,
          1.3932038032489773,
          -1.5396569571609415,
          0.27825546855211997,
          -1.2105974754365512,
          -1.117995856964468,
          -0.08862087958247215,
          -0.19882957813497953,
          -0.046593485481045395,
          -0.2823150761795257,
          -0.909045608470984,
          -1.2859323567159786,
          2.57780442556176,
          0.5784537098435818,
          0.28312410196352455,
          0.5708819331108846,
          0.13193351121742164,
          0.7251406104368086,
          -0.33668180850187046,
          -0.6109096964157493,
          0.18883399477521554,
          0.525884140083572,
          -0.29113233390150467,
          1.5467100649562053,
          -1.5034114282884632,
          1.0075308147355966,
          0.8120289248587333,
          -1.3825380096125786,
          1.3893557899959468,
          0.7225515136418575,
          -2.0990836574963083,
          -0.3329107958852471,
          -0.20557479439035437,
          1.2586533985172603,
          -0.3623865838613117,
          -1.81009497493966,
          -0.8144051264697689,
          -0.8543728528659726,
          0.12428063004652715,
          0.42154333813920025,
          0.8325194216703564,
          -1.1316678358816619,
          -0.6752053609299112,
          1.0083868733208903,
          1.0329358144064287,
          0.24154683429897433,
          0.20467656709517945,
          0.4480733678860193,
          -1.4973501519227976,
          -0.06457171959633856,
          -0.7267026226309786,
          0.38549482127688767,
          2.0291148776290124,
          -0.7242805841989912,
          -0.8436208979113577,
          -0.9355965444051567,
          -1.2924130300577341,
          -1.0832341054879675,
          0.40071963830041823,
          1.6882470669240979,
          -1.8897243883593906,
          -1.73705358562559,
          -1.5599300069598463
         ]
        },
        {
         "line": {
          "color": "rgba(50, 171, 96, 1.0)",
          "dash": "solid",
          "shape": "linear",
          "width": 1.3
         },
         "mode": "lines",
         "name": "C",
         "text": "",
         "type": "scatter",
         "x": [
          0,
          1,
          2,
          3,
          4,
          5,
          6,
          7,
          8,
          9,
          10,
          11,
          12,
          13,
          14,
          15,
          16,
          17,
          18,
          19,
          20,
          21,
          22,
          23,
          24,
          25,
          26,
          27,
          28,
          29,
          30,
          31,
          32,
          33,
          34,
          35,
          36,
          37,
          38,
          39,
          40,
          41,
          42,
          43,
          44,
          45,
          46,
          47,
          48,
          49,
          50,
          51,
          52,
          53,
          54,
          55,
          56,
          57,
          58,
          59,
          60,
          61,
          62,
          63,
          64,
          65,
          66,
          67,
          68,
          69,
          70,
          71,
          72,
          73,
          74,
          75,
          76,
          77,
          78,
          79,
          80,
          81,
          82,
          83,
          84,
          85,
          86,
          87,
          88,
          89,
          90,
          91,
          92,
          93,
          94,
          95,
          96,
          97,
          98,
          99
         ],
         "y": [
          -2.361761577852779,
          0.5601682024555253,
          0.7397791306001766,
          -0.6623782490409087,
          0.6857868613529526,
          1.4325764368304839,
          -0.6046702446723863,
          -0.9224023716659426,
          -1.374858370180204,
          -1.4036497288762604,
          2.2809026918611757,
          -0.14793006094281821,
          0.13753424646413842,
          -0.2232675326374695,
          -0.3383929970868634,
          -0.3042114016740749,
          -2.0235518683305784,
          0.6112943301579296,
          0.12262932462534099,
          -0.5540464192991367,
          0.21394765086253906,
          -0.6342840755001222,
          1.5431114456139305,
          0.520000348435981,
          -0.5070277643479835,
          -1.32430202501762,
          -1.8986721120747658,
          -1.6127903072276566,
          -1.8336681094404546,
          -0.37874463908208617,
          -0.7264976899141545,
          -0.18953135953591352,
          1.000835838807099,
          1.1348048263560553,
          -2.246644046452098,
          -0.32131215444600014,
          -0.5973093329881346,
          -0.7168613711733985,
          -2.8584955120003954,
          2.789113453410877,
          0.4650310112167451,
          -1.6048341588683919,
          -1.2999450295037844,
          0.724368075933912,
          0.6605601842134327,
          -1.6403966595508683,
          -0.459508328073549,
          -0.5133337131873488,
          1.2212848371654796,
          3.103375971399639,
          1.4564409020961275,
          -0.44566360817361256,
          -0.6667837021019473,
          0.8649760834336663,
          0.18913022129124796,
          -0.39855900842707215,
          -0.3353945361522721,
          0.3102726463831046,
          -1.2817872368942829,
          -1.5761180255088258,
          1.9451888083978948,
          -1.3839219453105434,
          1.1718263853168165,
          -0.4363400113758351,
          -1.0065709153967863,
          -1.457183604809572,
          -0.17223676739963256,
          -0.31412797718378505,
          0.24725023263052143,
          0.7056310115827593,
          -0.9235051007847629,
          0.7517653837693907,
          0.4752875570000499,
          1.5337404272019972,
          -0.28544253565872163,
          0.640040353020628,
          -0.18323802609196574,
          -0.16975401206998655,
          0.07304670629250355,
          -0.7026185371650298,
          -0.7268743155257561,
          0.8277640495778841,
          -2.603861293255465,
          1.3069975134359773,
          0.9301139393275412,
          0.2241426217480532,
          -0.00934855406999004,
          0.5308123605970554,
          -0.9750164870308707,
          0.8632892044459971,
          0.1762676646661963,
          1.640097229898394,
          0.7176580381238524,
          -0.3623004190144998,
          -1.1176258416306188,
          0.4525957893338102,
          -1.1854120204386869,
          -0.6421062267770715,
          0.49012960496143854,
          -1.664902421214408
         ]
        },
        {
         "line": {
          "color": "rgba(128, 0, 128, 1.0)",
          "dash": "solid",
          "shape": "linear",
          "width": 1.3
         },
         "mode": "lines",
         "name": "D",
         "text": "",
         "type": "scatter",
         "x": [
          0,
          1,
          2,
          3,
          4,
          5,
          6,
          7,
          8,
          9,
          10,
          11,
          12,
          13,
          14,
          15,
          16,
          17,
          18,
          19,
          20,
          21,
          22,
          23,
          24,
          25,
          26,
          27,
          28,
          29,
          30,
          31,
          32,
          33,
          34,
          35,
          36,
          37,
          38,
          39,
          40,
          41,
          42,
          43,
          44,
          45,
          46,
          47,
          48,
          49,
          50,
          51,
          52,
          53,
          54,
          55,
          56,
          57,
          58,
          59,
          60,
          61,
          62,
          63,
          64,
          65,
          66,
          67,
          68,
          69,
          70,
          71,
          72,
          73,
          74,
          75,
          76,
          77,
          78,
          79,
          80,
          81,
          82,
          83,
          84,
          85,
          86,
          87,
          88,
          89,
          90,
          91,
          92,
          93,
          94,
          95,
          96,
          97,
          98,
          99
         ],
         "y": [
          0.611714013887907,
          0.6386052403396689,
          -0.02477849377865895,
          0.6197704319247359,
          -1.1967377415806166,
          1.1720391315629168,
          0.8765281439054488,
          -1.0370592385491233,
          0.44021492011010355,
          0.17230177660561485,
          0.4200336292442886,
          -0.16107225295889302,
          0.7200632250852794,
          -2.298592389474176,
          0.25459428501955056,
          0.2542139932244251,
          -1.8107357042692172,
          -0.5108724925504359,
          0.41001152084386977,
          -1.0703118510366805,
          1.0216244610662364,
          0.9974056726181587,
          1.312610610063279,
          -1.1407814799389158,
          1.5480251592844323,
          -0.49410534648003307,
          2.278885873544256,
          0.19104047538383667,
          -0.47014930082533973,
          -1.0344998801228573,
          -0.10032876048732366,
          0.7773925219423091,
          0.5717920894378987,
          0.33987394847518954,
          -0.1973390537737198,
          1.6021603463915783,
          -0.18834810979770195,
          -0.7497884978957049,
          -0.9027557049861357,
          -0.016809405012762894,
          -1.8597598987950288,
          0.856307118575504,
          -0.2162447769364504,
          -0.205476712225501,
          1.683875488970458,
          0.4609337272646481,
          0.8816172290139743,
          -1.5292750990984212,
          0.9459357785069152,
          -0.14509817237364275,
          -0.16696894829690045,
          -0.7401778451042701,
          0.26927875263065426,
          -1.1256758417539952,
          -0.08988833536686605,
          1.2641096243953123,
          -0.2101147329903418,
          -1.1204823391590175,
          0.13693330967014247,
          -0.23803086366322063,
          -0.8854563237832962,
          0.21533140364738995,
          0.9663254927426982,
          0.07511595060091833,
          -0.2487169421683228,
          1.412511316640888,
          -0.0973691612271399,
          -0.4760956995731815,
          0.16454046508612838,
          -0.8842237914144235,
          -1.1596602344406595,
          -0.11564797255073156,
          -0.5850474514779618,
          0.5224811694375456,
          -1.3775956652443182,
          0.007969820810576162,
          0.28740140869153913,
          0.6617076518110719,
          -0.8460664108204242,
          -0.05583557468567738,
          0.7611148188311797,
          0.4847337270794526,
          -2.1536338798360313,
          -0.3390316543921442,
          0.29109295797409984,
          0.3832439726007917,
          -0.593143056703596,
          -0.10685109921118938,
          -0.7925989257172054,
          1.1161161935482944,
          0.15080005441430192,
          -0.6181883497861653,
          0.6251053204524084,
          -0.5618278147974634,
          -0.46915351905109376,
          -1.1894885930032517,
          -0.5933340624232508,
          -1.4204641235088469,
          -0.0008249022356199199,
          1.02916580415784
         ]
        }
       ],
       "layout": {
        "legend": {
         "bgcolor": "#F5F6F9",
         "font": {
          "color": "#4D5663"
         }
        },
        "paper_bgcolor": "#F5F6F9",
        "plot_bgcolor": "#F5F6F9",
        "template": {
         "data": {
          "bar": [
           {
            "error_x": {
             "color": "#2a3f5f"
            },
            "error_y": {
             "color": "#2a3f5f"
            },
            "marker": {
             "line": {
              "color": "#E5ECF6",
              "width": 0.5
             },
             "pattern": {
              "fillmode": "overlay",
              "size": 10,
              "solidity": 0.2
             }
            },
            "type": "bar"
           }
          ],
          "barpolar": [
           {
            "marker": {
             "line": {
              "color": "#E5ECF6",
              "width": 0.5
             },
             "pattern": {
              "fillmode": "overlay",
              "size": 10,
              "solidity": 0.2
             }
            },
            "type": "barpolar"
           }
          ],
          "carpet": [
           {
            "aaxis": {
             "endlinecolor": "#2a3f5f",
             "gridcolor": "white",
             "linecolor": "white",
             "minorgridcolor": "white",
             "startlinecolor": "#2a3f5f"
            },
            "baxis": {
             "endlinecolor": "#2a3f5f",
             "gridcolor": "white",
             "linecolor": "white",
             "minorgridcolor": "white",
             "startlinecolor": "#2a3f5f"
            },
            "type": "carpet"
           }
          ],
          "choropleth": [
           {
            "colorbar": {
             "outlinewidth": 0,
             "ticks": ""
            },
            "type": "choropleth"
           }
          ],
          "contour": [
           {
            "colorbar": {
             "outlinewidth": 0,
             "ticks": ""
            },
            "colorscale": [
             [
              0,
              "#0d0887"
             ],
             [
              0.1111111111111111,
              "#46039f"
             ],
             [
              0.2222222222222222,
              "#7201a8"
             ],
             [
              0.3333333333333333,
              "#9c179e"
             ],
             [
              0.4444444444444444,
              "#bd3786"
             ],
             [
              0.5555555555555556,
              "#d8576b"
             ],
             [
              0.6666666666666666,
              "#ed7953"
             ],
             [
              0.7777777777777778,
              "#fb9f3a"
             ],
             [
              0.8888888888888888,
              "#fdca26"
             ],
             [
              1,
              "#f0f921"
             ]
            ],
            "type": "contour"
           }
          ],
          "contourcarpet": [
           {
            "colorbar": {
             "outlinewidth": 0,
             "ticks": ""
            },
            "type": "contourcarpet"
           }
          ],
          "heatmap": [
           {
            "colorbar": {
             "outlinewidth": 0,
             "ticks": ""
            },
            "colorscale": [
             [
              0,
              "#0d0887"
             ],
             [
              0.1111111111111111,
              "#46039f"
             ],
             [
              0.2222222222222222,
              "#7201a8"
             ],
             [
              0.3333333333333333,
              "#9c179e"
             ],
             [
              0.4444444444444444,
              "#bd3786"
             ],
             [
              0.5555555555555556,
              "#d8576b"
             ],
             [
              0.6666666666666666,
              "#ed7953"
             ],
             [
              0.7777777777777778,
              "#fb9f3a"
             ],
             [
              0.8888888888888888,
              "#fdca26"
             ],
             [
              1,
              "#f0f921"
             ]
            ],
            "type": "heatmap"
           }
          ],
          "heatmapgl": [
           {
            "colorbar": {
             "outlinewidth": 0,
             "ticks": ""
            },
            "colorscale": [
             [
              0,
              "#0d0887"
             ],
             [
              0.1111111111111111,
              "#46039f"
             ],
             [
              0.2222222222222222,
              "#7201a8"
             ],
             [
              0.3333333333333333,
              "#9c179e"
             ],
             [
              0.4444444444444444,
              "#bd3786"
             ],
             [
              0.5555555555555556,
              "#d8576b"
             ],
             [
              0.6666666666666666,
              "#ed7953"
             ],
             [
              0.7777777777777778,
              "#fb9f3a"
             ],
             [
              0.8888888888888888,
              "#fdca26"
             ],
             [
              1,
              "#f0f921"
             ]
            ],
            "type": "heatmapgl"
           }
          ],
          "histogram": [
           {
            "marker": {
             "pattern": {
              "fillmode": "overlay",
              "size": 10,
              "solidity": 0.2
             }
            },
            "type": "histogram"
           }
          ],
          "histogram2d": [
           {
            "colorbar": {
             "outlinewidth": 0,
             "ticks": ""
            },
            "colorscale": [
             [
              0,
              "#0d0887"
             ],
             [
              0.1111111111111111,
              "#46039f"
             ],
             [
              0.2222222222222222,
              "#7201a8"
             ],
             [
              0.3333333333333333,
              "#9c179e"
             ],
             [
              0.4444444444444444,
              "#bd3786"
             ],
             [
              0.5555555555555556,
              "#d8576b"
             ],
             [
              0.6666666666666666,
              "#ed7953"
             ],
             [
              0.7777777777777778,
              "#fb9f3a"
             ],
             [
              0.8888888888888888,
              "#fdca26"
             ],
             [
              1,
              "#f0f921"
             ]
            ],
            "type": "histogram2d"
           }
          ],
          "histogram2dcontour": [
           {
            "colorbar": {
             "outlinewidth": 0,
             "ticks": ""
            },
            "colorscale": [
             [
              0,
              "#0d0887"
             ],
             [
              0.1111111111111111,
              "#46039f"
             ],
             [
              0.2222222222222222,
              "#7201a8"
             ],
             [
              0.3333333333333333,
              "#9c179e"
             ],
             [
              0.4444444444444444,
              "#bd3786"
             ],
             [
              0.5555555555555556,
              "#d8576b"
             ],
             [
              0.6666666666666666,
              "#ed7953"
             ],
             [
              0.7777777777777778,
              "#fb9f3a"
             ],
             [
              0.8888888888888888,
              "#fdca26"
             ],
             [
              1,
              "#f0f921"
             ]
            ],
            "type": "histogram2dcontour"
           }
          ],
          "mesh3d": [
           {
            "colorbar": {
             "outlinewidth": 0,
             "ticks": ""
            },
            "type": "mesh3d"
           }
          ],
          "parcoords": [
           {
            "line": {
             "colorbar": {
              "outlinewidth": 0,
              "ticks": ""
             }
            },
            "type": "parcoords"
           }
          ],
          "pie": [
           {
            "automargin": true,
            "type": "pie"
           }
          ],
          "scatter": [
           {
            "marker": {
             "colorbar": {
              "outlinewidth": 0,
              "ticks": ""
             }
            },
            "type": "scatter"
           }
          ],
          "scatter3d": [
           {
            "line": {
             "colorbar": {
              "outlinewidth": 0,
              "ticks": ""
             }
            },
            "marker": {
             "colorbar": {
              "outlinewidth": 0,
              "ticks": ""
             }
            },
            "type": "scatter3d"
           }
          ],
          "scattercarpet": [
           {
            "marker": {
             "colorbar": {
              "outlinewidth": 0,
              "ticks": ""
             }
            },
            "type": "scattercarpet"
           }
          ],
          "scattergeo": [
           {
            "marker": {
             "colorbar": {
              "outlinewidth": 0,
              "ticks": ""
             }
            },
            "type": "scattergeo"
           }
          ],
          "scattergl": [
           {
            "marker": {
             "colorbar": {
              "outlinewidth": 0,
              "ticks": ""
             }
            },
            "type": "scattergl"
           }
          ],
          "scattermapbox": [
           {
            "marker": {
             "colorbar": {
              "outlinewidth": 0,
              "ticks": ""
             }
            },
            "type": "scattermapbox"
           }
          ],
          "scatterpolar": [
           {
            "marker": {
             "colorbar": {
              "outlinewidth": 0,
              "ticks": ""
             }
            },
            "type": "scatterpolar"
           }
          ],
          "scatterpolargl": [
           {
            "marker": {
             "colorbar": {
              "outlinewidth": 0,
              "ticks": ""
             }
            },
            "type": "scatterpolargl"
           }
          ],
          "scatterternary": [
           {
            "marker": {
             "colorbar": {
              "outlinewidth": 0,
              "ticks": ""
             }
            },
            "type": "scatterternary"
           }
          ],
          "surface": [
           {
            "colorbar": {
             "outlinewidth": 0,
             "ticks": ""
            },
            "colorscale": [
             [
              0,
              "#0d0887"
             ],
             [
              0.1111111111111111,
              "#46039f"
             ],
             [
              0.2222222222222222,
              "#7201a8"
             ],
             [
              0.3333333333333333,
              "#9c179e"
             ],
             [
              0.4444444444444444,
              "#bd3786"
             ],
             [
              0.5555555555555556,
              "#d8576b"
             ],
             [
              0.6666666666666666,
              "#ed7953"
             ],
             [
              0.7777777777777778,
              "#fb9f3a"
             ],
             [
              0.8888888888888888,
              "#fdca26"
             ],
             [
              1,
              "#f0f921"
             ]
            ],
            "type": "surface"
           }
          ],
          "table": [
           {
            "cells": {
             "fill": {
              "color": "#EBF0F8"
             },
             "line": {
              "color": "white"
             }
            },
            "header": {
             "fill": {
              "color": "#C8D4E3"
             },
             "line": {
              "color": "white"
             }
            },
            "type": "table"
           }
          ]
         },
         "layout": {
          "annotationdefaults": {
           "arrowcolor": "#2a3f5f",
           "arrowhead": 0,
           "arrowwidth": 1
          },
          "autotypenumbers": "strict",
          "coloraxis": {
           "colorbar": {
            "outlinewidth": 0,
            "ticks": ""
           }
          },
          "colorscale": {
           "diverging": [
            [
             0,
             "#8e0152"
            ],
            [
             0.1,
             "#c51b7d"
            ],
            [
             0.2,
             "#de77ae"
            ],
            [
             0.3,
             "#f1b6da"
            ],
            [
             0.4,
             "#fde0ef"
            ],
            [
             0.5,
             "#f7f7f7"
            ],
            [
             0.6,
             "#e6f5d0"
            ],
            [
             0.7,
             "#b8e186"
            ],
            [
             0.8,
             "#7fbc41"
            ],
            [
             0.9,
             "#4d9221"
            ],
            [
             1,
             "#276419"
            ]
           ],
           "sequential": [
            [
             0,
             "#0d0887"
            ],
            [
             0.1111111111111111,
             "#46039f"
            ],
            [
             0.2222222222222222,
             "#7201a8"
            ],
            [
             0.3333333333333333,
             "#9c179e"
            ],
            [
             0.4444444444444444,
             "#bd3786"
            ],
            [
             0.5555555555555556,
             "#d8576b"
            ],
            [
             0.6666666666666666,
             "#ed7953"
            ],
            [
             0.7777777777777778,
             "#fb9f3a"
            ],
            [
             0.8888888888888888,
             "#fdca26"
            ],
            [
             1,
             "#f0f921"
            ]
           ],
           "sequentialminus": [
            [
             0,
             "#0d0887"
            ],
            [
             0.1111111111111111,
             "#46039f"
            ],
            [
             0.2222222222222222,
             "#7201a8"
            ],
            [
             0.3333333333333333,
             "#9c179e"
            ],
            [
             0.4444444444444444,
             "#bd3786"
            ],
            [
             0.5555555555555556,
             "#d8576b"
            ],
            [
             0.6666666666666666,
             "#ed7953"
            ],
            [
             0.7777777777777778,
             "#fb9f3a"
            ],
            [
             0.8888888888888888,
             "#fdca26"
            ],
            [
             1,
             "#f0f921"
            ]
           ]
          },
          "colorway": [
           "#636efa",
           "#EF553B",
           "#00cc96",
           "#ab63fa",
           "#FFA15A",
           "#19d3f3",
           "#FF6692",
           "#B6E880",
           "#FF97FF",
           "#FECB52"
          ],
          "font": {
           "color": "#2a3f5f"
          },
          "geo": {
           "bgcolor": "white",
           "lakecolor": "white",
           "landcolor": "#E5ECF6",
           "showlakes": true,
           "showland": true,
           "subunitcolor": "white"
          },
          "hoverlabel": {
           "align": "left"
          },
          "hovermode": "closest",
          "mapbox": {
           "style": "light"
          },
          "paper_bgcolor": "white",
          "plot_bgcolor": "#E5ECF6",
          "polar": {
           "angularaxis": {
            "gridcolor": "white",
            "linecolor": "white",
            "ticks": ""
           },
           "bgcolor": "#E5ECF6",
           "radialaxis": {
            "gridcolor": "white",
            "linecolor": "white",
            "ticks": ""
           }
          },
          "scene": {
           "xaxis": {
            "backgroundcolor": "#E5ECF6",
            "gridcolor": "white",
            "gridwidth": 2,
            "linecolor": "white",
            "showbackground": true,
            "ticks": "",
            "zerolinecolor": "white"
           },
           "yaxis": {
            "backgroundcolor": "#E5ECF6",
            "gridcolor": "white",
            "gridwidth": 2,
            "linecolor": "white",
            "showbackground": true,
            "ticks": "",
            "zerolinecolor": "white"
           },
           "zaxis": {
            "backgroundcolor": "#E5ECF6",
            "gridcolor": "white",
            "gridwidth": 2,
            "linecolor": "white",
            "showbackground": true,
            "ticks": "",
            "zerolinecolor": "white"
           }
          },
          "shapedefaults": {
           "line": {
            "color": "#2a3f5f"
           }
          },
          "ternary": {
           "aaxis": {
            "gridcolor": "white",
            "linecolor": "white",
            "ticks": ""
           },
           "baxis": {
            "gridcolor": "white",
            "linecolor": "white",
            "ticks": ""
           },
           "bgcolor": "#E5ECF6",
           "caxis": {
            "gridcolor": "white",
            "linecolor": "white",
            "ticks": ""
           }
          },
          "title": {
           "x": 0.05
          },
          "xaxis": {
           "automargin": true,
           "gridcolor": "white",
           "linecolor": "white",
           "ticks": "",
           "title": {
            "standoff": 15
           },
           "zerolinecolor": "white",
           "zerolinewidth": 2
          },
          "yaxis": {
           "automargin": true,
           "gridcolor": "white",
           "linecolor": "white",
           "ticks": "",
           "title": {
            "standoff": 15
           },
           "zerolinecolor": "white",
           "zerolinewidth": 2
          }
         }
        },
        "title": {
         "font": {
          "color": "#4D5663"
         }
        },
        "xaxis": {
         "gridcolor": "#E1E5ED",
         "showgrid": true,
         "tickfont": {
          "color": "#4D5663"
         },
         "title": {
          "font": {
           "color": "#4D5663"
          },
          "text": ""
         },
         "zerolinecolor": "#E1E5ED"
        },
        "yaxis": {
         "gridcolor": "#E1E5ED",
         "showgrid": true,
         "tickfont": {
          "color": "#4D5663"
         },
         "title": {
          "font": {
           "color": "#4D5663"
          },
          "text": ""
         },
         "zerolinecolor": "#E1E5ED"
        }
       }
      },
      "text/html": [
       "<div>                            <div id=\"02d966f2-fc0b-41f2-811f-83a0b9efdd5b\" class=\"plotly-graph-div\" style=\"height:525px; width:100%;\"></div>            <script type=\"text/javascript\">                require([\"plotly\"], function(Plotly) {                    window.PLOTLYENV=window.PLOTLYENV || {};\n",
       "                    window.PLOTLYENV.BASE_URL='https://plot.ly';                                    if (document.getElementById(\"02d966f2-fc0b-41f2-811f-83a0b9efdd5b\")) {                    Plotly.newPlot(                        \"02d966f2-fc0b-41f2-811f-83a0b9efdd5b\",                        [{\"line\":{\"color\":\"rgba(255, 153, 51, 1.0)\",\"dash\":\"solid\",\"shape\":\"linear\",\"width\":1.3},\"mode\":\"lines\",\"name\":\"A\",\"text\":\"\",\"type\":\"scatter\",\"x\":[0,1,2,3,4,5,6,7,8,9,10,11,12,13,14,15,16,17,18,19,20,21,22,23,24,25,26,27,28,29,30,31,32,33,34,35,36,37,38,39,40,41,42,43,44,45,46,47,48,49,50,51,52,53,54,55,56,57,58,59,60,61,62,63,64,65,66,67,68,69,70,71,72,73,74,75,76,77,78,79,80,81,82,83,84,85,86,87,88,89,90,91,92,93,94,95,96,97,98,99],\"y\":[0.25766725273870794,-0.9683683498568538,0.4079767983323879,-0.35521716328951264,0.1067697108260012,0.055264414905670536,0.16748678722052524,-0.03884642071252894,-1.9569206918568747,-0.012030065425278914,0.5147917475168186,-1.1929830986432766,-0.28630897965301283,-0.7269486914270185,-0.6042854575279359,-0.7860299666916818,-1.2232950810912862,-0.13550737994759923,-1.0734549238772075,0.24804028348226617,0.6481756930738801,-1.6101508373062166,-0.1609375642387576,-0.4537761843382195,0.6669660076254208,-0.844428975954758,0.5129831796429379,1.155804462649625,0.6941037484143968,2.325681370776554,-1.1934765913970897,-1.3331393887106655,-0.5842075563796505,0.823264907901564,0.5077909681150676,0.04079208347736599,-0.3774067504355232,1.684633944827573,0.8108285494289319,-0.9614720723440364,0.8033391836123334,1.366141053396587,1.22710335380521,0.5007861886024525,0.343001046248468,0.9821044423294414,1.058739583049605,-0.302159064903064,0.01997985590888351,-0.33131002906924917,0.2717518499836177,1.3142633549959786,-0.8617857664810039,0.1400785711199423,0.45416005353468314,-1.6845394060445138,-1.2870651849530947,-1.368366894386971,0.7796978263073777,0.8049718982440207,0.6720806332514321,0.019012236335749715,0.9820030162836629,-1.3032056716341103,0.24368134319022605,-0.11259416554794206,0.4777042747792598,0.7994237775854384,-0.5912923178386565,1.8620316169982516,1.5979147218970453,0.6982224574224856,0.06113753691724821,0.2011006952610454,-0.5264422448448134,-0.2860199234535764,1.1520711810777065,0.3853847234561283,0.8496286363248838,0.21092045657163339,0.4992727903258261,0.019602502769003088,1.479898271696008,0.13819373894873163,0.4943303710765866,0.8121478456947057,-0.920576847331459,0.10674261995226657,1.2436406766350976,0.6251502982138215,0.5576995553252935,0.15981433848144747,-0.46484952881209385,0.34931673594281165,-1.3197036618486955,2.030244713325367,1.3293527484805516,-0.6014582498008547,2.3177502612429897,0.24869161904699996]},{\"line\":{\"color\":\"rgba(55, 128, 191, 1.0)\",\"dash\":\"solid\",\"shape\":\"linear\",\"width\":1.3},\"mode\":\"lines\",\"name\":\"B\",\"text\":\"\",\"type\":\"scatter\",\"x\":[0,1,2,3,4,5,6,7,8,9,10,11,12,13,14,15,16,17,18,19,20,21,22,23,24,25,26,27,28,29,30,31,32,33,34,35,36,37,38,39,40,41,42,43,44,45,46,47,48,49,50,51,52,53,54,55,56,57,58,59,60,61,62,63,64,65,66,67,68,69,70,71,72,73,74,75,76,77,78,79,80,81,82,83,84,85,86,87,88,89,90,91,92,93,94,95,96,97,98,99],\"y\":[1.3248435021986862,0.05735020938283478,-1.3252283251090466,0.2037073853435116,0.11390051896740837,0.036274803977040415,0.07886059125519548,-0.2107540123227492,0.5438429832196089,-1.495186139925318,-0.2786757262126936,-2.2472868977499583,0.5401780372965783,-1.2660125619710452,2.8917618341817137,0.9135784244832255,0.8070773007502883,-0.47655287637741833,-0.6916594268489628,-0.29857439303094707,-0.5028419053588357,-1.097380972947273,0.9013779502854321,-2.0539267239812853,-0.09946671171319675,0.027103790935514682,0.910952326494662,-0.3450271482134044,-2.016022367725986,1.2318197128416584,-0.48882763052385303,-1.0985539746033637,0.1469041002146205,-1.8300962817655162,0.3295661962110016,1.5269919414554993,-0.08726602386535882,-0.2746372475405285,1.3932038032489773,-1.5396569571609415,0.27825546855211997,-1.2105974754365512,-1.117995856964468,-0.08862087958247215,-0.19882957813497953,-0.046593485481045395,-0.2823150761795257,-0.909045608470984,-1.2859323567159786,2.57780442556176,0.5784537098435818,0.28312410196352455,0.5708819331108846,0.13193351121742164,0.7251406104368086,-0.33668180850187046,-0.6109096964157493,0.18883399477521554,0.525884140083572,-0.29113233390150467,1.5467100649562053,-1.5034114282884632,1.0075308147355966,0.8120289248587333,-1.3825380096125786,1.3893557899959468,0.7225515136418575,-2.0990836574963083,-0.3329107958852471,-0.20557479439035437,1.2586533985172603,-0.3623865838613117,-1.81009497493966,-0.8144051264697689,-0.8543728528659726,0.12428063004652715,0.42154333813920025,0.8325194216703564,-1.1316678358816619,-0.6752053609299112,1.0083868733208903,1.0329358144064287,0.24154683429897433,0.20467656709517945,0.4480733678860193,-1.4973501519227976,-0.06457171959633856,-0.7267026226309786,0.38549482127688767,2.0291148776290124,-0.7242805841989912,-0.8436208979113577,-0.9355965444051567,-1.2924130300577341,-1.0832341054879675,0.40071963830041823,1.6882470669240979,-1.8897243883593906,-1.73705358562559,-1.5599300069598463]},{\"line\":{\"color\":\"rgba(50, 171, 96, 1.0)\",\"dash\":\"solid\",\"shape\":\"linear\",\"width\":1.3},\"mode\":\"lines\",\"name\":\"C\",\"text\":\"\",\"type\":\"scatter\",\"x\":[0,1,2,3,4,5,6,7,8,9,10,11,12,13,14,15,16,17,18,19,20,21,22,23,24,25,26,27,28,29,30,31,32,33,34,35,36,37,38,39,40,41,42,43,44,45,46,47,48,49,50,51,52,53,54,55,56,57,58,59,60,61,62,63,64,65,66,67,68,69,70,71,72,73,74,75,76,77,78,79,80,81,82,83,84,85,86,87,88,89,90,91,92,93,94,95,96,97,98,99],\"y\":[-2.361761577852779,0.5601682024555253,0.7397791306001766,-0.6623782490409087,0.6857868613529526,1.4325764368304839,-0.6046702446723863,-0.9224023716659426,-1.374858370180204,-1.4036497288762604,2.2809026918611757,-0.14793006094281821,0.13753424646413842,-0.2232675326374695,-0.3383929970868634,-0.3042114016740749,-2.0235518683305784,0.6112943301579296,0.12262932462534099,-0.5540464192991367,0.21394765086253906,-0.6342840755001222,1.5431114456139305,0.520000348435981,-0.5070277643479835,-1.32430202501762,-1.8986721120747658,-1.6127903072276566,-1.8336681094404546,-0.37874463908208617,-0.7264976899141545,-0.18953135953591352,1.000835838807099,1.1348048263560553,-2.246644046452098,-0.32131215444600014,-0.5973093329881346,-0.7168613711733985,-2.8584955120003954,2.789113453410877,0.4650310112167451,-1.6048341588683919,-1.2999450295037844,0.724368075933912,0.6605601842134327,-1.6403966595508683,-0.459508328073549,-0.5133337131873488,1.2212848371654796,3.103375971399639,1.4564409020961275,-0.44566360817361256,-0.6667837021019473,0.8649760834336663,0.18913022129124796,-0.39855900842707215,-0.3353945361522721,0.3102726463831046,-1.2817872368942829,-1.5761180255088258,1.9451888083978948,-1.3839219453105434,1.1718263853168165,-0.4363400113758351,-1.0065709153967863,-1.457183604809572,-0.17223676739963256,-0.31412797718378505,0.24725023263052143,0.7056310115827593,-0.9235051007847629,0.7517653837693907,0.4752875570000499,1.5337404272019972,-0.28544253565872163,0.640040353020628,-0.18323802609196574,-0.16975401206998655,0.07304670629250355,-0.7026185371650298,-0.7268743155257561,0.8277640495778841,-2.603861293255465,1.3069975134359773,0.9301139393275412,0.2241426217480532,-0.00934855406999004,0.5308123605970554,-0.9750164870308707,0.8632892044459971,0.1762676646661963,1.640097229898394,0.7176580381238524,-0.3623004190144998,-1.1176258416306188,0.4525957893338102,-1.1854120204386869,-0.6421062267770715,0.49012960496143854,-1.664902421214408]},{\"line\":{\"color\":\"rgba(128, 0, 128, 1.0)\",\"dash\":\"solid\",\"shape\":\"linear\",\"width\":1.3},\"mode\":\"lines\",\"name\":\"D\",\"text\":\"\",\"type\":\"scatter\",\"x\":[0,1,2,3,4,5,6,7,8,9,10,11,12,13,14,15,16,17,18,19,20,21,22,23,24,25,26,27,28,29,30,31,32,33,34,35,36,37,38,39,40,41,42,43,44,45,46,47,48,49,50,51,52,53,54,55,56,57,58,59,60,61,62,63,64,65,66,67,68,69,70,71,72,73,74,75,76,77,78,79,80,81,82,83,84,85,86,87,88,89,90,91,92,93,94,95,96,97,98,99],\"y\":[0.611714013887907,0.6386052403396689,-0.02477849377865895,0.6197704319247359,-1.1967377415806166,1.1720391315629168,0.8765281439054488,-1.0370592385491233,0.44021492011010355,0.17230177660561485,0.4200336292442886,-0.16107225295889302,0.7200632250852794,-2.298592389474176,0.25459428501955056,0.2542139932244251,-1.8107357042692172,-0.5108724925504359,0.41001152084386977,-1.0703118510366805,1.0216244610662364,0.9974056726181587,1.312610610063279,-1.1407814799389158,1.5480251592844323,-0.49410534648003307,2.278885873544256,0.19104047538383667,-0.47014930082533973,-1.0344998801228573,-0.10032876048732366,0.7773925219423091,0.5717920894378987,0.33987394847518954,-0.1973390537737198,1.6021603463915783,-0.18834810979770195,-0.7497884978957049,-0.9027557049861357,-0.016809405012762894,-1.8597598987950288,0.856307118575504,-0.2162447769364504,-0.205476712225501,1.683875488970458,0.4609337272646481,0.8816172290139743,-1.5292750990984212,0.9459357785069152,-0.14509817237364275,-0.16696894829690045,-0.7401778451042701,0.26927875263065426,-1.1256758417539952,-0.08988833536686605,1.2641096243953123,-0.2101147329903418,-1.1204823391590175,0.13693330967014247,-0.23803086366322063,-0.8854563237832962,0.21533140364738995,0.9663254927426982,0.07511595060091833,-0.2487169421683228,1.412511316640888,-0.0973691612271399,-0.4760956995731815,0.16454046508612838,-0.8842237914144235,-1.1596602344406595,-0.11564797255073156,-0.5850474514779618,0.5224811694375456,-1.3775956652443182,0.007969820810576162,0.28740140869153913,0.6617076518110719,-0.8460664108204242,-0.05583557468567738,0.7611148188311797,0.4847337270794526,-2.1536338798360313,-0.3390316543921442,0.29109295797409984,0.3832439726007917,-0.593143056703596,-0.10685109921118938,-0.7925989257172054,1.1161161935482944,0.15080005441430192,-0.6181883497861653,0.6251053204524084,-0.5618278147974634,-0.46915351905109376,-1.1894885930032517,-0.5933340624232508,-1.4204641235088469,-0.0008249022356199199,1.02916580415784]}],                        {\"legend\":{\"bgcolor\":\"#F5F6F9\",\"font\":{\"color\":\"#4D5663\"}},\"paper_bgcolor\":\"#F5F6F9\",\"plot_bgcolor\":\"#F5F6F9\",\"template\":{\"data\":{\"bar\":[{\"error_x\":{\"color\":\"#2a3f5f\"},\"error_y\":{\"color\":\"#2a3f5f\"},\"marker\":{\"line\":{\"color\":\"#E5ECF6\",\"width\":0.5},\"pattern\":{\"fillmode\":\"overlay\",\"size\":10,\"solidity\":0.2}},\"type\":\"bar\"}],\"barpolar\":[{\"marker\":{\"line\":{\"color\":\"#E5ECF6\",\"width\":0.5},\"pattern\":{\"fillmode\":\"overlay\",\"size\":10,\"solidity\":0.2}},\"type\":\"barpolar\"}],\"carpet\":[{\"aaxis\":{\"endlinecolor\":\"#2a3f5f\",\"gridcolor\":\"white\",\"linecolor\":\"white\",\"minorgridcolor\":\"white\",\"startlinecolor\":\"#2a3f5f\"},\"baxis\":{\"endlinecolor\":\"#2a3f5f\",\"gridcolor\":\"white\",\"linecolor\":\"white\",\"minorgridcolor\":\"white\",\"startlinecolor\":\"#2a3f5f\"},\"type\":\"carpet\"}],\"choropleth\":[{\"colorbar\":{\"outlinewidth\":0,\"ticks\":\"\"},\"type\":\"choropleth\"}],\"contour\":[{\"colorbar\":{\"outlinewidth\":0,\"ticks\":\"\"},\"colorscale\":[[0.0,\"#0d0887\"],[0.1111111111111111,\"#46039f\"],[0.2222222222222222,\"#7201a8\"],[0.3333333333333333,\"#9c179e\"],[0.4444444444444444,\"#bd3786\"],[0.5555555555555556,\"#d8576b\"],[0.6666666666666666,\"#ed7953\"],[0.7777777777777778,\"#fb9f3a\"],[0.8888888888888888,\"#fdca26\"],[1.0,\"#f0f921\"]],\"type\":\"contour\"}],\"contourcarpet\":[{\"colorbar\":{\"outlinewidth\":0,\"ticks\":\"\"},\"type\":\"contourcarpet\"}],\"heatmap\":[{\"colorbar\":{\"outlinewidth\":0,\"ticks\":\"\"},\"colorscale\":[[0.0,\"#0d0887\"],[0.1111111111111111,\"#46039f\"],[0.2222222222222222,\"#7201a8\"],[0.3333333333333333,\"#9c179e\"],[0.4444444444444444,\"#bd3786\"],[0.5555555555555556,\"#d8576b\"],[0.6666666666666666,\"#ed7953\"],[0.7777777777777778,\"#fb9f3a\"],[0.8888888888888888,\"#fdca26\"],[1.0,\"#f0f921\"]],\"type\":\"heatmap\"}],\"heatmapgl\":[{\"colorbar\":{\"outlinewidth\":0,\"ticks\":\"\"},\"colorscale\":[[0.0,\"#0d0887\"],[0.1111111111111111,\"#46039f\"],[0.2222222222222222,\"#7201a8\"],[0.3333333333333333,\"#9c179e\"],[0.4444444444444444,\"#bd3786\"],[0.5555555555555556,\"#d8576b\"],[0.6666666666666666,\"#ed7953\"],[0.7777777777777778,\"#fb9f3a\"],[0.8888888888888888,\"#fdca26\"],[1.0,\"#f0f921\"]],\"type\":\"heatmapgl\"}],\"histogram\":[{\"marker\":{\"pattern\":{\"fillmode\":\"overlay\",\"size\":10,\"solidity\":0.2}},\"type\":\"histogram\"}],\"histogram2d\":[{\"colorbar\":{\"outlinewidth\":0,\"ticks\":\"\"},\"colorscale\":[[0.0,\"#0d0887\"],[0.1111111111111111,\"#46039f\"],[0.2222222222222222,\"#7201a8\"],[0.3333333333333333,\"#9c179e\"],[0.4444444444444444,\"#bd3786\"],[0.5555555555555556,\"#d8576b\"],[0.6666666666666666,\"#ed7953\"],[0.7777777777777778,\"#fb9f3a\"],[0.8888888888888888,\"#fdca26\"],[1.0,\"#f0f921\"]],\"type\":\"histogram2d\"}],\"histogram2dcontour\":[{\"colorbar\":{\"outlinewidth\":0,\"ticks\":\"\"},\"colorscale\":[[0.0,\"#0d0887\"],[0.1111111111111111,\"#46039f\"],[0.2222222222222222,\"#7201a8\"],[0.3333333333333333,\"#9c179e\"],[0.4444444444444444,\"#bd3786\"],[0.5555555555555556,\"#d8576b\"],[0.6666666666666666,\"#ed7953\"],[0.7777777777777778,\"#fb9f3a\"],[0.8888888888888888,\"#fdca26\"],[1.0,\"#f0f921\"]],\"type\":\"histogram2dcontour\"}],\"mesh3d\":[{\"colorbar\":{\"outlinewidth\":0,\"ticks\":\"\"},\"type\":\"mesh3d\"}],\"parcoords\":[{\"line\":{\"colorbar\":{\"outlinewidth\":0,\"ticks\":\"\"}},\"type\":\"parcoords\"}],\"pie\":[{\"automargin\":true,\"type\":\"pie\"}],\"scatter\":[{\"marker\":{\"colorbar\":{\"outlinewidth\":0,\"ticks\":\"\"}},\"type\":\"scatter\"}],\"scatter3d\":[{\"line\":{\"colorbar\":{\"outlinewidth\":0,\"ticks\":\"\"}},\"marker\":{\"colorbar\":{\"outlinewidth\":0,\"ticks\":\"\"}},\"type\":\"scatter3d\"}],\"scattercarpet\":[{\"marker\":{\"colorbar\":{\"outlinewidth\":0,\"ticks\":\"\"}},\"type\":\"scattercarpet\"}],\"scattergeo\":[{\"marker\":{\"colorbar\":{\"outlinewidth\":0,\"ticks\":\"\"}},\"type\":\"scattergeo\"}],\"scattergl\":[{\"marker\":{\"colorbar\":{\"outlinewidth\":0,\"ticks\":\"\"}},\"type\":\"scattergl\"}],\"scattermapbox\":[{\"marker\":{\"colorbar\":{\"outlinewidth\":0,\"ticks\":\"\"}},\"type\":\"scattermapbox\"}],\"scatterpolar\":[{\"marker\":{\"colorbar\":{\"outlinewidth\":0,\"ticks\":\"\"}},\"type\":\"scatterpolar\"}],\"scatterpolargl\":[{\"marker\":{\"colorbar\":{\"outlinewidth\":0,\"ticks\":\"\"}},\"type\":\"scatterpolargl\"}],\"scatterternary\":[{\"marker\":{\"colorbar\":{\"outlinewidth\":0,\"ticks\":\"\"}},\"type\":\"scatterternary\"}],\"surface\":[{\"colorbar\":{\"outlinewidth\":0,\"ticks\":\"\"},\"colorscale\":[[0.0,\"#0d0887\"],[0.1111111111111111,\"#46039f\"],[0.2222222222222222,\"#7201a8\"],[0.3333333333333333,\"#9c179e\"],[0.4444444444444444,\"#bd3786\"],[0.5555555555555556,\"#d8576b\"],[0.6666666666666666,\"#ed7953\"],[0.7777777777777778,\"#fb9f3a\"],[0.8888888888888888,\"#fdca26\"],[1.0,\"#f0f921\"]],\"type\":\"surface\"}],\"table\":[{\"cells\":{\"fill\":{\"color\":\"#EBF0F8\"},\"line\":{\"color\":\"white\"}},\"header\":{\"fill\":{\"color\":\"#C8D4E3\"},\"line\":{\"color\":\"white\"}},\"type\":\"table\"}]},\"layout\":{\"annotationdefaults\":{\"arrowcolor\":\"#2a3f5f\",\"arrowhead\":0,\"arrowwidth\":1},\"autotypenumbers\":\"strict\",\"coloraxis\":{\"colorbar\":{\"outlinewidth\":0,\"ticks\":\"\"}},\"colorscale\":{\"diverging\":[[0,\"#8e0152\"],[0.1,\"#c51b7d\"],[0.2,\"#de77ae\"],[0.3,\"#f1b6da\"],[0.4,\"#fde0ef\"],[0.5,\"#f7f7f7\"],[0.6,\"#e6f5d0\"],[0.7,\"#b8e186\"],[0.8,\"#7fbc41\"],[0.9,\"#4d9221\"],[1,\"#276419\"]],\"sequential\":[[0.0,\"#0d0887\"],[0.1111111111111111,\"#46039f\"],[0.2222222222222222,\"#7201a8\"],[0.3333333333333333,\"#9c179e\"],[0.4444444444444444,\"#bd3786\"],[0.5555555555555556,\"#d8576b\"],[0.6666666666666666,\"#ed7953\"],[0.7777777777777778,\"#fb9f3a\"],[0.8888888888888888,\"#fdca26\"],[1.0,\"#f0f921\"]],\"sequentialminus\":[[0.0,\"#0d0887\"],[0.1111111111111111,\"#46039f\"],[0.2222222222222222,\"#7201a8\"],[0.3333333333333333,\"#9c179e\"],[0.4444444444444444,\"#bd3786\"],[0.5555555555555556,\"#d8576b\"],[0.6666666666666666,\"#ed7953\"],[0.7777777777777778,\"#fb9f3a\"],[0.8888888888888888,\"#fdca26\"],[1.0,\"#f0f921\"]]},\"colorway\":[\"#636efa\",\"#EF553B\",\"#00cc96\",\"#ab63fa\",\"#FFA15A\",\"#19d3f3\",\"#FF6692\",\"#B6E880\",\"#FF97FF\",\"#FECB52\"],\"font\":{\"color\":\"#2a3f5f\"},\"geo\":{\"bgcolor\":\"white\",\"lakecolor\":\"white\",\"landcolor\":\"#E5ECF6\",\"showlakes\":true,\"showland\":true,\"subunitcolor\":\"white\"},\"hoverlabel\":{\"align\":\"left\"},\"hovermode\":\"closest\",\"mapbox\":{\"style\":\"light\"},\"paper_bgcolor\":\"white\",\"plot_bgcolor\":\"#E5ECF6\",\"polar\":{\"angularaxis\":{\"gridcolor\":\"white\",\"linecolor\":\"white\",\"ticks\":\"\"},\"bgcolor\":\"#E5ECF6\",\"radialaxis\":{\"gridcolor\":\"white\",\"linecolor\":\"white\",\"ticks\":\"\"}},\"scene\":{\"xaxis\":{\"backgroundcolor\":\"#E5ECF6\",\"gridcolor\":\"white\",\"gridwidth\":2,\"linecolor\":\"white\",\"showbackground\":true,\"ticks\":\"\",\"zerolinecolor\":\"white\"},\"yaxis\":{\"backgroundcolor\":\"#E5ECF6\",\"gridcolor\":\"white\",\"gridwidth\":2,\"linecolor\":\"white\",\"showbackground\":true,\"ticks\":\"\",\"zerolinecolor\":\"white\"},\"zaxis\":{\"backgroundcolor\":\"#E5ECF6\",\"gridcolor\":\"white\",\"gridwidth\":2,\"linecolor\":\"white\",\"showbackground\":true,\"ticks\":\"\",\"zerolinecolor\":\"white\"}},\"shapedefaults\":{\"line\":{\"color\":\"#2a3f5f\"}},\"ternary\":{\"aaxis\":{\"gridcolor\":\"white\",\"linecolor\":\"white\",\"ticks\":\"\"},\"baxis\":{\"gridcolor\":\"white\",\"linecolor\":\"white\",\"ticks\":\"\"},\"bgcolor\":\"#E5ECF6\",\"caxis\":{\"gridcolor\":\"white\",\"linecolor\":\"white\",\"ticks\":\"\"}},\"title\":{\"x\":0.05},\"xaxis\":{\"automargin\":true,\"gridcolor\":\"white\",\"linecolor\":\"white\",\"ticks\":\"\",\"title\":{\"standoff\":15},\"zerolinecolor\":\"white\",\"zerolinewidth\":2},\"yaxis\":{\"automargin\":true,\"gridcolor\":\"white\",\"linecolor\":\"white\",\"ticks\":\"\",\"title\":{\"standoff\":15},\"zerolinecolor\":\"white\",\"zerolinewidth\":2}}},\"title\":{\"font\":{\"color\":\"#4D5663\"}},\"xaxis\":{\"gridcolor\":\"#E1E5ED\",\"showgrid\":true,\"tickfont\":{\"color\":\"#4D5663\"},\"title\":{\"font\":{\"color\":\"#4D5663\"},\"text\":\"\"},\"zerolinecolor\":\"#E1E5ED\"},\"yaxis\":{\"gridcolor\":\"#E1E5ED\",\"showgrid\":true,\"tickfont\":{\"color\":\"#4D5663\"},\"title\":{\"font\":{\"color\":\"#4D5663\"},\"text\":\"\"},\"zerolinecolor\":\"#E1E5ED\"}},                        {\"showLink\": true, \"linkText\": \"Export to plot.ly\", \"plotlyServerURL\": \"https://plot.ly\", \"responsive\": true}                    ).then(function(){\n",
       "                            \n",
       "var gd = document.getElementById('02d966f2-fc0b-41f2-811f-83a0b9efdd5b');\n",
       "var x = new MutationObserver(function (mutations, observer) {{\n",
       "        var display = window.getComputedStyle(gd).display;\n",
       "        if (!display || display === 'none') {{\n",
       "            console.log([gd, 'removed!']);\n",
       "            Plotly.purge(gd);\n",
       "            observer.disconnect();\n",
       "        }}\n",
       "}});\n",
       "\n",
       "// Listen for the removal of the full notebook cells\n",
       "var notebookContainer = gd.closest('#notebook-container');\n",
       "if (notebookContainer) {{\n",
       "    x.observe(notebookContainer, {childList: true});\n",
       "}}\n",
       "\n",
       "// Listen for the clearing of the current output cell\n",
       "var outputEl = gd.closest('.output');\n",
       "if (outputEl) {{\n",
       "    x.observe(outputEl, {childList: true});\n",
       "}}\n",
       "\n",
       "                        })                };                });            </script>        </div>"
      ]
     },
     "metadata": {},
     "output_type": "display_data"
    }
   ],
   "source": [
    "df.iplot()"
   ]
  },
  {
   "cell_type": "code",
   "execution_count": 14,
   "id": "04969188",
   "metadata": {},
   "outputs": [
    {
     "data": {
      "application/vnd.plotly.v1+json": {
       "config": {
        "linkText": "Export to plot.ly",
        "plotlyServerURL": "https://plot.ly",
        "showLink": true
       },
       "data": [
        {
         "line": {
          "color": "rgba(255, 153, 51, 1.0)",
          "dash": "solid",
          "shape": "linear",
          "width": 1.3
         },
         "marker": {
          "size": 12,
          "symbol": "circle"
         },
         "mode": "markers",
         "name": "B",
         "text": "",
         "type": "scatter",
         "x": [
          0.25766725273870794,
          -0.9683683498568538,
          0.4079767983323879,
          -0.35521716328951264,
          0.1067697108260012,
          0.055264414905670536,
          0.16748678722052524,
          -0.03884642071252894,
          -1.9569206918568747,
          -0.012030065425278914,
          0.5147917475168186,
          -1.1929830986432766,
          -0.28630897965301283,
          -0.7269486914270185,
          -0.6042854575279359,
          -0.7860299666916818,
          -1.2232950810912862,
          -0.13550737994759923,
          -1.0734549238772075,
          0.24804028348226617,
          0.6481756930738801,
          -1.6101508373062166,
          -0.1609375642387576,
          -0.4537761843382195,
          0.6669660076254208,
          -0.844428975954758,
          0.5129831796429379,
          1.155804462649625,
          0.6941037484143968,
          2.325681370776554,
          -1.1934765913970897,
          -1.3331393887106655,
          -0.5842075563796505,
          0.823264907901564,
          0.5077909681150676,
          0.04079208347736599,
          -0.3774067504355232,
          1.684633944827573,
          0.8108285494289319,
          -0.9614720723440364,
          0.8033391836123334,
          1.366141053396587,
          1.22710335380521,
          0.5007861886024525,
          0.343001046248468,
          0.9821044423294414,
          1.058739583049605,
          -0.302159064903064,
          0.01997985590888351,
          -0.33131002906924917,
          0.2717518499836177,
          1.3142633549959786,
          -0.8617857664810039,
          0.1400785711199423,
          0.45416005353468314,
          -1.6845394060445138,
          -1.2870651849530947,
          -1.368366894386971,
          0.7796978263073777,
          0.8049718982440207,
          0.6720806332514321,
          0.019012236335749715,
          0.9820030162836629,
          -1.3032056716341103,
          0.24368134319022605,
          -0.11259416554794206,
          0.4777042747792598,
          0.7994237775854384,
          -0.5912923178386565,
          1.8620316169982516,
          1.5979147218970453,
          0.6982224574224856,
          0.06113753691724821,
          0.2011006952610454,
          -0.5264422448448134,
          -0.2860199234535764,
          1.1520711810777065,
          0.3853847234561283,
          0.8496286363248838,
          0.21092045657163339,
          0.4992727903258261,
          0.019602502769003088,
          1.479898271696008,
          0.13819373894873163,
          0.4943303710765866,
          0.8121478456947057,
          -0.920576847331459,
          0.10674261995226657,
          1.2436406766350976,
          0.6251502982138215,
          0.5576995553252935,
          0.15981433848144747,
          -0.46484952881209385,
          0.34931673594281165,
          -1.3197036618486955,
          2.030244713325367,
          1.3293527484805516,
          -0.6014582498008547,
          2.3177502612429897,
          0.24869161904699996
         ],
         "y": [
          1.3248435021986862,
          0.05735020938283478,
          -1.3252283251090466,
          0.2037073853435116,
          0.11390051896740837,
          0.036274803977040415,
          0.07886059125519548,
          -0.2107540123227492,
          0.5438429832196089,
          -1.495186139925318,
          -0.2786757262126936,
          -2.2472868977499583,
          0.5401780372965783,
          -1.2660125619710452,
          2.8917618341817137,
          0.9135784244832255,
          0.8070773007502883,
          -0.47655287637741833,
          -0.6916594268489628,
          -0.29857439303094707,
          -0.5028419053588357,
          -1.097380972947273,
          0.9013779502854321,
          -2.0539267239812853,
          -0.09946671171319675,
          0.027103790935514682,
          0.910952326494662,
          -0.3450271482134044,
          -2.016022367725986,
          1.2318197128416584,
          -0.48882763052385303,
          -1.0985539746033637,
          0.1469041002146205,
          -1.8300962817655162,
          0.3295661962110016,
          1.5269919414554993,
          -0.08726602386535882,
          -0.2746372475405285,
          1.3932038032489773,
          -1.5396569571609415,
          0.27825546855211997,
          -1.2105974754365512,
          -1.117995856964468,
          -0.08862087958247215,
          -0.19882957813497953,
          -0.046593485481045395,
          -0.2823150761795257,
          -0.909045608470984,
          -1.2859323567159786,
          2.57780442556176,
          0.5784537098435818,
          0.28312410196352455,
          0.5708819331108846,
          0.13193351121742164,
          0.7251406104368086,
          -0.33668180850187046,
          -0.6109096964157493,
          0.18883399477521554,
          0.525884140083572,
          -0.29113233390150467,
          1.5467100649562053,
          -1.5034114282884632,
          1.0075308147355966,
          0.8120289248587333,
          -1.3825380096125786,
          1.3893557899959468,
          0.7225515136418575,
          -2.0990836574963083,
          -0.3329107958852471,
          -0.20557479439035437,
          1.2586533985172603,
          -0.3623865838613117,
          -1.81009497493966,
          -0.8144051264697689,
          -0.8543728528659726,
          0.12428063004652715,
          0.42154333813920025,
          0.8325194216703564,
          -1.1316678358816619,
          -0.6752053609299112,
          1.0083868733208903,
          1.0329358144064287,
          0.24154683429897433,
          0.20467656709517945,
          0.4480733678860193,
          -1.4973501519227976,
          -0.06457171959633856,
          -0.7267026226309786,
          0.38549482127688767,
          2.0291148776290124,
          -0.7242805841989912,
          -0.8436208979113577,
          -0.9355965444051567,
          -1.2924130300577341,
          -1.0832341054879675,
          0.40071963830041823,
          1.6882470669240979,
          -1.8897243883593906,
          -1.73705358562559,
          -1.5599300069598463
         ]
        }
       ],
       "layout": {
        "legend": {
         "bgcolor": "#F5F6F9",
         "font": {
          "color": "#4D5663"
         }
        },
        "paper_bgcolor": "#F5F6F9",
        "plot_bgcolor": "#F5F6F9",
        "template": {
         "data": {
          "bar": [
           {
            "error_x": {
             "color": "#2a3f5f"
            },
            "error_y": {
             "color": "#2a3f5f"
            },
            "marker": {
             "line": {
              "color": "#E5ECF6",
              "width": 0.5
             },
             "pattern": {
              "fillmode": "overlay",
              "size": 10,
              "solidity": 0.2
             }
            },
            "type": "bar"
           }
          ],
          "barpolar": [
           {
            "marker": {
             "line": {
              "color": "#E5ECF6",
              "width": 0.5
             },
             "pattern": {
              "fillmode": "overlay",
              "size": 10,
              "solidity": 0.2
             }
            },
            "type": "barpolar"
           }
          ],
          "carpet": [
           {
            "aaxis": {
             "endlinecolor": "#2a3f5f",
             "gridcolor": "white",
             "linecolor": "white",
             "minorgridcolor": "white",
             "startlinecolor": "#2a3f5f"
            },
            "baxis": {
             "endlinecolor": "#2a3f5f",
             "gridcolor": "white",
             "linecolor": "white",
             "minorgridcolor": "white",
             "startlinecolor": "#2a3f5f"
            },
            "type": "carpet"
           }
          ],
          "choropleth": [
           {
            "colorbar": {
             "outlinewidth": 0,
             "ticks": ""
            },
            "type": "choropleth"
           }
          ],
          "contour": [
           {
            "colorbar": {
             "outlinewidth": 0,
             "ticks": ""
            },
            "colorscale": [
             [
              0,
              "#0d0887"
             ],
             [
              0.1111111111111111,
              "#46039f"
             ],
             [
              0.2222222222222222,
              "#7201a8"
             ],
             [
              0.3333333333333333,
              "#9c179e"
             ],
             [
              0.4444444444444444,
              "#bd3786"
             ],
             [
              0.5555555555555556,
              "#d8576b"
             ],
             [
              0.6666666666666666,
              "#ed7953"
             ],
             [
              0.7777777777777778,
              "#fb9f3a"
             ],
             [
              0.8888888888888888,
              "#fdca26"
             ],
             [
              1,
              "#f0f921"
             ]
            ],
            "type": "contour"
           }
          ],
          "contourcarpet": [
           {
            "colorbar": {
             "outlinewidth": 0,
             "ticks": ""
            },
            "type": "contourcarpet"
           }
          ],
          "heatmap": [
           {
            "colorbar": {
             "outlinewidth": 0,
             "ticks": ""
            },
            "colorscale": [
             [
              0,
              "#0d0887"
             ],
             [
              0.1111111111111111,
              "#46039f"
             ],
             [
              0.2222222222222222,
              "#7201a8"
             ],
             [
              0.3333333333333333,
              "#9c179e"
             ],
             [
              0.4444444444444444,
              "#bd3786"
             ],
             [
              0.5555555555555556,
              "#d8576b"
             ],
             [
              0.6666666666666666,
              "#ed7953"
             ],
             [
              0.7777777777777778,
              "#fb9f3a"
             ],
             [
              0.8888888888888888,
              "#fdca26"
             ],
             [
              1,
              "#f0f921"
             ]
            ],
            "type": "heatmap"
           }
          ],
          "heatmapgl": [
           {
            "colorbar": {
             "outlinewidth": 0,
             "ticks": ""
            },
            "colorscale": [
             [
              0,
              "#0d0887"
             ],
             [
              0.1111111111111111,
              "#46039f"
             ],
             [
              0.2222222222222222,
              "#7201a8"
             ],
             [
              0.3333333333333333,
              "#9c179e"
             ],
             [
              0.4444444444444444,
              "#bd3786"
             ],
             [
              0.5555555555555556,
              "#d8576b"
             ],
             [
              0.6666666666666666,
              "#ed7953"
             ],
             [
              0.7777777777777778,
              "#fb9f3a"
             ],
             [
              0.8888888888888888,
              "#fdca26"
             ],
             [
              1,
              "#f0f921"
             ]
            ],
            "type": "heatmapgl"
           }
          ],
          "histogram": [
           {
            "marker": {
             "pattern": {
              "fillmode": "overlay",
              "size": 10,
              "solidity": 0.2
             }
            },
            "type": "histogram"
           }
          ],
          "histogram2d": [
           {
            "colorbar": {
             "outlinewidth": 0,
             "ticks": ""
            },
            "colorscale": [
             [
              0,
              "#0d0887"
             ],
             [
              0.1111111111111111,
              "#46039f"
             ],
             [
              0.2222222222222222,
              "#7201a8"
             ],
             [
              0.3333333333333333,
              "#9c179e"
             ],
             [
              0.4444444444444444,
              "#bd3786"
             ],
             [
              0.5555555555555556,
              "#d8576b"
             ],
             [
              0.6666666666666666,
              "#ed7953"
             ],
             [
              0.7777777777777778,
              "#fb9f3a"
             ],
             [
              0.8888888888888888,
              "#fdca26"
             ],
             [
              1,
              "#f0f921"
             ]
            ],
            "type": "histogram2d"
           }
          ],
          "histogram2dcontour": [
           {
            "colorbar": {
             "outlinewidth": 0,
             "ticks": ""
            },
            "colorscale": [
             [
              0,
              "#0d0887"
             ],
             [
              0.1111111111111111,
              "#46039f"
             ],
             [
              0.2222222222222222,
              "#7201a8"
             ],
             [
              0.3333333333333333,
              "#9c179e"
             ],
             [
              0.4444444444444444,
              "#bd3786"
             ],
             [
              0.5555555555555556,
              "#d8576b"
             ],
             [
              0.6666666666666666,
              "#ed7953"
             ],
             [
              0.7777777777777778,
              "#fb9f3a"
             ],
             [
              0.8888888888888888,
              "#fdca26"
             ],
             [
              1,
              "#f0f921"
             ]
            ],
            "type": "histogram2dcontour"
           }
          ],
          "mesh3d": [
           {
            "colorbar": {
             "outlinewidth": 0,
             "ticks": ""
            },
            "type": "mesh3d"
           }
          ],
          "parcoords": [
           {
            "line": {
             "colorbar": {
              "outlinewidth": 0,
              "ticks": ""
             }
            },
            "type": "parcoords"
           }
          ],
          "pie": [
           {
            "automargin": true,
            "type": "pie"
           }
          ],
          "scatter": [
           {
            "marker": {
             "colorbar": {
              "outlinewidth": 0,
              "ticks": ""
             }
            },
            "type": "scatter"
           }
          ],
          "scatter3d": [
           {
            "line": {
             "colorbar": {
              "outlinewidth": 0,
              "ticks": ""
             }
            },
            "marker": {
             "colorbar": {
              "outlinewidth": 0,
              "ticks": ""
             }
            },
            "type": "scatter3d"
           }
          ],
          "scattercarpet": [
           {
            "marker": {
             "colorbar": {
              "outlinewidth": 0,
              "ticks": ""
             }
            },
            "type": "scattercarpet"
           }
          ],
          "scattergeo": [
           {
            "marker": {
             "colorbar": {
              "outlinewidth": 0,
              "ticks": ""
             }
            },
            "type": "scattergeo"
           }
          ],
          "scattergl": [
           {
            "marker": {
             "colorbar": {
              "outlinewidth": 0,
              "ticks": ""
             }
            },
            "type": "scattergl"
           }
          ],
          "scattermapbox": [
           {
            "marker": {
             "colorbar": {
              "outlinewidth": 0,
              "ticks": ""
             }
            },
            "type": "scattermapbox"
           }
          ],
          "scatterpolar": [
           {
            "marker": {
             "colorbar": {
              "outlinewidth": 0,
              "ticks": ""
             }
            },
            "type": "scatterpolar"
           }
          ],
          "scatterpolargl": [
           {
            "marker": {
             "colorbar": {
              "outlinewidth": 0,
              "ticks": ""
             }
            },
            "type": "scatterpolargl"
           }
          ],
          "scatterternary": [
           {
            "marker": {
             "colorbar": {
              "outlinewidth": 0,
              "ticks": ""
             }
            },
            "type": "scatterternary"
           }
          ],
          "surface": [
           {
            "colorbar": {
             "outlinewidth": 0,
             "ticks": ""
            },
            "colorscale": [
             [
              0,
              "#0d0887"
             ],
             [
              0.1111111111111111,
              "#46039f"
             ],
             [
              0.2222222222222222,
              "#7201a8"
             ],
             [
              0.3333333333333333,
              "#9c179e"
             ],
             [
              0.4444444444444444,
              "#bd3786"
             ],
             [
              0.5555555555555556,
              "#d8576b"
             ],
             [
              0.6666666666666666,
              "#ed7953"
             ],
             [
              0.7777777777777778,
              "#fb9f3a"
             ],
             [
              0.8888888888888888,
              "#fdca26"
             ],
             [
              1,
              "#f0f921"
             ]
            ],
            "type": "surface"
           }
          ],
          "table": [
           {
            "cells": {
             "fill": {
              "color": "#EBF0F8"
             },
             "line": {
              "color": "white"
             }
            },
            "header": {
             "fill": {
              "color": "#C8D4E3"
             },
             "line": {
              "color": "white"
             }
            },
            "type": "table"
           }
          ]
         },
         "layout": {
          "annotationdefaults": {
           "arrowcolor": "#2a3f5f",
           "arrowhead": 0,
           "arrowwidth": 1
          },
          "autotypenumbers": "strict",
          "coloraxis": {
           "colorbar": {
            "outlinewidth": 0,
            "ticks": ""
           }
          },
          "colorscale": {
           "diverging": [
            [
             0,
             "#8e0152"
            ],
            [
             0.1,
             "#c51b7d"
            ],
            [
             0.2,
             "#de77ae"
            ],
            [
             0.3,
             "#f1b6da"
            ],
            [
             0.4,
             "#fde0ef"
            ],
            [
             0.5,
             "#f7f7f7"
            ],
            [
             0.6,
             "#e6f5d0"
            ],
            [
             0.7,
             "#b8e186"
            ],
            [
             0.8,
             "#7fbc41"
            ],
            [
             0.9,
             "#4d9221"
            ],
            [
             1,
             "#276419"
            ]
           ],
           "sequential": [
            [
             0,
             "#0d0887"
            ],
            [
             0.1111111111111111,
             "#46039f"
            ],
            [
             0.2222222222222222,
             "#7201a8"
            ],
            [
             0.3333333333333333,
             "#9c179e"
            ],
            [
             0.4444444444444444,
             "#bd3786"
            ],
            [
             0.5555555555555556,
             "#d8576b"
            ],
            [
             0.6666666666666666,
             "#ed7953"
            ],
            [
             0.7777777777777778,
             "#fb9f3a"
            ],
            [
             0.8888888888888888,
             "#fdca26"
            ],
            [
             1,
             "#f0f921"
            ]
           ],
           "sequentialminus": [
            [
             0,
             "#0d0887"
            ],
            [
             0.1111111111111111,
             "#46039f"
            ],
            [
             0.2222222222222222,
             "#7201a8"
            ],
            [
             0.3333333333333333,
             "#9c179e"
            ],
            [
             0.4444444444444444,
             "#bd3786"
            ],
            [
             0.5555555555555556,
             "#d8576b"
            ],
            [
             0.6666666666666666,
             "#ed7953"
            ],
            [
             0.7777777777777778,
             "#fb9f3a"
            ],
            [
             0.8888888888888888,
             "#fdca26"
            ],
            [
             1,
             "#f0f921"
            ]
           ]
          },
          "colorway": [
           "#636efa",
           "#EF553B",
           "#00cc96",
           "#ab63fa",
           "#FFA15A",
           "#19d3f3",
           "#FF6692",
           "#B6E880",
           "#FF97FF",
           "#FECB52"
          ],
          "font": {
           "color": "#2a3f5f"
          },
          "geo": {
           "bgcolor": "white",
           "lakecolor": "white",
           "landcolor": "#E5ECF6",
           "showlakes": true,
           "showland": true,
           "subunitcolor": "white"
          },
          "hoverlabel": {
           "align": "left"
          },
          "hovermode": "closest",
          "mapbox": {
           "style": "light"
          },
          "paper_bgcolor": "white",
          "plot_bgcolor": "#E5ECF6",
          "polar": {
           "angularaxis": {
            "gridcolor": "white",
            "linecolor": "white",
            "ticks": ""
           },
           "bgcolor": "#E5ECF6",
           "radialaxis": {
            "gridcolor": "white",
            "linecolor": "white",
            "ticks": ""
           }
          },
          "scene": {
           "xaxis": {
            "backgroundcolor": "#E5ECF6",
            "gridcolor": "white",
            "gridwidth": 2,
            "linecolor": "white",
            "showbackground": true,
            "ticks": "",
            "zerolinecolor": "white"
           },
           "yaxis": {
            "backgroundcolor": "#E5ECF6",
            "gridcolor": "white",
            "gridwidth": 2,
            "linecolor": "white",
            "showbackground": true,
            "ticks": "",
            "zerolinecolor": "white"
           },
           "zaxis": {
            "backgroundcolor": "#E5ECF6",
            "gridcolor": "white",
            "gridwidth": 2,
            "linecolor": "white",
            "showbackground": true,
            "ticks": "",
            "zerolinecolor": "white"
           }
          },
          "shapedefaults": {
           "line": {
            "color": "#2a3f5f"
           }
          },
          "ternary": {
           "aaxis": {
            "gridcolor": "white",
            "linecolor": "white",
            "ticks": ""
           },
           "baxis": {
            "gridcolor": "white",
            "linecolor": "white",
            "ticks": ""
           },
           "bgcolor": "#E5ECF6",
           "caxis": {
            "gridcolor": "white",
            "linecolor": "white",
            "ticks": ""
           }
          },
          "title": {
           "x": 0.05
          },
          "xaxis": {
           "automargin": true,
           "gridcolor": "white",
           "linecolor": "white",
           "ticks": "",
           "title": {
            "standoff": 15
           },
           "zerolinecolor": "white",
           "zerolinewidth": 2
          },
          "yaxis": {
           "automargin": true,
           "gridcolor": "white",
           "linecolor": "white",
           "ticks": "",
           "title": {
            "standoff": 15
           },
           "zerolinecolor": "white",
           "zerolinewidth": 2
          }
         }
        },
        "title": {
         "font": {
          "color": "#4D5663"
         }
        },
        "xaxis": {
         "gridcolor": "#E1E5ED",
         "showgrid": true,
         "tickfont": {
          "color": "#4D5663"
         },
         "title": {
          "font": {
           "color": "#4D5663"
          },
          "text": ""
         },
         "zerolinecolor": "#E1E5ED"
        },
        "yaxis": {
         "gridcolor": "#E1E5ED",
         "showgrid": true,
         "tickfont": {
          "color": "#4D5663"
         },
         "title": {
          "font": {
           "color": "#4D5663"
          },
          "text": ""
         },
         "zerolinecolor": "#E1E5ED"
        }
       }
      },
      "text/html": [
       "<div>                            <div id=\"419865cc-05c7-4fb1-ba79-7822b0ed0095\" class=\"plotly-graph-div\" style=\"height:525px; width:100%;\"></div>            <script type=\"text/javascript\">                require([\"plotly\"], function(Plotly) {                    window.PLOTLYENV=window.PLOTLYENV || {};\n",
       "                    window.PLOTLYENV.BASE_URL='https://plot.ly';                                    if (document.getElementById(\"419865cc-05c7-4fb1-ba79-7822b0ed0095\")) {                    Plotly.newPlot(                        \"419865cc-05c7-4fb1-ba79-7822b0ed0095\",                        [{\"line\":{\"color\":\"rgba(255, 153, 51, 1.0)\",\"dash\":\"solid\",\"shape\":\"linear\",\"width\":1.3},\"marker\":{\"size\":12,\"symbol\":\"circle\"},\"mode\":\"markers\",\"name\":\"B\",\"text\":\"\",\"type\":\"scatter\",\"x\":[0.25766725273870794,-0.9683683498568538,0.4079767983323879,-0.35521716328951264,0.1067697108260012,0.055264414905670536,0.16748678722052524,-0.03884642071252894,-1.9569206918568747,-0.012030065425278914,0.5147917475168186,-1.1929830986432766,-0.28630897965301283,-0.7269486914270185,-0.6042854575279359,-0.7860299666916818,-1.2232950810912862,-0.13550737994759923,-1.0734549238772075,0.24804028348226617,0.6481756930738801,-1.6101508373062166,-0.1609375642387576,-0.4537761843382195,0.6669660076254208,-0.844428975954758,0.5129831796429379,1.155804462649625,0.6941037484143968,2.325681370776554,-1.1934765913970897,-1.3331393887106655,-0.5842075563796505,0.823264907901564,0.5077909681150676,0.04079208347736599,-0.3774067504355232,1.684633944827573,0.8108285494289319,-0.9614720723440364,0.8033391836123334,1.366141053396587,1.22710335380521,0.5007861886024525,0.343001046248468,0.9821044423294414,1.058739583049605,-0.302159064903064,0.01997985590888351,-0.33131002906924917,0.2717518499836177,1.3142633549959786,-0.8617857664810039,0.1400785711199423,0.45416005353468314,-1.6845394060445138,-1.2870651849530947,-1.368366894386971,0.7796978263073777,0.8049718982440207,0.6720806332514321,0.019012236335749715,0.9820030162836629,-1.3032056716341103,0.24368134319022605,-0.11259416554794206,0.4777042747792598,0.7994237775854384,-0.5912923178386565,1.8620316169982516,1.5979147218970453,0.6982224574224856,0.06113753691724821,0.2011006952610454,-0.5264422448448134,-0.2860199234535764,1.1520711810777065,0.3853847234561283,0.8496286363248838,0.21092045657163339,0.4992727903258261,0.019602502769003088,1.479898271696008,0.13819373894873163,0.4943303710765866,0.8121478456947057,-0.920576847331459,0.10674261995226657,1.2436406766350976,0.6251502982138215,0.5576995553252935,0.15981433848144747,-0.46484952881209385,0.34931673594281165,-1.3197036618486955,2.030244713325367,1.3293527484805516,-0.6014582498008547,2.3177502612429897,0.24869161904699996],\"y\":[1.3248435021986862,0.05735020938283478,-1.3252283251090466,0.2037073853435116,0.11390051896740837,0.036274803977040415,0.07886059125519548,-0.2107540123227492,0.5438429832196089,-1.495186139925318,-0.2786757262126936,-2.2472868977499583,0.5401780372965783,-1.2660125619710452,2.8917618341817137,0.9135784244832255,0.8070773007502883,-0.47655287637741833,-0.6916594268489628,-0.29857439303094707,-0.5028419053588357,-1.097380972947273,0.9013779502854321,-2.0539267239812853,-0.09946671171319675,0.027103790935514682,0.910952326494662,-0.3450271482134044,-2.016022367725986,1.2318197128416584,-0.48882763052385303,-1.0985539746033637,0.1469041002146205,-1.8300962817655162,0.3295661962110016,1.5269919414554993,-0.08726602386535882,-0.2746372475405285,1.3932038032489773,-1.5396569571609415,0.27825546855211997,-1.2105974754365512,-1.117995856964468,-0.08862087958247215,-0.19882957813497953,-0.046593485481045395,-0.2823150761795257,-0.909045608470984,-1.2859323567159786,2.57780442556176,0.5784537098435818,0.28312410196352455,0.5708819331108846,0.13193351121742164,0.7251406104368086,-0.33668180850187046,-0.6109096964157493,0.18883399477521554,0.525884140083572,-0.29113233390150467,1.5467100649562053,-1.5034114282884632,1.0075308147355966,0.8120289248587333,-1.3825380096125786,1.3893557899959468,0.7225515136418575,-2.0990836574963083,-0.3329107958852471,-0.20557479439035437,1.2586533985172603,-0.3623865838613117,-1.81009497493966,-0.8144051264697689,-0.8543728528659726,0.12428063004652715,0.42154333813920025,0.8325194216703564,-1.1316678358816619,-0.6752053609299112,1.0083868733208903,1.0329358144064287,0.24154683429897433,0.20467656709517945,0.4480733678860193,-1.4973501519227976,-0.06457171959633856,-0.7267026226309786,0.38549482127688767,2.0291148776290124,-0.7242805841989912,-0.8436208979113577,-0.9355965444051567,-1.2924130300577341,-1.0832341054879675,0.40071963830041823,1.6882470669240979,-1.8897243883593906,-1.73705358562559,-1.5599300069598463]}],                        {\"legend\":{\"bgcolor\":\"#F5F6F9\",\"font\":{\"color\":\"#4D5663\"}},\"paper_bgcolor\":\"#F5F6F9\",\"plot_bgcolor\":\"#F5F6F9\",\"template\":{\"data\":{\"bar\":[{\"error_x\":{\"color\":\"#2a3f5f\"},\"error_y\":{\"color\":\"#2a3f5f\"},\"marker\":{\"line\":{\"color\":\"#E5ECF6\",\"width\":0.5},\"pattern\":{\"fillmode\":\"overlay\",\"size\":10,\"solidity\":0.2}},\"type\":\"bar\"}],\"barpolar\":[{\"marker\":{\"line\":{\"color\":\"#E5ECF6\",\"width\":0.5},\"pattern\":{\"fillmode\":\"overlay\",\"size\":10,\"solidity\":0.2}},\"type\":\"barpolar\"}],\"carpet\":[{\"aaxis\":{\"endlinecolor\":\"#2a3f5f\",\"gridcolor\":\"white\",\"linecolor\":\"white\",\"minorgridcolor\":\"white\",\"startlinecolor\":\"#2a3f5f\"},\"baxis\":{\"endlinecolor\":\"#2a3f5f\",\"gridcolor\":\"white\",\"linecolor\":\"white\",\"minorgridcolor\":\"white\",\"startlinecolor\":\"#2a3f5f\"},\"type\":\"carpet\"}],\"choropleth\":[{\"colorbar\":{\"outlinewidth\":0,\"ticks\":\"\"},\"type\":\"choropleth\"}],\"contour\":[{\"colorbar\":{\"outlinewidth\":0,\"ticks\":\"\"},\"colorscale\":[[0.0,\"#0d0887\"],[0.1111111111111111,\"#46039f\"],[0.2222222222222222,\"#7201a8\"],[0.3333333333333333,\"#9c179e\"],[0.4444444444444444,\"#bd3786\"],[0.5555555555555556,\"#d8576b\"],[0.6666666666666666,\"#ed7953\"],[0.7777777777777778,\"#fb9f3a\"],[0.8888888888888888,\"#fdca26\"],[1.0,\"#f0f921\"]],\"type\":\"contour\"}],\"contourcarpet\":[{\"colorbar\":{\"outlinewidth\":0,\"ticks\":\"\"},\"type\":\"contourcarpet\"}],\"heatmap\":[{\"colorbar\":{\"outlinewidth\":0,\"ticks\":\"\"},\"colorscale\":[[0.0,\"#0d0887\"],[0.1111111111111111,\"#46039f\"],[0.2222222222222222,\"#7201a8\"],[0.3333333333333333,\"#9c179e\"],[0.4444444444444444,\"#bd3786\"],[0.5555555555555556,\"#d8576b\"],[0.6666666666666666,\"#ed7953\"],[0.7777777777777778,\"#fb9f3a\"],[0.8888888888888888,\"#fdca26\"],[1.0,\"#f0f921\"]],\"type\":\"heatmap\"}],\"heatmapgl\":[{\"colorbar\":{\"outlinewidth\":0,\"ticks\":\"\"},\"colorscale\":[[0.0,\"#0d0887\"],[0.1111111111111111,\"#46039f\"],[0.2222222222222222,\"#7201a8\"],[0.3333333333333333,\"#9c179e\"],[0.4444444444444444,\"#bd3786\"],[0.5555555555555556,\"#d8576b\"],[0.6666666666666666,\"#ed7953\"],[0.7777777777777778,\"#fb9f3a\"],[0.8888888888888888,\"#fdca26\"],[1.0,\"#f0f921\"]],\"type\":\"heatmapgl\"}],\"histogram\":[{\"marker\":{\"pattern\":{\"fillmode\":\"overlay\",\"size\":10,\"solidity\":0.2}},\"type\":\"histogram\"}],\"histogram2d\":[{\"colorbar\":{\"outlinewidth\":0,\"ticks\":\"\"},\"colorscale\":[[0.0,\"#0d0887\"],[0.1111111111111111,\"#46039f\"],[0.2222222222222222,\"#7201a8\"],[0.3333333333333333,\"#9c179e\"],[0.4444444444444444,\"#bd3786\"],[0.5555555555555556,\"#d8576b\"],[0.6666666666666666,\"#ed7953\"],[0.7777777777777778,\"#fb9f3a\"],[0.8888888888888888,\"#fdca26\"],[1.0,\"#f0f921\"]],\"type\":\"histogram2d\"}],\"histogram2dcontour\":[{\"colorbar\":{\"outlinewidth\":0,\"ticks\":\"\"},\"colorscale\":[[0.0,\"#0d0887\"],[0.1111111111111111,\"#46039f\"],[0.2222222222222222,\"#7201a8\"],[0.3333333333333333,\"#9c179e\"],[0.4444444444444444,\"#bd3786\"],[0.5555555555555556,\"#d8576b\"],[0.6666666666666666,\"#ed7953\"],[0.7777777777777778,\"#fb9f3a\"],[0.8888888888888888,\"#fdca26\"],[1.0,\"#f0f921\"]],\"type\":\"histogram2dcontour\"}],\"mesh3d\":[{\"colorbar\":{\"outlinewidth\":0,\"ticks\":\"\"},\"type\":\"mesh3d\"}],\"parcoords\":[{\"line\":{\"colorbar\":{\"outlinewidth\":0,\"ticks\":\"\"}},\"type\":\"parcoords\"}],\"pie\":[{\"automargin\":true,\"type\":\"pie\"}],\"scatter\":[{\"marker\":{\"colorbar\":{\"outlinewidth\":0,\"ticks\":\"\"}},\"type\":\"scatter\"}],\"scatter3d\":[{\"line\":{\"colorbar\":{\"outlinewidth\":0,\"ticks\":\"\"}},\"marker\":{\"colorbar\":{\"outlinewidth\":0,\"ticks\":\"\"}},\"type\":\"scatter3d\"}],\"scattercarpet\":[{\"marker\":{\"colorbar\":{\"outlinewidth\":0,\"ticks\":\"\"}},\"type\":\"scattercarpet\"}],\"scattergeo\":[{\"marker\":{\"colorbar\":{\"outlinewidth\":0,\"ticks\":\"\"}},\"type\":\"scattergeo\"}],\"scattergl\":[{\"marker\":{\"colorbar\":{\"outlinewidth\":0,\"ticks\":\"\"}},\"type\":\"scattergl\"}],\"scattermapbox\":[{\"marker\":{\"colorbar\":{\"outlinewidth\":0,\"ticks\":\"\"}},\"type\":\"scattermapbox\"}],\"scatterpolar\":[{\"marker\":{\"colorbar\":{\"outlinewidth\":0,\"ticks\":\"\"}},\"type\":\"scatterpolar\"}],\"scatterpolargl\":[{\"marker\":{\"colorbar\":{\"outlinewidth\":0,\"ticks\":\"\"}},\"type\":\"scatterpolargl\"}],\"scatterternary\":[{\"marker\":{\"colorbar\":{\"outlinewidth\":0,\"ticks\":\"\"}},\"type\":\"scatterternary\"}],\"surface\":[{\"colorbar\":{\"outlinewidth\":0,\"ticks\":\"\"},\"colorscale\":[[0.0,\"#0d0887\"],[0.1111111111111111,\"#46039f\"],[0.2222222222222222,\"#7201a8\"],[0.3333333333333333,\"#9c179e\"],[0.4444444444444444,\"#bd3786\"],[0.5555555555555556,\"#d8576b\"],[0.6666666666666666,\"#ed7953\"],[0.7777777777777778,\"#fb9f3a\"],[0.8888888888888888,\"#fdca26\"],[1.0,\"#f0f921\"]],\"type\":\"surface\"}],\"table\":[{\"cells\":{\"fill\":{\"color\":\"#EBF0F8\"},\"line\":{\"color\":\"white\"}},\"header\":{\"fill\":{\"color\":\"#C8D4E3\"},\"line\":{\"color\":\"white\"}},\"type\":\"table\"}]},\"layout\":{\"annotationdefaults\":{\"arrowcolor\":\"#2a3f5f\",\"arrowhead\":0,\"arrowwidth\":1},\"autotypenumbers\":\"strict\",\"coloraxis\":{\"colorbar\":{\"outlinewidth\":0,\"ticks\":\"\"}},\"colorscale\":{\"diverging\":[[0,\"#8e0152\"],[0.1,\"#c51b7d\"],[0.2,\"#de77ae\"],[0.3,\"#f1b6da\"],[0.4,\"#fde0ef\"],[0.5,\"#f7f7f7\"],[0.6,\"#e6f5d0\"],[0.7,\"#b8e186\"],[0.8,\"#7fbc41\"],[0.9,\"#4d9221\"],[1,\"#276419\"]],\"sequential\":[[0.0,\"#0d0887\"],[0.1111111111111111,\"#46039f\"],[0.2222222222222222,\"#7201a8\"],[0.3333333333333333,\"#9c179e\"],[0.4444444444444444,\"#bd3786\"],[0.5555555555555556,\"#d8576b\"],[0.6666666666666666,\"#ed7953\"],[0.7777777777777778,\"#fb9f3a\"],[0.8888888888888888,\"#fdca26\"],[1.0,\"#f0f921\"]],\"sequentialminus\":[[0.0,\"#0d0887\"],[0.1111111111111111,\"#46039f\"],[0.2222222222222222,\"#7201a8\"],[0.3333333333333333,\"#9c179e\"],[0.4444444444444444,\"#bd3786\"],[0.5555555555555556,\"#d8576b\"],[0.6666666666666666,\"#ed7953\"],[0.7777777777777778,\"#fb9f3a\"],[0.8888888888888888,\"#fdca26\"],[1.0,\"#f0f921\"]]},\"colorway\":[\"#636efa\",\"#EF553B\",\"#00cc96\",\"#ab63fa\",\"#FFA15A\",\"#19d3f3\",\"#FF6692\",\"#B6E880\",\"#FF97FF\",\"#FECB52\"],\"font\":{\"color\":\"#2a3f5f\"},\"geo\":{\"bgcolor\":\"white\",\"lakecolor\":\"white\",\"landcolor\":\"#E5ECF6\",\"showlakes\":true,\"showland\":true,\"subunitcolor\":\"white\"},\"hoverlabel\":{\"align\":\"left\"},\"hovermode\":\"closest\",\"mapbox\":{\"style\":\"light\"},\"paper_bgcolor\":\"white\",\"plot_bgcolor\":\"#E5ECF6\",\"polar\":{\"angularaxis\":{\"gridcolor\":\"white\",\"linecolor\":\"white\",\"ticks\":\"\"},\"bgcolor\":\"#E5ECF6\",\"radialaxis\":{\"gridcolor\":\"white\",\"linecolor\":\"white\",\"ticks\":\"\"}},\"scene\":{\"xaxis\":{\"backgroundcolor\":\"#E5ECF6\",\"gridcolor\":\"white\",\"gridwidth\":2,\"linecolor\":\"white\",\"showbackground\":true,\"ticks\":\"\",\"zerolinecolor\":\"white\"},\"yaxis\":{\"backgroundcolor\":\"#E5ECF6\",\"gridcolor\":\"white\",\"gridwidth\":2,\"linecolor\":\"white\",\"showbackground\":true,\"ticks\":\"\",\"zerolinecolor\":\"white\"},\"zaxis\":{\"backgroundcolor\":\"#E5ECF6\",\"gridcolor\":\"white\",\"gridwidth\":2,\"linecolor\":\"white\",\"showbackground\":true,\"ticks\":\"\",\"zerolinecolor\":\"white\"}},\"shapedefaults\":{\"line\":{\"color\":\"#2a3f5f\"}},\"ternary\":{\"aaxis\":{\"gridcolor\":\"white\",\"linecolor\":\"white\",\"ticks\":\"\"},\"baxis\":{\"gridcolor\":\"white\",\"linecolor\":\"white\",\"ticks\":\"\"},\"bgcolor\":\"#E5ECF6\",\"caxis\":{\"gridcolor\":\"white\",\"linecolor\":\"white\",\"ticks\":\"\"}},\"title\":{\"x\":0.05},\"xaxis\":{\"automargin\":true,\"gridcolor\":\"white\",\"linecolor\":\"white\",\"ticks\":\"\",\"title\":{\"standoff\":15},\"zerolinecolor\":\"white\",\"zerolinewidth\":2},\"yaxis\":{\"automargin\":true,\"gridcolor\":\"white\",\"linecolor\":\"white\",\"ticks\":\"\",\"title\":{\"standoff\":15},\"zerolinecolor\":\"white\",\"zerolinewidth\":2}}},\"title\":{\"font\":{\"color\":\"#4D5663\"}},\"xaxis\":{\"gridcolor\":\"#E1E5ED\",\"showgrid\":true,\"tickfont\":{\"color\":\"#4D5663\"},\"title\":{\"font\":{\"color\":\"#4D5663\"},\"text\":\"\"},\"zerolinecolor\":\"#E1E5ED\"},\"yaxis\":{\"gridcolor\":\"#E1E5ED\",\"showgrid\":true,\"tickfont\":{\"color\":\"#4D5663\"},\"title\":{\"font\":{\"color\":\"#4D5663\"},\"text\":\"\"},\"zerolinecolor\":\"#E1E5ED\"}},                        {\"showLink\": true, \"linkText\": \"Export to plot.ly\", \"plotlyServerURL\": \"https://plot.ly\", \"responsive\": true}                    ).then(function(){\n",
       "                            \n",
       "var gd = document.getElementById('419865cc-05c7-4fb1-ba79-7822b0ed0095');\n",
       "var x = new MutationObserver(function (mutations, observer) {{\n",
       "        var display = window.getComputedStyle(gd).display;\n",
       "        if (!display || display === 'none') {{\n",
       "            console.log([gd, 'removed!']);\n",
       "            Plotly.purge(gd);\n",
       "            observer.disconnect();\n",
       "        }}\n",
       "}});\n",
       "\n",
       "// Listen for the removal of the full notebook cells\n",
       "var notebookContainer = gd.closest('#notebook-container');\n",
       "if (notebookContainer) {{\n",
       "    x.observe(notebookContainer, {childList: true});\n",
       "}}\n",
       "\n",
       "// Listen for the clearing of the current output cell\n",
       "var outputEl = gd.closest('.output');\n",
       "if (outputEl) {{\n",
       "    x.observe(outputEl, {childList: true});\n",
       "}}\n",
       "\n",
       "                        })                };                });            </script>        </div>"
      ]
     },
     "metadata": {},
     "output_type": "display_data"
    }
   ],
   "source": [
    "df.iplot(kind='scatter',x='A',y='B',mode='markers')"
   ]
  },
  {
   "cell_type": "code",
   "execution_count": 15,
   "id": "90b50d28",
   "metadata": {},
   "outputs": [
    {
     "data": {
      "text/html": [
       "<div>\n",
       "<style scoped>\n",
       "    .dataframe tbody tr th:only-of-type {\n",
       "        vertical-align: middle;\n",
       "    }\n",
       "\n",
       "    .dataframe tbody tr th {\n",
       "        vertical-align: top;\n",
       "    }\n",
       "\n",
       "    .dataframe thead th {\n",
       "        text-align: right;\n",
       "    }\n",
       "</style>\n",
       "<table border=\"1\" class=\"dataframe\">\n",
       "  <thead>\n",
       "    <tr style=\"text-align: right;\">\n",
       "      <th></th>\n",
       "      <th>category</th>\n",
       "      <th>values</th>\n",
       "    </tr>\n",
       "  </thead>\n",
       "  <tbody>\n",
       "    <tr>\n",
       "      <th>0</th>\n",
       "      <td>A</td>\n",
       "      <td>32</td>\n",
       "    </tr>\n",
       "    <tr>\n",
       "      <th>1</th>\n",
       "      <td>B</td>\n",
       "      <td>43</td>\n",
       "    </tr>\n",
       "    <tr>\n",
       "      <th>2</th>\n",
       "      <td>C</td>\n",
       "      <td>50</td>\n",
       "    </tr>\n",
       "  </tbody>\n",
       "</table>\n",
       "</div>"
      ],
      "text/plain": [
       "  category  values\n",
       "0        A      32\n",
       "1        B      43\n",
       "2        C      50"
      ]
     },
     "execution_count": 15,
     "metadata": {},
     "output_type": "execute_result"
    }
   ],
   "source": [
    "df2.head()"
   ]
  },
  {
   "cell_type": "code",
   "execution_count": 18,
   "id": "3a796212",
   "metadata": {},
   "outputs": [
    {
     "data": {
      "application/vnd.plotly.v1+json": {
       "config": {
        "linkText": "Export to plot.ly",
        "plotlyServerURL": "https://plot.ly",
        "showLink": true
       },
       "data": [
        {
         "marker": {
          "color": "rgba(255, 153, 51, 0.6)",
          "line": {
           "color": "rgba(255, 153, 51, 1.0)",
           "width": 1
          }
         },
         "name": "values",
         "orientation": "v",
         "text": "",
         "type": "bar",
         "x": [
          "A",
          "B",
          "C"
         ],
         "y": [
          32,
          43,
          50
         ]
        }
       ],
       "layout": {
        "legend": {
         "bgcolor": "#F5F6F9",
         "font": {
          "color": "#4D5663"
         }
        },
        "paper_bgcolor": "#F5F6F9",
        "plot_bgcolor": "#F5F6F9",
        "template": {
         "data": {
          "bar": [
           {
            "error_x": {
             "color": "#2a3f5f"
            },
            "error_y": {
             "color": "#2a3f5f"
            },
            "marker": {
             "line": {
              "color": "#E5ECF6",
              "width": 0.5
             },
             "pattern": {
              "fillmode": "overlay",
              "size": 10,
              "solidity": 0.2
             }
            },
            "type": "bar"
           }
          ],
          "barpolar": [
           {
            "marker": {
             "line": {
              "color": "#E5ECF6",
              "width": 0.5
             },
             "pattern": {
              "fillmode": "overlay",
              "size": 10,
              "solidity": 0.2
             }
            },
            "type": "barpolar"
           }
          ],
          "carpet": [
           {
            "aaxis": {
             "endlinecolor": "#2a3f5f",
             "gridcolor": "white",
             "linecolor": "white",
             "minorgridcolor": "white",
             "startlinecolor": "#2a3f5f"
            },
            "baxis": {
             "endlinecolor": "#2a3f5f",
             "gridcolor": "white",
             "linecolor": "white",
             "minorgridcolor": "white",
             "startlinecolor": "#2a3f5f"
            },
            "type": "carpet"
           }
          ],
          "choropleth": [
           {
            "colorbar": {
             "outlinewidth": 0,
             "ticks": ""
            },
            "type": "choropleth"
           }
          ],
          "contour": [
           {
            "colorbar": {
             "outlinewidth": 0,
             "ticks": ""
            },
            "colorscale": [
             [
              0,
              "#0d0887"
             ],
             [
              0.1111111111111111,
              "#46039f"
             ],
             [
              0.2222222222222222,
              "#7201a8"
             ],
             [
              0.3333333333333333,
              "#9c179e"
             ],
             [
              0.4444444444444444,
              "#bd3786"
             ],
             [
              0.5555555555555556,
              "#d8576b"
             ],
             [
              0.6666666666666666,
              "#ed7953"
             ],
             [
              0.7777777777777778,
              "#fb9f3a"
             ],
             [
              0.8888888888888888,
              "#fdca26"
             ],
             [
              1,
              "#f0f921"
             ]
            ],
            "type": "contour"
           }
          ],
          "contourcarpet": [
           {
            "colorbar": {
             "outlinewidth": 0,
             "ticks": ""
            },
            "type": "contourcarpet"
           }
          ],
          "heatmap": [
           {
            "colorbar": {
             "outlinewidth": 0,
             "ticks": ""
            },
            "colorscale": [
             [
              0,
              "#0d0887"
             ],
             [
              0.1111111111111111,
              "#46039f"
             ],
             [
              0.2222222222222222,
              "#7201a8"
             ],
             [
              0.3333333333333333,
              "#9c179e"
             ],
             [
              0.4444444444444444,
              "#bd3786"
             ],
             [
              0.5555555555555556,
              "#d8576b"
             ],
             [
              0.6666666666666666,
              "#ed7953"
             ],
             [
              0.7777777777777778,
              "#fb9f3a"
             ],
             [
              0.8888888888888888,
              "#fdca26"
             ],
             [
              1,
              "#f0f921"
             ]
            ],
            "type": "heatmap"
           }
          ],
          "heatmapgl": [
           {
            "colorbar": {
             "outlinewidth": 0,
             "ticks": ""
            },
            "colorscale": [
             [
              0,
              "#0d0887"
             ],
             [
              0.1111111111111111,
              "#46039f"
             ],
             [
              0.2222222222222222,
              "#7201a8"
             ],
             [
              0.3333333333333333,
              "#9c179e"
             ],
             [
              0.4444444444444444,
              "#bd3786"
             ],
             [
              0.5555555555555556,
              "#d8576b"
             ],
             [
              0.6666666666666666,
              "#ed7953"
             ],
             [
              0.7777777777777778,
              "#fb9f3a"
             ],
             [
              0.8888888888888888,
              "#fdca26"
             ],
             [
              1,
              "#f0f921"
             ]
            ],
            "type": "heatmapgl"
           }
          ],
          "histogram": [
           {
            "marker": {
             "pattern": {
              "fillmode": "overlay",
              "size": 10,
              "solidity": 0.2
             }
            },
            "type": "histogram"
           }
          ],
          "histogram2d": [
           {
            "colorbar": {
             "outlinewidth": 0,
             "ticks": ""
            },
            "colorscale": [
             [
              0,
              "#0d0887"
             ],
             [
              0.1111111111111111,
              "#46039f"
             ],
             [
              0.2222222222222222,
              "#7201a8"
             ],
             [
              0.3333333333333333,
              "#9c179e"
             ],
             [
              0.4444444444444444,
              "#bd3786"
             ],
             [
              0.5555555555555556,
              "#d8576b"
             ],
             [
              0.6666666666666666,
              "#ed7953"
             ],
             [
              0.7777777777777778,
              "#fb9f3a"
             ],
             [
              0.8888888888888888,
              "#fdca26"
             ],
             [
              1,
              "#f0f921"
             ]
            ],
            "type": "histogram2d"
           }
          ],
          "histogram2dcontour": [
           {
            "colorbar": {
             "outlinewidth": 0,
             "ticks": ""
            },
            "colorscale": [
             [
              0,
              "#0d0887"
             ],
             [
              0.1111111111111111,
              "#46039f"
             ],
             [
              0.2222222222222222,
              "#7201a8"
             ],
             [
              0.3333333333333333,
              "#9c179e"
             ],
             [
              0.4444444444444444,
              "#bd3786"
             ],
             [
              0.5555555555555556,
              "#d8576b"
             ],
             [
              0.6666666666666666,
              "#ed7953"
             ],
             [
              0.7777777777777778,
              "#fb9f3a"
             ],
             [
              0.8888888888888888,
              "#fdca26"
             ],
             [
              1,
              "#f0f921"
             ]
            ],
            "type": "histogram2dcontour"
           }
          ],
          "mesh3d": [
           {
            "colorbar": {
             "outlinewidth": 0,
             "ticks": ""
            },
            "type": "mesh3d"
           }
          ],
          "parcoords": [
           {
            "line": {
             "colorbar": {
              "outlinewidth": 0,
              "ticks": ""
             }
            },
            "type": "parcoords"
           }
          ],
          "pie": [
           {
            "automargin": true,
            "type": "pie"
           }
          ],
          "scatter": [
           {
            "marker": {
             "colorbar": {
              "outlinewidth": 0,
              "ticks": ""
             }
            },
            "type": "scatter"
           }
          ],
          "scatter3d": [
           {
            "line": {
             "colorbar": {
              "outlinewidth": 0,
              "ticks": ""
             }
            },
            "marker": {
             "colorbar": {
              "outlinewidth": 0,
              "ticks": ""
             }
            },
            "type": "scatter3d"
           }
          ],
          "scattercarpet": [
           {
            "marker": {
             "colorbar": {
              "outlinewidth": 0,
              "ticks": ""
             }
            },
            "type": "scattercarpet"
           }
          ],
          "scattergeo": [
           {
            "marker": {
             "colorbar": {
              "outlinewidth": 0,
              "ticks": ""
             }
            },
            "type": "scattergeo"
           }
          ],
          "scattergl": [
           {
            "marker": {
             "colorbar": {
              "outlinewidth": 0,
              "ticks": ""
             }
            },
            "type": "scattergl"
           }
          ],
          "scattermapbox": [
           {
            "marker": {
             "colorbar": {
              "outlinewidth": 0,
              "ticks": ""
             }
            },
            "type": "scattermapbox"
           }
          ],
          "scatterpolar": [
           {
            "marker": {
             "colorbar": {
              "outlinewidth": 0,
              "ticks": ""
             }
            },
            "type": "scatterpolar"
           }
          ],
          "scatterpolargl": [
           {
            "marker": {
             "colorbar": {
              "outlinewidth": 0,
              "ticks": ""
             }
            },
            "type": "scatterpolargl"
           }
          ],
          "scatterternary": [
           {
            "marker": {
             "colorbar": {
              "outlinewidth": 0,
              "ticks": ""
             }
            },
            "type": "scatterternary"
           }
          ],
          "surface": [
           {
            "colorbar": {
             "outlinewidth": 0,
             "ticks": ""
            },
            "colorscale": [
             [
              0,
              "#0d0887"
             ],
             [
              0.1111111111111111,
              "#46039f"
             ],
             [
              0.2222222222222222,
              "#7201a8"
             ],
             [
              0.3333333333333333,
              "#9c179e"
             ],
             [
              0.4444444444444444,
              "#bd3786"
             ],
             [
              0.5555555555555556,
              "#d8576b"
             ],
             [
              0.6666666666666666,
              "#ed7953"
             ],
             [
              0.7777777777777778,
              "#fb9f3a"
             ],
             [
              0.8888888888888888,
              "#fdca26"
             ],
             [
              1,
              "#f0f921"
             ]
            ],
            "type": "surface"
           }
          ],
          "table": [
           {
            "cells": {
             "fill": {
              "color": "#EBF0F8"
             },
             "line": {
              "color": "white"
             }
            },
            "header": {
             "fill": {
              "color": "#C8D4E3"
             },
             "line": {
              "color": "white"
             }
            },
            "type": "table"
           }
          ]
         },
         "layout": {
          "annotationdefaults": {
           "arrowcolor": "#2a3f5f",
           "arrowhead": 0,
           "arrowwidth": 1
          },
          "autotypenumbers": "strict",
          "coloraxis": {
           "colorbar": {
            "outlinewidth": 0,
            "ticks": ""
           }
          },
          "colorscale": {
           "diverging": [
            [
             0,
             "#8e0152"
            ],
            [
             0.1,
             "#c51b7d"
            ],
            [
             0.2,
             "#de77ae"
            ],
            [
             0.3,
             "#f1b6da"
            ],
            [
             0.4,
             "#fde0ef"
            ],
            [
             0.5,
             "#f7f7f7"
            ],
            [
             0.6,
             "#e6f5d0"
            ],
            [
             0.7,
             "#b8e186"
            ],
            [
             0.8,
             "#7fbc41"
            ],
            [
             0.9,
             "#4d9221"
            ],
            [
             1,
             "#276419"
            ]
           ],
           "sequential": [
            [
             0,
             "#0d0887"
            ],
            [
             0.1111111111111111,
             "#46039f"
            ],
            [
             0.2222222222222222,
             "#7201a8"
            ],
            [
             0.3333333333333333,
             "#9c179e"
            ],
            [
             0.4444444444444444,
             "#bd3786"
            ],
            [
             0.5555555555555556,
             "#d8576b"
            ],
            [
             0.6666666666666666,
             "#ed7953"
            ],
            [
             0.7777777777777778,
             "#fb9f3a"
            ],
            [
             0.8888888888888888,
             "#fdca26"
            ],
            [
             1,
             "#f0f921"
            ]
           ],
           "sequentialminus": [
            [
             0,
             "#0d0887"
            ],
            [
             0.1111111111111111,
             "#46039f"
            ],
            [
             0.2222222222222222,
             "#7201a8"
            ],
            [
             0.3333333333333333,
             "#9c179e"
            ],
            [
             0.4444444444444444,
             "#bd3786"
            ],
            [
             0.5555555555555556,
             "#d8576b"
            ],
            [
             0.6666666666666666,
             "#ed7953"
            ],
            [
             0.7777777777777778,
             "#fb9f3a"
            ],
            [
             0.8888888888888888,
             "#fdca26"
            ],
            [
             1,
             "#f0f921"
            ]
           ]
          },
          "colorway": [
           "#636efa",
           "#EF553B",
           "#00cc96",
           "#ab63fa",
           "#FFA15A",
           "#19d3f3",
           "#FF6692",
           "#B6E880",
           "#FF97FF",
           "#FECB52"
          ],
          "font": {
           "color": "#2a3f5f"
          },
          "geo": {
           "bgcolor": "white",
           "lakecolor": "white",
           "landcolor": "#E5ECF6",
           "showlakes": true,
           "showland": true,
           "subunitcolor": "white"
          },
          "hoverlabel": {
           "align": "left"
          },
          "hovermode": "closest",
          "mapbox": {
           "style": "light"
          },
          "paper_bgcolor": "white",
          "plot_bgcolor": "#E5ECF6",
          "polar": {
           "angularaxis": {
            "gridcolor": "white",
            "linecolor": "white",
            "ticks": ""
           },
           "bgcolor": "#E5ECF6",
           "radialaxis": {
            "gridcolor": "white",
            "linecolor": "white",
            "ticks": ""
           }
          },
          "scene": {
           "xaxis": {
            "backgroundcolor": "#E5ECF6",
            "gridcolor": "white",
            "gridwidth": 2,
            "linecolor": "white",
            "showbackground": true,
            "ticks": "",
            "zerolinecolor": "white"
           },
           "yaxis": {
            "backgroundcolor": "#E5ECF6",
            "gridcolor": "white",
            "gridwidth": 2,
            "linecolor": "white",
            "showbackground": true,
            "ticks": "",
            "zerolinecolor": "white"
           },
           "zaxis": {
            "backgroundcolor": "#E5ECF6",
            "gridcolor": "white",
            "gridwidth": 2,
            "linecolor": "white",
            "showbackground": true,
            "ticks": "",
            "zerolinecolor": "white"
           }
          },
          "shapedefaults": {
           "line": {
            "color": "#2a3f5f"
           }
          },
          "ternary": {
           "aaxis": {
            "gridcolor": "white",
            "linecolor": "white",
            "ticks": ""
           },
           "baxis": {
            "gridcolor": "white",
            "linecolor": "white",
            "ticks": ""
           },
           "bgcolor": "#E5ECF6",
           "caxis": {
            "gridcolor": "white",
            "linecolor": "white",
            "ticks": ""
           }
          },
          "title": {
           "x": 0.05
          },
          "xaxis": {
           "automargin": true,
           "gridcolor": "white",
           "linecolor": "white",
           "ticks": "",
           "title": {
            "standoff": 15
           },
           "zerolinecolor": "white",
           "zerolinewidth": 2
          },
          "yaxis": {
           "automargin": true,
           "gridcolor": "white",
           "linecolor": "white",
           "ticks": "",
           "title": {
            "standoff": 15
           },
           "zerolinecolor": "white",
           "zerolinewidth": 2
          }
         }
        },
        "title": {
         "font": {
          "color": "#4D5663"
         }
        },
        "xaxis": {
         "gridcolor": "#E1E5ED",
         "showgrid": true,
         "tickfont": {
          "color": "#4D5663"
         },
         "title": {
          "font": {
           "color": "#4D5663"
          },
          "text": ""
         },
         "zerolinecolor": "#E1E5ED"
        },
        "yaxis": {
         "gridcolor": "#E1E5ED",
         "showgrid": true,
         "tickfont": {
          "color": "#4D5663"
         },
         "title": {
          "font": {
           "color": "#4D5663"
          },
          "text": ""
         },
         "zerolinecolor": "#E1E5ED"
        }
       }
      },
      "text/html": [
       "<div>                            <div id=\"1fcc09dd-25d5-4fb1-bdfe-ffdb0636fcaa\" class=\"plotly-graph-div\" style=\"height:525px; width:100%;\"></div>            <script type=\"text/javascript\">                require([\"plotly\"], function(Plotly) {                    window.PLOTLYENV=window.PLOTLYENV || {};\n",
       "                    window.PLOTLYENV.BASE_URL='https://plot.ly';                                    if (document.getElementById(\"1fcc09dd-25d5-4fb1-bdfe-ffdb0636fcaa\")) {                    Plotly.newPlot(                        \"1fcc09dd-25d5-4fb1-bdfe-ffdb0636fcaa\",                        [{\"marker\":{\"color\":\"rgba(255, 153, 51, 0.6)\",\"line\":{\"color\":\"rgba(255, 153, 51, 1.0)\",\"width\":1}},\"name\":\"values\",\"orientation\":\"v\",\"text\":\"\",\"type\":\"bar\",\"x\":[\"A\",\"B\",\"C\"],\"y\":[32,43,50]}],                        {\"legend\":{\"bgcolor\":\"#F5F6F9\",\"font\":{\"color\":\"#4D5663\"}},\"paper_bgcolor\":\"#F5F6F9\",\"plot_bgcolor\":\"#F5F6F9\",\"template\":{\"data\":{\"bar\":[{\"error_x\":{\"color\":\"#2a3f5f\"},\"error_y\":{\"color\":\"#2a3f5f\"},\"marker\":{\"line\":{\"color\":\"#E5ECF6\",\"width\":0.5},\"pattern\":{\"fillmode\":\"overlay\",\"size\":10,\"solidity\":0.2}},\"type\":\"bar\"}],\"barpolar\":[{\"marker\":{\"line\":{\"color\":\"#E5ECF6\",\"width\":0.5},\"pattern\":{\"fillmode\":\"overlay\",\"size\":10,\"solidity\":0.2}},\"type\":\"barpolar\"}],\"carpet\":[{\"aaxis\":{\"endlinecolor\":\"#2a3f5f\",\"gridcolor\":\"white\",\"linecolor\":\"white\",\"minorgridcolor\":\"white\",\"startlinecolor\":\"#2a3f5f\"},\"baxis\":{\"endlinecolor\":\"#2a3f5f\",\"gridcolor\":\"white\",\"linecolor\":\"white\",\"minorgridcolor\":\"white\",\"startlinecolor\":\"#2a3f5f\"},\"type\":\"carpet\"}],\"choropleth\":[{\"colorbar\":{\"outlinewidth\":0,\"ticks\":\"\"},\"type\":\"choropleth\"}],\"contour\":[{\"colorbar\":{\"outlinewidth\":0,\"ticks\":\"\"},\"colorscale\":[[0.0,\"#0d0887\"],[0.1111111111111111,\"#46039f\"],[0.2222222222222222,\"#7201a8\"],[0.3333333333333333,\"#9c179e\"],[0.4444444444444444,\"#bd3786\"],[0.5555555555555556,\"#d8576b\"],[0.6666666666666666,\"#ed7953\"],[0.7777777777777778,\"#fb9f3a\"],[0.8888888888888888,\"#fdca26\"],[1.0,\"#f0f921\"]],\"type\":\"contour\"}],\"contourcarpet\":[{\"colorbar\":{\"outlinewidth\":0,\"ticks\":\"\"},\"type\":\"contourcarpet\"}],\"heatmap\":[{\"colorbar\":{\"outlinewidth\":0,\"ticks\":\"\"},\"colorscale\":[[0.0,\"#0d0887\"],[0.1111111111111111,\"#46039f\"],[0.2222222222222222,\"#7201a8\"],[0.3333333333333333,\"#9c179e\"],[0.4444444444444444,\"#bd3786\"],[0.5555555555555556,\"#d8576b\"],[0.6666666666666666,\"#ed7953\"],[0.7777777777777778,\"#fb9f3a\"],[0.8888888888888888,\"#fdca26\"],[1.0,\"#f0f921\"]],\"type\":\"heatmap\"}],\"heatmapgl\":[{\"colorbar\":{\"outlinewidth\":0,\"ticks\":\"\"},\"colorscale\":[[0.0,\"#0d0887\"],[0.1111111111111111,\"#46039f\"],[0.2222222222222222,\"#7201a8\"],[0.3333333333333333,\"#9c179e\"],[0.4444444444444444,\"#bd3786\"],[0.5555555555555556,\"#d8576b\"],[0.6666666666666666,\"#ed7953\"],[0.7777777777777778,\"#fb9f3a\"],[0.8888888888888888,\"#fdca26\"],[1.0,\"#f0f921\"]],\"type\":\"heatmapgl\"}],\"histogram\":[{\"marker\":{\"pattern\":{\"fillmode\":\"overlay\",\"size\":10,\"solidity\":0.2}},\"type\":\"histogram\"}],\"histogram2d\":[{\"colorbar\":{\"outlinewidth\":0,\"ticks\":\"\"},\"colorscale\":[[0.0,\"#0d0887\"],[0.1111111111111111,\"#46039f\"],[0.2222222222222222,\"#7201a8\"],[0.3333333333333333,\"#9c179e\"],[0.4444444444444444,\"#bd3786\"],[0.5555555555555556,\"#d8576b\"],[0.6666666666666666,\"#ed7953\"],[0.7777777777777778,\"#fb9f3a\"],[0.8888888888888888,\"#fdca26\"],[1.0,\"#f0f921\"]],\"type\":\"histogram2d\"}],\"histogram2dcontour\":[{\"colorbar\":{\"outlinewidth\":0,\"ticks\":\"\"},\"colorscale\":[[0.0,\"#0d0887\"],[0.1111111111111111,\"#46039f\"],[0.2222222222222222,\"#7201a8\"],[0.3333333333333333,\"#9c179e\"],[0.4444444444444444,\"#bd3786\"],[0.5555555555555556,\"#d8576b\"],[0.6666666666666666,\"#ed7953\"],[0.7777777777777778,\"#fb9f3a\"],[0.8888888888888888,\"#fdca26\"],[1.0,\"#f0f921\"]],\"type\":\"histogram2dcontour\"}],\"mesh3d\":[{\"colorbar\":{\"outlinewidth\":0,\"ticks\":\"\"},\"type\":\"mesh3d\"}],\"parcoords\":[{\"line\":{\"colorbar\":{\"outlinewidth\":0,\"ticks\":\"\"}},\"type\":\"parcoords\"}],\"pie\":[{\"automargin\":true,\"type\":\"pie\"}],\"scatter\":[{\"marker\":{\"colorbar\":{\"outlinewidth\":0,\"ticks\":\"\"}},\"type\":\"scatter\"}],\"scatter3d\":[{\"line\":{\"colorbar\":{\"outlinewidth\":0,\"ticks\":\"\"}},\"marker\":{\"colorbar\":{\"outlinewidth\":0,\"ticks\":\"\"}},\"type\":\"scatter3d\"}],\"scattercarpet\":[{\"marker\":{\"colorbar\":{\"outlinewidth\":0,\"ticks\":\"\"}},\"type\":\"scattercarpet\"}],\"scattergeo\":[{\"marker\":{\"colorbar\":{\"outlinewidth\":0,\"ticks\":\"\"}},\"type\":\"scattergeo\"}],\"scattergl\":[{\"marker\":{\"colorbar\":{\"outlinewidth\":0,\"ticks\":\"\"}},\"type\":\"scattergl\"}],\"scattermapbox\":[{\"marker\":{\"colorbar\":{\"outlinewidth\":0,\"ticks\":\"\"}},\"type\":\"scattermapbox\"}],\"scatterpolar\":[{\"marker\":{\"colorbar\":{\"outlinewidth\":0,\"ticks\":\"\"}},\"type\":\"scatterpolar\"}],\"scatterpolargl\":[{\"marker\":{\"colorbar\":{\"outlinewidth\":0,\"ticks\":\"\"}},\"type\":\"scatterpolargl\"}],\"scatterternary\":[{\"marker\":{\"colorbar\":{\"outlinewidth\":0,\"ticks\":\"\"}},\"type\":\"scatterternary\"}],\"surface\":[{\"colorbar\":{\"outlinewidth\":0,\"ticks\":\"\"},\"colorscale\":[[0.0,\"#0d0887\"],[0.1111111111111111,\"#46039f\"],[0.2222222222222222,\"#7201a8\"],[0.3333333333333333,\"#9c179e\"],[0.4444444444444444,\"#bd3786\"],[0.5555555555555556,\"#d8576b\"],[0.6666666666666666,\"#ed7953\"],[0.7777777777777778,\"#fb9f3a\"],[0.8888888888888888,\"#fdca26\"],[1.0,\"#f0f921\"]],\"type\":\"surface\"}],\"table\":[{\"cells\":{\"fill\":{\"color\":\"#EBF0F8\"},\"line\":{\"color\":\"white\"}},\"header\":{\"fill\":{\"color\":\"#C8D4E3\"},\"line\":{\"color\":\"white\"}},\"type\":\"table\"}]},\"layout\":{\"annotationdefaults\":{\"arrowcolor\":\"#2a3f5f\",\"arrowhead\":0,\"arrowwidth\":1},\"autotypenumbers\":\"strict\",\"coloraxis\":{\"colorbar\":{\"outlinewidth\":0,\"ticks\":\"\"}},\"colorscale\":{\"diverging\":[[0,\"#8e0152\"],[0.1,\"#c51b7d\"],[0.2,\"#de77ae\"],[0.3,\"#f1b6da\"],[0.4,\"#fde0ef\"],[0.5,\"#f7f7f7\"],[0.6,\"#e6f5d0\"],[0.7,\"#b8e186\"],[0.8,\"#7fbc41\"],[0.9,\"#4d9221\"],[1,\"#276419\"]],\"sequential\":[[0.0,\"#0d0887\"],[0.1111111111111111,\"#46039f\"],[0.2222222222222222,\"#7201a8\"],[0.3333333333333333,\"#9c179e\"],[0.4444444444444444,\"#bd3786\"],[0.5555555555555556,\"#d8576b\"],[0.6666666666666666,\"#ed7953\"],[0.7777777777777778,\"#fb9f3a\"],[0.8888888888888888,\"#fdca26\"],[1.0,\"#f0f921\"]],\"sequentialminus\":[[0.0,\"#0d0887\"],[0.1111111111111111,\"#46039f\"],[0.2222222222222222,\"#7201a8\"],[0.3333333333333333,\"#9c179e\"],[0.4444444444444444,\"#bd3786\"],[0.5555555555555556,\"#d8576b\"],[0.6666666666666666,\"#ed7953\"],[0.7777777777777778,\"#fb9f3a\"],[0.8888888888888888,\"#fdca26\"],[1.0,\"#f0f921\"]]},\"colorway\":[\"#636efa\",\"#EF553B\",\"#00cc96\",\"#ab63fa\",\"#FFA15A\",\"#19d3f3\",\"#FF6692\",\"#B6E880\",\"#FF97FF\",\"#FECB52\"],\"font\":{\"color\":\"#2a3f5f\"},\"geo\":{\"bgcolor\":\"white\",\"lakecolor\":\"white\",\"landcolor\":\"#E5ECF6\",\"showlakes\":true,\"showland\":true,\"subunitcolor\":\"white\"},\"hoverlabel\":{\"align\":\"left\"},\"hovermode\":\"closest\",\"mapbox\":{\"style\":\"light\"},\"paper_bgcolor\":\"white\",\"plot_bgcolor\":\"#E5ECF6\",\"polar\":{\"angularaxis\":{\"gridcolor\":\"white\",\"linecolor\":\"white\",\"ticks\":\"\"},\"bgcolor\":\"#E5ECF6\",\"radialaxis\":{\"gridcolor\":\"white\",\"linecolor\":\"white\",\"ticks\":\"\"}},\"scene\":{\"xaxis\":{\"backgroundcolor\":\"#E5ECF6\",\"gridcolor\":\"white\",\"gridwidth\":2,\"linecolor\":\"white\",\"showbackground\":true,\"ticks\":\"\",\"zerolinecolor\":\"white\"},\"yaxis\":{\"backgroundcolor\":\"#E5ECF6\",\"gridcolor\":\"white\",\"gridwidth\":2,\"linecolor\":\"white\",\"showbackground\":true,\"ticks\":\"\",\"zerolinecolor\":\"white\"},\"zaxis\":{\"backgroundcolor\":\"#E5ECF6\",\"gridcolor\":\"white\",\"gridwidth\":2,\"linecolor\":\"white\",\"showbackground\":true,\"ticks\":\"\",\"zerolinecolor\":\"white\"}},\"shapedefaults\":{\"line\":{\"color\":\"#2a3f5f\"}},\"ternary\":{\"aaxis\":{\"gridcolor\":\"white\",\"linecolor\":\"white\",\"ticks\":\"\"},\"baxis\":{\"gridcolor\":\"white\",\"linecolor\":\"white\",\"ticks\":\"\"},\"bgcolor\":\"#E5ECF6\",\"caxis\":{\"gridcolor\":\"white\",\"linecolor\":\"white\",\"ticks\":\"\"}},\"title\":{\"x\":0.05},\"xaxis\":{\"automargin\":true,\"gridcolor\":\"white\",\"linecolor\":\"white\",\"ticks\":\"\",\"title\":{\"standoff\":15},\"zerolinecolor\":\"white\",\"zerolinewidth\":2},\"yaxis\":{\"automargin\":true,\"gridcolor\":\"white\",\"linecolor\":\"white\",\"ticks\":\"\",\"title\":{\"standoff\":15},\"zerolinecolor\":\"white\",\"zerolinewidth\":2}}},\"title\":{\"font\":{\"color\":\"#4D5663\"}},\"xaxis\":{\"gridcolor\":\"#E1E5ED\",\"showgrid\":true,\"tickfont\":{\"color\":\"#4D5663\"},\"title\":{\"font\":{\"color\":\"#4D5663\"},\"text\":\"\"},\"zerolinecolor\":\"#E1E5ED\"},\"yaxis\":{\"gridcolor\":\"#E1E5ED\",\"showgrid\":true,\"tickfont\":{\"color\":\"#4D5663\"},\"title\":{\"font\":{\"color\":\"#4D5663\"},\"text\":\"\"},\"zerolinecolor\":\"#E1E5ED\"}},                        {\"showLink\": true, \"linkText\": \"Export to plot.ly\", \"plotlyServerURL\": \"https://plot.ly\", \"responsive\": true}                    ).then(function(){\n",
       "                            \n",
       "var gd = document.getElementById('1fcc09dd-25d5-4fb1-bdfe-ffdb0636fcaa');\n",
       "var x = new MutationObserver(function (mutations, observer) {{\n",
       "        var display = window.getComputedStyle(gd).display;\n",
       "        if (!display || display === 'none') {{\n",
       "            console.log([gd, 'removed!']);\n",
       "            Plotly.purge(gd);\n",
       "            observer.disconnect();\n",
       "        }}\n",
       "}});\n",
       "\n",
       "// Listen for the removal of the full notebook cells\n",
       "var notebookContainer = gd.closest('#notebook-container');\n",
       "if (notebookContainer) {{\n",
       "    x.observe(notebookContainer, {childList: true});\n",
       "}}\n",
       "\n",
       "// Listen for the clearing of the current output cell\n",
       "var outputEl = gd.closest('.output');\n",
       "if (outputEl) {{\n",
       "    x.observe(outputEl, {childList: true});\n",
       "}}\n",
       "\n",
       "                        })                };                });            </script>        </div>"
      ]
     },
     "metadata": {},
     "output_type": "display_data"
    }
   ],
   "source": [
    "df2.iplot(kind='bar',x='category',y='values')"
   ]
  },
  {
   "cell_type": "code",
   "execution_count": 19,
   "id": "d137e054",
   "metadata": {},
   "outputs": [
    {
     "data": {
      "application/vnd.plotly.v1+json": {
       "config": {
        "linkText": "Export to plot.ly",
        "plotlyServerURL": "https://plot.ly",
        "showLink": true
       },
       "data": [
        {
         "marker": {
          "color": "rgba(255, 153, 51, 0.6)",
          "line": {
           "color": "rgba(255, 153, 51, 1.0)",
           "width": 1
          }
         },
         "name": "None",
         "orientation": "v",
         "text": "",
         "type": "bar",
         "x": [
          "A",
          "B",
          "C",
          "D"
         ],
         "y": [
          100,
          100,
          100,
          100
         ]
        }
       ],
       "layout": {
        "legend": {
         "bgcolor": "#F5F6F9",
         "font": {
          "color": "#4D5663"
         }
        },
        "paper_bgcolor": "#F5F6F9",
        "plot_bgcolor": "#F5F6F9",
        "template": {
         "data": {
          "bar": [
           {
            "error_x": {
             "color": "#2a3f5f"
            },
            "error_y": {
             "color": "#2a3f5f"
            },
            "marker": {
             "line": {
              "color": "#E5ECF6",
              "width": 0.5
             },
             "pattern": {
              "fillmode": "overlay",
              "size": 10,
              "solidity": 0.2
             }
            },
            "type": "bar"
           }
          ],
          "barpolar": [
           {
            "marker": {
             "line": {
              "color": "#E5ECF6",
              "width": 0.5
             },
             "pattern": {
              "fillmode": "overlay",
              "size": 10,
              "solidity": 0.2
             }
            },
            "type": "barpolar"
           }
          ],
          "carpet": [
           {
            "aaxis": {
             "endlinecolor": "#2a3f5f",
             "gridcolor": "white",
             "linecolor": "white",
             "minorgridcolor": "white",
             "startlinecolor": "#2a3f5f"
            },
            "baxis": {
             "endlinecolor": "#2a3f5f",
             "gridcolor": "white",
             "linecolor": "white",
             "minorgridcolor": "white",
             "startlinecolor": "#2a3f5f"
            },
            "type": "carpet"
           }
          ],
          "choropleth": [
           {
            "colorbar": {
             "outlinewidth": 0,
             "ticks": ""
            },
            "type": "choropleth"
           }
          ],
          "contour": [
           {
            "colorbar": {
             "outlinewidth": 0,
             "ticks": ""
            },
            "colorscale": [
             [
              0,
              "#0d0887"
             ],
             [
              0.1111111111111111,
              "#46039f"
             ],
             [
              0.2222222222222222,
              "#7201a8"
             ],
             [
              0.3333333333333333,
              "#9c179e"
             ],
             [
              0.4444444444444444,
              "#bd3786"
             ],
             [
              0.5555555555555556,
              "#d8576b"
             ],
             [
              0.6666666666666666,
              "#ed7953"
             ],
             [
              0.7777777777777778,
              "#fb9f3a"
             ],
             [
              0.8888888888888888,
              "#fdca26"
             ],
             [
              1,
              "#f0f921"
             ]
            ],
            "type": "contour"
           }
          ],
          "contourcarpet": [
           {
            "colorbar": {
             "outlinewidth": 0,
             "ticks": ""
            },
            "type": "contourcarpet"
           }
          ],
          "heatmap": [
           {
            "colorbar": {
             "outlinewidth": 0,
             "ticks": ""
            },
            "colorscale": [
             [
              0,
              "#0d0887"
             ],
             [
              0.1111111111111111,
              "#46039f"
             ],
             [
              0.2222222222222222,
              "#7201a8"
             ],
             [
              0.3333333333333333,
              "#9c179e"
             ],
             [
              0.4444444444444444,
              "#bd3786"
             ],
             [
              0.5555555555555556,
              "#d8576b"
             ],
             [
              0.6666666666666666,
              "#ed7953"
             ],
             [
              0.7777777777777778,
              "#fb9f3a"
             ],
             [
              0.8888888888888888,
              "#fdca26"
             ],
             [
              1,
              "#f0f921"
             ]
            ],
            "type": "heatmap"
           }
          ],
          "heatmapgl": [
           {
            "colorbar": {
             "outlinewidth": 0,
             "ticks": ""
            },
            "colorscale": [
             [
              0,
              "#0d0887"
             ],
             [
              0.1111111111111111,
              "#46039f"
             ],
             [
              0.2222222222222222,
              "#7201a8"
             ],
             [
              0.3333333333333333,
              "#9c179e"
             ],
             [
              0.4444444444444444,
              "#bd3786"
             ],
             [
              0.5555555555555556,
              "#d8576b"
             ],
             [
              0.6666666666666666,
              "#ed7953"
             ],
             [
              0.7777777777777778,
              "#fb9f3a"
             ],
             [
              0.8888888888888888,
              "#fdca26"
             ],
             [
              1,
              "#f0f921"
             ]
            ],
            "type": "heatmapgl"
           }
          ],
          "histogram": [
           {
            "marker": {
             "pattern": {
              "fillmode": "overlay",
              "size": 10,
              "solidity": 0.2
             }
            },
            "type": "histogram"
           }
          ],
          "histogram2d": [
           {
            "colorbar": {
             "outlinewidth": 0,
             "ticks": ""
            },
            "colorscale": [
             [
              0,
              "#0d0887"
             ],
             [
              0.1111111111111111,
              "#46039f"
             ],
             [
              0.2222222222222222,
              "#7201a8"
             ],
             [
              0.3333333333333333,
              "#9c179e"
             ],
             [
              0.4444444444444444,
              "#bd3786"
             ],
             [
              0.5555555555555556,
              "#d8576b"
             ],
             [
              0.6666666666666666,
              "#ed7953"
             ],
             [
              0.7777777777777778,
              "#fb9f3a"
             ],
             [
              0.8888888888888888,
              "#fdca26"
             ],
             [
              1,
              "#f0f921"
             ]
            ],
            "type": "histogram2d"
           }
          ],
          "histogram2dcontour": [
           {
            "colorbar": {
             "outlinewidth": 0,
             "ticks": ""
            },
            "colorscale": [
             [
              0,
              "#0d0887"
             ],
             [
              0.1111111111111111,
              "#46039f"
             ],
             [
              0.2222222222222222,
              "#7201a8"
             ],
             [
              0.3333333333333333,
              "#9c179e"
             ],
             [
              0.4444444444444444,
              "#bd3786"
             ],
             [
              0.5555555555555556,
              "#d8576b"
             ],
             [
              0.6666666666666666,
              "#ed7953"
             ],
             [
              0.7777777777777778,
              "#fb9f3a"
             ],
             [
              0.8888888888888888,
              "#fdca26"
             ],
             [
              1,
              "#f0f921"
             ]
            ],
            "type": "histogram2dcontour"
           }
          ],
          "mesh3d": [
           {
            "colorbar": {
             "outlinewidth": 0,
             "ticks": ""
            },
            "type": "mesh3d"
           }
          ],
          "parcoords": [
           {
            "line": {
             "colorbar": {
              "outlinewidth": 0,
              "ticks": ""
             }
            },
            "type": "parcoords"
           }
          ],
          "pie": [
           {
            "automargin": true,
            "type": "pie"
           }
          ],
          "scatter": [
           {
            "marker": {
             "colorbar": {
              "outlinewidth": 0,
              "ticks": ""
             }
            },
            "type": "scatter"
           }
          ],
          "scatter3d": [
           {
            "line": {
             "colorbar": {
              "outlinewidth": 0,
              "ticks": ""
             }
            },
            "marker": {
             "colorbar": {
              "outlinewidth": 0,
              "ticks": ""
             }
            },
            "type": "scatter3d"
           }
          ],
          "scattercarpet": [
           {
            "marker": {
             "colorbar": {
              "outlinewidth": 0,
              "ticks": ""
             }
            },
            "type": "scattercarpet"
           }
          ],
          "scattergeo": [
           {
            "marker": {
             "colorbar": {
              "outlinewidth": 0,
              "ticks": ""
             }
            },
            "type": "scattergeo"
           }
          ],
          "scattergl": [
           {
            "marker": {
             "colorbar": {
              "outlinewidth": 0,
              "ticks": ""
             }
            },
            "type": "scattergl"
           }
          ],
          "scattermapbox": [
           {
            "marker": {
             "colorbar": {
              "outlinewidth": 0,
              "ticks": ""
             }
            },
            "type": "scattermapbox"
           }
          ],
          "scatterpolar": [
           {
            "marker": {
             "colorbar": {
              "outlinewidth": 0,
              "ticks": ""
             }
            },
            "type": "scatterpolar"
           }
          ],
          "scatterpolargl": [
           {
            "marker": {
             "colorbar": {
              "outlinewidth": 0,
              "ticks": ""
             }
            },
            "type": "scatterpolargl"
           }
          ],
          "scatterternary": [
           {
            "marker": {
             "colorbar": {
              "outlinewidth": 0,
              "ticks": ""
             }
            },
            "type": "scatterternary"
           }
          ],
          "surface": [
           {
            "colorbar": {
             "outlinewidth": 0,
             "ticks": ""
            },
            "colorscale": [
             [
              0,
              "#0d0887"
             ],
             [
              0.1111111111111111,
              "#46039f"
             ],
             [
              0.2222222222222222,
              "#7201a8"
             ],
             [
              0.3333333333333333,
              "#9c179e"
             ],
             [
              0.4444444444444444,
              "#bd3786"
             ],
             [
              0.5555555555555556,
              "#d8576b"
             ],
             [
              0.6666666666666666,
              "#ed7953"
             ],
             [
              0.7777777777777778,
              "#fb9f3a"
             ],
             [
              0.8888888888888888,
              "#fdca26"
             ],
             [
              1,
              "#f0f921"
             ]
            ],
            "type": "surface"
           }
          ],
          "table": [
           {
            "cells": {
             "fill": {
              "color": "#EBF0F8"
             },
             "line": {
              "color": "white"
             }
            },
            "header": {
             "fill": {
              "color": "#C8D4E3"
             },
             "line": {
              "color": "white"
             }
            },
            "type": "table"
           }
          ]
         },
         "layout": {
          "annotationdefaults": {
           "arrowcolor": "#2a3f5f",
           "arrowhead": 0,
           "arrowwidth": 1
          },
          "autotypenumbers": "strict",
          "coloraxis": {
           "colorbar": {
            "outlinewidth": 0,
            "ticks": ""
           }
          },
          "colorscale": {
           "diverging": [
            [
             0,
             "#8e0152"
            ],
            [
             0.1,
             "#c51b7d"
            ],
            [
             0.2,
             "#de77ae"
            ],
            [
             0.3,
             "#f1b6da"
            ],
            [
             0.4,
             "#fde0ef"
            ],
            [
             0.5,
             "#f7f7f7"
            ],
            [
             0.6,
             "#e6f5d0"
            ],
            [
             0.7,
             "#b8e186"
            ],
            [
             0.8,
             "#7fbc41"
            ],
            [
             0.9,
             "#4d9221"
            ],
            [
             1,
             "#276419"
            ]
           ],
           "sequential": [
            [
             0,
             "#0d0887"
            ],
            [
             0.1111111111111111,
             "#46039f"
            ],
            [
             0.2222222222222222,
             "#7201a8"
            ],
            [
             0.3333333333333333,
             "#9c179e"
            ],
            [
             0.4444444444444444,
             "#bd3786"
            ],
            [
             0.5555555555555556,
             "#d8576b"
            ],
            [
             0.6666666666666666,
             "#ed7953"
            ],
            [
             0.7777777777777778,
             "#fb9f3a"
            ],
            [
             0.8888888888888888,
             "#fdca26"
            ],
            [
             1,
             "#f0f921"
            ]
           ],
           "sequentialminus": [
            [
             0,
             "#0d0887"
            ],
            [
             0.1111111111111111,
             "#46039f"
            ],
            [
             0.2222222222222222,
             "#7201a8"
            ],
            [
             0.3333333333333333,
             "#9c179e"
            ],
            [
             0.4444444444444444,
             "#bd3786"
            ],
            [
             0.5555555555555556,
             "#d8576b"
            ],
            [
             0.6666666666666666,
             "#ed7953"
            ],
            [
             0.7777777777777778,
             "#fb9f3a"
            ],
            [
             0.8888888888888888,
             "#fdca26"
            ],
            [
             1,
             "#f0f921"
            ]
           ]
          },
          "colorway": [
           "#636efa",
           "#EF553B",
           "#00cc96",
           "#ab63fa",
           "#FFA15A",
           "#19d3f3",
           "#FF6692",
           "#B6E880",
           "#FF97FF",
           "#FECB52"
          ],
          "font": {
           "color": "#2a3f5f"
          },
          "geo": {
           "bgcolor": "white",
           "lakecolor": "white",
           "landcolor": "#E5ECF6",
           "showlakes": true,
           "showland": true,
           "subunitcolor": "white"
          },
          "hoverlabel": {
           "align": "left"
          },
          "hovermode": "closest",
          "mapbox": {
           "style": "light"
          },
          "paper_bgcolor": "white",
          "plot_bgcolor": "#E5ECF6",
          "polar": {
           "angularaxis": {
            "gridcolor": "white",
            "linecolor": "white",
            "ticks": ""
           },
           "bgcolor": "#E5ECF6",
           "radialaxis": {
            "gridcolor": "white",
            "linecolor": "white",
            "ticks": ""
           }
          },
          "scene": {
           "xaxis": {
            "backgroundcolor": "#E5ECF6",
            "gridcolor": "white",
            "gridwidth": 2,
            "linecolor": "white",
            "showbackground": true,
            "ticks": "",
            "zerolinecolor": "white"
           },
           "yaxis": {
            "backgroundcolor": "#E5ECF6",
            "gridcolor": "white",
            "gridwidth": 2,
            "linecolor": "white",
            "showbackground": true,
            "ticks": "",
            "zerolinecolor": "white"
           },
           "zaxis": {
            "backgroundcolor": "#E5ECF6",
            "gridcolor": "white",
            "gridwidth": 2,
            "linecolor": "white",
            "showbackground": true,
            "ticks": "",
            "zerolinecolor": "white"
           }
          },
          "shapedefaults": {
           "line": {
            "color": "#2a3f5f"
           }
          },
          "ternary": {
           "aaxis": {
            "gridcolor": "white",
            "linecolor": "white",
            "ticks": ""
           },
           "baxis": {
            "gridcolor": "white",
            "linecolor": "white",
            "ticks": ""
           },
           "bgcolor": "#E5ECF6",
           "caxis": {
            "gridcolor": "white",
            "linecolor": "white",
            "ticks": ""
           }
          },
          "title": {
           "x": 0.05
          },
          "xaxis": {
           "automargin": true,
           "gridcolor": "white",
           "linecolor": "white",
           "ticks": "",
           "title": {
            "standoff": 15
           },
           "zerolinecolor": "white",
           "zerolinewidth": 2
          },
          "yaxis": {
           "automargin": true,
           "gridcolor": "white",
           "linecolor": "white",
           "ticks": "",
           "title": {
            "standoff": 15
           },
           "zerolinecolor": "white",
           "zerolinewidth": 2
          }
         }
        },
        "title": {
         "font": {
          "color": "#4D5663"
         }
        },
        "xaxis": {
         "gridcolor": "#E1E5ED",
         "showgrid": true,
         "tickfont": {
          "color": "#4D5663"
         },
         "title": {
          "font": {
           "color": "#4D5663"
          },
          "text": ""
         },
         "zerolinecolor": "#E1E5ED"
        },
        "yaxis": {
         "gridcolor": "#E1E5ED",
         "showgrid": true,
         "tickfont": {
          "color": "#4D5663"
         },
         "title": {
          "font": {
           "color": "#4D5663"
          },
          "text": ""
         },
         "zerolinecolor": "#E1E5ED"
        }
       }
      },
      "text/html": [
       "<div>                            <div id=\"87a0caa3-5c49-4a09-adaa-2d7c7b3b6ec6\" class=\"plotly-graph-div\" style=\"height:525px; width:100%;\"></div>            <script type=\"text/javascript\">                require([\"plotly\"], function(Plotly) {                    window.PLOTLYENV=window.PLOTLYENV || {};\n",
       "                    window.PLOTLYENV.BASE_URL='https://plot.ly';                                    if (document.getElementById(\"87a0caa3-5c49-4a09-adaa-2d7c7b3b6ec6\")) {                    Plotly.newPlot(                        \"87a0caa3-5c49-4a09-adaa-2d7c7b3b6ec6\",                        [{\"marker\":{\"color\":\"rgba(255, 153, 51, 0.6)\",\"line\":{\"color\":\"rgba(255, 153, 51, 1.0)\",\"width\":1}},\"name\":\"None\",\"orientation\":\"v\",\"text\":\"\",\"type\":\"bar\",\"x\":[\"A\",\"B\",\"C\",\"D\"],\"y\":[100,100,100,100]}],                        {\"legend\":{\"bgcolor\":\"#F5F6F9\",\"font\":{\"color\":\"#4D5663\"}},\"paper_bgcolor\":\"#F5F6F9\",\"plot_bgcolor\":\"#F5F6F9\",\"template\":{\"data\":{\"bar\":[{\"error_x\":{\"color\":\"#2a3f5f\"},\"error_y\":{\"color\":\"#2a3f5f\"},\"marker\":{\"line\":{\"color\":\"#E5ECF6\",\"width\":0.5},\"pattern\":{\"fillmode\":\"overlay\",\"size\":10,\"solidity\":0.2}},\"type\":\"bar\"}],\"barpolar\":[{\"marker\":{\"line\":{\"color\":\"#E5ECF6\",\"width\":0.5},\"pattern\":{\"fillmode\":\"overlay\",\"size\":10,\"solidity\":0.2}},\"type\":\"barpolar\"}],\"carpet\":[{\"aaxis\":{\"endlinecolor\":\"#2a3f5f\",\"gridcolor\":\"white\",\"linecolor\":\"white\",\"minorgridcolor\":\"white\",\"startlinecolor\":\"#2a3f5f\"},\"baxis\":{\"endlinecolor\":\"#2a3f5f\",\"gridcolor\":\"white\",\"linecolor\":\"white\",\"minorgridcolor\":\"white\",\"startlinecolor\":\"#2a3f5f\"},\"type\":\"carpet\"}],\"choropleth\":[{\"colorbar\":{\"outlinewidth\":0,\"ticks\":\"\"},\"type\":\"choropleth\"}],\"contour\":[{\"colorbar\":{\"outlinewidth\":0,\"ticks\":\"\"},\"colorscale\":[[0.0,\"#0d0887\"],[0.1111111111111111,\"#46039f\"],[0.2222222222222222,\"#7201a8\"],[0.3333333333333333,\"#9c179e\"],[0.4444444444444444,\"#bd3786\"],[0.5555555555555556,\"#d8576b\"],[0.6666666666666666,\"#ed7953\"],[0.7777777777777778,\"#fb9f3a\"],[0.8888888888888888,\"#fdca26\"],[1.0,\"#f0f921\"]],\"type\":\"contour\"}],\"contourcarpet\":[{\"colorbar\":{\"outlinewidth\":0,\"ticks\":\"\"},\"type\":\"contourcarpet\"}],\"heatmap\":[{\"colorbar\":{\"outlinewidth\":0,\"ticks\":\"\"},\"colorscale\":[[0.0,\"#0d0887\"],[0.1111111111111111,\"#46039f\"],[0.2222222222222222,\"#7201a8\"],[0.3333333333333333,\"#9c179e\"],[0.4444444444444444,\"#bd3786\"],[0.5555555555555556,\"#d8576b\"],[0.6666666666666666,\"#ed7953\"],[0.7777777777777778,\"#fb9f3a\"],[0.8888888888888888,\"#fdca26\"],[1.0,\"#f0f921\"]],\"type\":\"heatmap\"}],\"heatmapgl\":[{\"colorbar\":{\"outlinewidth\":0,\"ticks\":\"\"},\"colorscale\":[[0.0,\"#0d0887\"],[0.1111111111111111,\"#46039f\"],[0.2222222222222222,\"#7201a8\"],[0.3333333333333333,\"#9c179e\"],[0.4444444444444444,\"#bd3786\"],[0.5555555555555556,\"#d8576b\"],[0.6666666666666666,\"#ed7953\"],[0.7777777777777778,\"#fb9f3a\"],[0.8888888888888888,\"#fdca26\"],[1.0,\"#f0f921\"]],\"type\":\"heatmapgl\"}],\"histogram\":[{\"marker\":{\"pattern\":{\"fillmode\":\"overlay\",\"size\":10,\"solidity\":0.2}},\"type\":\"histogram\"}],\"histogram2d\":[{\"colorbar\":{\"outlinewidth\":0,\"ticks\":\"\"},\"colorscale\":[[0.0,\"#0d0887\"],[0.1111111111111111,\"#46039f\"],[0.2222222222222222,\"#7201a8\"],[0.3333333333333333,\"#9c179e\"],[0.4444444444444444,\"#bd3786\"],[0.5555555555555556,\"#d8576b\"],[0.6666666666666666,\"#ed7953\"],[0.7777777777777778,\"#fb9f3a\"],[0.8888888888888888,\"#fdca26\"],[1.0,\"#f0f921\"]],\"type\":\"histogram2d\"}],\"histogram2dcontour\":[{\"colorbar\":{\"outlinewidth\":0,\"ticks\":\"\"},\"colorscale\":[[0.0,\"#0d0887\"],[0.1111111111111111,\"#46039f\"],[0.2222222222222222,\"#7201a8\"],[0.3333333333333333,\"#9c179e\"],[0.4444444444444444,\"#bd3786\"],[0.5555555555555556,\"#d8576b\"],[0.6666666666666666,\"#ed7953\"],[0.7777777777777778,\"#fb9f3a\"],[0.8888888888888888,\"#fdca26\"],[1.0,\"#f0f921\"]],\"type\":\"histogram2dcontour\"}],\"mesh3d\":[{\"colorbar\":{\"outlinewidth\":0,\"ticks\":\"\"},\"type\":\"mesh3d\"}],\"parcoords\":[{\"line\":{\"colorbar\":{\"outlinewidth\":0,\"ticks\":\"\"}},\"type\":\"parcoords\"}],\"pie\":[{\"automargin\":true,\"type\":\"pie\"}],\"scatter\":[{\"marker\":{\"colorbar\":{\"outlinewidth\":0,\"ticks\":\"\"}},\"type\":\"scatter\"}],\"scatter3d\":[{\"line\":{\"colorbar\":{\"outlinewidth\":0,\"ticks\":\"\"}},\"marker\":{\"colorbar\":{\"outlinewidth\":0,\"ticks\":\"\"}},\"type\":\"scatter3d\"}],\"scattercarpet\":[{\"marker\":{\"colorbar\":{\"outlinewidth\":0,\"ticks\":\"\"}},\"type\":\"scattercarpet\"}],\"scattergeo\":[{\"marker\":{\"colorbar\":{\"outlinewidth\":0,\"ticks\":\"\"}},\"type\":\"scattergeo\"}],\"scattergl\":[{\"marker\":{\"colorbar\":{\"outlinewidth\":0,\"ticks\":\"\"}},\"type\":\"scattergl\"}],\"scattermapbox\":[{\"marker\":{\"colorbar\":{\"outlinewidth\":0,\"ticks\":\"\"}},\"type\":\"scattermapbox\"}],\"scatterpolar\":[{\"marker\":{\"colorbar\":{\"outlinewidth\":0,\"ticks\":\"\"}},\"type\":\"scatterpolar\"}],\"scatterpolargl\":[{\"marker\":{\"colorbar\":{\"outlinewidth\":0,\"ticks\":\"\"}},\"type\":\"scatterpolargl\"}],\"scatterternary\":[{\"marker\":{\"colorbar\":{\"outlinewidth\":0,\"ticks\":\"\"}},\"type\":\"scatterternary\"}],\"surface\":[{\"colorbar\":{\"outlinewidth\":0,\"ticks\":\"\"},\"colorscale\":[[0.0,\"#0d0887\"],[0.1111111111111111,\"#46039f\"],[0.2222222222222222,\"#7201a8\"],[0.3333333333333333,\"#9c179e\"],[0.4444444444444444,\"#bd3786\"],[0.5555555555555556,\"#d8576b\"],[0.6666666666666666,\"#ed7953\"],[0.7777777777777778,\"#fb9f3a\"],[0.8888888888888888,\"#fdca26\"],[1.0,\"#f0f921\"]],\"type\":\"surface\"}],\"table\":[{\"cells\":{\"fill\":{\"color\":\"#EBF0F8\"},\"line\":{\"color\":\"white\"}},\"header\":{\"fill\":{\"color\":\"#C8D4E3\"},\"line\":{\"color\":\"white\"}},\"type\":\"table\"}]},\"layout\":{\"annotationdefaults\":{\"arrowcolor\":\"#2a3f5f\",\"arrowhead\":0,\"arrowwidth\":1},\"autotypenumbers\":\"strict\",\"coloraxis\":{\"colorbar\":{\"outlinewidth\":0,\"ticks\":\"\"}},\"colorscale\":{\"diverging\":[[0,\"#8e0152\"],[0.1,\"#c51b7d\"],[0.2,\"#de77ae\"],[0.3,\"#f1b6da\"],[0.4,\"#fde0ef\"],[0.5,\"#f7f7f7\"],[0.6,\"#e6f5d0\"],[0.7,\"#b8e186\"],[0.8,\"#7fbc41\"],[0.9,\"#4d9221\"],[1,\"#276419\"]],\"sequential\":[[0.0,\"#0d0887\"],[0.1111111111111111,\"#46039f\"],[0.2222222222222222,\"#7201a8\"],[0.3333333333333333,\"#9c179e\"],[0.4444444444444444,\"#bd3786\"],[0.5555555555555556,\"#d8576b\"],[0.6666666666666666,\"#ed7953\"],[0.7777777777777778,\"#fb9f3a\"],[0.8888888888888888,\"#fdca26\"],[1.0,\"#f0f921\"]],\"sequentialminus\":[[0.0,\"#0d0887\"],[0.1111111111111111,\"#46039f\"],[0.2222222222222222,\"#7201a8\"],[0.3333333333333333,\"#9c179e\"],[0.4444444444444444,\"#bd3786\"],[0.5555555555555556,\"#d8576b\"],[0.6666666666666666,\"#ed7953\"],[0.7777777777777778,\"#fb9f3a\"],[0.8888888888888888,\"#fdca26\"],[1.0,\"#f0f921\"]]},\"colorway\":[\"#636efa\",\"#EF553B\",\"#00cc96\",\"#ab63fa\",\"#FFA15A\",\"#19d3f3\",\"#FF6692\",\"#B6E880\",\"#FF97FF\",\"#FECB52\"],\"font\":{\"color\":\"#2a3f5f\"},\"geo\":{\"bgcolor\":\"white\",\"lakecolor\":\"white\",\"landcolor\":\"#E5ECF6\",\"showlakes\":true,\"showland\":true,\"subunitcolor\":\"white\"},\"hoverlabel\":{\"align\":\"left\"},\"hovermode\":\"closest\",\"mapbox\":{\"style\":\"light\"},\"paper_bgcolor\":\"white\",\"plot_bgcolor\":\"#E5ECF6\",\"polar\":{\"angularaxis\":{\"gridcolor\":\"white\",\"linecolor\":\"white\",\"ticks\":\"\"},\"bgcolor\":\"#E5ECF6\",\"radialaxis\":{\"gridcolor\":\"white\",\"linecolor\":\"white\",\"ticks\":\"\"}},\"scene\":{\"xaxis\":{\"backgroundcolor\":\"#E5ECF6\",\"gridcolor\":\"white\",\"gridwidth\":2,\"linecolor\":\"white\",\"showbackground\":true,\"ticks\":\"\",\"zerolinecolor\":\"white\"},\"yaxis\":{\"backgroundcolor\":\"#E5ECF6\",\"gridcolor\":\"white\",\"gridwidth\":2,\"linecolor\":\"white\",\"showbackground\":true,\"ticks\":\"\",\"zerolinecolor\":\"white\"},\"zaxis\":{\"backgroundcolor\":\"#E5ECF6\",\"gridcolor\":\"white\",\"gridwidth\":2,\"linecolor\":\"white\",\"showbackground\":true,\"ticks\":\"\",\"zerolinecolor\":\"white\"}},\"shapedefaults\":{\"line\":{\"color\":\"#2a3f5f\"}},\"ternary\":{\"aaxis\":{\"gridcolor\":\"white\",\"linecolor\":\"white\",\"ticks\":\"\"},\"baxis\":{\"gridcolor\":\"white\",\"linecolor\":\"white\",\"ticks\":\"\"},\"bgcolor\":\"#E5ECF6\",\"caxis\":{\"gridcolor\":\"white\",\"linecolor\":\"white\",\"ticks\":\"\"}},\"title\":{\"x\":0.05},\"xaxis\":{\"automargin\":true,\"gridcolor\":\"white\",\"linecolor\":\"white\",\"ticks\":\"\",\"title\":{\"standoff\":15},\"zerolinecolor\":\"white\",\"zerolinewidth\":2},\"yaxis\":{\"automargin\":true,\"gridcolor\":\"white\",\"linecolor\":\"white\",\"ticks\":\"\",\"title\":{\"standoff\":15},\"zerolinecolor\":\"white\",\"zerolinewidth\":2}}},\"title\":{\"font\":{\"color\":\"#4D5663\"}},\"xaxis\":{\"gridcolor\":\"#E1E5ED\",\"showgrid\":true,\"tickfont\":{\"color\":\"#4D5663\"},\"title\":{\"font\":{\"color\":\"#4D5663\"},\"text\":\"\"},\"zerolinecolor\":\"#E1E5ED\"},\"yaxis\":{\"gridcolor\":\"#E1E5ED\",\"showgrid\":true,\"tickfont\":{\"color\":\"#4D5663\"},\"title\":{\"font\":{\"color\":\"#4D5663\"},\"text\":\"\"},\"zerolinecolor\":\"#E1E5ED\"}},                        {\"showLink\": true, \"linkText\": \"Export to plot.ly\", \"plotlyServerURL\": \"https://plot.ly\", \"responsive\": true}                    ).then(function(){\n",
       "                            \n",
       "var gd = document.getElementById('87a0caa3-5c49-4a09-adaa-2d7c7b3b6ec6');\n",
       "var x = new MutationObserver(function (mutations, observer) {{\n",
       "        var display = window.getComputedStyle(gd).display;\n",
       "        if (!display || display === 'none') {{\n",
       "            console.log([gd, 'removed!']);\n",
       "            Plotly.purge(gd);\n",
       "            observer.disconnect();\n",
       "        }}\n",
       "}});\n",
       "\n",
       "// Listen for the removal of the full notebook cells\n",
       "var notebookContainer = gd.closest('#notebook-container');\n",
       "if (notebookContainer) {{\n",
       "    x.observe(notebookContainer, {childList: true});\n",
       "}}\n",
       "\n",
       "// Listen for the clearing of the current output cell\n",
       "var outputEl = gd.closest('.output');\n",
       "if (outputEl) {{\n",
       "    x.observe(outputEl, {childList: true});\n",
       "}}\n",
       "\n",
       "                        })                };                });            </script>        </div>"
      ]
     },
     "metadata": {},
     "output_type": "display_data"
    }
   ],
   "source": [
    "df.count().iplot(kind='bar')"
   ]
  },
  {
   "cell_type": "code",
   "execution_count": 20,
   "id": "bbae0143",
   "metadata": {},
   "outputs": [
    {
     "data": {
      "application/vnd.plotly.v1+json": {
       "config": {
        "linkText": "Export to plot.ly",
        "plotlyServerURL": "https://plot.ly",
        "showLink": true
       },
       "data": [
        {
         "marker": {
          "color": "rgba(255, 153, 51, 0.6)",
          "line": {
           "color": "rgba(255, 153, 51, 1.0)",
           "width": 1
          }
         },
         "name": "None",
         "orientation": "v",
         "text": "",
         "type": "bar",
         "x": [
          "A",
          "B",
          "C",
          "D"
         ],
         "y": [
          15.478745418548916,
          -14.234440452522259,
          -14.840402737809832,
          -3.73786444981823
         ]
        }
       ],
       "layout": {
        "legend": {
         "bgcolor": "#F5F6F9",
         "font": {
          "color": "#4D5663"
         }
        },
        "paper_bgcolor": "#F5F6F9",
        "plot_bgcolor": "#F5F6F9",
        "template": {
         "data": {
          "bar": [
           {
            "error_x": {
             "color": "#2a3f5f"
            },
            "error_y": {
             "color": "#2a3f5f"
            },
            "marker": {
             "line": {
              "color": "#E5ECF6",
              "width": 0.5
             },
             "pattern": {
              "fillmode": "overlay",
              "size": 10,
              "solidity": 0.2
             }
            },
            "type": "bar"
           }
          ],
          "barpolar": [
           {
            "marker": {
             "line": {
              "color": "#E5ECF6",
              "width": 0.5
             },
             "pattern": {
              "fillmode": "overlay",
              "size": 10,
              "solidity": 0.2
             }
            },
            "type": "barpolar"
           }
          ],
          "carpet": [
           {
            "aaxis": {
             "endlinecolor": "#2a3f5f",
             "gridcolor": "white",
             "linecolor": "white",
             "minorgridcolor": "white",
             "startlinecolor": "#2a3f5f"
            },
            "baxis": {
             "endlinecolor": "#2a3f5f",
             "gridcolor": "white",
             "linecolor": "white",
             "minorgridcolor": "white",
             "startlinecolor": "#2a3f5f"
            },
            "type": "carpet"
           }
          ],
          "choropleth": [
           {
            "colorbar": {
             "outlinewidth": 0,
             "ticks": ""
            },
            "type": "choropleth"
           }
          ],
          "contour": [
           {
            "colorbar": {
             "outlinewidth": 0,
             "ticks": ""
            },
            "colorscale": [
             [
              0,
              "#0d0887"
             ],
             [
              0.1111111111111111,
              "#46039f"
             ],
             [
              0.2222222222222222,
              "#7201a8"
             ],
             [
              0.3333333333333333,
              "#9c179e"
             ],
             [
              0.4444444444444444,
              "#bd3786"
             ],
             [
              0.5555555555555556,
              "#d8576b"
             ],
             [
              0.6666666666666666,
              "#ed7953"
             ],
             [
              0.7777777777777778,
              "#fb9f3a"
             ],
             [
              0.8888888888888888,
              "#fdca26"
             ],
             [
              1,
              "#f0f921"
             ]
            ],
            "type": "contour"
           }
          ],
          "contourcarpet": [
           {
            "colorbar": {
             "outlinewidth": 0,
             "ticks": ""
            },
            "type": "contourcarpet"
           }
          ],
          "heatmap": [
           {
            "colorbar": {
             "outlinewidth": 0,
             "ticks": ""
            },
            "colorscale": [
             [
              0,
              "#0d0887"
             ],
             [
              0.1111111111111111,
              "#46039f"
             ],
             [
              0.2222222222222222,
              "#7201a8"
             ],
             [
              0.3333333333333333,
              "#9c179e"
             ],
             [
              0.4444444444444444,
              "#bd3786"
             ],
             [
              0.5555555555555556,
              "#d8576b"
             ],
             [
              0.6666666666666666,
              "#ed7953"
             ],
             [
              0.7777777777777778,
              "#fb9f3a"
             ],
             [
              0.8888888888888888,
              "#fdca26"
             ],
             [
              1,
              "#f0f921"
             ]
            ],
            "type": "heatmap"
           }
          ],
          "heatmapgl": [
           {
            "colorbar": {
             "outlinewidth": 0,
             "ticks": ""
            },
            "colorscale": [
             [
              0,
              "#0d0887"
             ],
             [
              0.1111111111111111,
              "#46039f"
             ],
             [
              0.2222222222222222,
              "#7201a8"
             ],
             [
              0.3333333333333333,
              "#9c179e"
             ],
             [
              0.4444444444444444,
              "#bd3786"
             ],
             [
              0.5555555555555556,
              "#d8576b"
             ],
             [
              0.6666666666666666,
              "#ed7953"
             ],
             [
              0.7777777777777778,
              "#fb9f3a"
             ],
             [
              0.8888888888888888,
              "#fdca26"
             ],
             [
              1,
              "#f0f921"
             ]
            ],
            "type": "heatmapgl"
           }
          ],
          "histogram": [
           {
            "marker": {
             "pattern": {
              "fillmode": "overlay",
              "size": 10,
              "solidity": 0.2
             }
            },
            "type": "histogram"
           }
          ],
          "histogram2d": [
           {
            "colorbar": {
             "outlinewidth": 0,
             "ticks": ""
            },
            "colorscale": [
             [
              0,
              "#0d0887"
             ],
             [
              0.1111111111111111,
              "#46039f"
             ],
             [
              0.2222222222222222,
              "#7201a8"
             ],
             [
              0.3333333333333333,
              "#9c179e"
             ],
             [
              0.4444444444444444,
              "#bd3786"
             ],
             [
              0.5555555555555556,
              "#d8576b"
             ],
             [
              0.6666666666666666,
              "#ed7953"
             ],
             [
              0.7777777777777778,
              "#fb9f3a"
             ],
             [
              0.8888888888888888,
              "#fdca26"
             ],
             [
              1,
              "#f0f921"
             ]
            ],
            "type": "histogram2d"
           }
          ],
          "histogram2dcontour": [
           {
            "colorbar": {
             "outlinewidth": 0,
             "ticks": ""
            },
            "colorscale": [
             [
              0,
              "#0d0887"
             ],
             [
              0.1111111111111111,
              "#46039f"
             ],
             [
              0.2222222222222222,
              "#7201a8"
             ],
             [
              0.3333333333333333,
              "#9c179e"
             ],
             [
              0.4444444444444444,
              "#bd3786"
             ],
             [
              0.5555555555555556,
              "#d8576b"
             ],
             [
              0.6666666666666666,
              "#ed7953"
             ],
             [
              0.7777777777777778,
              "#fb9f3a"
             ],
             [
              0.8888888888888888,
              "#fdca26"
             ],
             [
              1,
              "#f0f921"
             ]
            ],
            "type": "histogram2dcontour"
           }
          ],
          "mesh3d": [
           {
            "colorbar": {
             "outlinewidth": 0,
             "ticks": ""
            },
            "type": "mesh3d"
           }
          ],
          "parcoords": [
           {
            "line": {
             "colorbar": {
              "outlinewidth": 0,
              "ticks": ""
             }
            },
            "type": "parcoords"
           }
          ],
          "pie": [
           {
            "automargin": true,
            "type": "pie"
           }
          ],
          "scatter": [
           {
            "marker": {
             "colorbar": {
              "outlinewidth": 0,
              "ticks": ""
             }
            },
            "type": "scatter"
           }
          ],
          "scatter3d": [
           {
            "line": {
             "colorbar": {
              "outlinewidth": 0,
              "ticks": ""
             }
            },
            "marker": {
             "colorbar": {
              "outlinewidth": 0,
              "ticks": ""
             }
            },
            "type": "scatter3d"
           }
          ],
          "scattercarpet": [
           {
            "marker": {
             "colorbar": {
              "outlinewidth": 0,
              "ticks": ""
             }
            },
            "type": "scattercarpet"
           }
          ],
          "scattergeo": [
           {
            "marker": {
             "colorbar": {
              "outlinewidth": 0,
              "ticks": ""
             }
            },
            "type": "scattergeo"
           }
          ],
          "scattergl": [
           {
            "marker": {
             "colorbar": {
              "outlinewidth": 0,
              "ticks": ""
             }
            },
            "type": "scattergl"
           }
          ],
          "scattermapbox": [
           {
            "marker": {
             "colorbar": {
              "outlinewidth": 0,
              "ticks": ""
             }
            },
            "type": "scattermapbox"
           }
          ],
          "scatterpolar": [
           {
            "marker": {
             "colorbar": {
              "outlinewidth": 0,
              "ticks": ""
             }
            },
            "type": "scatterpolar"
           }
          ],
          "scatterpolargl": [
           {
            "marker": {
             "colorbar": {
              "outlinewidth": 0,
              "ticks": ""
             }
            },
            "type": "scatterpolargl"
           }
          ],
          "scatterternary": [
           {
            "marker": {
             "colorbar": {
              "outlinewidth": 0,
              "ticks": ""
             }
            },
            "type": "scatterternary"
           }
          ],
          "surface": [
           {
            "colorbar": {
             "outlinewidth": 0,
             "ticks": ""
            },
            "colorscale": [
             [
              0,
              "#0d0887"
             ],
             [
              0.1111111111111111,
              "#46039f"
             ],
             [
              0.2222222222222222,
              "#7201a8"
             ],
             [
              0.3333333333333333,
              "#9c179e"
             ],
             [
              0.4444444444444444,
              "#bd3786"
             ],
             [
              0.5555555555555556,
              "#d8576b"
             ],
             [
              0.6666666666666666,
              "#ed7953"
             ],
             [
              0.7777777777777778,
              "#fb9f3a"
             ],
             [
              0.8888888888888888,
              "#fdca26"
             ],
             [
              1,
              "#f0f921"
             ]
            ],
            "type": "surface"
           }
          ],
          "table": [
           {
            "cells": {
             "fill": {
              "color": "#EBF0F8"
             },
             "line": {
              "color": "white"
             }
            },
            "header": {
             "fill": {
              "color": "#C8D4E3"
             },
             "line": {
              "color": "white"
             }
            },
            "type": "table"
           }
          ]
         },
         "layout": {
          "annotationdefaults": {
           "arrowcolor": "#2a3f5f",
           "arrowhead": 0,
           "arrowwidth": 1
          },
          "autotypenumbers": "strict",
          "coloraxis": {
           "colorbar": {
            "outlinewidth": 0,
            "ticks": ""
           }
          },
          "colorscale": {
           "diverging": [
            [
             0,
             "#8e0152"
            ],
            [
             0.1,
             "#c51b7d"
            ],
            [
             0.2,
             "#de77ae"
            ],
            [
             0.3,
             "#f1b6da"
            ],
            [
             0.4,
             "#fde0ef"
            ],
            [
             0.5,
             "#f7f7f7"
            ],
            [
             0.6,
             "#e6f5d0"
            ],
            [
             0.7,
             "#b8e186"
            ],
            [
             0.8,
             "#7fbc41"
            ],
            [
             0.9,
             "#4d9221"
            ],
            [
             1,
             "#276419"
            ]
           ],
           "sequential": [
            [
             0,
             "#0d0887"
            ],
            [
             0.1111111111111111,
             "#46039f"
            ],
            [
             0.2222222222222222,
             "#7201a8"
            ],
            [
             0.3333333333333333,
             "#9c179e"
            ],
            [
             0.4444444444444444,
             "#bd3786"
            ],
            [
             0.5555555555555556,
             "#d8576b"
            ],
            [
             0.6666666666666666,
             "#ed7953"
            ],
            [
             0.7777777777777778,
             "#fb9f3a"
            ],
            [
             0.8888888888888888,
             "#fdca26"
            ],
            [
             1,
             "#f0f921"
            ]
           ],
           "sequentialminus": [
            [
             0,
             "#0d0887"
            ],
            [
             0.1111111111111111,
             "#46039f"
            ],
            [
             0.2222222222222222,
             "#7201a8"
            ],
            [
             0.3333333333333333,
             "#9c179e"
            ],
            [
             0.4444444444444444,
             "#bd3786"
            ],
            [
             0.5555555555555556,
             "#d8576b"
            ],
            [
             0.6666666666666666,
             "#ed7953"
            ],
            [
             0.7777777777777778,
             "#fb9f3a"
            ],
            [
             0.8888888888888888,
             "#fdca26"
            ],
            [
             1,
             "#f0f921"
            ]
           ]
          },
          "colorway": [
           "#636efa",
           "#EF553B",
           "#00cc96",
           "#ab63fa",
           "#FFA15A",
           "#19d3f3",
           "#FF6692",
           "#B6E880",
           "#FF97FF",
           "#FECB52"
          ],
          "font": {
           "color": "#2a3f5f"
          },
          "geo": {
           "bgcolor": "white",
           "lakecolor": "white",
           "landcolor": "#E5ECF6",
           "showlakes": true,
           "showland": true,
           "subunitcolor": "white"
          },
          "hoverlabel": {
           "align": "left"
          },
          "hovermode": "closest",
          "mapbox": {
           "style": "light"
          },
          "paper_bgcolor": "white",
          "plot_bgcolor": "#E5ECF6",
          "polar": {
           "angularaxis": {
            "gridcolor": "white",
            "linecolor": "white",
            "ticks": ""
           },
           "bgcolor": "#E5ECF6",
           "radialaxis": {
            "gridcolor": "white",
            "linecolor": "white",
            "ticks": ""
           }
          },
          "scene": {
           "xaxis": {
            "backgroundcolor": "#E5ECF6",
            "gridcolor": "white",
            "gridwidth": 2,
            "linecolor": "white",
            "showbackground": true,
            "ticks": "",
            "zerolinecolor": "white"
           },
           "yaxis": {
            "backgroundcolor": "#E5ECF6",
            "gridcolor": "white",
            "gridwidth": 2,
            "linecolor": "white",
            "showbackground": true,
            "ticks": "",
            "zerolinecolor": "white"
           },
           "zaxis": {
            "backgroundcolor": "#E5ECF6",
            "gridcolor": "white",
            "gridwidth": 2,
            "linecolor": "white",
            "showbackground": true,
            "ticks": "",
            "zerolinecolor": "white"
           }
          },
          "shapedefaults": {
           "line": {
            "color": "#2a3f5f"
           }
          },
          "ternary": {
           "aaxis": {
            "gridcolor": "white",
            "linecolor": "white",
            "ticks": ""
           },
           "baxis": {
            "gridcolor": "white",
            "linecolor": "white",
            "ticks": ""
           },
           "bgcolor": "#E5ECF6",
           "caxis": {
            "gridcolor": "white",
            "linecolor": "white",
            "ticks": ""
           }
          },
          "title": {
           "x": 0.05
          },
          "xaxis": {
           "automargin": true,
           "gridcolor": "white",
           "linecolor": "white",
           "ticks": "",
           "title": {
            "standoff": 15
           },
           "zerolinecolor": "white",
           "zerolinewidth": 2
          },
          "yaxis": {
           "automargin": true,
           "gridcolor": "white",
           "linecolor": "white",
           "ticks": "",
           "title": {
            "standoff": 15
           },
           "zerolinecolor": "white",
           "zerolinewidth": 2
          }
         }
        },
        "title": {
         "font": {
          "color": "#4D5663"
         }
        },
        "xaxis": {
         "gridcolor": "#E1E5ED",
         "showgrid": true,
         "tickfont": {
          "color": "#4D5663"
         },
         "title": {
          "font": {
           "color": "#4D5663"
          },
          "text": ""
         },
         "zerolinecolor": "#E1E5ED"
        },
        "yaxis": {
         "gridcolor": "#E1E5ED",
         "showgrid": true,
         "tickfont": {
          "color": "#4D5663"
         },
         "title": {
          "font": {
           "color": "#4D5663"
          },
          "text": ""
         },
         "zerolinecolor": "#E1E5ED"
        }
       }
      },
      "text/html": [
       "<div>                            <div id=\"76b191c5-8e8f-4be6-923d-c32cf85eef6e\" class=\"plotly-graph-div\" style=\"height:525px; width:100%;\"></div>            <script type=\"text/javascript\">                require([\"plotly\"], function(Plotly) {                    window.PLOTLYENV=window.PLOTLYENV || {};\n",
       "                    window.PLOTLYENV.BASE_URL='https://plot.ly';                                    if (document.getElementById(\"76b191c5-8e8f-4be6-923d-c32cf85eef6e\")) {                    Plotly.newPlot(                        \"76b191c5-8e8f-4be6-923d-c32cf85eef6e\",                        [{\"marker\":{\"color\":\"rgba(255, 153, 51, 0.6)\",\"line\":{\"color\":\"rgba(255, 153, 51, 1.0)\",\"width\":1}},\"name\":\"None\",\"orientation\":\"v\",\"text\":\"\",\"type\":\"bar\",\"x\":[\"A\",\"B\",\"C\",\"D\"],\"y\":[15.478745418548916,-14.234440452522259,-14.840402737809832,-3.73786444981823]}],                        {\"legend\":{\"bgcolor\":\"#F5F6F9\",\"font\":{\"color\":\"#4D5663\"}},\"paper_bgcolor\":\"#F5F6F9\",\"plot_bgcolor\":\"#F5F6F9\",\"template\":{\"data\":{\"bar\":[{\"error_x\":{\"color\":\"#2a3f5f\"},\"error_y\":{\"color\":\"#2a3f5f\"},\"marker\":{\"line\":{\"color\":\"#E5ECF6\",\"width\":0.5},\"pattern\":{\"fillmode\":\"overlay\",\"size\":10,\"solidity\":0.2}},\"type\":\"bar\"}],\"barpolar\":[{\"marker\":{\"line\":{\"color\":\"#E5ECF6\",\"width\":0.5},\"pattern\":{\"fillmode\":\"overlay\",\"size\":10,\"solidity\":0.2}},\"type\":\"barpolar\"}],\"carpet\":[{\"aaxis\":{\"endlinecolor\":\"#2a3f5f\",\"gridcolor\":\"white\",\"linecolor\":\"white\",\"minorgridcolor\":\"white\",\"startlinecolor\":\"#2a3f5f\"},\"baxis\":{\"endlinecolor\":\"#2a3f5f\",\"gridcolor\":\"white\",\"linecolor\":\"white\",\"minorgridcolor\":\"white\",\"startlinecolor\":\"#2a3f5f\"},\"type\":\"carpet\"}],\"choropleth\":[{\"colorbar\":{\"outlinewidth\":0,\"ticks\":\"\"},\"type\":\"choropleth\"}],\"contour\":[{\"colorbar\":{\"outlinewidth\":0,\"ticks\":\"\"},\"colorscale\":[[0.0,\"#0d0887\"],[0.1111111111111111,\"#46039f\"],[0.2222222222222222,\"#7201a8\"],[0.3333333333333333,\"#9c179e\"],[0.4444444444444444,\"#bd3786\"],[0.5555555555555556,\"#d8576b\"],[0.6666666666666666,\"#ed7953\"],[0.7777777777777778,\"#fb9f3a\"],[0.8888888888888888,\"#fdca26\"],[1.0,\"#f0f921\"]],\"type\":\"contour\"}],\"contourcarpet\":[{\"colorbar\":{\"outlinewidth\":0,\"ticks\":\"\"},\"type\":\"contourcarpet\"}],\"heatmap\":[{\"colorbar\":{\"outlinewidth\":0,\"ticks\":\"\"},\"colorscale\":[[0.0,\"#0d0887\"],[0.1111111111111111,\"#46039f\"],[0.2222222222222222,\"#7201a8\"],[0.3333333333333333,\"#9c179e\"],[0.4444444444444444,\"#bd3786\"],[0.5555555555555556,\"#d8576b\"],[0.6666666666666666,\"#ed7953\"],[0.7777777777777778,\"#fb9f3a\"],[0.8888888888888888,\"#fdca26\"],[1.0,\"#f0f921\"]],\"type\":\"heatmap\"}],\"heatmapgl\":[{\"colorbar\":{\"outlinewidth\":0,\"ticks\":\"\"},\"colorscale\":[[0.0,\"#0d0887\"],[0.1111111111111111,\"#46039f\"],[0.2222222222222222,\"#7201a8\"],[0.3333333333333333,\"#9c179e\"],[0.4444444444444444,\"#bd3786\"],[0.5555555555555556,\"#d8576b\"],[0.6666666666666666,\"#ed7953\"],[0.7777777777777778,\"#fb9f3a\"],[0.8888888888888888,\"#fdca26\"],[1.0,\"#f0f921\"]],\"type\":\"heatmapgl\"}],\"histogram\":[{\"marker\":{\"pattern\":{\"fillmode\":\"overlay\",\"size\":10,\"solidity\":0.2}},\"type\":\"histogram\"}],\"histogram2d\":[{\"colorbar\":{\"outlinewidth\":0,\"ticks\":\"\"},\"colorscale\":[[0.0,\"#0d0887\"],[0.1111111111111111,\"#46039f\"],[0.2222222222222222,\"#7201a8\"],[0.3333333333333333,\"#9c179e\"],[0.4444444444444444,\"#bd3786\"],[0.5555555555555556,\"#d8576b\"],[0.6666666666666666,\"#ed7953\"],[0.7777777777777778,\"#fb9f3a\"],[0.8888888888888888,\"#fdca26\"],[1.0,\"#f0f921\"]],\"type\":\"histogram2d\"}],\"histogram2dcontour\":[{\"colorbar\":{\"outlinewidth\":0,\"ticks\":\"\"},\"colorscale\":[[0.0,\"#0d0887\"],[0.1111111111111111,\"#46039f\"],[0.2222222222222222,\"#7201a8\"],[0.3333333333333333,\"#9c179e\"],[0.4444444444444444,\"#bd3786\"],[0.5555555555555556,\"#d8576b\"],[0.6666666666666666,\"#ed7953\"],[0.7777777777777778,\"#fb9f3a\"],[0.8888888888888888,\"#fdca26\"],[1.0,\"#f0f921\"]],\"type\":\"histogram2dcontour\"}],\"mesh3d\":[{\"colorbar\":{\"outlinewidth\":0,\"ticks\":\"\"},\"type\":\"mesh3d\"}],\"parcoords\":[{\"line\":{\"colorbar\":{\"outlinewidth\":0,\"ticks\":\"\"}},\"type\":\"parcoords\"}],\"pie\":[{\"automargin\":true,\"type\":\"pie\"}],\"scatter\":[{\"marker\":{\"colorbar\":{\"outlinewidth\":0,\"ticks\":\"\"}},\"type\":\"scatter\"}],\"scatter3d\":[{\"line\":{\"colorbar\":{\"outlinewidth\":0,\"ticks\":\"\"}},\"marker\":{\"colorbar\":{\"outlinewidth\":0,\"ticks\":\"\"}},\"type\":\"scatter3d\"}],\"scattercarpet\":[{\"marker\":{\"colorbar\":{\"outlinewidth\":0,\"ticks\":\"\"}},\"type\":\"scattercarpet\"}],\"scattergeo\":[{\"marker\":{\"colorbar\":{\"outlinewidth\":0,\"ticks\":\"\"}},\"type\":\"scattergeo\"}],\"scattergl\":[{\"marker\":{\"colorbar\":{\"outlinewidth\":0,\"ticks\":\"\"}},\"type\":\"scattergl\"}],\"scattermapbox\":[{\"marker\":{\"colorbar\":{\"outlinewidth\":0,\"ticks\":\"\"}},\"type\":\"scattermapbox\"}],\"scatterpolar\":[{\"marker\":{\"colorbar\":{\"outlinewidth\":0,\"ticks\":\"\"}},\"type\":\"scatterpolar\"}],\"scatterpolargl\":[{\"marker\":{\"colorbar\":{\"outlinewidth\":0,\"ticks\":\"\"}},\"type\":\"scatterpolargl\"}],\"scatterternary\":[{\"marker\":{\"colorbar\":{\"outlinewidth\":0,\"ticks\":\"\"}},\"type\":\"scatterternary\"}],\"surface\":[{\"colorbar\":{\"outlinewidth\":0,\"ticks\":\"\"},\"colorscale\":[[0.0,\"#0d0887\"],[0.1111111111111111,\"#46039f\"],[0.2222222222222222,\"#7201a8\"],[0.3333333333333333,\"#9c179e\"],[0.4444444444444444,\"#bd3786\"],[0.5555555555555556,\"#d8576b\"],[0.6666666666666666,\"#ed7953\"],[0.7777777777777778,\"#fb9f3a\"],[0.8888888888888888,\"#fdca26\"],[1.0,\"#f0f921\"]],\"type\":\"surface\"}],\"table\":[{\"cells\":{\"fill\":{\"color\":\"#EBF0F8\"},\"line\":{\"color\":\"white\"}},\"header\":{\"fill\":{\"color\":\"#C8D4E3\"},\"line\":{\"color\":\"white\"}},\"type\":\"table\"}]},\"layout\":{\"annotationdefaults\":{\"arrowcolor\":\"#2a3f5f\",\"arrowhead\":0,\"arrowwidth\":1},\"autotypenumbers\":\"strict\",\"coloraxis\":{\"colorbar\":{\"outlinewidth\":0,\"ticks\":\"\"}},\"colorscale\":{\"diverging\":[[0,\"#8e0152\"],[0.1,\"#c51b7d\"],[0.2,\"#de77ae\"],[0.3,\"#f1b6da\"],[0.4,\"#fde0ef\"],[0.5,\"#f7f7f7\"],[0.6,\"#e6f5d0\"],[0.7,\"#b8e186\"],[0.8,\"#7fbc41\"],[0.9,\"#4d9221\"],[1,\"#276419\"]],\"sequential\":[[0.0,\"#0d0887\"],[0.1111111111111111,\"#46039f\"],[0.2222222222222222,\"#7201a8\"],[0.3333333333333333,\"#9c179e\"],[0.4444444444444444,\"#bd3786\"],[0.5555555555555556,\"#d8576b\"],[0.6666666666666666,\"#ed7953\"],[0.7777777777777778,\"#fb9f3a\"],[0.8888888888888888,\"#fdca26\"],[1.0,\"#f0f921\"]],\"sequentialminus\":[[0.0,\"#0d0887\"],[0.1111111111111111,\"#46039f\"],[0.2222222222222222,\"#7201a8\"],[0.3333333333333333,\"#9c179e\"],[0.4444444444444444,\"#bd3786\"],[0.5555555555555556,\"#d8576b\"],[0.6666666666666666,\"#ed7953\"],[0.7777777777777778,\"#fb9f3a\"],[0.8888888888888888,\"#fdca26\"],[1.0,\"#f0f921\"]]},\"colorway\":[\"#636efa\",\"#EF553B\",\"#00cc96\",\"#ab63fa\",\"#FFA15A\",\"#19d3f3\",\"#FF6692\",\"#B6E880\",\"#FF97FF\",\"#FECB52\"],\"font\":{\"color\":\"#2a3f5f\"},\"geo\":{\"bgcolor\":\"white\",\"lakecolor\":\"white\",\"landcolor\":\"#E5ECF6\",\"showlakes\":true,\"showland\":true,\"subunitcolor\":\"white\"},\"hoverlabel\":{\"align\":\"left\"},\"hovermode\":\"closest\",\"mapbox\":{\"style\":\"light\"},\"paper_bgcolor\":\"white\",\"plot_bgcolor\":\"#E5ECF6\",\"polar\":{\"angularaxis\":{\"gridcolor\":\"white\",\"linecolor\":\"white\",\"ticks\":\"\"},\"bgcolor\":\"#E5ECF6\",\"radialaxis\":{\"gridcolor\":\"white\",\"linecolor\":\"white\",\"ticks\":\"\"}},\"scene\":{\"xaxis\":{\"backgroundcolor\":\"#E5ECF6\",\"gridcolor\":\"white\",\"gridwidth\":2,\"linecolor\":\"white\",\"showbackground\":true,\"ticks\":\"\",\"zerolinecolor\":\"white\"},\"yaxis\":{\"backgroundcolor\":\"#E5ECF6\",\"gridcolor\":\"white\",\"gridwidth\":2,\"linecolor\":\"white\",\"showbackground\":true,\"ticks\":\"\",\"zerolinecolor\":\"white\"},\"zaxis\":{\"backgroundcolor\":\"#E5ECF6\",\"gridcolor\":\"white\",\"gridwidth\":2,\"linecolor\":\"white\",\"showbackground\":true,\"ticks\":\"\",\"zerolinecolor\":\"white\"}},\"shapedefaults\":{\"line\":{\"color\":\"#2a3f5f\"}},\"ternary\":{\"aaxis\":{\"gridcolor\":\"white\",\"linecolor\":\"white\",\"ticks\":\"\"},\"baxis\":{\"gridcolor\":\"white\",\"linecolor\":\"white\",\"ticks\":\"\"},\"bgcolor\":\"#E5ECF6\",\"caxis\":{\"gridcolor\":\"white\",\"linecolor\":\"white\",\"ticks\":\"\"}},\"title\":{\"x\":0.05},\"xaxis\":{\"automargin\":true,\"gridcolor\":\"white\",\"linecolor\":\"white\",\"ticks\":\"\",\"title\":{\"standoff\":15},\"zerolinecolor\":\"white\",\"zerolinewidth\":2},\"yaxis\":{\"automargin\":true,\"gridcolor\":\"white\",\"linecolor\":\"white\",\"ticks\":\"\",\"title\":{\"standoff\":15},\"zerolinecolor\":\"white\",\"zerolinewidth\":2}}},\"title\":{\"font\":{\"color\":\"#4D5663\"}},\"xaxis\":{\"gridcolor\":\"#E1E5ED\",\"showgrid\":true,\"tickfont\":{\"color\":\"#4D5663\"},\"title\":{\"font\":{\"color\":\"#4D5663\"},\"text\":\"\"},\"zerolinecolor\":\"#E1E5ED\"},\"yaxis\":{\"gridcolor\":\"#E1E5ED\",\"showgrid\":true,\"tickfont\":{\"color\":\"#4D5663\"},\"title\":{\"font\":{\"color\":\"#4D5663\"},\"text\":\"\"},\"zerolinecolor\":\"#E1E5ED\"}},                        {\"showLink\": true, \"linkText\": \"Export to plot.ly\", \"plotlyServerURL\": \"https://plot.ly\", \"responsive\": true}                    ).then(function(){\n",
       "                            \n",
       "var gd = document.getElementById('76b191c5-8e8f-4be6-923d-c32cf85eef6e');\n",
       "var x = new MutationObserver(function (mutations, observer) {{\n",
       "        var display = window.getComputedStyle(gd).display;\n",
       "        if (!display || display === 'none') {{\n",
       "            console.log([gd, 'removed!']);\n",
       "            Plotly.purge(gd);\n",
       "            observer.disconnect();\n",
       "        }}\n",
       "}});\n",
       "\n",
       "// Listen for the removal of the full notebook cells\n",
       "var notebookContainer = gd.closest('#notebook-container');\n",
       "if (notebookContainer) {{\n",
       "    x.observe(notebookContainer, {childList: true});\n",
       "}}\n",
       "\n",
       "// Listen for the clearing of the current output cell\n",
       "var outputEl = gd.closest('.output');\n",
       "if (outputEl) {{\n",
       "    x.observe(outputEl, {childList: true});\n",
       "}}\n",
       "\n",
       "                        })                };                });            </script>        </div>"
      ]
     },
     "metadata": {},
     "output_type": "display_data"
    }
   ],
   "source": [
    "df.sum().iplot(kind='bar')"
   ]
  },
  {
   "cell_type": "code",
   "execution_count": 21,
   "id": "e8d71864",
   "metadata": {},
   "outputs": [
    {
     "data": {
      "application/vnd.plotly.v1+json": {
       "config": {
        "linkText": "Export to plot.ly",
        "plotlyServerURL": "https://plot.ly",
        "showLink": true
       },
       "data": [
        {
         "boxpoints": false,
         "line": {
          "width": 1.3
         },
         "marker": {
          "color": "rgba(255, 153, 51, 1.0)"
         },
         "name": "A",
         "orientation": "v",
         "type": "box",
         "y": [
          0.25766725273870794,
          -0.9683683498568538,
          0.4079767983323879,
          -0.35521716328951264,
          0.1067697108260012,
          0.055264414905670536,
          0.16748678722052524,
          -0.03884642071252894,
          -1.9569206918568747,
          -0.012030065425278914,
          0.5147917475168186,
          -1.1929830986432766,
          -0.28630897965301283,
          -0.7269486914270185,
          -0.6042854575279359,
          -0.7860299666916818,
          -1.2232950810912862,
          -0.13550737994759923,
          -1.0734549238772075,
          0.24804028348226617,
          0.6481756930738801,
          -1.6101508373062166,
          -0.1609375642387576,
          -0.4537761843382195,
          0.6669660076254208,
          -0.844428975954758,
          0.5129831796429379,
          1.155804462649625,
          0.6941037484143968,
          2.325681370776554,
          -1.1934765913970897,
          -1.3331393887106655,
          -0.5842075563796505,
          0.823264907901564,
          0.5077909681150676,
          0.04079208347736599,
          -0.3774067504355232,
          1.684633944827573,
          0.8108285494289319,
          -0.9614720723440364,
          0.8033391836123334,
          1.366141053396587,
          1.22710335380521,
          0.5007861886024525,
          0.343001046248468,
          0.9821044423294414,
          1.058739583049605,
          -0.302159064903064,
          0.01997985590888351,
          -0.33131002906924917,
          0.2717518499836177,
          1.3142633549959786,
          -0.8617857664810039,
          0.1400785711199423,
          0.45416005353468314,
          -1.6845394060445138,
          -1.2870651849530947,
          -1.368366894386971,
          0.7796978263073777,
          0.8049718982440207,
          0.6720806332514321,
          0.019012236335749715,
          0.9820030162836629,
          -1.3032056716341103,
          0.24368134319022605,
          -0.11259416554794206,
          0.4777042747792598,
          0.7994237775854384,
          -0.5912923178386565,
          1.8620316169982516,
          1.5979147218970453,
          0.6982224574224856,
          0.06113753691724821,
          0.2011006952610454,
          -0.5264422448448134,
          -0.2860199234535764,
          1.1520711810777065,
          0.3853847234561283,
          0.8496286363248838,
          0.21092045657163339,
          0.4992727903258261,
          0.019602502769003088,
          1.479898271696008,
          0.13819373894873163,
          0.4943303710765866,
          0.8121478456947057,
          -0.920576847331459,
          0.10674261995226657,
          1.2436406766350976,
          0.6251502982138215,
          0.5576995553252935,
          0.15981433848144747,
          -0.46484952881209385,
          0.34931673594281165,
          -1.3197036618486955,
          2.030244713325367,
          1.3293527484805516,
          -0.6014582498008547,
          2.3177502612429897,
          0.24869161904699996
         ]
        },
        {
         "boxpoints": false,
         "line": {
          "width": 1.3
         },
         "marker": {
          "color": "rgba(55, 128, 191, 1.0)"
         },
         "name": "B",
         "orientation": "v",
         "type": "box",
         "y": [
          1.3248435021986862,
          0.05735020938283478,
          -1.3252283251090466,
          0.2037073853435116,
          0.11390051896740837,
          0.036274803977040415,
          0.07886059125519548,
          -0.2107540123227492,
          0.5438429832196089,
          -1.495186139925318,
          -0.2786757262126936,
          -2.2472868977499583,
          0.5401780372965783,
          -1.2660125619710452,
          2.8917618341817137,
          0.9135784244832255,
          0.8070773007502883,
          -0.47655287637741833,
          -0.6916594268489628,
          -0.29857439303094707,
          -0.5028419053588357,
          -1.097380972947273,
          0.9013779502854321,
          -2.0539267239812853,
          -0.09946671171319675,
          0.027103790935514682,
          0.910952326494662,
          -0.3450271482134044,
          -2.016022367725986,
          1.2318197128416584,
          -0.48882763052385303,
          -1.0985539746033637,
          0.1469041002146205,
          -1.8300962817655162,
          0.3295661962110016,
          1.5269919414554993,
          -0.08726602386535882,
          -0.2746372475405285,
          1.3932038032489773,
          -1.5396569571609415,
          0.27825546855211997,
          -1.2105974754365512,
          -1.117995856964468,
          -0.08862087958247215,
          -0.19882957813497953,
          -0.046593485481045395,
          -0.2823150761795257,
          -0.909045608470984,
          -1.2859323567159786,
          2.57780442556176,
          0.5784537098435818,
          0.28312410196352455,
          0.5708819331108846,
          0.13193351121742164,
          0.7251406104368086,
          -0.33668180850187046,
          -0.6109096964157493,
          0.18883399477521554,
          0.525884140083572,
          -0.29113233390150467,
          1.5467100649562053,
          -1.5034114282884632,
          1.0075308147355966,
          0.8120289248587333,
          -1.3825380096125786,
          1.3893557899959468,
          0.7225515136418575,
          -2.0990836574963083,
          -0.3329107958852471,
          -0.20557479439035437,
          1.2586533985172603,
          -0.3623865838613117,
          -1.81009497493966,
          -0.8144051264697689,
          -0.8543728528659726,
          0.12428063004652715,
          0.42154333813920025,
          0.8325194216703564,
          -1.1316678358816619,
          -0.6752053609299112,
          1.0083868733208903,
          1.0329358144064287,
          0.24154683429897433,
          0.20467656709517945,
          0.4480733678860193,
          -1.4973501519227976,
          -0.06457171959633856,
          -0.7267026226309786,
          0.38549482127688767,
          2.0291148776290124,
          -0.7242805841989912,
          -0.8436208979113577,
          -0.9355965444051567,
          -1.2924130300577341,
          -1.0832341054879675,
          0.40071963830041823,
          1.6882470669240979,
          -1.8897243883593906,
          -1.73705358562559,
          -1.5599300069598463
         ]
        },
        {
         "boxpoints": false,
         "line": {
          "width": 1.3
         },
         "marker": {
          "color": "rgba(50, 171, 96, 1.0)"
         },
         "name": "C",
         "orientation": "v",
         "type": "box",
         "y": [
          -2.361761577852779,
          0.5601682024555253,
          0.7397791306001766,
          -0.6623782490409087,
          0.6857868613529526,
          1.4325764368304839,
          -0.6046702446723863,
          -0.9224023716659426,
          -1.374858370180204,
          -1.4036497288762604,
          2.2809026918611757,
          -0.14793006094281821,
          0.13753424646413842,
          -0.2232675326374695,
          -0.3383929970868634,
          -0.3042114016740749,
          -2.0235518683305784,
          0.6112943301579296,
          0.12262932462534099,
          -0.5540464192991367,
          0.21394765086253906,
          -0.6342840755001222,
          1.5431114456139305,
          0.520000348435981,
          -0.5070277643479835,
          -1.32430202501762,
          -1.8986721120747658,
          -1.6127903072276566,
          -1.8336681094404546,
          -0.37874463908208617,
          -0.7264976899141545,
          -0.18953135953591352,
          1.000835838807099,
          1.1348048263560553,
          -2.246644046452098,
          -0.32131215444600014,
          -0.5973093329881346,
          -0.7168613711733985,
          -2.8584955120003954,
          2.789113453410877,
          0.4650310112167451,
          -1.6048341588683919,
          -1.2999450295037844,
          0.724368075933912,
          0.6605601842134327,
          -1.6403966595508683,
          -0.459508328073549,
          -0.5133337131873488,
          1.2212848371654796,
          3.103375971399639,
          1.4564409020961275,
          -0.44566360817361256,
          -0.6667837021019473,
          0.8649760834336663,
          0.18913022129124796,
          -0.39855900842707215,
          -0.3353945361522721,
          0.3102726463831046,
          -1.2817872368942829,
          -1.5761180255088258,
          1.9451888083978948,
          -1.3839219453105434,
          1.1718263853168165,
          -0.4363400113758351,
          -1.0065709153967863,
          -1.457183604809572,
          -0.17223676739963256,
          -0.31412797718378505,
          0.24725023263052143,
          0.7056310115827593,
          -0.9235051007847629,
          0.7517653837693907,
          0.4752875570000499,
          1.5337404272019972,
          -0.28544253565872163,
          0.640040353020628,
          -0.18323802609196574,
          -0.16975401206998655,
          0.07304670629250355,
          -0.7026185371650298,
          -0.7268743155257561,
          0.8277640495778841,
          -2.603861293255465,
          1.3069975134359773,
          0.9301139393275412,
          0.2241426217480532,
          -0.00934855406999004,
          0.5308123605970554,
          -0.9750164870308707,
          0.8632892044459971,
          0.1762676646661963,
          1.640097229898394,
          0.7176580381238524,
          -0.3623004190144998,
          -1.1176258416306188,
          0.4525957893338102,
          -1.1854120204386869,
          -0.6421062267770715,
          0.49012960496143854,
          -1.664902421214408
         ]
        },
        {
         "boxpoints": false,
         "line": {
          "width": 1.3
         },
         "marker": {
          "color": "rgba(128, 0, 128, 1.0)"
         },
         "name": "D",
         "orientation": "v",
         "type": "box",
         "y": [
          0.611714013887907,
          0.6386052403396689,
          -0.02477849377865895,
          0.6197704319247359,
          -1.1967377415806166,
          1.1720391315629168,
          0.8765281439054488,
          -1.0370592385491233,
          0.44021492011010355,
          0.17230177660561485,
          0.4200336292442886,
          -0.16107225295889302,
          0.7200632250852794,
          -2.298592389474176,
          0.25459428501955056,
          0.2542139932244251,
          -1.8107357042692172,
          -0.5108724925504359,
          0.41001152084386977,
          -1.0703118510366805,
          1.0216244610662364,
          0.9974056726181587,
          1.312610610063279,
          -1.1407814799389158,
          1.5480251592844323,
          -0.49410534648003307,
          2.278885873544256,
          0.19104047538383667,
          -0.47014930082533973,
          -1.0344998801228573,
          -0.10032876048732366,
          0.7773925219423091,
          0.5717920894378987,
          0.33987394847518954,
          -0.1973390537737198,
          1.6021603463915783,
          -0.18834810979770195,
          -0.7497884978957049,
          -0.9027557049861357,
          -0.016809405012762894,
          -1.8597598987950288,
          0.856307118575504,
          -0.2162447769364504,
          -0.205476712225501,
          1.683875488970458,
          0.4609337272646481,
          0.8816172290139743,
          -1.5292750990984212,
          0.9459357785069152,
          -0.14509817237364275,
          -0.16696894829690045,
          -0.7401778451042701,
          0.26927875263065426,
          -1.1256758417539952,
          -0.08988833536686605,
          1.2641096243953123,
          -0.2101147329903418,
          -1.1204823391590175,
          0.13693330967014247,
          -0.23803086366322063,
          -0.8854563237832962,
          0.21533140364738995,
          0.9663254927426982,
          0.07511595060091833,
          -0.2487169421683228,
          1.412511316640888,
          -0.0973691612271399,
          -0.4760956995731815,
          0.16454046508612838,
          -0.8842237914144235,
          -1.1596602344406595,
          -0.11564797255073156,
          -0.5850474514779618,
          0.5224811694375456,
          -1.3775956652443182,
          0.007969820810576162,
          0.28740140869153913,
          0.6617076518110719,
          -0.8460664108204242,
          -0.05583557468567738,
          0.7611148188311797,
          0.4847337270794526,
          -2.1536338798360313,
          -0.3390316543921442,
          0.29109295797409984,
          0.3832439726007917,
          -0.593143056703596,
          -0.10685109921118938,
          -0.7925989257172054,
          1.1161161935482944,
          0.15080005441430192,
          -0.6181883497861653,
          0.6251053204524084,
          -0.5618278147974634,
          -0.46915351905109376,
          -1.1894885930032517,
          -0.5933340624232508,
          -1.4204641235088469,
          -0.0008249022356199199,
          1.02916580415784
         ]
        }
       ],
       "layout": {
        "legend": {
         "bgcolor": "#F5F6F9",
         "font": {
          "color": "#4D5663"
         }
        },
        "paper_bgcolor": "#F5F6F9",
        "plot_bgcolor": "#F5F6F9",
        "template": {
         "data": {
          "bar": [
           {
            "error_x": {
             "color": "#2a3f5f"
            },
            "error_y": {
             "color": "#2a3f5f"
            },
            "marker": {
             "line": {
              "color": "#E5ECF6",
              "width": 0.5
             },
             "pattern": {
              "fillmode": "overlay",
              "size": 10,
              "solidity": 0.2
             }
            },
            "type": "bar"
           }
          ],
          "barpolar": [
           {
            "marker": {
             "line": {
              "color": "#E5ECF6",
              "width": 0.5
             },
             "pattern": {
              "fillmode": "overlay",
              "size": 10,
              "solidity": 0.2
             }
            },
            "type": "barpolar"
           }
          ],
          "carpet": [
           {
            "aaxis": {
             "endlinecolor": "#2a3f5f",
             "gridcolor": "white",
             "linecolor": "white",
             "minorgridcolor": "white",
             "startlinecolor": "#2a3f5f"
            },
            "baxis": {
             "endlinecolor": "#2a3f5f",
             "gridcolor": "white",
             "linecolor": "white",
             "minorgridcolor": "white",
             "startlinecolor": "#2a3f5f"
            },
            "type": "carpet"
           }
          ],
          "choropleth": [
           {
            "colorbar": {
             "outlinewidth": 0,
             "ticks": ""
            },
            "type": "choropleth"
           }
          ],
          "contour": [
           {
            "colorbar": {
             "outlinewidth": 0,
             "ticks": ""
            },
            "colorscale": [
             [
              0,
              "#0d0887"
             ],
             [
              0.1111111111111111,
              "#46039f"
             ],
             [
              0.2222222222222222,
              "#7201a8"
             ],
             [
              0.3333333333333333,
              "#9c179e"
             ],
             [
              0.4444444444444444,
              "#bd3786"
             ],
             [
              0.5555555555555556,
              "#d8576b"
             ],
             [
              0.6666666666666666,
              "#ed7953"
             ],
             [
              0.7777777777777778,
              "#fb9f3a"
             ],
             [
              0.8888888888888888,
              "#fdca26"
             ],
             [
              1,
              "#f0f921"
             ]
            ],
            "type": "contour"
           }
          ],
          "contourcarpet": [
           {
            "colorbar": {
             "outlinewidth": 0,
             "ticks": ""
            },
            "type": "contourcarpet"
           }
          ],
          "heatmap": [
           {
            "colorbar": {
             "outlinewidth": 0,
             "ticks": ""
            },
            "colorscale": [
             [
              0,
              "#0d0887"
             ],
             [
              0.1111111111111111,
              "#46039f"
             ],
             [
              0.2222222222222222,
              "#7201a8"
             ],
             [
              0.3333333333333333,
              "#9c179e"
             ],
             [
              0.4444444444444444,
              "#bd3786"
             ],
             [
              0.5555555555555556,
              "#d8576b"
             ],
             [
              0.6666666666666666,
              "#ed7953"
             ],
             [
              0.7777777777777778,
              "#fb9f3a"
             ],
             [
              0.8888888888888888,
              "#fdca26"
             ],
             [
              1,
              "#f0f921"
             ]
            ],
            "type": "heatmap"
           }
          ],
          "heatmapgl": [
           {
            "colorbar": {
             "outlinewidth": 0,
             "ticks": ""
            },
            "colorscale": [
             [
              0,
              "#0d0887"
             ],
             [
              0.1111111111111111,
              "#46039f"
             ],
             [
              0.2222222222222222,
              "#7201a8"
             ],
             [
              0.3333333333333333,
              "#9c179e"
             ],
             [
              0.4444444444444444,
              "#bd3786"
             ],
             [
              0.5555555555555556,
              "#d8576b"
             ],
             [
              0.6666666666666666,
              "#ed7953"
             ],
             [
              0.7777777777777778,
              "#fb9f3a"
             ],
             [
              0.8888888888888888,
              "#fdca26"
             ],
             [
              1,
              "#f0f921"
             ]
            ],
            "type": "heatmapgl"
           }
          ],
          "histogram": [
           {
            "marker": {
             "pattern": {
              "fillmode": "overlay",
              "size": 10,
              "solidity": 0.2
             }
            },
            "type": "histogram"
           }
          ],
          "histogram2d": [
           {
            "colorbar": {
             "outlinewidth": 0,
             "ticks": ""
            },
            "colorscale": [
             [
              0,
              "#0d0887"
             ],
             [
              0.1111111111111111,
              "#46039f"
             ],
             [
              0.2222222222222222,
              "#7201a8"
             ],
             [
              0.3333333333333333,
              "#9c179e"
             ],
             [
              0.4444444444444444,
              "#bd3786"
             ],
             [
              0.5555555555555556,
              "#d8576b"
             ],
             [
              0.6666666666666666,
              "#ed7953"
             ],
             [
              0.7777777777777778,
              "#fb9f3a"
             ],
             [
              0.8888888888888888,
              "#fdca26"
             ],
             [
              1,
              "#f0f921"
             ]
            ],
            "type": "histogram2d"
           }
          ],
          "histogram2dcontour": [
           {
            "colorbar": {
             "outlinewidth": 0,
             "ticks": ""
            },
            "colorscale": [
             [
              0,
              "#0d0887"
             ],
             [
              0.1111111111111111,
              "#46039f"
             ],
             [
              0.2222222222222222,
              "#7201a8"
             ],
             [
              0.3333333333333333,
              "#9c179e"
             ],
             [
              0.4444444444444444,
              "#bd3786"
             ],
             [
              0.5555555555555556,
              "#d8576b"
             ],
             [
              0.6666666666666666,
              "#ed7953"
             ],
             [
              0.7777777777777778,
              "#fb9f3a"
             ],
             [
              0.8888888888888888,
              "#fdca26"
             ],
             [
              1,
              "#f0f921"
             ]
            ],
            "type": "histogram2dcontour"
           }
          ],
          "mesh3d": [
           {
            "colorbar": {
             "outlinewidth": 0,
             "ticks": ""
            },
            "type": "mesh3d"
           }
          ],
          "parcoords": [
           {
            "line": {
             "colorbar": {
              "outlinewidth": 0,
              "ticks": ""
             }
            },
            "type": "parcoords"
           }
          ],
          "pie": [
           {
            "automargin": true,
            "type": "pie"
           }
          ],
          "scatter": [
           {
            "marker": {
             "colorbar": {
              "outlinewidth": 0,
              "ticks": ""
             }
            },
            "type": "scatter"
           }
          ],
          "scatter3d": [
           {
            "line": {
             "colorbar": {
              "outlinewidth": 0,
              "ticks": ""
             }
            },
            "marker": {
             "colorbar": {
              "outlinewidth": 0,
              "ticks": ""
             }
            },
            "type": "scatter3d"
           }
          ],
          "scattercarpet": [
           {
            "marker": {
             "colorbar": {
              "outlinewidth": 0,
              "ticks": ""
             }
            },
            "type": "scattercarpet"
           }
          ],
          "scattergeo": [
           {
            "marker": {
             "colorbar": {
              "outlinewidth": 0,
              "ticks": ""
             }
            },
            "type": "scattergeo"
           }
          ],
          "scattergl": [
           {
            "marker": {
             "colorbar": {
              "outlinewidth": 0,
              "ticks": ""
             }
            },
            "type": "scattergl"
           }
          ],
          "scattermapbox": [
           {
            "marker": {
             "colorbar": {
              "outlinewidth": 0,
              "ticks": ""
             }
            },
            "type": "scattermapbox"
           }
          ],
          "scatterpolar": [
           {
            "marker": {
             "colorbar": {
              "outlinewidth": 0,
              "ticks": ""
             }
            },
            "type": "scatterpolar"
           }
          ],
          "scatterpolargl": [
           {
            "marker": {
             "colorbar": {
              "outlinewidth": 0,
              "ticks": ""
             }
            },
            "type": "scatterpolargl"
           }
          ],
          "scatterternary": [
           {
            "marker": {
             "colorbar": {
              "outlinewidth": 0,
              "ticks": ""
             }
            },
            "type": "scatterternary"
           }
          ],
          "surface": [
           {
            "colorbar": {
             "outlinewidth": 0,
             "ticks": ""
            },
            "colorscale": [
             [
              0,
              "#0d0887"
             ],
             [
              0.1111111111111111,
              "#46039f"
             ],
             [
              0.2222222222222222,
              "#7201a8"
             ],
             [
              0.3333333333333333,
              "#9c179e"
             ],
             [
              0.4444444444444444,
              "#bd3786"
             ],
             [
              0.5555555555555556,
              "#d8576b"
             ],
             [
              0.6666666666666666,
              "#ed7953"
             ],
             [
              0.7777777777777778,
              "#fb9f3a"
             ],
             [
              0.8888888888888888,
              "#fdca26"
             ],
             [
              1,
              "#f0f921"
             ]
            ],
            "type": "surface"
           }
          ],
          "table": [
           {
            "cells": {
             "fill": {
              "color": "#EBF0F8"
             },
             "line": {
              "color": "white"
             }
            },
            "header": {
             "fill": {
              "color": "#C8D4E3"
             },
             "line": {
              "color": "white"
             }
            },
            "type": "table"
           }
          ]
         },
         "layout": {
          "annotationdefaults": {
           "arrowcolor": "#2a3f5f",
           "arrowhead": 0,
           "arrowwidth": 1
          },
          "autotypenumbers": "strict",
          "coloraxis": {
           "colorbar": {
            "outlinewidth": 0,
            "ticks": ""
           }
          },
          "colorscale": {
           "diverging": [
            [
             0,
             "#8e0152"
            ],
            [
             0.1,
             "#c51b7d"
            ],
            [
             0.2,
             "#de77ae"
            ],
            [
             0.3,
             "#f1b6da"
            ],
            [
             0.4,
             "#fde0ef"
            ],
            [
             0.5,
             "#f7f7f7"
            ],
            [
             0.6,
             "#e6f5d0"
            ],
            [
             0.7,
             "#b8e186"
            ],
            [
             0.8,
             "#7fbc41"
            ],
            [
             0.9,
             "#4d9221"
            ],
            [
             1,
             "#276419"
            ]
           ],
           "sequential": [
            [
             0,
             "#0d0887"
            ],
            [
             0.1111111111111111,
             "#46039f"
            ],
            [
             0.2222222222222222,
             "#7201a8"
            ],
            [
             0.3333333333333333,
             "#9c179e"
            ],
            [
             0.4444444444444444,
             "#bd3786"
            ],
            [
             0.5555555555555556,
             "#d8576b"
            ],
            [
             0.6666666666666666,
             "#ed7953"
            ],
            [
             0.7777777777777778,
             "#fb9f3a"
            ],
            [
             0.8888888888888888,
             "#fdca26"
            ],
            [
             1,
             "#f0f921"
            ]
           ],
           "sequentialminus": [
            [
             0,
             "#0d0887"
            ],
            [
             0.1111111111111111,
             "#46039f"
            ],
            [
             0.2222222222222222,
             "#7201a8"
            ],
            [
             0.3333333333333333,
             "#9c179e"
            ],
            [
             0.4444444444444444,
             "#bd3786"
            ],
            [
             0.5555555555555556,
             "#d8576b"
            ],
            [
             0.6666666666666666,
             "#ed7953"
            ],
            [
             0.7777777777777778,
             "#fb9f3a"
            ],
            [
             0.8888888888888888,
             "#fdca26"
            ],
            [
             1,
             "#f0f921"
            ]
           ]
          },
          "colorway": [
           "#636efa",
           "#EF553B",
           "#00cc96",
           "#ab63fa",
           "#FFA15A",
           "#19d3f3",
           "#FF6692",
           "#B6E880",
           "#FF97FF",
           "#FECB52"
          ],
          "font": {
           "color": "#2a3f5f"
          },
          "geo": {
           "bgcolor": "white",
           "lakecolor": "white",
           "landcolor": "#E5ECF6",
           "showlakes": true,
           "showland": true,
           "subunitcolor": "white"
          },
          "hoverlabel": {
           "align": "left"
          },
          "hovermode": "closest",
          "mapbox": {
           "style": "light"
          },
          "paper_bgcolor": "white",
          "plot_bgcolor": "#E5ECF6",
          "polar": {
           "angularaxis": {
            "gridcolor": "white",
            "linecolor": "white",
            "ticks": ""
           },
           "bgcolor": "#E5ECF6",
           "radialaxis": {
            "gridcolor": "white",
            "linecolor": "white",
            "ticks": ""
           }
          },
          "scene": {
           "xaxis": {
            "backgroundcolor": "#E5ECF6",
            "gridcolor": "white",
            "gridwidth": 2,
            "linecolor": "white",
            "showbackground": true,
            "ticks": "",
            "zerolinecolor": "white"
           },
           "yaxis": {
            "backgroundcolor": "#E5ECF6",
            "gridcolor": "white",
            "gridwidth": 2,
            "linecolor": "white",
            "showbackground": true,
            "ticks": "",
            "zerolinecolor": "white"
           },
           "zaxis": {
            "backgroundcolor": "#E5ECF6",
            "gridcolor": "white",
            "gridwidth": 2,
            "linecolor": "white",
            "showbackground": true,
            "ticks": "",
            "zerolinecolor": "white"
           }
          },
          "shapedefaults": {
           "line": {
            "color": "#2a3f5f"
           }
          },
          "ternary": {
           "aaxis": {
            "gridcolor": "white",
            "linecolor": "white",
            "ticks": ""
           },
           "baxis": {
            "gridcolor": "white",
            "linecolor": "white",
            "ticks": ""
           },
           "bgcolor": "#E5ECF6",
           "caxis": {
            "gridcolor": "white",
            "linecolor": "white",
            "ticks": ""
           }
          },
          "title": {
           "x": 0.05
          },
          "xaxis": {
           "automargin": true,
           "gridcolor": "white",
           "linecolor": "white",
           "ticks": "",
           "title": {
            "standoff": 15
           },
           "zerolinecolor": "white",
           "zerolinewidth": 2
          },
          "yaxis": {
           "automargin": true,
           "gridcolor": "white",
           "linecolor": "white",
           "ticks": "",
           "title": {
            "standoff": 15
           },
           "zerolinecolor": "white",
           "zerolinewidth": 2
          }
         }
        },
        "title": {
         "font": {
          "color": "#4D5663"
         }
        },
        "xaxis": {
         "gridcolor": "#E1E5ED",
         "showgrid": true,
         "tickfont": {
          "color": "#4D5663"
         },
         "title": {
          "font": {
           "color": "#4D5663"
          },
          "text": ""
         },
         "zerolinecolor": "#E1E5ED"
        },
        "yaxis": {
         "gridcolor": "#E1E5ED",
         "showgrid": true,
         "tickfont": {
          "color": "#4D5663"
         },
         "title": {
          "font": {
           "color": "#4D5663"
          },
          "text": ""
         },
         "zerolinecolor": "#E1E5ED"
        }
       }
      },
      "text/html": [
       "<div>                            <div id=\"7c77cbae-d770-41aa-b9d9-9af8aadac795\" class=\"plotly-graph-div\" style=\"height:525px; width:100%;\"></div>            <script type=\"text/javascript\">                require([\"plotly\"], function(Plotly) {                    window.PLOTLYENV=window.PLOTLYENV || {};\n",
       "                    window.PLOTLYENV.BASE_URL='https://plot.ly';                                    if (document.getElementById(\"7c77cbae-d770-41aa-b9d9-9af8aadac795\")) {                    Plotly.newPlot(                        \"7c77cbae-d770-41aa-b9d9-9af8aadac795\",                        [{\"boxpoints\":false,\"line\":{\"width\":1.3},\"marker\":{\"color\":\"rgba(255, 153, 51, 1.0)\"},\"name\":\"A\",\"orientation\":\"v\",\"type\":\"box\",\"y\":[0.25766725273870794,-0.9683683498568538,0.4079767983323879,-0.35521716328951264,0.1067697108260012,0.055264414905670536,0.16748678722052524,-0.03884642071252894,-1.9569206918568747,-0.012030065425278914,0.5147917475168186,-1.1929830986432766,-0.28630897965301283,-0.7269486914270185,-0.6042854575279359,-0.7860299666916818,-1.2232950810912862,-0.13550737994759923,-1.0734549238772075,0.24804028348226617,0.6481756930738801,-1.6101508373062166,-0.1609375642387576,-0.4537761843382195,0.6669660076254208,-0.844428975954758,0.5129831796429379,1.155804462649625,0.6941037484143968,2.325681370776554,-1.1934765913970897,-1.3331393887106655,-0.5842075563796505,0.823264907901564,0.5077909681150676,0.04079208347736599,-0.3774067504355232,1.684633944827573,0.8108285494289319,-0.9614720723440364,0.8033391836123334,1.366141053396587,1.22710335380521,0.5007861886024525,0.343001046248468,0.9821044423294414,1.058739583049605,-0.302159064903064,0.01997985590888351,-0.33131002906924917,0.2717518499836177,1.3142633549959786,-0.8617857664810039,0.1400785711199423,0.45416005353468314,-1.6845394060445138,-1.2870651849530947,-1.368366894386971,0.7796978263073777,0.8049718982440207,0.6720806332514321,0.019012236335749715,0.9820030162836629,-1.3032056716341103,0.24368134319022605,-0.11259416554794206,0.4777042747792598,0.7994237775854384,-0.5912923178386565,1.8620316169982516,1.5979147218970453,0.6982224574224856,0.06113753691724821,0.2011006952610454,-0.5264422448448134,-0.2860199234535764,1.1520711810777065,0.3853847234561283,0.8496286363248838,0.21092045657163339,0.4992727903258261,0.019602502769003088,1.479898271696008,0.13819373894873163,0.4943303710765866,0.8121478456947057,-0.920576847331459,0.10674261995226657,1.2436406766350976,0.6251502982138215,0.5576995553252935,0.15981433848144747,-0.46484952881209385,0.34931673594281165,-1.3197036618486955,2.030244713325367,1.3293527484805516,-0.6014582498008547,2.3177502612429897,0.24869161904699996]},{\"boxpoints\":false,\"line\":{\"width\":1.3},\"marker\":{\"color\":\"rgba(55, 128, 191, 1.0)\"},\"name\":\"B\",\"orientation\":\"v\",\"type\":\"box\",\"y\":[1.3248435021986862,0.05735020938283478,-1.3252283251090466,0.2037073853435116,0.11390051896740837,0.036274803977040415,0.07886059125519548,-0.2107540123227492,0.5438429832196089,-1.495186139925318,-0.2786757262126936,-2.2472868977499583,0.5401780372965783,-1.2660125619710452,2.8917618341817137,0.9135784244832255,0.8070773007502883,-0.47655287637741833,-0.6916594268489628,-0.29857439303094707,-0.5028419053588357,-1.097380972947273,0.9013779502854321,-2.0539267239812853,-0.09946671171319675,0.027103790935514682,0.910952326494662,-0.3450271482134044,-2.016022367725986,1.2318197128416584,-0.48882763052385303,-1.0985539746033637,0.1469041002146205,-1.8300962817655162,0.3295661962110016,1.5269919414554993,-0.08726602386535882,-0.2746372475405285,1.3932038032489773,-1.5396569571609415,0.27825546855211997,-1.2105974754365512,-1.117995856964468,-0.08862087958247215,-0.19882957813497953,-0.046593485481045395,-0.2823150761795257,-0.909045608470984,-1.2859323567159786,2.57780442556176,0.5784537098435818,0.28312410196352455,0.5708819331108846,0.13193351121742164,0.7251406104368086,-0.33668180850187046,-0.6109096964157493,0.18883399477521554,0.525884140083572,-0.29113233390150467,1.5467100649562053,-1.5034114282884632,1.0075308147355966,0.8120289248587333,-1.3825380096125786,1.3893557899959468,0.7225515136418575,-2.0990836574963083,-0.3329107958852471,-0.20557479439035437,1.2586533985172603,-0.3623865838613117,-1.81009497493966,-0.8144051264697689,-0.8543728528659726,0.12428063004652715,0.42154333813920025,0.8325194216703564,-1.1316678358816619,-0.6752053609299112,1.0083868733208903,1.0329358144064287,0.24154683429897433,0.20467656709517945,0.4480733678860193,-1.4973501519227976,-0.06457171959633856,-0.7267026226309786,0.38549482127688767,2.0291148776290124,-0.7242805841989912,-0.8436208979113577,-0.9355965444051567,-1.2924130300577341,-1.0832341054879675,0.40071963830041823,1.6882470669240979,-1.8897243883593906,-1.73705358562559,-1.5599300069598463]},{\"boxpoints\":false,\"line\":{\"width\":1.3},\"marker\":{\"color\":\"rgba(50, 171, 96, 1.0)\"},\"name\":\"C\",\"orientation\":\"v\",\"type\":\"box\",\"y\":[-2.361761577852779,0.5601682024555253,0.7397791306001766,-0.6623782490409087,0.6857868613529526,1.4325764368304839,-0.6046702446723863,-0.9224023716659426,-1.374858370180204,-1.4036497288762604,2.2809026918611757,-0.14793006094281821,0.13753424646413842,-0.2232675326374695,-0.3383929970868634,-0.3042114016740749,-2.0235518683305784,0.6112943301579296,0.12262932462534099,-0.5540464192991367,0.21394765086253906,-0.6342840755001222,1.5431114456139305,0.520000348435981,-0.5070277643479835,-1.32430202501762,-1.8986721120747658,-1.6127903072276566,-1.8336681094404546,-0.37874463908208617,-0.7264976899141545,-0.18953135953591352,1.000835838807099,1.1348048263560553,-2.246644046452098,-0.32131215444600014,-0.5973093329881346,-0.7168613711733985,-2.8584955120003954,2.789113453410877,0.4650310112167451,-1.6048341588683919,-1.2999450295037844,0.724368075933912,0.6605601842134327,-1.6403966595508683,-0.459508328073549,-0.5133337131873488,1.2212848371654796,3.103375971399639,1.4564409020961275,-0.44566360817361256,-0.6667837021019473,0.8649760834336663,0.18913022129124796,-0.39855900842707215,-0.3353945361522721,0.3102726463831046,-1.2817872368942829,-1.5761180255088258,1.9451888083978948,-1.3839219453105434,1.1718263853168165,-0.4363400113758351,-1.0065709153967863,-1.457183604809572,-0.17223676739963256,-0.31412797718378505,0.24725023263052143,0.7056310115827593,-0.9235051007847629,0.7517653837693907,0.4752875570000499,1.5337404272019972,-0.28544253565872163,0.640040353020628,-0.18323802609196574,-0.16975401206998655,0.07304670629250355,-0.7026185371650298,-0.7268743155257561,0.8277640495778841,-2.603861293255465,1.3069975134359773,0.9301139393275412,0.2241426217480532,-0.00934855406999004,0.5308123605970554,-0.9750164870308707,0.8632892044459971,0.1762676646661963,1.640097229898394,0.7176580381238524,-0.3623004190144998,-1.1176258416306188,0.4525957893338102,-1.1854120204386869,-0.6421062267770715,0.49012960496143854,-1.664902421214408]},{\"boxpoints\":false,\"line\":{\"width\":1.3},\"marker\":{\"color\":\"rgba(128, 0, 128, 1.0)\"},\"name\":\"D\",\"orientation\":\"v\",\"type\":\"box\",\"y\":[0.611714013887907,0.6386052403396689,-0.02477849377865895,0.6197704319247359,-1.1967377415806166,1.1720391315629168,0.8765281439054488,-1.0370592385491233,0.44021492011010355,0.17230177660561485,0.4200336292442886,-0.16107225295889302,0.7200632250852794,-2.298592389474176,0.25459428501955056,0.2542139932244251,-1.8107357042692172,-0.5108724925504359,0.41001152084386977,-1.0703118510366805,1.0216244610662364,0.9974056726181587,1.312610610063279,-1.1407814799389158,1.5480251592844323,-0.49410534648003307,2.278885873544256,0.19104047538383667,-0.47014930082533973,-1.0344998801228573,-0.10032876048732366,0.7773925219423091,0.5717920894378987,0.33987394847518954,-0.1973390537737198,1.6021603463915783,-0.18834810979770195,-0.7497884978957049,-0.9027557049861357,-0.016809405012762894,-1.8597598987950288,0.856307118575504,-0.2162447769364504,-0.205476712225501,1.683875488970458,0.4609337272646481,0.8816172290139743,-1.5292750990984212,0.9459357785069152,-0.14509817237364275,-0.16696894829690045,-0.7401778451042701,0.26927875263065426,-1.1256758417539952,-0.08988833536686605,1.2641096243953123,-0.2101147329903418,-1.1204823391590175,0.13693330967014247,-0.23803086366322063,-0.8854563237832962,0.21533140364738995,0.9663254927426982,0.07511595060091833,-0.2487169421683228,1.412511316640888,-0.0973691612271399,-0.4760956995731815,0.16454046508612838,-0.8842237914144235,-1.1596602344406595,-0.11564797255073156,-0.5850474514779618,0.5224811694375456,-1.3775956652443182,0.007969820810576162,0.28740140869153913,0.6617076518110719,-0.8460664108204242,-0.05583557468567738,0.7611148188311797,0.4847337270794526,-2.1536338798360313,-0.3390316543921442,0.29109295797409984,0.3832439726007917,-0.593143056703596,-0.10685109921118938,-0.7925989257172054,1.1161161935482944,0.15080005441430192,-0.6181883497861653,0.6251053204524084,-0.5618278147974634,-0.46915351905109376,-1.1894885930032517,-0.5933340624232508,-1.4204641235088469,-0.0008249022356199199,1.02916580415784]}],                        {\"legend\":{\"bgcolor\":\"#F5F6F9\",\"font\":{\"color\":\"#4D5663\"}},\"paper_bgcolor\":\"#F5F6F9\",\"plot_bgcolor\":\"#F5F6F9\",\"template\":{\"data\":{\"bar\":[{\"error_x\":{\"color\":\"#2a3f5f\"},\"error_y\":{\"color\":\"#2a3f5f\"},\"marker\":{\"line\":{\"color\":\"#E5ECF6\",\"width\":0.5},\"pattern\":{\"fillmode\":\"overlay\",\"size\":10,\"solidity\":0.2}},\"type\":\"bar\"}],\"barpolar\":[{\"marker\":{\"line\":{\"color\":\"#E5ECF6\",\"width\":0.5},\"pattern\":{\"fillmode\":\"overlay\",\"size\":10,\"solidity\":0.2}},\"type\":\"barpolar\"}],\"carpet\":[{\"aaxis\":{\"endlinecolor\":\"#2a3f5f\",\"gridcolor\":\"white\",\"linecolor\":\"white\",\"minorgridcolor\":\"white\",\"startlinecolor\":\"#2a3f5f\"},\"baxis\":{\"endlinecolor\":\"#2a3f5f\",\"gridcolor\":\"white\",\"linecolor\":\"white\",\"minorgridcolor\":\"white\",\"startlinecolor\":\"#2a3f5f\"},\"type\":\"carpet\"}],\"choropleth\":[{\"colorbar\":{\"outlinewidth\":0,\"ticks\":\"\"},\"type\":\"choropleth\"}],\"contour\":[{\"colorbar\":{\"outlinewidth\":0,\"ticks\":\"\"},\"colorscale\":[[0.0,\"#0d0887\"],[0.1111111111111111,\"#46039f\"],[0.2222222222222222,\"#7201a8\"],[0.3333333333333333,\"#9c179e\"],[0.4444444444444444,\"#bd3786\"],[0.5555555555555556,\"#d8576b\"],[0.6666666666666666,\"#ed7953\"],[0.7777777777777778,\"#fb9f3a\"],[0.8888888888888888,\"#fdca26\"],[1.0,\"#f0f921\"]],\"type\":\"contour\"}],\"contourcarpet\":[{\"colorbar\":{\"outlinewidth\":0,\"ticks\":\"\"},\"type\":\"contourcarpet\"}],\"heatmap\":[{\"colorbar\":{\"outlinewidth\":0,\"ticks\":\"\"},\"colorscale\":[[0.0,\"#0d0887\"],[0.1111111111111111,\"#46039f\"],[0.2222222222222222,\"#7201a8\"],[0.3333333333333333,\"#9c179e\"],[0.4444444444444444,\"#bd3786\"],[0.5555555555555556,\"#d8576b\"],[0.6666666666666666,\"#ed7953\"],[0.7777777777777778,\"#fb9f3a\"],[0.8888888888888888,\"#fdca26\"],[1.0,\"#f0f921\"]],\"type\":\"heatmap\"}],\"heatmapgl\":[{\"colorbar\":{\"outlinewidth\":0,\"ticks\":\"\"},\"colorscale\":[[0.0,\"#0d0887\"],[0.1111111111111111,\"#46039f\"],[0.2222222222222222,\"#7201a8\"],[0.3333333333333333,\"#9c179e\"],[0.4444444444444444,\"#bd3786\"],[0.5555555555555556,\"#d8576b\"],[0.6666666666666666,\"#ed7953\"],[0.7777777777777778,\"#fb9f3a\"],[0.8888888888888888,\"#fdca26\"],[1.0,\"#f0f921\"]],\"type\":\"heatmapgl\"}],\"histogram\":[{\"marker\":{\"pattern\":{\"fillmode\":\"overlay\",\"size\":10,\"solidity\":0.2}},\"type\":\"histogram\"}],\"histogram2d\":[{\"colorbar\":{\"outlinewidth\":0,\"ticks\":\"\"},\"colorscale\":[[0.0,\"#0d0887\"],[0.1111111111111111,\"#46039f\"],[0.2222222222222222,\"#7201a8\"],[0.3333333333333333,\"#9c179e\"],[0.4444444444444444,\"#bd3786\"],[0.5555555555555556,\"#d8576b\"],[0.6666666666666666,\"#ed7953\"],[0.7777777777777778,\"#fb9f3a\"],[0.8888888888888888,\"#fdca26\"],[1.0,\"#f0f921\"]],\"type\":\"histogram2d\"}],\"histogram2dcontour\":[{\"colorbar\":{\"outlinewidth\":0,\"ticks\":\"\"},\"colorscale\":[[0.0,\"#0d0887\"],[0.1111111111111111,\"#46039f\"],[0.2222222222222222,\"#7201a8\"],[0.3333333333333333,\"#9c179e\"],[0.4444444444444444,\"#bd3786\"],[0.5555555555555556,\"#d8576b\"],[0.6666666666666666,\"#ed7953\"],[0.7777777777777778,\"#fb9f3a\"],[0.8888888888888888,\"#fdca26\"],[1.0,\"#f0f921\"]],\"type\":\"histogram2dcontour\"}],\"mesh3d\":[{\"colorbar\":{\"outlinewidth\":0,\"ticks\":\"\"},\"type\":\"mesh3d\"}],\"parcoords\":[{\"line\":{\"colorbar\":{\"outlinewidth\":0,\"ticks\":\"\"}},\"type\":\"parcoords\"}],\"pie\":[{\"automargin\":true,\"type\":\"pie\"}],\"scatter\":[{\"marker\":{\"colorbar\":{\"outlinewidth\":0,\"ticks\":\"\"}},\"type\":\"scatter\"}],\"scatter3d\":[{\"line\":{\"colorbar\":{\"outlinewidth\":0,\"ticks\":\"\"}},\"marker\":{\"colorbar\":{\"outlinewidth\":0,\"ticks\":\"\"}},\"type\":\"scatter3d\"}],\"scattercarpet\":[{\"marker\":{\"colorbar\":{\"outlinewidth\":0,\"ticks\":\"\"}},\"type\":\"scattercarpet\"}],\"scattergeo\":[{\"marker\":{\"colorbar\":{\"outlinewidth\":0,\"ticks\":\"\"}},\"type\":\"scattergeo\"}],\"scattergl\":[{\"marker\":{\"colorbar\":{\"outlinewidth\":0,\"ticks\":\"\"}},\"type\":\"scattergl\"}],\"scattermapbox\":[{\"marker\":{\"colorbar\":{\"outlinewidth\":0,\"ticks\":\"\"}},\"type\":\"scattermapbox\"}],\"scatterpolar\":[{\"marker\":{\"colorbar\":{\"outlinewidth\":0,\"ticks\":\"\"}},\"type\":\"scatterpolar\"}],\"scatterpolargl\":[{\"marker\":{\"colorbar\":{\"outlinewidth\":0,\"ticks\":\"\"}},\"type\":\"scatterpolargl\"}],\"scatterternary\":[{\"marker\":{\"colorbar\":{\"outlinewidth\":0,\"ticks\":\"\"}},\"type\":\"scatterternary\"}],\"surface\":[{\"colorbar\":{\"outlinewidth\":0,\"ticks\":\"\"},\"colorscale\":[[0.0,\"#0d0887\"],[0.1111111111111111,\"#46039f\"],[0.2222222222222222,\"#7201a8\"],[0.3333333333333333,\"#9c179e\"],[0.4444444444444444,\"#bd3786\"],[0.5555555555555556,\"#d8576b\"],[0.6666666666666666,\"#ed7953\"],[0.7777777777777778,\"#fb9f3a\"],[0.8888888888888888,\"#fdca26\"],[1.0,\"#f0f921\"]],\"type\":\"surface\"}],\"table\":[{\"cells\":{\"fill\":{\"color\":\"#EBF0F8\"},\"line\":{\"color\":\"white\"}},\"header\":{\"fill\":{\"color\":\"#C8D4E3\"},\"line\":{\"color\":\"white\"}},\"type\":\"table\"}]},\"layout\":{\"annotationdefaults\":{\"arrowcolor\":\"#2a3f5f\",\"arrowhead\":0,\"arrowwidth\":1},\"autotypenumbers\":\"strict\",\"coloraxis\":{\"colorbar\":{\"outlinewidth\":0,\"ticks\":\"\"}},\"colorscale\":{\"diverging\":[[0,\"#8e0152\"],[0.1,\"#c51b7d\"],[0.2,\"#de77ae\"],[0.3,\"#f1b6da\"],[0.4,\"#fde0ef\"],[0.5,\"#f7f7f7\"],[0.6,\"#e6f5d0\"],[0.7,\"#b8e186\"],[0.8,\"#7fbc41\"],[0.9,\"#4d9221\"],[1,\"#276419\"]],\"sequential\":[[0.0,\"#0d0887\"],[0.1111111111111111,\"#46039f\"],[0.2222222222222222,\"#7201a8\"],[0.3333333333333333,\"#9c179e\"],[0.4444444444444444,\"#bd3786\"],[0.5555555555555556,\"#d8576b\"],[0.6666666666666666,\"#ed7953\"],[0.7777777777777778,\"#fb9f3a\"],[0.8888888888888888,\"#fdca26\"],[1.0,\"#f0f921\"]],\"sequentialminus\":[[0.0,\"#0d0887\"],[0.1111111111111111,\"#46039f\"],[0.2222222222222222,\"#7201a8\"],[0.3333333333333333,\"#9c179e\"],[0.4444444444444444,\"#bd3786\"],[0.5555555555555556,\"#d8576b\"],[0.6666666666666666,\"#ed7953\"],[0.7777777777777778,\"#fb9f3a\"],[0.8888888888888888,\"#fdca26\"],[1.0,\"#f0f921\"]]},\"colorway\":[\"#636efa\",\"#EF553B\",\"#00cc96\",\"#ab63fa\",\"#FFA15A\",\"#19d3f3\",\"#FF6692\",\"#B6E880\",\"#FF97FF\",\"#FECB52\"],\"font\":{\"color\":\"#2a3f5f\"},\"geo\":{\"bgcolor\":\"white\",\"lakecolor\":\"white\",\"landcolor\":\"#E5ECF6\",\"showlakes\":true,\"showland\":true,\"subunitcolor\":\"white\"},\"hoverlabel\":{\"align\":\"left\"},\"hovermode\":\"closest\",\"mapbox\":{\"style\":\"light\"},\"paper_bgcolor\":\"white\",\"plot_bgcolor\":\"#E5ECF6\",\"polar\":{\"angularaxis\":{\"gridcolor\":\"white\",\"linecolor\":\"white\",\"ticks\":\"\"},\"bgcolor\":\"#E5ECF6\",\"radialaxis\":{\"gridcolor\":\"white\",\"linecolor\":\"white\",\"ticks\":\"\"}},\"scene\":{\"xaxis\":{\"backgroundcolor\":\"#E5ECF6\",\"gridcolor\":\"white\",\"gridwidth\":2,\"linecolor\":\"white\",\"showbackground\":true,\"ticks\":\"\",\"zerolinecolor\":\"white\"},\"yaxis\":{\"backgroundcolor\":\"#E5ECF6\",\"gridcolor\":\"white\",\"gridwidth\":2,\"linecolor\":\"white\",\"showbackground\":true,\"ticks\":\"\",\"zerolinecolor\":\"white\"},\"zaxis\":{\"backgroundcolor\":\"#E5ECF6\",\"gridcolor\":\"white\",\"gridwidth\":2,\"linecolor\":\"white\",\"showbackground\":true,\"ticks\":\"\",\"zerolinecolor\":\"white\"}},\"shapedefaults\":{\"line\":{\"color\":\"#2a3f5f\"}},\"ternary\":{\"aaxis\":{\"gridcolor\":\"white\",\"linecolor\":\"white\",\"ticks\":\"\"},\"baxis\":{\"gridcolor\":\"white\",\"linecolor\":\"white\",\"ticks\":\"\"},\"bgcolor\":\"#E5ECF6\",\"caxis\":{\"gridcolor\":\"white\",\"linecolor\":\"white\",\"ticks\":\"\"}},\"title\":{\"x\":0.05},\"xaxis\":{\"automargin\":true,\"gridcolor\":\"white\",\"linecolor\":\"white\",\"ticks\":\"\",\"title\":{\"standoff\":15},\"zerolinecolor\":\"white\",\"zerolinewidth\":2},\"yaxis\":{\"automargin\":true,\"gridcolor\":\"white\",\"linecolor\":\"white\",\"ticks\":\"\",\"title\":{\"standoff\":15},\"zerolinecolor\":\"white\",\"zerolinewidth\":2}}},\"title\":{\"font\":{\"color\":\"#4D5663\"}},\"xaxis\":{\"gridcolor\":\"#E1E5ED\",\"showgrid\":true,\"tickfont\":{\"color\":\"#4D5663\"},\"title\":{\"font\":{\"color\":\"#4D5663\"},\"text\":\"\"},\"zerolinecolor\":\"#E1E5ED\"},\"yaxis\":{\"gridcolor\":\"#E1E5ED\",\"showgrid\":true,\"tickfont\":{\"color\":\"#4D5663\"},\"title\":{\"font\":{\"color\":\"#4D5663\"},\"text\":\"\"},\"zerolinecolor\":\"#E1E5ED\"}},                        {\"showLink\": true, \"linkText\": \"Export to plot.ly\", \"plotlyServerURL\": \"https://plot.ly\", \"responsive\": true}                    ).then(function(){\n",
       "                            \n",
       "var gd = document.getElementById('7c77cbae-d770-41aa-b9d9-9af8aadac795');\n",
       "var x = new MutationObserver(function (mutations, observer) {{\n",
       "        var display = window.getComputedStyle(gd).display;\n",
       "        if (!display || display === 'none') {{\n",
       "            console.log([gd, 'removed!']);\n",
       "            Plotly.purge(gd);\n",
       "            observer.disconnect();\n",
       "        }}\n",
       "}});\n",
       "\n",
       "// Listen for the removal of the full notebook cells\n",
       "var notebookContainer = gd.closest('#notebook-container');\n",
       "if (notebookContainer) {{\n",
       "    x.observe(notebookContainer, {childList: true});\n",
       "}}\n",
       "\n",
       "// Listen for the clearing of the current output cell\n",
       "var outputEl = gd.closest('.output');\n",
       "if (outputEl) {{\n",
       "    x.observe(outputEl, {childList: true});\n",
       "}}\n",
       "\n",
       "                        })                };                });            </script>        </div>"
      ]
     },
     "metadata": {},
     "output_type": "display_data"
    }
   ],
   "source": [
    "df.iplot(kind='box')"
   ]
  },
  {
   "cell_type": "code",
   "execution_count": 22,
   "id": "4a2a5bd4",
   "metadata": {},
   "outputs": [],
   "source": [
    "df3 = pd.DataFrame({'X':[1,2,3,4,5],'Y':[10,20,30,20,10],'Z':[60,70,80,70,60]})"
   ]
  },
  {
   "cell_type": "code",
   "execution_count": 23,
   "id": "0b24f0dc",
   "metadata": {},
   "outputs": [
    {
     "data": {
      "text/html": [
       "<div>\n",
       "<style scoped>\n",
       "    .dataframe tbody tr th:only-of-type {\n",
       "        vertical-align: middle;\n",
       "    }\n",
       "\n",
       "    .dataframe tbody tr th {\n",
       "        vertical-align: top;\n",
       "    }\n",
       "\n",
       "    .dataframe thead th {\n",
       "        text-align: right;\n",
       "    }\n",
       "</style>\n",
       "<table border=\"1\" class=\"dataframe\">\n",
       "  <thead>\n",
       "    <tr style=\"text-align: right;\">\n",
       "      <th></th>\n",
       "      <th>X</th>\n",
       "      <th>Y</th>\n",
       "      <th>Z</th>\n",
       "    </tr>\n",
       "  </thead>\n",
       "  <tbody>\n",
       "    <tr>\n",
       "      <th>0</th>\n",
       "      <td>1</td>\n",
       "      <td>10</td>\n",
       "      <td>60</td>\n",
       "    </tr>\n",
       "    <tr>\n",
       "      <th>1</th>\n",
       "      <td>2</td>\n",
       "      <td>20</td>\n",
       "      <td>70</td>\n",
       "    </tr>\n",
       "    <tr>\n",
       "      <th>2</th>\n",
       "      <td>3</td>\n",
       "      <td>30</td>\n",
       "      <td>80</td>\n",
       "    </tr>\n",
       "    <tr>\n",
       "      <th>3</th>\n",
       "      <td>4</td>\n",
       "      <td>20</td>\n",
       "      <td>70</td>\n",
       "    </tr>\n",
       "    <tr>\n",
       "      <th>4</th>\n",
       "      <td>5</td>\n",
       "      <td>10</td>\n",
       "      <td>60</td>\n",
       "    </tr>\n",
       "  </tbody>\n",
       "</table>\n",
       "</div>"
      ],
      "text/plain": [
       "   X   Y   Z\n",
       "0  1  10  60\n",
       "1  2  20  70\n",
       "2  3  30  80\n",
       "3  4  20  70\n",
       "4  5  10  60"
      ]
     },
     "execution_count": 23,
     "metadata": {},
     "output_type": "execute_result"
    }
   ],
   "source": [
    "df3.head()"
   ]
  },
  {
   "cell_type": "code",
   "execution_count": 24,
   "id": "52bb652e",
   "metadata": {},
   "outputs": [
    {
     "data": {
      "application/vnd.plotly.v1+json": {
       "config": {
        "linkText": "Export to plot.ly",
        "plotlyServerURL": "https://plot.ly",
        "showLink": true
       },
       "data": [
        {
         "colorscale": [
          [
           0,
           "rgb(255, 153, 51)"
          ],
          [
           0.1111111111111111,
           "rgb(55, 128, 191)"
          ],
          [
           0.2222222222222222,
           "rgb(50, 171, 96)"
          ],
          [
           0.3333333333333333,
           "rgb(128, 0, 128)"
          ],
          [
           0.4444444444444444,
           "rgb(219, 64, 82)"
          ],
          [
           0.5555555555555556,
           "rgb(0, 128, 128)"
          ],
          [
           0.6666666666666666,
           "rgb(255, 255, 51)"
          ],
          [
           0.7777777777777778,
           "rgb(128, 128, 0)"
          ],
          [
           0.8888888888888888,
           "rgb(251, 128, 114)"
          ],
          [
           1,
           "rgb(128, 177, 211)"
          ]
         ],
         "type": "surface",
         "x": [
          0,
          1,
          2,
          3,
          4
         ],
         "y": [
          "X",
          "Y",
          "Z"
         ],
         "z": [
          [
           1,
           2,
           3,
           4,
           5
          ],
          [
           10,
           20,
           30,
           20,
           10
          ],
          [
           60,
           70,
           80,
           70,
           60
          ]
         ]
        }
       ],
       "layout": {
        "legend": {
         "bgcolor": "#F5F6F9",
         "font": {
          "color": "#4D5663"
         }
        },
        "paper_bgcolor": "#F5F6F9",
        "plot_bgcolor": "#F5F6F9",
        "template": {
         "data": {
          "bar": [
           {
            "error_x": {
             "color": "#2a3f5f"
            },
            "error_y": {
             "color": "#2a3f5f"
            },
            "marker": {
             "line": {
              "color": "#E5ECF6",
              "width": 0.5
             },
             "pattern": {
              "fillmode": "overlay",
              "size": 10,
              "solidity": 0.2
             }
            },
            "type": "bar"
           }
          ],
          "barpolar": [
           {
            "marker": {
             "line": {
              "color": "#E5ECF6",
              "width": 0.5
             },
             "pattern": {
              "fillmode": "overlay",
              "size": 10,
              "solidity": 0.2
             }
            },
            "type": "barpolar"
           }
          ],
          "carpet": [
           {
            "aaxis": {
             "endlinecolor": "#2a3f5f",
             "gridcolor": "white",
             "linecolor": "white",
             "minorgridcolor": "white",
             "startlinecolor": "#2a3f5f"
            },
            "baxis": {
             "endlinecolor": "#2a3f5f",
             "gridcolor": "white",
             "linecolor": "white",
             "minorgridcolor": "white",
             "startlinecolor": "#2a3f5f"
            },
            "type": "carpet"
           }
          ],
          "choropleth": [
           {
            "colorbar": {
             "outlinewidth": 0,
             "ticks": ""
            },
            "type": "choropleth"
           }
          ],
          "contour": [
           {
            "colorbar": {
             "outlinewidth": 0,
             "ticks": ""
            },
            "colorscale": [
             [
              0,
              "#0d0887"
             ],
             [
              0.1111111111111111,
              "#46039f"
             ],
             [
              0.2222222222222222,
              "#7201a8"
             ],
             [
              0.3333333333333333,
              "#9c179e"
             ],
             [
              0.4444444444444444,
              "#bd3786"
             ],
             [
              0.5555555555555556,
              "#d8576b"
             ],
             [
              0.6666666666666666,
              "#ed7953"
             ],
             [
              0.7777777777777778,
              "#fb9f3a"
             ],
             [
              0.8888888888888888,
              "#fdca26"
             ],
             [
              1,
              "#f0f921"
             ]
            ],
            "type": "contour"
           }
          ],
          "contourcarpet": [
           {
            "colorbar": {
             "outlinewidth": 0,
             "ticks": ""
            },
            "type": "contourcarpet"
           }
          ],
          "heatmap": [
           {
            "colorbar": {
             "outlinewidth": 0,
             "ticks": ""
            },
            "colorscale": [
             [
              0,
              "#0d0887"
             ],
             [
              0.1111111111111111,
              "#46039f"
             ],
             [
              0.2222222222222222,
              "#7201a8"
             ],
             [
              0.3333333333333333,
              "#9c179e"
             ],
             [
              0.4444444444444444,
              "#bd3786"
             ],
             [
              0.5555555555555556,
              "#d8576b"
             ],
             [
              0.6666666666666666,
              "#ed7953"
             ],
             [
              0.7777777777777778,
              "#fb9f3a"
             ],
             [
              0.8888888888888888,
              "#fdca26"
             ],
             [
              1,
              "#f0f921"
             ]
            ],
            "type": "heatmap"
           }
          ],
          "heatmapgl": [
           {
            "colorbar": {
             "outlinewidth": 0,
             "ticks": ""
            },
            "colorscale": [
             [
              0,
              "#0d0887"
             ],
             [
              0.1111111111111111,
              "#46039f"
             ],
             [
              0.2222222222222222,
              "#7201a8"
             ],
             [
              0.3333333333333333,
              "#9c179e"
             ],
             [
              0.4444444444444444,
              "#bd3786"
             ],
             [
              0.5555555555555556,
              "#d8576b"
             ],
             [
              0.6666666666666666,
              "#ed7953"
             ],
             [
              0.7777777777777778,
              "#fb9f3a"
             ],
             [
              0.8888888888888888,
              "#fdca26"
             ],
             [
              1,
              "#f0f921"
             ]
            ],
            "type": "heatmapgl"
           }
          ],
          "histogram": [
           {
            "marker": {
             "pattern": {
              "fillmode": "overlay",
              "size": 10,
              "solidity": 0.2
             }
            },
            "type": "histogram"
           }
          ],
          "histogram2d": [
           {
            "colorbar": {
             "outlinewidth": 0,
             "ticks": ""
            },
            "colorscale": [
             [
              0,
              "#0d0887"
             ],
             [
              0.1111111111111111,
              "#46039f"
             ],
             [
              0.2222222222222222,
              "#7201a8"
             ],
             [
              0.3333333333333333,
              "#9c179e"
             ],
             [
              0.4444444444444444,
              "#bd3786"
             ],
             [
              0.5555555555555556,
              "#d8576b"
             ],
             [
              0.6666666666666666,
              "#ed7953"
             ],
             [
              0.7777777777777778,
              "#fb9f3a"
             ],
             [
              0.8888888888888888,
              "#fdca26"
             ],
             [
              1,
              "#f0f921"
             ]
            ],
            "type": "histogram2d"
           }
          ],
          "histogram2dcontour": [
           {
            "colorbar": {
             "outlinewidth": 0,
             "ticks": ""
            },
            "colorscale": [
             [
              0,
              "#0d0887"
             ],
             [
              0.1111111111111111,
              "#46039f"
             ],
             [
              0.2222222222222222,
              "#7201a8"
             ],
             [
              0.3333333333333333,
              "#9c179e"
             ],
             [
              0.4444444444444444,
              "#bd3786"
             ],
             [
              0.5555555555555556,
              "#d8576b"
             ],
             [
              0.6666666666666666,
              "#ed7953"
             ],
             [
              0.7777777777777778,
              "#fb9f3a"
             ],
             [
              0.8888888888888888,
              "#fdca26"
             ],
             [
              1,
              "#f0f921"
             ]
            ],
            "type": "histogram2dcontour"
           }
          ],
          "mesh3d": [
           {
            "colorbar": {
             "outlinewidth": 0,
             "ticks": ""
            },
            "type": "mesh3d"
           }
          ],
          "parcoords": [
           {
            "line": {
             "colorbar": {
              "outlinewidth": 0,
              "ticks": ""
             }
            },
            "type": "parcoords"
           }
          ],
          "pie": [
           {
            "automargin": true,
            "type": "pie"
           }
          ],
          "scatter": [
           {
            "marker": {
             "colorbar": {
              "outlinewidth": 0,
              "ticks": ""
             }
            },
            "type": "scatter"
           }
          ],
          "scatter3d": [
           {
            "line": {
             "colorbar": {
              "outlinewidth": 0,
              "ticks": ""
             }
            },
            "marker": {
             "colorbar": {
              "outlinewidth": 0,
              "ticks": ""
             }
            },
            "type": "scatter3d"
           }
          ],
          "scattercarpet": [
           {
            "marker": {
             "colorbar": {
              "outlinewidth": 0,
              "ticks": ""
             }
            },
            "type": "scattercarpet"
           }
          ],
          "scattergeo": [
           {
            "marker": {
             "colorbar": {
              "outlinewidth": 0,
              "ticks": ""
             }
            },
            "type": "scattergeo"
           }
          ],
          "scattergl": [
           {
            "marker": {
             "colorbar": {
              "outlinewidth": 0,
              "ticks": ""
             }
            },
            "type": "scattergl"
           }
          ],
          "scattermapbox": [
           {
            "marker": {
             "colorbar": {
              "outlinewidth": 0,
              "ticks": ""
             }
            },
            "type": "scattermapbox"
           }
          ],
          "scatterpolar": [
           {
            "marker": {
             "colorbar": {
              "outlinewidth": 0,
              "ticks": ""
             }
            },
            "type": "scatterpolar"
           }
          ],
          "scatterpolargl": [
           {
            "marker": {
             "colorbar": {
              "outlinewidth": 0,
              "ticks": ""
             }
            },
            "type": "scatterpolargl"
           }
          ],
          "scatterternary": [
           {
            "marker": {
             "colorbar": {
              "outlinewidth": 0,
              "ticks": ""
             }
            },
            "type": "scatterternary"
           }
          ],
          "surface": [
           {
            "colorbar": {
             "outlinewidth": 0,
             "ticks": ""
            },
            "colorscale": [
             [
              0,
              "#0d0887"
             ],
             [
              0.1111111111111111,
              "#46039f"
             ],
             [
              0.2222222222222222,
              "#7201a8"
             ],
             [
              0.3333333333333333,
              "#9c179e"
             ],
             [
              0.4444444444444444,
              "#bd3786"
             ],
             [
              0.5555555555555556,
              "#d8576b"
             ],
             [
              0.6666666666666666,
              "#ed7953"
             ],
             [
              0.7777777777777778,
              "#fb9f3a"
             ],
             [
              0.8888888888888888,
              "#fdca26"
             ],
             [
              1,
              "#f0f921"
             ]
            ],
            "type": "surface"
           }
          ],
          "table": [
           {
            "cells": {
             "fill": {
              "color": "#EBF0F8"
             },
             "line": {
              "color": "white"
             }
            },
            "header": {
             "fill": {
              "color": "#C8D4E3"
             },
             "line": {
              "color": "white"
             }
            },
            "type": "table"
           }
          ]
         },
         "layout": {
          "annotationdefaults": {
           "arrowcolor": "#2a3f5f",
           "arrowhead": 0,
           "arrowwidth": 1
          },
          "autotypenumbers": "strict",
          "coloraxis": {
           "colorbar": {
            "outlinewidth": 0,
            "ticks": ""
           }
          },
          "colorscale": {
           "diverging": [
            [
             0,
             "#8e0152"
            ],
            [
             0.1,
             "#c51b7d"
            ],
            [
             0.2,
             "#de77ae"
            ],
            [
             0.3,
             "#f1b6da"
            ],
            [
             0.4,
             "#fde0ef"
            ],
            [
             0.5,
             "#f7f7f7"
            ],
            [
             0.6,
             "#e6f5d0"
            ],
            [
             0.7,
             "#b8e186"
            ],
            [
             0.8,
             "#7fbc41"
            ],
            [
             0.9,
             "#4d9221"
            ],
            [
             1,
             "#276419"
            ]
           ],
           "sequential": [
            [
             0,
             "#0d0887"
            ],
            [
             0.1111111111111111,
             "#46039f"
            ],
            [
             0.2222222222222222,
             "#7201a8"
            ],
            [
             0.3333333333333333,
             "#9c179e"
            ],
            [
             0.4444444444444444,
             "#bd3786"
            ],
            [
             0.5555555555555556,
             "#d8576b"
            ],
            [
             0.6666666666666666,
             "#ed7953"
            ],
            [
             0.7777777777777778,
             "#fb9f3a"
            ],
            [
             0.8888888888888888,
             "#fdca26"
            ],
            [
             1,
             "#f0f921"
            ]
           ],
           "sequentialminus": [
            [
             0,
             "#0d0887"
            ],
            [
             0.1111111111111111,
             "#46039f"
            ],
            [
             0.2222222222222222,
             "#7201a8"
            ],
            [
             0.3333333333333333,
             "#9c179e"
            ],
            [
             0.4444444444444444,
             "#bd3786"
            ],
            [
             0.5555555555555556,
             "#d8576b"
            ],
            [
             0.6666666666666666,
             "#ed7953"
            ],
            [
             0.7777777777777778,
             "#fb9f3a"
            ],
            [
             0.8888888888888888,
             "#fdca26"
            ],
            [
             1,
             "#f0f921"
            ]
           ]
          },
          "colorway": [
           "#636efa",
           "#EF553B",
           "#00cc96",
           "#ab63fa",
           "#FFA15A",
           "#19d3f3",
           "#FF6692",
           "#B6E880",
           "#FF97FF",
           "#FECB52"
          ],
          "font": {
           "color": "#2a3f5f"
          },
          "geo": {
           "bgcolor": "white",
           "lakecolor": "white",
           "landcolor": "#E5ECF6",
           "showlakes": true,
           "showland": true,
           "subunitcolor": "white"
          },
          "hoverlabel": {
           "align": "left"
          },
          "hovermode": "closest",
          "mapbox": {
           "style": "light"
          },
          "paper_bgcolor": "white",
          "plot_bgcolor": "#E5ECF6",
          "polar": {
           "angularaxis": {
            "gridcolor": "white",
            "linecolor": "white",
            "ticks": ""
           },
           "bgcolor": "#E5ECF6",
           "radialaxis": {
            "gridcolor": "white",
            "linecolor": "white",
            "ticks": ""
           }
          },
          "scene": {
           "xaxis": {
            "backgroundcolor": "#E5ECF6",
            "gridcolor": "white",
            "gridwidth": 2,
            "linecolor": "white",
            "showbackground": true,
            "ticks": "",
            "zerolinecolor": "white"
           },
           "yaxis": {
            "backgroundcolor": "#E5ECF6",
            "gridcolor": "white",
            "gridwidth": 2,
            "linecolor": "white",
            "showbackground": true,
            "ticks": "",
            "zerolinecolor": "white"
           },
           "zaxis": {
            "backgroundcolor": "#E5ECF6",
            "gridcolor": "white",
            "gridwidth": 2,
            "linecolor": "white",
            "showbackground": true,
            "ticks": "",
            "zerolinecolor": "white"
           }
          },
          "shapedefaults": {
           "line": {
            "color": "#2a3f5f"
           }
          },
          "ternary": {
           "aaxis": {
            "gridcolor": "white",
            "linecolor": "white",
            "ticks": ""
           },
           "baxis": {
            "gridcolor": "white",
            "linecolor": "white",
            "ticks": ""
           },
           "bgcolor": "#E5ECF6",
           "caxis": {
            "gridcolor": "white",
            "linecolor": "white",
            "ticks": ""
           }
          },
          "title": {
           "x": 0.05
          },
          "xaxis": {
           "automargin": true,
           "gridcolor": "white",
           "linecolor": "white",
           "ticks": "",
           "title": {
            "standoff": 15
           },
           "zerolinecolor": "white",
           "zerolinewidth": 2
          },
          "yaxis": {
           "automargin": true,
           "gridcolor": "white",
           "linecolor": "white",
           "ticks": "",
           "title": {
            "standoff": 15
           },
           "zerolinecolor": "white",
           "zerolinewidth": 2
          }
         }
        },
        "title": {
         "font": {
          "color": "#4D5663"
         }
        },
        "xaxis": {
         "gridcolor": "#E1E5ED",
         "showgrid": true,
         "tickfont": {
          "color": "#4D5663"
         },
         "title": {
          "font": {
           "color": "#4D5663"
          },
          "text": ""
         },
         "zerolinecolor": "#E1E5ED"
        },
        "yaxis": {
         "gridcolor": "#E1E5ED",
         "showgrid": true,
         "tickfont": {
          "color": "#4D5663"
         },
         "title": {
          "font": {
           "color": "#4D5663"
          },
          "text": ""
         },
         "zerolinecolor": "#E1E5ED"
        }
       }
      },
      "text/html": [
       "<div>                            <div id=\"e888a7de-1cb1-424a-9174-b03e88444687\" class=\"plotly-graph-div\" style=\"height:525px; width:100%;\"></div>            <script type=\"text/javascript\">                require([\"plotly\"], function(Plotly) {                    window.PLOTLYENV=window.PLOTLYENV || {};\n",
       "                    window.PLOTLYENV.BASE_URL='https://plot.ly';                                    if (document.getElementById(\"e888a7de-1cb1-424a-9174-b03e88444687\")) {                    Plotly.newPlot(                        \"e888a7de-1cb1-424a-9174-b03e88444687\",                        [{\"colorscale\":[[0.0,\"rgb(255, 153, 51)\"],[0.1111111111111111,\"rgb(55, 128, 191)\"],[0.2222222222222222,\"rgb(50, 171, 96)\"],[0.3333333333333333,\"rgb(128, 0, 128)\"],[0.4444444444444444,\"rgb(219, 64, 82)\"],[0.5555555555555556,\"rgb(0, 128, 128)\"],[0.6666666666666666,\"rgb(255, 255, 51)\"],[0.7777777777777778,\"rgb(128, 128, 0)\"],[0.8888888888888888,\"rgb(251, 128, 114)\"],[1.0,\"rgb(128, 177, 211)\"]],\"type\":\"surface\",\"x\":[0,1,2,3,4],\"y\":[\"X\",\"Y\",\"Z\"],\"z\":[[1,2,3,4,5],[10,20,30,20,10],[60,70,80,70,60]]}],                        {\"legend\":{\"bgcolor\":\"#F5F6F9\",\"font\":{\"color\":\"#4D5663\"}},\"paper_bgcolor\":\"#F5F6F9\",\"plot_bgcolor\":\"#F5F6F9\",\"template\":{\"data\":{\"bar\":[{\"error_x\":{\"color\":\"#2a3f5f\"},\"error_y\":{\"color\":\"#2a3f5f\"},\"marker\":{\"line\":{\"color\":\"#E5ECF6\",\"width\":0.5},\"pattern\":{\"fillmode\":\"overlay\",\"size\":10,\"solidity\":0.2}},\"type\":\"bar\"}],\"barpolar\":[{\"marker\":{\"line\":{\"color\":\"#E5ECF6\",\"width\":0.5},\"pattern\":{\"fillmode\":\"overlay\",\"size\":10,\"solidity\":0.2}},\"type\":\"barpolar\"}],\"carpet\":[{\"aaxis\":{\"endlinecolor\":\"#2a3f5f\",\"gridcolor\":\"white\",\"linecolor\":\"white\",\"minorgridcolor\":\"white\",\"startlinecolor\":\"#2a3f5f\"},\"baxis\":{\"endlinecolor\":\"#2a3f5f\",\"gridcolor\":\"white\",\"linecolor\":\"white\",\"minorgridcolor\":\"white\",\"startlinecolor\":\"#2a3f5f\"},\"type\":\"carpet\"}],\"choropleth\":[{\"colorbar\":{\"outlinewidth\":0,\"ticks\":\"\"},\"type\":\"choropleth\"}],\"contour\":[{\"colorbar\":{\"outlinewidth\":0,\"ticks\":\"\"},\"colorscale\":[[0.0,\"#0d0887\"],[0.1111111111111111,\"#46039f\"],[0.2222222222222222,\"#7201a8\"],[0.3333333333333333,\"#9c179e\"],[0.4444444444444444,\"#bd3786\"],[0.5555555555555556,\"#d8576b\"],[0.6666666666666666,\"#ed7953\"],[0.7777777777777778,\"#fb9f3a\"],[0.8888888888888888,\"#fdca26\"],[1.0,\"#f0f921\"]],\"type\":\"contour\"}],\"contourcarpet\":[{\"colorbar\":{\"outlinewidth\":0,\"ticks\":\"\"},\"type\":\"contourcarpet\"}],\"heatmap\":[{\"colorbar\":{\"outlinewidth\":0,\"ticks\":\"\"},\"colorscale\":[[0.0,\"#0d0887\"],[0.1111111111111111,\"#46039f\"],[0.2222222222222222,\"#7201a8\"],[0.3333333333333333,\"#9c179e\"],[0.4444444444444444,\"#bd3786\"],[0.5555555555555556,\"#d8576b\"],[0.6666666666666666,\"#ed7953\"],[0.7777777777777778,\"#fb9f3a\"],[0.8888888888888888,\"#fdca26\"],[1.0,\"#f0f921\"]],\"type\":\"heatmap\"}],\"heatmapgl\":[{\"colorbar\":{\"outlinewidth\":0,\"ticks\":\"\"},\"colorscale\":[[0.0,\"#0d0887\"],[0.1111111111111111,\"#46039f\"],[0.2222222222222222,\"#7201a8\"],[0.3333333333333333,\"#9c179e\"],[0.4444444444444444,\"#bd3786\"],[0.5555555555555556,\"#d8576b\"],[0.6666666666666666,\"#ed7953\"],[0.7777777777777778,\"#fb9f3a\"],[0.8888888888888888,\"#fdca26\"],[1.0,\"#f0f921\"]],\"type\":\"heatmapgl\"}],\"histogram\":[{\"marker\":{\"pattern\":{\"fillmode\":\"overlay\",\"size\":10,\"solidity\":0.2}},\"type\":\"histogram\"}],\"histogram2d\":[{\"colorbar\":{\"outlinewidth\":0,\"ticks\":\"\"},\"colorscale\":[[0.0,\"#0d0887\"],[0.1111111111111111,\"#46039f\"],[0.2222222222222222,\"#7201a8\"],[0.3333333333333333,\"#9c179e\"],[0.4444444444444444,\"#bd3786\"],[0.5555555555555556,\"#d8576b\"],[0.6666666666666666,\"#ed7953\"],[0.7777777777777778,\"#fb9f3a\"],[0.8888888888888888,\"#fdca26\"],[1.0,\"#f0f921\"]],\"type\":\"histogram2d\"}],\"histogram2dcontour\":[{\"colorbar\":{\"outlinewidth\":0,\"ticks\":\"\"},\"colorscale\":[[0.0,\"#0d0887\"],[0.1111111111111111,\"#46039f\"],[0.2222222222222222,\"#7201a8\"],[0.3333333333333333,\"#9c179e\"],[0.4444444444444444,\"#bd3786\"],[0.5555555555555556,\"#d8576b\"],[0.6666666666666666,\"#ed7953\"],[0.7777777777777778,\"#fb9f3a\"],[0.8888888888888888,\"#fdca26\"],[1.0,\"#f0f921\"]],\"type\":\"histogram2dcontour\"}],\"mesh3d\":[{\"colorbar\":{\"outlinewidth\":0,\"ticks\":\"\"},\"type\":\"mesh3d\"}],\"parcoords\":[{\"line\":{\"colorbar\":{\"outlinewidth\":0,\"ticks\":\"\"}},\"type\":\"parcoords\"}],\"pie\":[{\"automargin\":true,\"type\":\"pie\"}],\"scatter\":[{\"marker\":{\"colorbar\":{\"outlinewidth\":0,\"ticks\":\"\"}},\"type\":\"scatter\"}],\"scatter3d\":[{\"line\":{\"colorbar\":{\"outlinewidth\":0,\"ticks\":\"\"}},\"marker\":{\"colorbar\":{\"outlinewidth\":0,\"ticks\":\"\"}},\"type\":\"scatter3d\"}],\"scattercarpet\":[{\"marker\":{\"colorbar\":{\"outlinewidth\":0,\"ticks\":\"\"}},\"type\":\"scattercarpet\"}],\"scattergeo\":[{\"marker\":{\"colorbar\":{\"outlinewidth\":0,\"ticks\":\"\"}},\"type\":\"scattergeo\"}],\"scattergl\":[{\"marker\":{\"colorbar\":{\"outlinewidth\":0,\"ticks\":\"\"}},\"type\":\"scattergl\"}],\"scattermapbox\":[{\"marker\":{\"colorbar\":{\"outlinewidth\":0,\"ticks\":\"\"}},\"type\":\"scattermapbox\"}],\"scatterpolar\":[{\"marker\":{\"colorbar\":{\"outlinewidth\":0,\"ticks\":\"\"}},\"type\":\"scatterpolar\"}],\"scatterpolargl\":[{\"marker\":{\"colorbar\":{\"outlinewidth\":0,\"ticks\":\"\"}},\"type\":\"scatterpolargl\"}],\"scatterternary\":[{\"marker\":{\"colorbar\":{\"outlinewidth\":0,\"ticks\":\"\"}},\"type\":\"scatterternary\"}],\"surface\":[{\"colorbar\":{\"outlinewidth\":0,\"ticks\":\"\"},\"colorscale\":[[0.0,\"#0d0887\"],[0.1111111111111111,\"#46039f\"],[0.2222222222222222,\"#7201a8\"],[0.3333333333333333,\"#9c179e\"],[0.4444444444444444,\"#bd3786\"],[0.5555555555555556,\"#d8576b\"],[0.6666666666666666,\"#ed7953\"],[0.7777777777777778,\"#fb9f3a\"],[0.8888888888888888,\"#fdca26\"],[1.0,\"#f0f921\"]],\"type\":\"surface\"}],\"table\":[{\"cells\":{\"fill\":{\"color\":\"#EBF0F8\"},\"line\":{\"color\":\"white\"}},\"header\":{\"fill\":{\"color\":\"#C8D4E3\"},\"line\":{\"color\":\"white\"}},\"type\":\"table\"}]},\"layout\":{\"annotationdefaults\":{\"arrowcolor\":\"#2a3f5f\",\"arrowhead\":0,\"arrowwidth\":1},\"autotypenumbers\":\"strict\",\"coloraxis\":{\"colorbar\":{\"outlinewidth\":0,\"ticks\":\"\"}},\"colorscale\":{\"diverging\":[[0,\"#8e0152\"],[0.1,\"#c51b7d\"],[0.2,\"#de77ae\"],[0.3,\"#f1b6da\"],[0.4,\"#fde0ef\"],[0.5,\"#f7f7f7\"],[0.6,\"#e6f5d0\"],[0.7,\"#b8e186\"],[0.8,\"#7fbc41\"],[0.9,\"#4d9221\"],[1,\"#276419\"]],\"sequential\":[[0.0,\"#0d0887\"],[0.1111111111111111,\"#46039f\"],[0.2222222222222222,\"#7201a8\"],[0.3333333333333333,\"#9c179e\"],[0.4444444444444444,\"#bd3786\"],[0.5555555555555556,\"#d8576b\"],[0.6666666666666666,\"#ed7953\"],[0.7777777777777778,\"#fb9f3a\"],[0.8888888888888888,\"#fdca26\"],[1.0,\"#f0f921\"]],\"sequentialminus\":[[0.0,\"#0d0887\"],[0.1111111111111111,\"#46039f\"],[0.2222222222222222,\"#7201a8\"],[0.3333333333333333,\"#9c179e\"],[0.4444444444444444,\"#bd3786\"],[0.5555555555555556,\"#d8576b\"],[0.6666666666666666,\"#ed7953\"],[0.7777777777777778,\"#fb9f3a\"],[0.8888888888888888,\"#fdca26\"],[1.0,\"#f0f921\"]]},\"colorway\":[\"#636efa\",\"#EF553B\",\"#00cc96\",\"#ab63fa\",\"#FFA15A\",\"#19d3f3\",\"#FF6692\",\"#B6E880\",\"#FF97FF\",\"#FECB52\"],\"font\":{\"color\":\"#2a3f5f\"},\"geo\":{\"bgcolor\":\"white\",\"lakecolor\":\"white\",\"landcolor\":\"#E5ECF6\",\"showlakes\":true,\"showland\":true,\"subunitcolor\":\"white\"},\"hoverlabel\":{\"align\":\"left\"},\"hovermode\":\"closest\",\"mapbox\":{\"style\":\"light\"},\"paper_bgcolor\":\"white\",\"plot_bgcolor\":\"#E5ECF6\",\"polar\":{\"angularaxis\":{\"gridcolor\":\"white\",\"linecolor\":\"white\",\"ticks\":\"\"},\"bgcolor\":\"#E5ECF6\",\"radialaxis\":{\"gridcolor\":\"white\",\"linecolor\":\"white\",\"ticks\":\"\"}},\"scene\":{\"xaxis\":{\"backgroundcolor\":\"#E5ECF6\",\"gridcolor\":\"white\",\"gridwidth\":2,\"linecolor\":\"white\",\"showbackground\":true,\"ticks\":\"\",\"zerolinecolor\":\"white\"},\"yaxis\":{\"backgroundcolor\":\"#E5ECF6\",\"gridcolor\":\"white\",\"gridwidth\":2,\"linecolor\":\"white\",\"showbackground\":true,\"ticks\":\"\",\"zerolinecolor\":\"white\"},\"zaxis\":{\"backgroundcolor\":\"#E5ECF6\",\"gridcolor\":\"white\",\"gridwidth\":2,\"linecolor\":\"white\",\"showbackground\":true,\"ticks\":\"\",\"zerolinecolor\":\"white\"}},\"shapedefaults\":{\"line\":{\"color\":\"#2a3f5f\"}},\"ternary\":{\"aaxis\":{\"gridcolor\":\"white\",\"linecolor\":\"white\",\"ticks\":\"\"},\"baxis\":{\"gridcolor\":\"white\",\"linecolor\":\"white\",\"ticks\":\"\"},\"bgcolor\":\"#E5ECF6\",\"caxis\":{\"gridcolor\":\"white\",\"linecolor\":\"white\",\"ticks\":\"\"}},\"title\":{\"x\":0.05},\"xaxis\":{\"automargin\":true,\"gridcolor\":\"white\",\"linecolor\":\"white\",\"ticks\":\"\",\"title\":{\"standoff\":15},\"zerolinecolor\":\"white\",\"zerolinewidth\":2},\"yaxis\":{\"automargin\":true,\"gridcolor\":\"white\",\"linecolor\":\"white\",\"ticks\":\"\",\"title\":{\"standoff\":15},\"zerolinecolor\":\"white\",\"zerolinewidth\":2}}},\"title\":{\"font\":{\"color\":\"#4D5663\"}},\"xaxis\":{\"gridcolor\":\"#E1E5ED\",\"showgrid\":true,\"tickfont\":{\"color\":\"#4D5663\"},\"title\":{\"font\":{\"color\":\"#4D5663\"},\"text\":\"\"},\"zerolinecolor\":\"#E1E5ED\"},\"yaxis\":{\"gridcolor\":\"#E1E5ED\",\"showgrid\":true,\"tickfont\":{\"color\":\"#4D5663\"},\"title\":{\"font\":{\"color\":\"#4D5663\"},\"text\":\"\"},\"zerolinecolor\":\"#E1E5ED\"}},                        {\"showLink\": true, \"linkText\": \"Export to plot.ly\", \"plotlyServerURL\": \"https://plot.ly\", \"responsive\": true}                    ).then(function(){\n",
       "                            \n",
       "var gd = document.getElementById('e888a7de-1cb1-424a-9174-b03e88444687');\n",
       "var x = new MutationObserver(function (mutations, observer) {{\n",
       "        var display = window.getComputedStyle(gd).display;\n",
       "        if (!display || display === 'none') {{\n",
       "            console.log([gd, 'removed!']);\n",
       "            Plotly.purge(gd);\n",
       "            observer.disconnect();\n",
       "        }}\n",
       "}});\n",
       "\n",
       "// Listen for the removal of the full notebook cells\n",
       "var notebookContainer = gd.closest('#notebook-container');\n",
       "if (notebookContainer) {{\n",
       "    x.observe(notebookContainer, {childList: true});\n",
       "}}\n",
       "\n",
       "// Listen for the clearing of the current output cell\n",
       "var outputEl = gd.closest('.output');\n",
       "if (outputEl) {{\n",
       "    x.observe(outputEl, {childList: true});\n",
       "}}\n",
       "\n",
       "                        })                };                });            </script>        </div>"
      ]
     },
     "metadata": {},
     "output_type": "display_data"
    }
   ],
   "source": [
    "df3.iplot(kind='surface')"
   ]
  },
  {
   "cell_type": "code",
   "execution_count": 27,
   "id": "5b8f389f",
   "metadata": {},
   "outputs": [
    {
     "data": {
      "application/vnd.plotly.v1+json": {
       "config": {
        "linkText": "Export to plot.ly",
        "plotlyServerURL": "https://plot.ly",
        "showLink": true
       },
       "data": [
        {
         "histfunc": "count",
         "histnorm": "",
         "marker": {
          "color": "rgba(255, 153, 51, 1.0)",
          "line": {
           "color": "#4D5663",
           "width": 1.3
          }
         },
         "name": "A",
         "nbinsx": 30,
         "opacity": 0.8,
         "orientation": "v",
         "type": "histogram",
         "x": [
          0.25766725273870794,
          -0.9683683498568538,
          0.4079767983323879,
          -0.35521716328951264,
          0.1067697108260012,
          0.055264414905670536,
          0.16748678722052524,
          -0.03884642071252894,
          -1.9569206918568747,
          -0.012030065425278914,
          0.5147917475168186,
          -1.1929830986432766,
          -0.28630897965301283,
          -0.7269486914270185,
          -0.6042854575279359,
          -0.7860299666916818,
          -1.2232950810912862,
          -0.13550737994759923,
          -1.0734549238772075,
          0.24804028348226617,
          0.6481756930738801,
          -1.6101508373062166,
          -0.1609375642387576,
          -0.4537761843382195,
          0.6669660076254208,
          -0.844428975954758,
          0.5129831796429379,
          1.155804462649625,
          0.6941037484143968,
          2.325681370776554,
          -1.1934765913970897,
          -1.3331393887106655,
          -0.5842075563796505,
          0.823264907901564,
          0.5077909681150676,
          0.04079208347736599,
          -0.3774067504355232,
          1.684633944827573,
          0.8108285494289319,
          -0.9614720723440364,
          0.8033391836123334,
          1.366141053396587,
          1.22710335380521,
          0.5007861886024525,
          0.343001046248468,
          0.9821044423294414,
          1.058739583049605,
          -0.302159064903064,
          0.01997985590888351,
          -0.33131002906924917,
          0.2717518499836177,
          1.3142633549959786,
          -0.8617857664810039,
          0.1400785711199423,
          0.45416005353468314,
          -1.6845394060445138,
          -1.2870651849530947,
          -1.368366894386971,
          0.7796978263073777,
          0.8049718982440207,
          0.6720806332514321,
          0.019012236335749715,
          0.9820030162836629,
          -1.3032056716341103,
          0.24368134319022605,
          -0.11259416554794206,
          0.4777042747792598,
          0.7994237775854384,
          -0.5912923178386565,
          1.8620316169982516,
          1.5979147218970453,
          0.6982224574224856,
          0.06113753691724821,
          0.2011006952610454,
          -0.5264422448448134,
          -0.2860199234535764,
          1.1520711810777065,
          0.3853847234561283,
          0.8496286363248838,
          0.21092045657163339,
          0.4992727903258261,
          0.019602502769003088,
          1.479898271696008,
          0.13819373894873163,
          0.4943303710765866,
          0.8121478456947057,
          -0.920576847331459,
          0.10674261995226657,
          1.2436406766350976,
          0.6251502982138215,
          0.5576995553252935,
          0.15981433848144747,
          -0.46484952881209385,
          0.34931673594281165,
          -1.3197036618486955,
          2.030244713325367,
          1.3293527484805516,
          -0.6014582498008547,
          2.3177502612429897,
          0.24869161904699996
         ]
        },
        {
         "histfunc": "count",
         "histnorm": "",
         "marker": {
          "color": "rgba(55, 128, 191, 1.0)",
          "line": {
           "color": "#4D5663",
           "width": 1.3
          }
         },
         "name": "B",
         "nbinsx": 30,
         "opacity": 0.8,
         "orientation": "v",
         "type": "histogram",
         "x": [
          1.3248435021986862,
          0.05735020938283478,
          -1.3252283251090466,
          0.2037073853435116,
          0.11390051896740837,
          0.036274803977040415,
          0.07886059125519548,
          -0.2107540123227492,
          0.5438429832196089,
          -1.495186139925318,
          -0.2786757262126936,
          -2.2472868977499583,
          0.5401780372965783,
          -1.2660125619710452,
          2.8917618341817137,
          0.9135784244832255,
          0.8070773007502883,
          -0.47655287637741833,
          -0.6916594268489628,
          -0.29857439303094707,
          -0.5028419053588357,
          -1.097380972947273,
          0.9013779502854321,
          -2.0539267239812853,
          -0.09946671171319675,
          0.027103790935514682,
          0.910952326494662,
          -0.3450271482134044,
          -2.016022367725986,
          1.2318197128416584,
          -0.48882763052385303,
          -1.0985539746033637,
          0.1469041002146205,
          -1.8300962817655162,
          0.3295661962110016,
          1.5269919414554993,
          -0.08726602386535882,
          -0.2746372475405285,
          1.3932038032489773,
          -1.5396569571609415,
          0.27825546855211997,
          -1.2105974754365512,
          -1.117995856964468,
          -0.08862087958247215,
          -0.19882957813497953,
          -0.046593485481045395,
          -0.2823150761795257,
          -0.909045608470984,
          -1.2859323567159786,
          2.57780442556176,
          0.5784537098435818,
          0.28312410196352455,
          0.5708819331108846,
          0.13193351121742164,
          0.7251406104368086,
          -0.33668180850187046,
          -0.6109096964157493,
          0.18883399477521554,
          0.525884140083572,
          -0.29113233390150467,
          1.5467100649562053,
          -1.5034114282884632,
          1.0075308147355966,
          0.8120289248587333,
          -1.3825380096125786,
          1.3893557899959468,
          0.7225515136418575,
          -2.0990836574963083,
          -0.3329107958852471,
          -0.20557479439035437,
          1.2586533985172603,
          -0.3623865838613117,
          -1.81009497493966,
          -0.8144051264697689,
          -0.8543728528659726,
          0.12428063004652715,
          0.42154333813920025,
          0.8325194216703564,
          -1.1316678358816619,
          -0.6752053609299112,
          1.0083868733208903,
          1.0329358144064287,
          0.24154683429897433,
          0.20467656709517945,
          0.4480733678860193,
          -1.4973501519227976,
          -0.06457171959633856,
          -0.7267026226309786,
          0.38549482127688767,
          2.0291148776290124,
          -0.7242805841989912,
          -0.8436208979113577,
          -0.9355965444051567,
          -1.2924130300577341,
          -1.0832341054879675,
          0.40071963830041823,
          1.6882470669240979,
          -1.8897243883593906,
          -1.73705358562559,
          -1.5599300069598463
         ]
        },
        {
         "histfunc": "count",
         "histnorm": "",
         "marker": {
          "color": "rgba(50, 171, 96, 1.0)",
          "line": {
           "color": "#4D5663",
           "width": 1.3
          }
         },
         "name": "C",
         "nbinsx": 30,
         "opacity": 0.8,
         "orientation": "v",
         "type": "histogram",
         "x": [
          -2.361761577852779,
          0.5601682024555253,
          0.7397791306001766,
          -0.6623782490409087,
          0.6857868613529526,
          1.4325764368304839,
          -0.6046702446723863,
          -0.9224023716659426,
          -1.374858370180204,
          -1.4036497288762604,
          2.2809026918611757,
          -0.14793006094281821,
          0.13753424646413842,
          -0.2232675326374695,
          -0.3383929970868634,
          -0.3042114016740749,
          -2.0235518683305784,
          0.6112943301579296,
          0.12262932462534099,
          -0.5540464192991367,
          0.21394765086253906,
          -0.6342840755001222,
          1.5431114456139305,
          0.520000348435981,
          -0.5070277643479835,
          -1.32430202501762,
          -1.8986721120747658,
          -1.6127903072276566,
          -1.8336681094404546,
          -0.37874463908208617,
          -0.7264976899141545,
          -0.18953135953591352,
          1.000835838807099,
          1.1348048263560553,
          -2.246644046452098,
          -0.32131215444600014,
          -0.5973093329881346,
          -0.7168613711733985,
          -2.8584955120003954,
          2.789113453410877,
          0.4650310112167451,
          -1.6048341588683919,
          -1.2999450295037844,
          0.724368075933912,
          0.6605601842134327,
          -1.6403966595508683,
          -0.459508328073549,
          -0.5133337131873488,
          1.2212848371654796,
          3.103375971399639,
          1.4564409020961275,
          -0.44566360817361256,
          -0.6667837021019473,
          0.8649760834336663,
          0.18913022129124796,
          -0.39855900842707215,
          -0.3353945361522721,
          0.3102726463831046,
          -1.2817872368942829,
          -1.5761180255088258,
          1.9451888083978948,
          -1.3839219453105434,
          1.1718263853168165,
          -0.4363400113758351,
          -1.0065709153967863,
          -1.457183604809572,
          -0.17223676739963256,
          -0.31412797718378505,
          0.24725023263052143,
          0.7056310115827593,
          -0.9235051007847629,
          0.7517653837693907,
          0.4752875570000499,
          1.5337404272019972,
          -0.28544253565872163,
          0.640040353020628,
          -0.18323802609196574,
          -0.16975401206998655,
          0.07304670629250355,
          -0.7026185371650298,
          -0.7268743155257561,
          0.8277640495778841,
          -2.603861293255465,
          1.3069975134359773,
          0.9301139393275412,
          0.2241426217480532,
          -0.00934855406999004,
          0.5308123605970554,
          -0.9750164870308707,
          0.8632892044459971,
          0.1762676646661963,
          1.640097229898394,
          0.7176580381238524,
          -0.3623004190144998,
          -1.1176258416306188,
          0.4525957893338102,
          -1.1854120204386869,
          -0.6421062267770715,
          0.49012960496143854,
          -1.664902421214408
         ]
        },
        {
         "histfunc": "count",
         "histnorm": "",
         "marker": {
          "color": "rgba(128, 0, 128, 1.0)",
          "line": {
           "color": "#4D5663",
           "width": 1.3
          }
         },
         "name": "D",
         "nbinsx": 30,
         "opacity": 0.8,
         "orientation": "v",
         "type": "histogram",
         "x": [
          0.611714013887907,
          0.6386052403396689,
          -0.02477849377865895,
          0.6197704319247359,
          -1.1967377415806166,
          1.1720391315629168,
          0.8765281439054488,
          -1.0370592385491233,
          0.44021492011010355,
          0.17230177660561485,
          0.4200336292442886,
          -0.16107225295889302,
          0.7200632250852794,
          -2.298592389474176,
          0.25459428501955056,
          0.2542139932244251,
          -1.8107357042692172,
          -0.5108724925504359,
          0.41001152084386977,
          -1.0703118510366805,
          1.0216244610662364,
          0.9974056726181587,
          1.312610610063279,
          -1.1407814799389158,
          1.5480251592844323,
          -0.49410534648003307,
          2.278885873544256,
          0.19104047538383667,
          -0.47014930082533973,
          -1.0344998801228573,
          -0.10032876048732366,
          0.7773925219423091,
          0.5717920894378987,
          0.33987394847518954,
          -0.1973390537737198,
          1.6021603463915783,
          -0.18834810979770195,
          -0.7497884978957049,
          -0.9027557049861357,
          -0.016809405012762894,
          -1.8597598987950288,
          0.856307118575504,
          -0.2162447769364504,
          -0.205476712225501,
          1.683875488970458,
          0.4609337272646481,
          0.8816172290139743,
          -1.5292750990984212,
          0.9459357785069152,
          -0.14509817237364275,
          -0.16696894829690045,
          -0.7401778451042701,
          0.26927875263065426,
          -1.1256758417539952,
          -0.08988833536686605,
          1.2641096243953123,
          -0.2101147329903418,
          -1.1204823391590175,
          0.13693330967014247,
          -0.23803086366322063,
          -0.8854563237832962,
          0.21533140364738995,
          0.9663254927426982,
          0.07511595060091833,
          -0.2487169421683228,
          1.412511316640888,
          -0.0973691612271399,
          -0.4760956995731815,
          0.16454046508612838,
          -0.8842237914144235,
          -1.1596602344406595,
          -0.11564797255073156,
          -0.5850474514779618,
          0.5224811694375456,
          -1.3775956652443182,
          0.007969820810576162,
          0.28740140869153913,
          0.6617076518110719,
          -0.8460664108204242,
          -0.05583557468567738,
          0.7611148188311797,
          0.4847337270794526,
          -2.1536338798360313,
          -0.3390316543921442,
          0.29109295797409984,
          0.3832439726007917,
          -0.593143056703596,
          -0.10685109921118938,
          -0.7925989257172054,
          1.1161161935482944,
          0.15080005441430192,
          -0.6181883497861653,
          0.6251053204524084,
          -0.5618278147974634,
          -0.46915351905109376,
          -1.1894885930032517,
          -0.5933340624232508,
          -1.4204641235088469,
          -0.0008249022356199199,
          1.02916580415784
         ]
        }
       ],
       "layout": {
        "barmode": "overlay",
        "legend": {
         "bgcolor": "#F5F6F9",
         "font": {
          "color": "#4D5663"
         }
        },
        "paper_bgcolor": "#F5F6F9",
        "plot_bgcolor": "#F5F6F9",
        "template": {
         "data": {
          "bar": [
           {
            "error_x": {
             "color": "#2a3f5f"
            },
            "error_y": {
             "color": "#2a3f5f"
            },
            "marker": {
             "line": {
              "color": "#E5ECF6",
              "width": 0.5
             },
             "pattern": {
              "fillmode": "overlay",
              "size": 10,
              "solidity": 0.2
             }
            },
            "type": "bar"
           }
          ],
          "barpolar": [
           {
            "marker": {
             "line": {
              "color": "#E5ECF6",
              "width": 0.5
             },
             "pattern": {
              "fillmode": "overlay",
              "size": 10,
              "solidity": 0.2
             }
            },
            "type": "barpolar"
           }
          ],
          "carpet": [
           {
            "aaxis": {
             "endlinecolor": "#2a3f5f",
             "gridcolor": "white",
             "linecolor": "white",
             "minorgridcolor": "white",
             "startlinecolor": "#2a3f5f"
            },
            "baxis": {
             "endlinecolor": "#2a3f5f",
             "gridcolor": "white",
             "linecolor": "white",
             "minorgridcolor": "white",
             "startlinecolor": "#2a3f5f"
            },
            "type": "carpet"
           }
          ],
          "choropleth": [
           {
            "colorbar": {
             "outlinewidth": 0,
             "ticks": ""
            },
            "type": "choropleth"
           }
          ],
          "contour": [
           {
            "colorbar": {
             "outlinewidth": 0,
             "ticks": ""
            },
            "colorscale": [
             [
              0,
              "#0d0887"
             ],
             [
              0.1111111111111111,
              "#46039f"
             ],
             [
              0.2222222222222222,
              "#7201a8"
             ],
             [
              0.3333333333333333,
              "#9c179e"
             ],
             [
              0.4444444444444444,
              "#bd3786"
             ],
             [
              0.5555555555555556,
              "#d8576b"
             ],
             [
              0.6666666666666666,
              "#ed7953"
             ],
             [
              0.7777777777777778,
              "#fb9f3a"
             ],
             [
              0.8888888888888888,
              "#fdca26"
             ],
             [
              1,
              "#f0f921"
             ]
            ],
            "type": "contour"
           }
          ],
          "contourcarpet": [
           {
            "colorbar": {
             "outlinewidth": 0,
             "ticks": ""
            },
            "type": "contourcarpet"
           }
          ],
          "heatmap": [
           {
            "colorbar": {
             "outlinewidth": 0,
             "ticks": ""
            },
            "colorscale": [
             [
              0,
              "#0d0887"
             ],
             [
              0.1111111111111111,
              "#46039f"
             ],
             [
              0.2222222222222222,
              "#7201a8"
             ],
             [
              0.3333333333333333,
              "#9c179e"
             ],
             [
              0.4444444444444444,
              "#bd3786"
             ],
             [
              0.5555555555555556,
              "#d8576b"
             ],
             [
              0.6666666666666666,
              "#ed7953"
             ],
             [
              0.7777777777777778,
              "#fb9f3a"
             ],
             [
              0.8888888888888888,
              "#fdca26"
             ],
             [
              1,
              "#f0f921"
             ]
            ],
            "type": "heatmap"
           }
          ],
          "heatmapgl": [
           {
            "colorbar": {
             "outlinewidth": 0,
             "ticks": ""
            },
            "colorscale": [
             [
              0,
              "#0d0887"
             ],
             [
              0.1111111111111111,
              "#46039f"
             ],
             [
              0.2222222222222222,
              "#7201a8"
             ],
             [
              0.3333333333333333,
              "#9c179e"
             ],
             [
              0.4444444444444444,
              "#bd3786"
             ],
             [
              0.5555555555555556,
              "#d8576b"
             ],
             [
              0.6666666666666666,
              "#ed7953"
             ],
             [
              0.7777777777777778,
              "#fb9f3a"
             ],
             [
              0.8888888888888888,
              "#fdca26"
             ],
             [
              1,
              "#f0f921"
             ]
            ],
            "type": "heatmapgl"
           }
          ],
          "histogram": [
           {
            "marker": {
             "pattern": {
              "fillmode": "overlay",
              "size": 10,
              "solidity": 0.2
             }
            },
            "type": "histogram"
           }
          ],
          "histogram2d": [
           {
            "colorbar": {
             "outlinewidth": 0,
             "ticks": ""
            },
            "colorscale": [
             [
              0,
              "#0d0887"
             ],
             [
              0.1111111111111111,
              "#46039f"
             ],
             [
              0.2222222222222222,
              "#7201a8"
             ],
             [
              0.3333333333333333,
              "#9c179e"
             ],
             [
              0.4444444444444444,
              "#bd3786"
             ],
             [
              0.5555555555555556,
              "#d8576b"
             ],
             [
              0.6666666666666666,
              "#ed7953"
             ],
             [
              0.7777777777777778,
              "#fb9f3a"
             ],
             [
              0.8888888888888888,
              "#fdca26"
             ],
             [
              1,
              "#f0f921"
             ]
            ],
            "type": "histogram2d"
           }
          ],
          "histogram2dcontour": [
           {
            "colorbar": {
             "outlinewidth": 0,
             "ticks": ""
            },
            "colorscale": [
             [
              0,
              "#0d0887"
             ],
             [
              0.1111111111111111,
              "#46039f"
             ],
             [
              0.2222222222222222,
              "#7201a8"
             ],
             [
              0.3333333333333333,
              "#9c179e"
             ],
             [
              0.4444444444444444,
              "#bd3786"
             ],
             [
              0.5555555555555556,
              "#d8576b"
             ],
             [
              0.6666666666666666,
              "#ed7953"
             ],
             [
              0.7777777777777778,
              "#fb9f3a"
             ],
             [
              0.8888888888888888,
              "#fdca26"
             ],
             [
              1,
              "#f0f921"
             ]
            ],
            "type": "histogram2dcontour"
           }
          ],
          "mesh3d": [
           {
            "colorbar": {
             "outlinewidth": 0,
             "ticks": ""
            },
            "type": "mesh3d"
           }
          ],
          "parcoords": [
           {
            "line": {
             "colorbar": {
              "outlinewidth": 0,
              "ticks": ""
             }
            },
            "type": "parcoords"
           }
          ],
          "pie": [
           {
            "automargin": true,
            "type": "pie"
           }
          ],
          "scatter": [
           {
            "marker": {
             "colorbar": {
              "outlinewidth": 0,
              "ticks": ""
             }
            },
            "type": "scatter"
           }
          ],
          "scatter3d": [
           {
            "line": {
             "colorbar": {
              "outlinewidth": 0,
              "ticks": ""
             }
            },
            "marker": {
             "colorbar": {
              "outlinewidth": 0,
              "ticks": ""
             }
            },
            "type": "scatter3d"
           }
          ],
          "scattercarpet": [
           {
            "marker": {
             "colorbar": {
              "outlinewidth": 0,
              "ticks": ""
             }
            },
            "type": "scattercarpet"
           }
          ],
          "scattergeo": [
           {
            "marker": {
             "colorbar": {
              "outlinewidth": 0,
              "ticks": ""
             }
            },
            "type": "scattergeo"
           }
          ],
          "scattergl": [
           {
            "marker": {
             "colorbar": {
              "outlinewidth": 0,
              "ticks": ""
             }
            },
            "type": "scattergl"
           }
          ],
          "scattermapbox": [
           {
            "marker": {
             "colorbar": {
              "outlinewidth": 0,
              "ticks": ""
             }
            },
            "type": "scattermapbox"
           }
          ],
          "scatterpolar": [
           {
            "marker": {
             "colorbar": {
              "outlinewidth": 0,
              "ticks": ""
             }
            },
            "type": "scatterpolar"
           }
          ],
          "scatterpolargl": [
           {
            "marker": {
             "colorbar": {
              "outlinewidth": 0,
              "ticks": ""
             }
            },
            "type": "scatterpolargl"
           }
          ],
          "scatterternary": [
           {
            "marker": {
             "colorbar": {
              "outlinewidth": 0,
              "ticks": ""
             }
            },
            "type": "scatterternary"
           }
          ],
          "surface": [
           {
            "colorbar": {
             "outlinewidth": 0,
             "ticks": ""
            },
            "colorscale": [
             [
              0,
              "#0d0887"
             ],
             [
              0.1111111111111111,
              "#46039f"
             ],
             [
              0.2222222222222222,
              "#7201a8"
             ],
             [
              0.3333333333333333,
              "#9c179e"
             ],
             [
              0.4444444444444444,
              "#bd3786"
             ],
             [
              0.5555555555555556,
              "#d8576b"
             ],
             [
              0.6666666666666666,
              "#ed7953"
             ],
             [
              0.7777777777777778,
              "#fb9f3a"
             ],
             [
              0.8888888888888888,
              "#fdca26"
             ],
             [
              1,
              "#f0f921"
             ]
            ],
            "type": "surface"
           }
          ],
          "table": [
           {
            "cells": {
             "fill": {
              "color": "#EBF0F8"
             },
             "line": {
              "color": "white"
             }
            },
            "header": {
             "fill": {
              "color": "#C8D4E3"
             },
             "line": {
              "color": "white"
             }
            },
            "type": "table"
           }
          ]
         },
         "layout": {
          "annotationdefaults": {
           "arrowcolor": "#2a3f5f",
           "arrowhead": 0,
           "arrowwidth": 1
          },
          "autotypenumbers": "strict",
          "coloraxis": {
           "colorbar": {
            "outlinewidth": 0,
            "ticks": ""
           }
          },
          "colorscale": {
           "diverging": [
            [
             0,
             "#8e0152"
            ],
            [
             0.1,
             "#c51b7d"
            ],
            [
             0.2,
             "#de77ae"
            ],
            [
             0.3,
             "#f1b6da"
            ],
            [
             0.4,
             "#fde0ef"
            ],
            [
             0.5,
             "#f7f7f7"
            ],
            [
             0.6,
             "#e6f5d0"
            ],
            [
             0.7,
             "#b8e186"
            ],
            [
             0.8,
             "#7fbc41"
            ],
            [
             0.9,
             "#4d9221"
            ],
            [
             1,
             "#276419"
            ]
           ],
           "sequential": [
            [
             0,
             "#0d0887"
            ],
            [
             0.1111111111111111,
             "#46039f"
            ],
            [
             0.2222222222222222,
             "#7201a8"
            ],
            [
             0.3333333333333333,
             "#9c179e"
            ],
            [
             0.4444444444444444,
             "#bd3786"
            ],
            [
             0.5555555555555556,
             "#d8576b"
            ],
            [
             0.6666666666666666,
             "#ed7953"
            ],
            [
             0.7777777777777778,
             "#fb9f3a"
            ],
            [
             0.8888888888888888,
             "#fdca26"
            ],
            [
             1,
             "#f0f921"
            ]
           ],
           "sequentialminus": [
            [
             0,
             "#0d0887"
            ],
            [
             0.1111111111111111,
             "#46039f"
            ],
            [
             0.2222222222222222,
             "#7201a8"
            ],
            [
             0.3333333333333333,
             "#9c179e"
            ],
            [
             0.4444444444444444,
             "#bd3786"
            ],
            [
             0.5555555555555556,
             "#d8576b"
            ],
            [
             0.6666666666666666,
             "#ed7953"
            ],
            [
             0.7777777777777778,
             "#fb9f3a"
            ],
            [
             0.8888888888888888,
             "#fdca26"
            ],
            [
             1,
             "#f0f921"
            ]
           ]
          },
          "colorway": [
           "#636efa",
           "#EF553B",
           "#00cc96",
           "#ab63fa",
           "#FFA15A",
           "#19d3f3",
           "#FF6692",
           "#B6E880",
           "#FF97FF",
           "#FECB52"
          ],
          "font": {
           "color": "#2a3f5f"
          },
          "geo": {
           "bgcolor": "white",
           "lakecolor": "white",
           "landcolor": "#E5ECF6",
           "showlakes": true,
           "showland": true,
           "subunitcolor": "white"
          },
          "hoverlabel": {
           "align": "left"
          },
          "hovermode": "closest",
          "mapbox": {
           "style": "light"
          },
          "paper_bgcolor": "white",
          "plot_bgcolor": "#E5ECF6",
          "polar": {
           "angularaxis": {
            "gridcolor": "white",
            "linecolor": "white",
            "ticks": ""
           },
           "bgcolor": "#E5ECF6",
           "radialaxis": {
            "gridcolor": "white",
            "linecolor": "white",
            "ticks": ""
           }
          },
          "scene": {
           "xaxis": {
            "backgroundcolor": "#E5ECF6",
            "gridcolor": "white",
            "gridwidth": 2,
            "linecolor": "white",
            "showbackground": true,
            "ticks": "",
            "zerolinecolor": "white"
           },
           "yaxis": {
            "backgroundcolor": "#E5ECF6",
            "gridcolor": "white",
            "gridwidth": 2,
            "linecolor": "white",
            "showbackground": true,
            "ticks": "",
            "zerolinecolor": "white"
           },
           "zaxis": {
            "backgroundcolor": "#E5ECF6",
            "gridcolor": "white",
            "gridwidth": 2,
            "linecolor": "white",
            "showbackground": true,
            "ticks": "",
            "zerolinecolor": "white"
           }
          },
          "shapedefaults": {
           "line": {
            "color": "#2a3f5f"
           }
          },
          "ternary": {
           "aaxis": {
            "gridcolor": "white",
            "linecolor": "white",
            "ticks": ""
           },
           "baxis": {
            "gridcolor": "white",
            "linecolor": "white",
            "ticks": ""
           },
           "bgcolor": "#E5ECF6",
           "caxis": {
            "gridcolor": "white",
            "linecolor": "white",
            "ticks": ""
           }
          },
          "title": {
           "x": 0.05
          },
          "xaxis": {
           "automargin": true,
           "gridcolor": "white",
           "linecolor": "white",
           "ticks": "",
           "title": {
            "standoff": 15
           },
           "zerolinecolor": "white",
           "zerolinewidth": 2
          },
          "yaxis": {
           "automargin": true,
           "gridcolor": "white",
           "linecolor": "white",
           "ticks": "",
           "title": {
            "standoff": 15
           },
           "zerolinecolor": "white",
           "zerolinewidth": 2
          }
         }
        },
        "title": {
         "font": {
          "color": "#4D5663"
         }
        },
        "xaxis": {
         "gridcolor": "#E1E5ED",
         "showgrid": true,
         "tickfont": {
          "color": "#4D5663"
         },
         "title": {
          "font": {
           "color": "#4D5663"
          },
          "text": ""
         },
         "zerolinecolor": "#E1E5ED"
        },
        "yaxis": {
         "gridcolor": "#E1E5ED",
         "showgrid": true,
         "tickfont": {
          "color": "#4D5663"
         },
         "title": {
          "font": {
           "color": "#4D5663"
          },
          "text": ""
         },
         "zerolinecolor": "#E1E5ED"
        }
       }
      },
      "text/html": [
       "<div>                            <div id=\"cb5cf999-f109-40ad-9cdd-1b946bb15358\" class=\"plotly-graph-div\" style=\"height:525px; width:100%;\"></div>            <script type=\"text/javascript\">                require([\"plotly\"], function(Plotly) {                    window.PLOTLYENV=window.PLOTLYENV || {};\n",
       "                    window.PLOTLYENV.BASE_URL='https://plot.ly';                                    if (document.getElementById(\"cb5cf999-f109-40ad-9cdd-1b946bb15358\")) {                    Plotly.newPlot(                        \"cb5cf999-f109-40ad-9cdd-1b946bb15358\",                        [{\"histfunc\":\"count\",\"histnorm\":\"\",\"marker\":{\"color\":\"rgba(255, 153, 51, 1.0)\",\"line\":{\"color\":\"#4D5663\",\"width\":1.3}},\"name\":\"A\",\"nbinsx\":30,\"opacity\":0.8,\"orientation\":\"v\",\"type\":\"histogram\",\"x\":[0.25766725273870794,-0.9683683498568538,0.4079767983323879,-0.35521716328951264,0.1067697108260012,0.055264414905670536,0.16748678722052524,-0.03884642071252894,-1.9569206918568747,-0.012030065425278914,0.5147917475168186,-1.1929830986432766,-0.28630897965301283,-0.7269486914270185,-0.6042854575279359,-0.7860299666916818,-1.2232950810912862,-0.13550737994759923,-1.0734549238772075,0.24804028348226617,0.6481756930738801,-1.6101508373062166,-0.1609375642387576,-0.4537761843382195,0.6669660076254208,-0.844428975954758,0.5129831796429379,1.155804462649625,0.6941037484143968,2.325681370776554,-1.1934765913970897,-1.3331393887106655,-0.5842075563796505,0.823264907901564,0.5077909681150676,0.04079208347736599,-0.3774067504355232,1.684633944827573,0.8108285494289319,-0.9614720723440364,0.8033391836123334,1.366141053396587,1.22710335380521,0.5007861886024525,0.343001046248468,0.9821044423294414,1.058739583049605,-0.302159064903064,0.01997985590888351,-0.33131002906924917,0.2717518499836177,1.3142633549959786,-0.8617857664810039,0.1400785711199423,0.45416005353468314,-1.6845394060445138,-1.2870651849530947,-1.368366894386971,0.7796978263073777,0.8049718982440207,0.6720806332514321,0.019012236335749715,0.9820030162836629,-1.3032056716341103,0.24368134319022605,-0.11259416554794206,0.4777042747792598,0.7994237775854384,-0.5912923178386565,1.8620316169982516,1.5979147218970453,0.6982224574224856,0.06113753691724821,0.2011006952610454,-0.5264422448448134,-0.2860199234535764,1.1520711810777065,0.3853847234561283,0.8496286363248838,0.21092045657163339,0.4992727903258261,0.019602502769003088,1.479898271696008,0.13819373894873163,0.4943303710765866,0.8121478456947057,-0.920576847331459,0.10674261995226657,1.2436406766350976,0.6251502982138215,0.5576995553252935,0.15981433848144747,-0.46484952881209385,0.34931673594281165,-1.3197036618486955,2.030244713325367,1.3293527484805516,-0.6014582498008547,2.3177502612429897,0.24869161904699996]},{\"histfunc\":\"count\",\"histnorm\":\"\",\"marker\":{\"color\":\"rgba(55, 128, 191, 1.0)\",\"line\":{\"color\":\"#4D5663\",\"width\":1.3}},\"name\":\"B\",\"nbinsx\":30,\"opacity\":0.8,\"orientation\":\"v\",\"type\":\"histogram\",\"x\":[1.3248435021986862,0.05735020938283478,-1.3252283251090466,0.2037073853435116,0.11390051896740837,0.036274803977040415,0.07886059125519548,-0.2107540123227492,0.5438429832196089,-1.495186139925318,-0.2786757262126936,-2.2472868977499583,0.5401780372965783,-1.2660125619710452,2.8917618341817137,0.9135784244832255,0.8070773007502883,-0.47655287637741833,-0.6916594268489628,-0.29857439303094707,-0.5028419053588357,-1.097380972947273,0.9013779502854321,-2.0539267239812853,-0.09946671171319675,0.027103790935514682,0.910952326494662,-0.3450271482134044,-2.016022367725986,1.2318197128416584,-0.48882763052385303,-1.0985539746033637,0.1469041002146205,-1.8300962817655162,0.3295661962110016,1.5269919414554993,-0.08726602386535882,-0.2746372475405285,1.3932038032489773,-1.5396569571609415,0.27825546855211997,-1.2105974754365512,-1.117995856964468,-0.08862087958247215,-0.19882957813497953,-0.046593485481045395,-0.2823150761795257,-0.909045608470984,-1.2859323567159786,2.57780442556176,0.5784537098435818,0.28312410196352455,0.5708819331108846,0.13193351121742164,0.7251406104368086,-0.33668180850187046,-0.6109096964157493,0.18883399477521554,0.525884140083572,-0.29113233390150467,1.5467100649562053,-1.5034114282884632,1.0075308147355966,0.8120289248587333,-1.3825380096125786,1.3893557899959468,0.7225515136418575,-2.0990836574963083,-0.3329107958852471,-0.20557479439035437,1.2586533985172603,-0.3623865838613117,-1.81009497493966,-0.8144051264697689,-0.8543728528659726,0.12428063004652715,0.42154333813920025,0.8325194216703564,-1.1316678358816619,-0.6752053609299112,1.0083868733208903,1.0329358144064287,0.24154683429897433,0.20467656709517945,0.4480733678860193,-1.4973501519227976,-0.06457171959633856,-0.7267026226309786,0.38549482127688767,2.0291148776290124,-0.7242805841989912,-0.8436208979113577,-0.9355965444051567,-1.2924130300577341,-1.0832341054879675,0.40071963830041823,1.6882470669240979,-1.8897243883593906,-1.73705358562559,-1.5599300069598463]},{\"histfunc\":\"count\",\"histnorm\":\"\",\"marker\":{\"color\":\"rgba(50, 171, 96, 1.0)\",\"line\":{\"color\":\"#4D5663\",\"width\":1.3}},\"name\":\"C\",\"nbinsx\":30,\"opacity\":0.8,\"orientation\":\"v\",\"type\":\"histogram\",\"x\":[-2.361761577852779,0.5601682024555253,0.7397791306001766,-0.6623782490409087,0.6857868613529526,1.4325764368304839,-0.6046702446723863,-0.9224023716659426,-1.374858370180204,-1.4036497288762604,2.2809026918611757,-0.14793006094281821,0.13753424646413842,-0.2232675326374695,-0.3383929970868634,-0.3042114016740749,-2.0235518683305784,0.6112943301579296,0.12262932462534099,-0.5540464192991367,0.21394765086253906,-0.6342840755001222,1.5431114456139305,0.520000348435981,-0.5070277643479835,-1.32430202501762,-1.8986721120747658,-1.6127903072276566,-1.8336681094404546,-0.37874463908208617,-0.7264976899141545,-0.18953135953591352,1.000835838807099,1.1348048263560553,-2.246644046452098,-0.32131215444600014,-0.5973093329881346,-0.7168613711733985,-2.8584955120003954,2.789113453410877,0.4650310112167451,-1.6048341588683919,-1.2999450295037844,0.724368075933912,0.6605601842134327,-1.6403966595508683,-0.459508328073549,-0.5133337131873488,1.2212848371654796,3.103375971399639,1.4564409020961275,-0.44566360817361256,-0.6667837021019473,0.8649760834336663,0.18913022129124796,-0.39855900842707215,-0.3353945361522721,0.3102726463831046,-1.2817872368942829,-1.5761180255088258,1.9451888083978948,-1.3839219453105434,1.1718263853168165,-0.4363400113758351,-1.0065709153967863,-1.457183604809572,-0.17223676739963256,-0.31412797718378505,0.24725023263052143,0.7056310115827593,-0.9235051007847629,0.7517653837693907,0.4752875570000499,1.5337404272019972,-0.28544253565872163,0.640040353020628,-0.18323802609196574,-0.16975401206998655,0.07304670629250355,-0.7026185371650298,-0.7268743155257561,0.8277640495778841,-2.603861293255465,1.3069975134359773,0.9301139393275412,0.2241426217480532,-0.00934855406999004,0.5308123605970554,-0.9750164870308707,0.8632892044459971,0.1762676646661963,1.640097229898394,0.7176580381238524,-0.3623004190144998,-1.1176258416306188,0.4525957893338102,-1.1854120204386869,-0.6421062267770715,0.49012960496143854,-1.664902421214408]},{\"histfunc\":\"count\",\"histnorm\":\"\",\"marker\":{\"color\":\"rgba(128, 0, 128, 1.0)\",\"line\":{\"color\":\"#4D5663\",\"width\":1.3}},\"name\":\"D\",\"nbinsx\":30,\"opacity\":0.8,\"orientation\":\"v\",\"type\":\"histogram\",\"x\":[0.611714013887907,0.6386052403396689,-0.02477849377865895,0.6197704319247359,-1.1967377415806166,1.1720391315629168,0.8765281439054488,-1.0370592385491233,0.44021492011010355,0.17230177660561485,0.4200336292442886,-0.16107225295889302,0.7200632250852794,-2.298592389474176,0.25459428501955056,0.2542139932244251,-1.8107357042692172,-0.5108724925504359,0.41001152084386977,-1.0703118510366805,1.0216244610662364,0.9974056726181587,1.312610610063279,-1.1407814799389158,1.5480251592844323,-0.49410534648003307,2.278885873544256,0.19104047538383667,-0.47014930082533973,-1.0344998801228573,-0.10032876048732366,0.7773925219423091,0.5717920894378987,0.33987394847518954,-0.1973390537737198,1.6021603463915783,-0.18834810979770195,-0.7497884978957049,-0.9027557049861357,-0.016809405012762894,-1.8597598987950288,0.856307118575504,-0.2162447769364504,-0.205476712225501,1.683875488970458,0.4609337272646481,0.8816172290139743,-1.5292750990984212,0.9459357785069152,-0.14509817237364275,-0.16696894829690045,-0.7401778451042701,0.26927875263065426,-1.1256758417539952,-0.08988833536686605,1.2641096243953123,-0.2101147329903418,-1.1204823391590175,0.13693330967014247,-0.23803086366322063,-0.8854563237832962,0.21533140364738995,0.9663254927426982,0.07511595060091833,-0.2487169421683228,1.412511316640888,-0.0973691612271399,-0.4760956995731815,0.16454046508612838,-0.8842237914144235,-1.1596602344406595,-0.11564797255073156,-0.5850474514779618,0.5224811694375456,-1.3775956652443182,0.007969820810576162,0.28740140869153913,0.6617076518110719,-0.8460664108204242,-0.05583557468567738,0.7611148188311797,0.4847337270794526,-2.1536338798360313,-0.3390316543921442,0.29109295797409984,0.3832439726007917,-0.593143056703596,-0.10685109921118938,-0.7925989257172054,1.1161161935482944,0.15080005441430192,-0.6181883497861653,0.6251053204524084,-0.5618278147974634,-0.46915351905109376,-1.1894885930032517,-0.5933340624232508,-1.4204641235088469,-0.0008249022356199199,1.02916580415784]}],                        {\"barmode\":\"overlay\",\"legend\":{\"bgcolor\":\"#F5F6F9\",\"font\":{\"color\":\"#4D5663\"}},\"paper_bgcolor\":\"#F5F6F9\",\"plot_bgcolor\":\"#F5F6F9\",\"template\":{\"data\":{\"bar\":[{\"error_x\":{\"color\":\"#2a3f5f\"},\"error_y\":{\"color\":\"#2a3f5f\"},\"marker\":{\"line\":{\"color\":\"#E5ECF6\",\"width\":0.5},\"pattern\":{\"fillmode\":\"overlay\",\"size\":10,\"solidity\":0.2}},\"type\":\"bar\"}],\"barpolar\":[{\"marker\":{\"line\":{\"color\":\"#E5ECF6\",\"width\":0.5},\"pattern\":{\"fillmode\":\"overlay\",\"size\":10,\"solidity\":0.2}},\"type\":\"barpolar\"}],\"carpet\":[{\"aaxis\":{\"endlinecolor\":\"#2a3f5f\",\"gridcolor\":\"white\",\"linecolor\":\"white\",\"minorgridcolor\":\"white\",\"startlinecolor\":\"#2a3f5f\"},\"baxis\":{\"endlinecolor\":\"#2a3f5f\",\"gridcolor\":\"white\",\"linecolor\":\"white\",\"minorgridcolor\":\"white\",\"startlinecolor\":\"#2a3f5f\"},\"type\":\"carpet\"}],\"choropleth\":[{\"colorbar\":{\"outlinewidth\":0,\"ticks\":\"\"},\"type\":\"choropleth\"}],\"contour\":[{\"colorbar\":{\"outlinewidth\":0,\"ticks\":\"\"},\"colorscale\":[[0.0,\"#0d0887\"],[0.1111111111111111,\"#46039f\"],[0.2222222222222222,\"#7201a8\"],[0.3333333333333333,\"#9c179e\"],[0.4444444444444444,\"#bd3786\"],[0.5555555555555556,\"#d8576b\"],[0.6666666666666666,\"#ed7953\"],[0.7777777777777778,\"#fb9f3a\"],[0.8888888888888888,\"#fdca26\"],[1.0,\"#f0f921\"]],\"type\":\"contour\"}],\"contourcarpet\":[{\"colorbar\":{\"outlinewidth\":0,\"ticks\":\"\"},\"type\":\"contourcarpet\"}],\"heatmap\":[{\"colorbar\":{\"outlinewidth\":0,\"ticks\":\"\"},\"colorscale\":[[0.0,\"#0d0887\"],[0.1111111111111111,\"#46039f\"],[0.2222222222222222,\"#7201a8\"],[0.3333333333333333,\"#9c179e\"],[0.4444444444444444,\"#bd3786\"],[0.5555555555555556,\"#d8576b\"],[0.6666666666666666,\"#ed7953\"],[0.7777777777777778,\"#fb9f3a\"],[0.8888888888888888,\"#fdca26\"],[1.0,\"#f0f921\"]],\"type\":\"heatmap\"}],\"heatmapgl\":[{\"colorbar\":{\"outlinewidth\":0,\"ticks\":\"\"},\"colorscale\":[[0.0,\"#0d0887\"],[0.1111111111111111,\"#46039f\"],[0.2222222222222222,\"#7201a8\"],[0.3333333333333333,\"#9c179e\"],[0.4444444444444444,\"#bd3786\"],[0.5555555555555556,\"#d8576b\"],[0.6666666666666666,\"#ed7953\"],[0.7777777777777778,\"#fb9f3a\"],[0.8888888888888888,\"#fdca26\"],[1.0,\"#f0f921\"]],\"type\":\"heatmapgl\"}],\"histogram\":[{\"marker\":{\"pattern\":{\"fillmode\":\"overlay\",\"size\":10,\"solidity\":0.2}},\"type\":\"histogram\"}],\"histogram2d\":[{\"colorbar\":{\"outlinewidth\":0,\"ticks\":\"\"},\"colorscale\":[[0.0,\"#0d0887\"],[0.1111111111111111,\"#46039f\"],[0.2222222222222222,\"#7201a8\"],[0.3333333333333333,\"#9c179e\"],[0.4444444444444444,\"#bd3786\"],[0.5555555555555556,\"#d8576b\"],[0.6666666666666666,\"#ed7953\"],[0.7777777777777778,\"#fb9f3a\"],[0.8888888888888888,\"#fdca26\"],[1.0,\"#f0f921\"]],\"type\":\"histogram2d\"}],\"histogram2dcontour\":[{\"colorbar\":{\"outlinewidth\":0,\"ticks\":\"\"},\"colorscale\":[[0.0,\"#0d0887\"],[0.1111111111111111,\"#46039f\"],[0.2222222222222222,\"#7201a8\"],[0.3333333333333333,\"#9c179e\"],[0.4444444444444444,\"#bd3786\"],[0.5555555555555556,\"#d8576b\"],[0.6666666666666666,\"#ed7953\"],[0.7777777777777778,\"#fb9f3a\"],[0.8888888888888888,\"#fdca26\"],[1.0,\"#f0f921\"]],\"type\":\"histogram2dcontour\"}],\"mesh3d\":[{\"colorbar\":{\"outlinewidth\":0,\"ticks\":\"\"},\"type\":\"mesh3d\"}],\"parcoords\":[{\"line\":{\"colorbar\":{\"outlinewidth\":0,\"ticks\":\"\"}},\"type\":\"parcoords\"}],\"pie\":[{\"automargin\":true,\"type\":\"pie\"}],\"scatter\":[{\"marker\":{\"colorbar\":{\"outlinewidth\":0,\"ticks\":\"\"}},\"type\":\"scatter\"}],\"scatter3d\":[{\"line\":{\"colorbar\":{\"outlinewidth\":0,\"ticks\":\"\"}},\"marker\":{\"colorbar\":{\"outlinewidth\":0,\"ticks\":\"\"}},\"type\":\"scatter3d\"}],\"scattercarpet\":[{\"marker\":{\"colorbar\":{\"outlinewidth\":0,\"ticks\":\"\"}},\"type\":\"scattercarpet\"}],\"scattergeo\":[{\"marker\":{\"colorbar\":{\"outlinewidth\":0,\"ticks\":\"\"}},\"type\":\"scattergeo\"}],\"scattergl\":[{\"marker\":{\"colorbar\":{\"outlinewidth\":0,\"ticks\":\"\"}},\"type\":\"scattergl\"}],\"scattermapbox\":[{\"marker\":{\"colorbar\":{\"outlinewidth\":0,\"ticks\":\"\"}},\"type\":\"scattermapbox\"}],\"scatterpolar\":[{\"marker\":{\"colorbar\":{\"outlinewidth\":0,\"ticks\":\"\"}},\"type\":\"scatterpolar\"}],\"scatterpolargl\":[{\"marker\":{\"colorbar\":{\"outlinewidth\":0,\"ticks\":\"\"}},\"type\":\"scatterpolargl\"}],\"scatterternary\":[{\"marker\":{\"colorbar\":{\"outlinewidth\":0,\"ticks\":\"\"}},\"type\":\"scatterternary\"}],\"surface\":[{\"colorbar\":{\"outlinewidth\":0,\"ticks\":\"\"},\"colorscale\":[[0.0,\"#0d0887\"],[0.1111111111111111,\"#46039f\"],[0.2222222222222222,\"#7201a8\"],[0.3333333333333333,\"#9c179e\"],[0.4444444444444444,\"#bd3786\"],[0.5555555555555556,\"#d8576b\"],[0.6666666666666666,\"#ed7953\"],[0.7777777777777778,\"#fb9f3a\"],[0.8888888888888888,\"#fdca26\"],[1.0,\"#f0f921\"]],\"type\":\"surface\"}],\"table\":[{\"cells\":{\"fill\":{\"color\":\"#EBF0F8\"},\"line\":{\"color\":\"white\"}},\"header\":{\"fill\":{\"color\":\"#C8D4E3\"},\"line\":{\"color\":\"white\"}},\"type\":\"table\"}]},\"layout\":{\"annotationdefaults\":{\"arrowcolor\":\"#2a3f5f\",\"arrowhead\":0,\"arrowwidth\":1},\"autotypenumbers\":\"strict\",\"coloraxis\":{\"colorbar\":{\"outlinewidth\":0,\"ticks\":\"\"}},\"colorscale\":{\"diverging\":[[0,\"#8e0152\"],[0.1,\"#c51b7d\"],[0.2,\"#de77ae\"],[0.3,\"#f1b6da\"],[0.4,\"#fde0ef\"],[0.5,\"#f7f7f7\"],[0.6,\"#e6f5d0\"],[0.7,\"#b8e186\"],[0.8,\"#7fbc41\"],[0.9,\"#4d9221\"],[1,\"#276419\"]],\"sequential\":[[0.0,\"#0d0887\"],[0.1111111111111111,\"#46039f\"],[0.2222222222222222,\"#7201a8\"],[0.3333333333333333,\"#9c179e\"],[0.4444444444444444,\"#bd3786\"],[0.5555555555555556,\"#d8576b\"],[0.6666666666666666,\"#ed7953\"],[0.7777777777777778,\"#fb9f3a\"],[0.8888888888888888,\"#fdca26\"],[1.0,\"#f0f921\"]],\"sequentialminus\":[[0.0,\"#0d0887\"],[0.1111111111111111,\"#46039f\"],[0.2222222222222222,\"#7201a8\"],[0.3333333333333333,\"#9c179e\"],[0.4444444444444444,\"#bd3786\"],[0.5555555555555556,\"#d8576b\"],[0.6666666666666666,\"#ed7953\"],[0.7777777777777778,\"#fb9f3a\"],[0.8888888888888888,\"#fdca26\"],[1.0,\"#f0f921\"]]},\"colorway\":[\"#636efa\",\"#EF553B\",\"#00cc96\",\"#ab63fa\",\"#FFA15A\",\"#19d3f3\",\"#FF6692\",\"#B6E880\",\"#FF97FF\",\"#FECB52\"],\"font\":{\"color\":\"#2a3f5f\"},\"geo\":{\"bgcolor\":\"white\",\"lakecolor\":\"white\",\"landcolor\":\"#E5ECF6\",\"showlakes\":true,\"showland\":true,\"subunitcolor\":\"white\"},\"hoverlabel\":{\"align\":\"left\"},\"hovermode\":\"closest\",\"mapbox\":{\"style\":\"light\"},\"paper_bgcolor\":\"white\",\"plot_bgcolor\":\"#E5ECF6\",\"polar\":{\"angularaxis\":{\"gridcolor\":\"white\",\"linecolor\":\"white\",\"ticks\":\"\"},\"bgcolor\":\"#E5ECF6\",\"radialaxis\":{\"gridcolor\":\"white\",\"linecolor\":\"white\",\"ticks\":\"\"}},\"scene\":{\"xaxis\":{\"backgroundcolor\":\"#E5ECF6\",\"gridcolor\":\"white\",\"gridwidth\":2,\"linecolor\":\"white\",\"showbackground\":true,\"ticks\":\"\",\"zerolinecolor\":\"white\"},\"yaxis\":{\"backgroundcolor\":\"#E5ECF6\",\"gridcolor\":\"white\",\"gridwidth\":2,\"linecolor\":\"white\",\"showbackground\":true,\"ticks\":\"\",\"zerolinecolor\":\"white\"},\"zaxis\":{\"backgroundcolor\":\"#E5ECF6\",\"gridcolor\":\"white\",\"gridwidth\":2,\"linecolor\":\"white\",\"showbackground\":true,\"ticks\":\"\",\"zerolinecolor\":\"white\"}},\"shapedefaults\":{\"line\":{\"color\":\"#2a3f5f\"}},\"ternary\":{\"aaxis\":{\"gridcolor\":\"white\",\"linecolor\":\"white\",\"ticks\":\"\"},\"baxis\":{\"gridcolor\":\"white\",\"linecolor\":\"white\",\"ticks\":\"\"},\"bgcolor\":\"#E5ECF6\",\"caxis\":{\"gridcolor\":\"white\",\"linecolor\":\"white\",\"ticks\":\"\"}},\"title\":{\"x\":0.05},\"xaxis\":{\"automargin\":true,\"gridcolor\":\"white\",\"linecolor\":\"white\",\"ticks\":\"\",\"title\":{\"standoff\":15},\"zerolinecolor\":\"white\",\"zerolinewidth\":2},\"yaxis\":{\"automargin\":true,\"gridcolor\":\"white\",\"linecolor\":\"white\",\"ticks\":\"\",\"title\":{\"standoff\":15},\"zerolinecolor\":\"white\",\"zerolinewidth\":2}}},\"title\":{\"font\":{\"color\":\"#4D5663\"}},\"xaxis\":{\"gridcolor\":\"#E1E5ED\",\"showgrid\":true,\"tickfont\":{\"color\":\"#4D5663\"},\"title\":{\"font\":{\"color\":\"#4D5663\"},\"text\":\"\"},\"zerolinecolor\":\"#E1E5ED\"},\"yaxis\":{\"gridcolor\":\"#E1E5ED\",\"showgrid\":true,\"tickfont\":{\"color\":\"#4D5663\"},\"title\":{\"font\":{\"color\":\"#4D5663\"},\"text\":\"\"},\"zerolinecolor\":\"#E1E5ED\"}},                        {\"showLink\": true, \"linkText\": \"Export to plot.ly\", \"plotlyServerURL\": \"https://plot.ly\", \"responsive\": true}                    ).then(function(){\n",
       "                            \n",
       "var gd = document.getElementById('cb5cf999-f109-40ad-9cdd-1b946bb15358');\n",
       "var x = new MutationObserver(function (mutations, observer) {{\n",
       "        var display = window.getComputedStyle(gd).display;\n",
       "        if (!display || display === 'none') {{\n",
       "            console.log([gd, 'removed!']);\n",
       "            Plotly.purge(gd);\n",
       "            observer.disconnect();\n",
       "        }}\n",
       "}});\n",
       "\n",
       "// Listen for the removal of the full notebook cells\n",
       "var notebookContainer = gd.closest('#notebook-container');\n",
       "if (notebookContainer) {{\n",
       "    x.observe(notebookContainer, {childList: true});\n",
       "}}\n",
       "\n",
       "// Listen for the clearing of the current output cell\n",
       "var outputEl = gd.closest('.output');\n",
       "if (outputEl) {{\n",
       "    x.observe(outputEl, {childList: true});\n",
       "}}\n",
       "\n",
       "                        })                };                });            </script>        </div>"
      ]
     },
     "metadata": {},
     "output_type": "display_data"
    }
   ],
   "source": [
    "df.iplot(kind='hist',bins=30)"
   ]
  },
  {
   "cell_type": "code",
   "execution_count": 29,
   "id": "dda82e30",
   "metadata": {},
   "outputs": [
    {
     "name": "stderr",
     "output_type": "stream",
     "text": [
      "c:\\users\\acer\\appdata\\local\\programs\\python\\python39\\lib\\site-packages\\cufflinks\\plotlytools.py:849: FutureWarning:\n",
      "\n",
      "The pandas.np module is deprecated and will be removed from pandas in a future version. Import numpy directly instead\n",
      "\n",
      "c:\\users\\acer\\appdata\\local\\programs\\python\\python39\\lib\\site-packages\\cufflinks\\plotlytools.py:850: FutureWarning:\n",
      "\n",
      "The pandas.np module is deprecated and will be removed from pandas in a future version. Import numpy directly instead\n",
      "\n"
     ]
    },
    {
     "data": {
      "application/vnd.plotly.v1+json": {
       "config": {
        "linkText": "Export to plot.ly",
        "plotlyServerURL": "https://plot.ly",
        "showLink": true
       },
       "data": [
        {
         "line": {
          "color": "rgba(255, 153, 51, 1.0)",
          "dash": "solid",
          "shape": "linear",
          "width": 1.3
         },
         "mode": "lines",
         "name": "A",
         "text": "",
         "type": "scatter",
         "x": [
          0,
          1,
          2,
          3,
          4,
          5,
          6,
          7,
          8,
          9,
          10,
          11,
          12,
          13,
          14,
          15,
          16,
          17,
          18,
          19,
          20,
          21,
          22,
          23,
          24,
          25,
          26,
          27,
          28,
          29,
          30,
          31,
          32,
          33,
          34,
          35,
          36,
          37,
          38,
          39,
          40,
          41,
          42,
          43,
          44,
          45,
          46,
          47,
          48,
          49,
          50,
          51,
          52,
          53,
          54,
          55,
          56,
          57,
          58,
          59,
          60,
          61,
          62,
          63,
          64,
          65,
          66,
          67,
          68,
          69,
          70,
          71,
          72,
          73,
          74,
          75,
          76,
          77,
          78,
          79,
          80,
          81,
          82,
          83,
          84,
          85,
          86,
          87,
          88,
          89,
          90,
          91,
          92,
          93,
          94,
          95,
          96,
          97,
          98,
          99
         ],
         "y": [
          0.25766725273870794,
          -0.9683683498568538,
          0.4079767983323879,
          -0.35521716328951264,
          0.1067697108260012,
          0.055264414905670536,
          0.16748678722052524,
          -0.03884642071252894,
          -1.9569206918568747,
          -0.012030065425278914,
          0.5147917475168186,
          -1.1929830986432766,
          -0.28630897965301283,
          -0.7269486914270185,
          -0.6042854575279359,
          -0.7860299666916818,
          -1.2232950810912862,
          -0.13550737994759923,
          -1.0734549238772075,
          0.24804028348226617,
          0.6481756930738801,
          -1.6101508373062166,
          -0.1609375642387576,
          -0.4537761843382195,
          0.6669660076254208,
          -0.844428975954758,
          0.5129831796429379,
          1.155804462649625,
          0.6941037484143968,
          2.325681370776554,
          -1.1934765913970897,
          -1.3331393887106655,
          -0.5842075563796505,
          0.823264907901564,
          0.5077909681150676,
          0.04079208347736599,
          -0.3774067504355232,
          1.684633944827573,
          0.8108285494289319,
          -0.9614720723440364,
          0.8033391836123334,
          1.366141053396587,
          1.22710335380521,
          0.5007861886024525,
          0.343001046248468,
          0.9821044423294414,
          1.058739583049605,
          -0.302159064903064,
          0.01997985590888351,
          -0.33131002906924917,
          0.2717518499836177,
          1.3142633549959786,
          -0.8617857664810039,
          0.1400785711199423,
          0.45416005353468314,
          -1.6845394060445138,
          -1.2870651849530947,
          -1.368366894386971,
          0.7796978263073777,
          0.8049718982440207,
          0.6720806332514321,
          0.019012236335749715,
          0.9820030162836629,
          -1.3032056716341103,
          0.24368134319022605,
          -0.11259416554794206,
          0.4777042747792598,
          0.7994237775854384,
          -0.5912923178386565,
          1.8620316169982516,
          1.5979147218970453,
          0.6982224574224856,
          0.06113753691724821,
          0.2011006952610454,
          -0.5264422448448134,
          -0.2860199234535764,
          1.1520711810777065,
          0.3853847234561283,
          0.8496286363248838,
          0.21092045657163339,
          0.4992727903258261,
          0.019602502769003088,
          1.479898271696008,
          0.13819373894873163,
          0.4943303710765866,
          0.8121478456947057,
          -0.920576847331459,
          0.10674261995226657,
          1.2436406766350976,
          0.6251502982138215,
          0.5576995553252935,
          0.15981433848144747,
          -0.46484952881209385,
          0.34931673594281165,
          -1.3197036618486955,
          2.030244713325367,
          1.3293527484805516,
          -0.6014582498008547,
          2.3177502612429897,
          0.24869161904699996
         ]
        },
        {
         "line": {
          "color": "rgba(55, 128, 191, 1.0)",
          "dash": "solid",
          "shape": "linear",
          "width": 1.3
         },
         "mode": "lines",
         "name": "B",
         "text": "",
         "type": "scatter",
         "x": [
          0,
          1,
          2,
          3,
          4,
          5,
          6,
          7,
          8,
          9,
          10,
          11,
          12,
          13,
          14,
          15,
          16,
          17,
          18,
          19,
          20,
          21,
          22,
          23,
          24,
          25,
          26,
          27,
          28,
          29,
          30,
          31,
          32,
          33,
          34,
          35,
          36,
          37,
          38,
          39,
          40,
          41,
          42,
          43,
          44,
          45,
          46,
          47,
          48,
          49,
          50,
          51,
          52,
          53,
          54,
          55,
          56,
          57,
          58,
          59,
          60,
          61,
          62,
          63,
          64,
          65,
          66,
          67,
          68,
          69,
          70,
          71,
          72,
          73,
          74,
          75,
          76,
          77,
          78,
          79,
          80,
          81,
          82,
          83,
          84,
          85,
          86,
          87,
          88,
          89,
          90,
          91,
          92,
          93,
          94,
          95,
          96,
          97,
          98,
          99
         ],
         "y": [
          1.3248435021986862,
          0.05735020938283478,
          -1.3252283251090466,
          0.2037073853435116,
          0.11390051896740837,
          0.036274803977040415,
          0.07886059125519548,
          -0.2107540123227492,
          0.5438429832196089,
          -1.495186139925318,
          -0.2786757262126936,
          -2.2472868977499583,
          0.5401780372965783,
          -1.2660125619710452,
          2.8917618341817137,
          0.9135784244832255,
          0.8070773007502883,
          -0.47655287637741833,
          -0.6916594268489628,
          -0.29857439303094707,
          -0.5028419053588357,
          -1.097380972947273,
          0.9013779502854321,
          -2.0539267239812853,
          -0.09946671171319675,
          0.027103790935514682,
          0.910952326494662,
          -0.3450271482134044,
          -2.016022367725986,
          1.2318197128416584,
          -0.48882763052385303,
          -1.0985539746033637,
          0.1469041002146205,
          -1.8300962817655162,
          0.3295661962110016,
          1.5269919414554993,
          -0.08726602386535882,
          -0.2746372475405285,
          1.3932038032489773,
          -1.5396569571609415,
          0.27825546855211997,
          -1.2105974754365512,
          -1.117995856964468,
          -0.08862087958247215,
          -0.19882957813497953,
          -0.046593485481045395,
          -0.2823150761795257,
          -0.909045608470984,
          -1.2859323567159786,
          2.57780442556176,
          0.5784537098435818,
          0.28312410196352455,
          0.5708819331108846,
          0.13193351121742164,
          0.7251406104368086,
          -0.33668180850187046,
          -0.6109096964157493,
          0.18883399477521554,
          0.525884140083572,
          -0.29113233390150467,
          1.5467100649562053,
          -1.5034114282884632,
          1.0075308147355966,
          0.8120289248587333,
          -1.3825380096125786,
          1.3893557899959468,
          0.7225515136418575,
          -2.0990836574963083,
          -0.3329107958852471,
          -0.20557479439035437,
          1.2586533985172603,
          -0.3623865838613117,
          -1.81009497493966,
          -0.8144051264697689,
          -0.8543728528659726,
          0.12428063004652715,
          0.42154333813920025,
          0.8325194216703564,
          -1.1316678358816619,
          -0.6752053609299112,
          1.0083868733208903,
          1.0329358144064287,
          0.24154683429897433,
          0.20467656709517945,
          0.4480733678860193,
          -1.4973501519227976,
          -0.06457171959633856,
          -0.7267026226309786,
          0.38549482127688767,
          2.0291148776290124,
          -0.7242805841989912,
          -0.8436208979113577,
          -0.9355965444051567,
          -1.2924130300577341,
          -1.0832341054879675,
          0.40071963830041823,
          1.6882470669240979,
          -1.8897243883593906,
          -1.73705358562559,
          -1.5599300069598463
         ]
        },
        {
         "connectgaps": false,
         "fill": "tozeroy",
         "line": {
          "color": "green",
          "dash": "solid",
          "shape": "linear",
          "width": 0.5
         },
         "mode": "lines",
         "name": "Spread",
         "showlegend": false,
         "type": "scatter",
         "x": [
          0,
          1,
          2,
          3,
          4,
          5,
          6,
          7,
          8,
          9,
          10,
          11,
          12,
          13,
          14,
          15,
          16,
          17,
          18,
          19,
          20,
          21,
          22,
          23,
          24,
          25,
          26,
          27,
          28,
          29,
          30,
          31,
          32,
          33,
          34,
          35,
          36,
          37,
          38,
          39,
          40,
          41,
          42,
          43,
          44,
          45,
          46,
          47,
          48,
          49,
          50,
          51,
          52,
          53,
          54,
          55,
          56,
          57,
          58,
          59,
          60,
          61,
          62,
          63,
          64,
          65,
          66,
          67,
          68,
          69,
          70,
          71,
          72,
          73,
          74,
          75,
          76,
          77,
          78,
          79,
          80,
          81,
          82,
          83,
          84,
          85,
          86,
          87,
          88,
          89,
          90,
          91,
          92,
          93,
          94,
          95,
          96,
          97,
          98,
          99
         ],
         "xaxis": "x2",
         "y": [
          "",
          "",
          1.7332051234414345,
          "",
          "",
          0.01898961092863012,
          0.08862619596532975,
          0.17190759161022026,
          "",
          1.483156074500039,
          0.7934674737295122,
          1.0543037991066817,
          "",
          0.5390638705440267,
          "",
          "",
          "",
          0.3410454964298191,
          "",
          0.5466146765132133,
          1.1510175984327158,
          "",
          "",
          1.6001505396430658,
          0.7664327193386176,
          "",
          "",
          1.5008316108630295,
          2.710126116140383,
          1.0938616579348954,
          "",
          "",
          "",
          2.65336118966708,
          0.17822477190406605,
          "",
          "",
          1.9592711923681014,
          "",
          0.5781848848169051,
          0.5250837150602135,
          2.576738528833138,
          2.345099210769678,
          0.5894070681849246,
          0.5418306243834475,
          1.0286979278104869,
          1.3410546592291306,
          0.60688654356792,
          1.3059122126248621,
          "",
          "",
          1.0311392530324541,
          "",
          0.008145059902520652,
          "",
          "",
          "",
          "",
          0.25381368622380573,
          1.0961042321455254,
          "",
          1.5224236646242129,
          "",
          "",
          1.6262193528028046,
          "",
          "",
          2.8985074350817466,
          "",
          2.067606411388606,
          0.339261323379785,
          1.0606090412837972,
          1.8712325118569082,
          1.0155058217308144,
          0.32793060802115925,
          "",
          0.7305278429385063,
          "",
          1.9812964722065458,
          0.8861258175015446,
          "",
          "",
          1.2383514373970337,
          "",
          0.0462570031905673,
          2.309497997617503,
          "",
          0.8334452425832451,
          0.85814585535821,
          "",
          1.2819801395242847,
          1.0034352363928052,
          0.47074701559306287,
          1.6417297660005459,
          "",
          1.6295250750249486,
          "",
          1.288266138558536,
          4.054803846868579,
          1.8086216260068462
         ],
         "yaxis": "y2"
        },
        {
         "connectgaps": false,
         "fill": "tozeroy",
         "line": {
          "color": "red",
          "dash": "solid",
          "shape": "linear",
          "width": 0.5
         },
         "mode": "lines",
         "name": "Spread",
         "showlegend": false,
         "type": "scatter",
         "x": [
          0,
          1,
          2,
          3,
          4,
          5,
          6,
          7,
          8,
          9,
          10,
          11,
          12,
          13,
          14,
          15,
          16,
          17,
          18,
          19,
          20,
          21,
          22,
          23,
          24,
          25,
          26,
          27,
          28,
          29,
          30,
          31,
          32,
          33,
          34,
          35,
          36,
          37,
          38,
          39,
          40,
          41,
          42,
          43,
          44,
          45,
          46,
          47,
          48,
          49,
          50,
          51,
          52,
          53,
          54,
          55,
          56,
          57,
          58,
          59,
          60,
          61,
          62,
          63,
          64,
          65,
          66,
          67,
          68,
          69,
          70,
          71,
          72,
          73,
          74,
          75,
          76,
          77,
          78,
          79,
          80,
          81,
          82,
          83,
          84,
          85,
          86,
          87,
          88,
          89,
          90,
          91,
          92,
          93,
          94,
          95,
          96,
          97,
          98,
          99
         ],
         "xaxis": "x2",
         "y": [
          -1.0671762494599784,
          -1.0257185592396887,
          "",
          -0.5589245486330242,
          -0.007130808141407166,
          "",
          "",
          "",
          -2.5007636750764837,
          "",
          "",
          "",
          -0.8264870169495911,
          "",
          -3.4960472917096497,
          -1.6996083911749071,
          -2.030372381841574,
          "",
          -0.3817954970282448,
          "",
          "",
          -0.5127698643589436,
          -1.0623155145241898,
          "",
          "",
          -0.8715327668902726,
          -0.397969146851724,
          "",
          "",
          "",
          -0.7046489608732367,
          -0.23458541410730183,
          -0.731111656594271,
          "",
          "",
          -1.4861998579781333,
          -0.2901407265701644,
          "",
          -0.5823752538200454,
          "",
          "",
          "",
          "",
          "",
          "",
          "",
          "",
          "",
          "",
          -2.909114454631009,
          -0.3067018598599641,
          "",
          -1.4326676995918886,
          "",
          -0.2709805569021254,
          -1.3478575975426432,
          -0.6761554885373454,
          -1.5572008891621865,
          "",
          "",
          -0.8746294317047733,
          "",
          -0.025527798451933648,
          -2.1152345964928436,
          "",
          -1.5019499555438889,
          -0.24484723886259774,
          "",
          -0.25838152195340947,
          "",
          "",
          "",
          "",
          "",
          "",
          -0.4103005535001035,
          "",
          -0.44713469821422813,
          "",
          "",
          -0.5091140829950642,
          -1.0133333116374257,
          "",
          -0.06648282814644782,
          "",
          "",
          -0.8560051277351204,
          "",
          "",
          -1.403964579415191,
          "",
          "",
          "",
          "",
          -0.23646955636072797,
          "",
          -0.35889431844354625,
          "",
          "",
          ""
         ],
         "yaxis": "y2"
        }
       ],
       "layout": {
        "hovermode": "x",
        "legend": {
         "bgcolor": "#F5F6F9",
         "font": {
          "color": "#4D5663"
         }
        },
        "paper_bgcolor": "#F5F6F9",
        "plot_bgcolor": "#F5F6F9",
        "template": {
         "data": {
          "bar": [
           {
            "error_x": {
             "color": "#2a3f5f"
            },
            "error_y": {
             "color": "#2a3f5f"
            },
            "marker": {
             "line": {
              "color": "#E5ECF6",
              "width": 0.5
             },
             "pattern": {
              "fillmode": "overlay",
              "size": 10,
              "solidity": 0.2
             }
            },
            "type": "bar"
           }
          ],
          "barpolar": [
           {
            "marker": {
             "line": {
              "color": "#E5ECF6",
              "width": 0.5
             },
             "pattern": {
              "fillmode": "overlay",
              "size": 10,
              "solidity": 0.2
             }
            },
            "type": "barpolar"
           }
          ],
          "carpet": [
           {
            "aaxis": {
             "endlinecolor": "#2a3f5f",
             "gridcolor": "white",
             "linecolor": "white",
             "minorgridcolor": "white",
             "startlinecolor": "#2a3f5f"
            },
            "baxis": {
             "endlinecolor": "#2a3f5f",
             "gridcolor": "white",
             "linecolor": "white",
             "minorgridcolor": "white",
             "startlinecolor": "#2a3f5f"
            },
            "type": "carpet"
           }
          ],
          "choropleth": [
           {
            "colorbar": {
             "outlinewidth": 0,
             "ticks": ""
            },
            "type": "choropleth"
           }
          ],
          "contour": [
           {
            "colorbar": {
             "outlinewidth": 0,
             "ticks": ""
            },
            "colorscale": [
             [
              0,
              "#0d0887"
             ],
             [
              0.1111111111111111,
              "#46039f"
             ],
             [
              0.2222222222222222,
              "#7201a8"
             ],
             [
              0.3333333333333333,
              "#9c179e"
             ],
             [
              0.4444444444444444,
              "#bd3786"
             ],
             [
              0.5555555555555556,
              "#d8576b"
             ],
             [
              0.6666666666666666,
              "#ed7953"
             ],
             [
              0.7777777777777778,
              "#fb9f3a"
             ],
             [
              0.8888888888888888,
              "#fdca26"
             ],
             [
              1,
              "#f0f921"
             ]
            ],
            "type": "contour"
           }
          ],
          "contourcarpet": [
           {
            "colorbar": {
             "outlinewidth": 0,
             "ticks": ""
            },
            "type": "contourcarpet"
           }
          ],
          "heatmap": [
           {
            "colorbar": {
             "outlinewidth": 0,
             "ticks": ""
            },
            "colorscale": [
             [
              0,
              "#0d0887"
             ],
             [
              0.1111111111111111,
              "#46039f"
             ],
             [
              0.2222222222222222,
              "#7201a8"
             ],
             [
              0.3333333333333333,
              "#9c179e"
             ],
             [
              0.4444444444444444,
              "#bd3786"
             ],
             [
              0.5555555555555556,
              "#d8576b"
             ],
             [
              0.6666666666666666,
              "#ed7953"
             ],
             [
              0.7777777777777778,
              "#fb9f3a"
             ],
             [
              0.8888888888888888,
              "#fdca26"
             ],
             [
              1,
              "#f0f921"
             ]
            ],
            "type": "heatmap"
           }
          ],
          "heatmapgl": [
           {
            "colorbar": {
             "outlinewidth": 0,
             "ticks": ""
            },
            "colorscale": [
             [
              0,
              "#0d0887"
             ],
             [
              0.1111111111111111,
              "#46039f"
             ],
             [
              0.2222222222222222,
              "#7201a8"
             ],
             [
              0.3333333333333333,
              "#9c179e"
             ],
             [
              0.4444444444444444,
              "#bd3786"
             ],
             [
              0.5555555555555556,
              "#d8576b"
             ],
             [
              0.6666666666666666,
              "#ed7953"
             ],
             [
              0.7777777777777778,
              "#fb9f3a"
             ],
             [
              0.8888888888888888,
              "#fdca26"
             ],
             [
              1,
              "#f0f921"
             ]
            ],
            "type": "heatmapgl"
           }
          ],
          "histogram": [
           {
            "marker": {
             "pattern": {
              "fillmode": "overlay",
              "size": 10,
              "solidity": 0.2
             }
            },
            "type": "histogram"
           }
          ],
          "histogram2d": [
           {
            "colorbar": {
             "outlinewidth": 0,
             "ticks": ""
            },
            "colorscale": [
             [
              0,
              "#0d0887"
             ],
             [
              0.1111111111111111,
              "#46039f"
             ],
             [
              0.2222222222222222,
              "#7201a8"
             ],
             [
              0.3333333333333333,
              "#9c179e"
             ],
             [
              0.4444444444444444,
              "#bd3786"
             ],
             [
              0.5555555555555556,
              "#d8576b"
             ],
             [
              0.6666666666666666,
              "#ed7953"
             ],
             [
              0.7777777777777778,
              "#fb9f3a"
             ],
             [
              0.8888888888888888,
              "#fdca26"
             ],
             [
              1,
              "#f0f921"
             ]
            ],
            "type": "histogram2d"
           }
          ],
          "histogram2dcontour": [
           {
            "colorbar": {
             "outlinewidth": 0,
             "ticks": ""
            },
            "colorscale": [
             [
              0,
              "#0d0887"
             ],
             [
              0.1111111111111111,
              "#46039f"
             ],
             [
              0.2222222222222222,
              "#7201a8"
             ],
             [
              0.3333333333333333,
              "#9c179e"
             ],
             [
              0.4444444444444444,
              "#bd3786"
             ],
             [
              0.5555555555555556,
              "#d8576b"
             ],
             [
              0.6666666666666666,
              "#ed7953"
             ],
             [
              0.7777777777777778,
              "#fb9f3a"
             ],
             [
              0.8888888888888888,
              "#fdca26"
             ],
             [
              1,
              "#f0f921"
             ]
            ],
            "type": "histogram2dcontour"
           }
          ],
          "mesh3d": [
           {
            "colorbar": {
             "outlinewidth": 0,
             "ticks": ""
            },
            "type": "mesh3d"
           }
          ],
          "parcoords": [
           {
            "line": {
             "colorbar": {
              "outlinewidth": 0,
              "ticks": ""
             }
            },
            "type": "parcoords"
           }
          ],
          "pie": [
           {
            "automargin": true,
            "type": "pie"
           }
          ],
          "scatter": [
           {
            "marker": {
             "colorbar": {
              "outlinewidth": 0,
              "ticks": ""
             }
            },
            "type": "scatter"
           }
          ],
          "scatter3d": [
           {
            "line": {
             "colorbar": {
              "outlinewidth": 0,
              "ticks": ""
             }
            },
            "marker": {
             "colorbar": {
              "outlinewidth": 0,
              "ticks": ""
             }
            },
            "type": "scatter3d"
           }
          ],
          "scattercarpet": [
           {
            "marker": {
             "colorbar": {
              "outlinewidth": 0,
              "ticks": ""
             }
            },
            "type": "scattercarpet"
           }
          ],
          "scattergeo": [
           {
            "marker": {
             "colorbar": {
              "outlinewidth": 0,
              "ticks": ""
             }
            },
            "type": "scattergeo"
           }
          ],
          "scattergl": [
           {
            "marker": {
             "colorbar": {
              "outlinewidth": 0,
              "ticks": ""
             }
            },
            "type": "scattergl"
           }
          ],
          "scattermapbox": [
           {
            "marker": {
             "colorbar": {
              "outlinewidth": 0,
              "ticks": ""
             }
            },
            "type": "scattermapbox"
           }
          ],
          "scatterpolar": [
           {
            "marker": {
             "colorbar": {
              "outlinewidth": 0,
              "ticks": ""
             }
            },
            "type": "scatterpolar"
           }
          ],
          "scatterpolargl": [
           {
            "marker": {
             "colorbar": {
              "outlinewidth": 0,
              "ticks": ""
             }
            },
            "type": "scatterpolargl"
           }
          ],
          "scatterternary": [
           {
            "marker": {
             "colorbar": {
              "outlinewidth": 0,
              "ticks": ""
             }
            },
            "type": "scatterternary"
           }
          ],
          "surface": [
           {
            "colorbar": {
             "outlinewidth": 0,
             "ticks": ""
            },
            "colorscale": [
             [
              0,
              "#0d0887"
             ],
             [
              0.1111111111111111,
              "#46039f"
             ],
             [
              0.2222222222222222,
              "#7201a8"
             ],
             [
              0.3333333333333333,
              "#9c179e"
             ],
             [
              0.4444444444444444,
              "#bd3786"
             ],
             [
              0.5555555555555556,
              "#d8576b"
             ],
             [
              0.6666666666666666,
              "#ed7953"
             ],
             [
              0.7777777777777778,
              "#fb9f3a"
             ],
             [
              0.8888888888888888,
              "#fdca26"
             ],
             [
              1,
              "#f0f921"
             ]
            ],
            "type": "surface"
           }
          ],
          "table": [
           {
            "cells": {
             "fill": {
              "color": "#EBF0F8"
             },
             "line": {
              "color": "white"
             }
            },
            "header": {
             "fill": {
              "color": "#C8D4E3"
             },
             "line": {
              "color": "white"
             }
            },
            "type": "table"
           }
          ]
         },
         "layout": {
          "annotationdefaults": {
           "arrowcolor": "#2a3f5f",
           "arrowhead": 0,
           "arrowwidth": 1
          },
          "autotypenumbers": "strict",
          "coloraxis": {
           "colorbar": {
            "outlinewidth": 0,
            "ticks": ""
           }
          },
          "colorscale": {
           "diverging": [
            [
             0,
             "#8e0152"
            ],
            [
             0.1,
             "#c51b7d"
            ],
            [
             0.2,
             "#de77ae"
            ],
            [
             0.3,
             "#f1b6da"
            ],
            [
             0.4,
             "#fde0ef"
            ],
            [
             0.5,
             "#f7f7f7"
            ],
            [
             0.6,
             "#e6f5d0"
            ],
            [
             0.7,
             "#b8e186"
            ],
            [
             0.8,
             "#7fbc41"
            ],
            [
             0.9,
             "#4d9221"
            ],
            [
             1,
             "#276419"
            ]
           ],
           "sequential": [
            [
             0,
             "#0d0887"
            ],
            [
             0.1111111111111111,
             "#46039f"
            ],
            [
             0.2222222222222222,
             "#7201a8"
            ],
            [
             0.3333333333333333,
             "#9c179e"
            ],
            [
             0.4444444444444444,
             "#bd3786"
            ],
            [
             0.5555555555555556,
             "#d8576b"
            ],
            [
             0.6666666666666666,
             "#ed7953"
            ],
            [
             0.7777777777777778,
             "#fb9f3a"
            ],
            [
             0.8888888888888888,
             "#fdca26"
            ],
            [
             1,
             "#f0f921"
            ]
           ],
           "sequentialminus": [
            [
             0,
             "#0d0887"
            ],
            [
             0.1111111111111111,
             "#46039f"
            ],
            [
             0.2222222222222222,
             "#7201a8"
            ],
            [
             0.3333333333333333,
             "#9c179e"
            ],
            [
             0.4444444444444444,
             "#bd3786"
            ],
            [
             0.5555555555555556,
             "#d8576b"
            ],
            [
             0.6666666666666666,
             "#ed7953"
            ],
            [
             0.7777777777777778,
             "#fb9f3a"
            ],
            [
             0.8888888888888888,
             "#fdca26"
            ],
            [
             1,
             "#f0f921"
            ]
           ]
          },
          "colorway": [
           "#636efa",
           "#EF553B",
           "#00cc96",
           "#ab63fa",
           "#FFA15A",
           "#19d3f3",
           "#FF6692",
           "#B6E880",
           "#FF97FF",
           "#FECB52"
          ],
          "font": {
           "color": "#2a3f5f"
          },
          "geo": {
           "bgcolor": "white",
           "lakecolor": "white",
           "landcolor": "#E5ECF6",
           "showlakes": true,
           "showland": true,
           "subunitcolor": "white"
          },
          "hoverlabel": {
           "align": "left"
          },
          "hovermode": "closest",
          "mapbox": {
           "style": "light"
          },
          "paper_bgcolor": "white",
          "plot_bgcolor": "#E5ECF6",
          "polar": {
           "angularaxis": {
            "gridcolor": "white",
            "linecolor": "white",
            "ticks": ""
           },
           "bgcolor": "#E5ECF6",
           "radialaxis": {
            "gridcolor": "white",
            "linecolor": "white",
            "ticks": ""
           }
          },
          "scene": {
           "xaxis": {
            "backgroundcolor": "#E5ECF6",
            "gridcolor": "white",
            "gridwidth": 2,
            "linecolor": "white",
            "showbackground": true,
            "ticks": "",
            "zerolinecolor": "white"
           },
           "yaxis": {
            "backgroundcolor": "#E5ECF6",
            "gridcolor": "white",
            "gridwidth": 2,
            "linecolor": "white",
            "showbackground": true,
            "ticks": "",
            "zerolinecolor": "white"
           },
           "zaxis": {
            "backgroundcolor": "#E5ECF6",
            "gridcolor": "white",
            "gridwidth": 2,
            "linecolor": "white",
            "showbackground": true,
            "ticks": "",
            "zerolinecolor": "white"
           }
          },
          "shapedefaults": {
           "line": {
            "color": "#2a3f5f"
           }
          },
          "ternary": {
           "aaxis": {
            "gridcolor": "white",
            "linecolor": "white",
            "ticks": ""
           },
           "baxis": {
            "gridcolor": "white",
            "linecolor": "white",
            "ticks": ""
           },
           "bgcolor": "#E5ECF6",
           "caxis": {
            "gridcolor": "white",
            "linecolor": "white",
            "ticks": ""
           }
          },
          "title": {
           "x": 0.05
          },
          "xaxis": {
           "automargin": true,
           "gridcolor": "white",
           "linecolor": "white",
           "ticks": "",
           "title": {
            "standoff": 15
           },
           "zerolinecolor": "white",
           "zerolinewidth": 2
          },
          "yaxis": {
           "automargin": true,
           "gridcolor": "white",
           "linecolor": "white",
           "ticks": "",
           "title": {
            "standoff": 15
           },
           "zerolinecolor": "white",
           "zerolinewidth": 2
          }
         }
        },
        "title": {
         "font": {
          "color": "#4D5663"
         }
        },
        "xaxis": {
         "gridcolor": "#E1E5ED",
         "showgrid": true,
         "tickfont": {
          "color": "#4D5663"
         },
         "title": {
          "font": {
           "color": "#4D5663"
          },
          "text": ""
         },
         "zerolinecolor": "#E1E5ED"
        },
        "xaxis2": {
         "anchor": "y2",
         "gridcolor": "#E1E5ED",
         "showgrid": true,
         "showticklabels": false,
         "tickfont": {
          "color": "#4D5663"
         },
         "title": {
          "font": {
           "color": "#4D5663"
          },
          "text": ""
         },
         "zerolinecolor": "#E1E5ED"
        },
        "yaxis": {
         "domain": [
          0.3,
          1
         ],
         "gridcolor": "#E1E5ED",
         "showgrid": true,
         "tickfont": {
          "color": "#4D5663"
         },
         "title": {
          "font": {
           "color": "#4D5663"
          },
          "text": ""
         },
         "zerolinecolor": "#E1E5ED"
        },
        "yaxis2": {
         "domain": [
          0,
          0.25
         ],
         "gridcolor": "#E1E5ED",
         "showgrid": true,
         "tickfont": {
          "color": "#4D5663"
         },
         "title": {
          "font": {
           "color": "#4D5663"
          },
          "text": "Spread"
         },
         "zerolinecolor": "#E1E5ED"
        }
       }
      },
      "text/html": [
       "<div>                            <div id=\"16d113f9-7c66-4491-82b2-c47a23f64da3\" class=\"plotly-graph-div\" style=\"height:525px; width:100%;\"></div>            <script type=\"text/javascript\">                require([\"plotly\"], function(Plotly) {                    window.PLOTLYENV=window.PLOTLYENV || {};\n",
       "                    window.PLOTLYENV.BASE_URL='https://plot.ly';                                    if (document.getElementById(\"16d113f9-7c66-4491-82b2-c47a23f64da3\")) {                    Plotly.newPlot(                        \"16d113f9-7c66-4491-82b2-c47a23f64da3\",                        [{\"line\":{\"color\":\"rgba(255, 153, 51, 1.0)\",\"dash\":\"solid\",\"shape\":\"linear\",\"width\":1.3},\"mode\":\"lines\",\"name\":\"A\",\"text\":\"\",\"type\":\"scatter\",\"x\":[0,1,2,3,4,5,6,7,8,9,10,11,12,13,14,15,16,17,18,19,20,21,22,23,24,25,26,27,28,29,30,31,32,33,34,35,36,37,38,39,40,41,42,43,44,45,46,47,48,49,50,51,52,53,54,55,56,57,58,59,60,61,62,63,64,65,66,67,68,69,70,71,72,73,74,75,76,77,78,79,80,81,82,83,84,85,86,87,88,89,90,91,92,93,94,95,96,97,98,99],\"y\":[0.25766725273870794,-0.9683683498568538,0.4079767983323879,-0.35521716328951264,0.1067697108260012,0.055264414905670536,0.16748678722052524,-0.03884642071252894,-1.9569206918568747,-0.012030065425278914,0.5147917475168186,-1.1929830986432766,-0.28630897965301283,-0.7269486914270185,-0.6042854575279359,-0.7860299666916818,-1.2232950810912862,-0.13550737994759923,-1.0734549238772075,0.24804028348226617,0.6481756930738801,-1.6101508373062166,-0.1609375642387576,-0.4537761843382195,0.6669660076254208,-0.844428975954758,0.5129831796429379,1.155804462649625,0.6941037484143968,2.325681370776554,-1.1934765913970897,-1.3331393887106655,-0.5842075563796505,0.823264907901564,0.5077909681150676,0.04079208347736599,-0.3774067504355232,1.684633944827573,0.8108285494289319,-0.9614720723440364,0.8033391836123334,1.366141053396587,1.22710335380521,0.5007861886024525,0.343001046248468,0.9821044423294414,1.058739583049605,-0.302159064903064,0.01997985590888351,-0.33131002906924917,0.2717518499836177,1.3142633549959786,-0.8617857664810039,0.1400785711199423,0.45416005353468314,-1.6845394060445138,-1.2870651849530947,-1.368366894386971,0.7796978263073777,0.8049718982440207,0.6720806332514321,0.019012236335749715,0.9820030162836629,-1.3032056716341103,0.24368134319022605,-0.11259416554794206,0.4777042747792598,0.7994237775854384,-0.5912923178386565,1.8620316169982516,1.5979147218970453,0.6982224574224856,0.06113753691724821,0.2011006952610454,-0.5264422448448134,-0.2860199234535764,1.1520711810777065,0.3853847234561283,0.8496286363248838,0.21092045657163339,0.4992727903258261,0.019602502769003088,1.479898271696008,0.13819373894873163,0.4943303710765866,0.8121478456947057,-0.920576847331459,0.10674261995226657,1.2436406766350976,0.6251502982138215,0.5576995553252935,0.15981433848144747,-0.46484952881209385,0.34931673594281165,-1.3197036618486955,2.030244713325367,1.3293527484805516,-0.6014582498008547,2.3177502612429897,0.24869161904699996]},{\"line\":{\"color\":\"rgba(55, 128, 191, 1.0)\",\"dash\":\"solid\",\"shape\":\"linear\",\"width\":1.3},\"mode\":\"lines\",\"name\":\"B\",\"text\":\"\",\"type\":\"scatter\",\"x\":[0,1,2,3,4,5,6,7,8,9,10,11,12,13,14,15,16,17,18,19,20,21,22,23,24,25,26,27,28,29,30,31,32,33,34,35,36,37,38,39,40,41,42,43,44,45,46,47,48,49,50,51,52,53,54,55,56,57,58,59,60,61,62,63,64,65,66,67,68,69,70,71,72,73,74,75,76,77,78,79,80,81,82,83,84,85,86,87,88,89,90,91,92,93,94,95,96,97,98,99],\"y\":[1.3248435021986862,0.05735020938283478,-1.3252283251090466,0.2037073853435116,0.11390051896740837,0.036274803977040415,0.07886059125519548,-0.2107540123227492,0.5438429832196089,-1.495186139925318,-0.2786757262126936,-2.2472868977499583,0.5401780372965783,-1.2660125619710452,2.8917618341817137,0.9135784244832255,0.8070773007502883,-0.47655287637741833,-0.6916594268489628,-0.29857439303094707,-0.5028419053588357,-1.097380972947273,0.9013779502854321,-2.0539267239812853,-0.09946671171319675,0.027103790935514682,0.910952326494662,-0.3450271482134044,-2.016022367725986,1.2318197128416584,-0.48882763052385303,-1.0985539746033637,0.1469041002146205,-1.8300962817655162,0.3295661962110016,1.5269919414554993,-0.08726602386535882,-0.2746372475405285,1.3932038032489773,-1.5396569571609415,0.27825546855211997,-1.2105974754365512,-1.117995856964468,-0.08862087958247215,-0.19882957813497953,-0.046593485481045395,-0.2823150761795257,-0.909045608470984,-1.2859323567159786,2.57780442556176,0.5784537098435818,0.28312410196352455,0.5708819331108846,0.13193351121742164,0.7251406104368086,-0.33668180850187046,-0.6109096964157493,0.18883399477521554,0.525884140083572,-0.29113233390150467,1.5467100649562053,-1.5034114282884632,1.0075308147355966,0.8120289248587333,-1.3825380096125786,1.3893557899959468,0.7225515136418575,-2.0990836574963083,-0.3329107958852471,-0.20557479439035437,1.2586533985172603,-0.3623865838613117,-1.81009497493966,-0.8144051264697689,-0.8543728528659726,0.12428063004652715,0.42154333813920025,0.8325194216703564,-1.1316678358816619,-0.6752053609299112,1.0083868733208903,1.0329358144064287,0.24154683429897433,0.20467656709517945,0.4480733678860193,-1.4973501519227976,-0.06457171959633856,-0.7267026226309786,0.38549482127688767,2.0291148776290124,-0.7242805841989912,-0.8436208979113577,-0.9355965444051567,-1.2924130300577341,-1.0832341054879675,0.40071963830041823,1.6882470669240979,-1.8897243883593906,-1.73705358562559,-1.5599300069598463]},{\"connectgaps\":false,\"fill\":\"tozeroy\",\"line\":{\"color\":\"green\",\"dash\":\"solid\",\"shape\":\"linear\",\"width\":0.5},\"mode\":\"lines\",\"name\":\"Spread\",\"showlegend\":false,\"type\":\"scatter\",\"x\":[0,1,2,3,4,5,6,7,8,9,10,11,12,13,14,15,16,17,18,19,20,21,22,23,24,25,26,27,28,29,30,31,32,33,34,35,36,37,38,39,40,41,42,43,44,45,46,47,48,49,50,51,52,53,54,55,56,57,58,59,60,61,62,63,64,65,66,67,68,69,70,71,72,73,74,75,76,77,78,79,80,81,82,83,84,85,86,87,88,89,90,91,92,93,94,95,96,97,98,99],\"xaxis\":\"x2\",\"y\":[\"\",\"\",1.7332051234414345,\"\",\"\",0.01898961092863012,0.08862619596532975,0.17190759161022026,\"\",1.483156074500039,0.7934674737295122,1.0543037991066817,\"\",0.5390638705440267,\"\",\"\",\"\",0.3410454964298191,\"\",0.5466146765132133,1.1510175984327158,\"\",\"\",1.6001505396430658,0.7664327193386176,\"\",\"\",1.5008316108630295,2.710126116140383,1.0938616579348954,\"\",\"\",\"\",2.65336118966708,0.17822477190406605,\"\",\"\",1.9592711923681014,\"\",0.5781848848169051,0.5250837150602135,2.576738528833138,2.345099210769678,0.5894070681849246,0.5418306243834475,1.0286979278104869,1.3410546592291306,0.60688654356792,1.3059122126248621,\"\",\"\",1.0311392530324541,\"\",0.008145059902520652,\"\",\"\",\"\",\"\",0.25381368622380573,1.0961042321455254,\"\",1.5224236646242129,\"\",\"\",1.6262193528028046,\"\",\"\",2.8985074350817466,\"\",2.067606411388606,0.339261323379785,1.0606090412837972,1.8712325118569082,1.0155058217308144,0.32793060802115925,\"\",0.7305278429385063,\"\",1.9812964722065458,0.8861258175015446,\"\",\"\",1.2383514373970337,\"\",0.0462570031905673,2.309497997617503,\"\",0.8334452425832451,0.85814585535821,\"\",1.2819801395242847,1.0034352363928052,0.47074701559306287,1.6417297660005459,\"\",1.6295250750249486,\"\",1.288266138558536,4.054803846868579,1.8086216260068462],\"yaxis\":\"y2\"},{\"connectgaps\":false,\"fill\":\"tozeroy\",\"line\":{\"color\":\"red\",\"dash\":\"solid\",\"shape\":\"linear\",\"width\":0.5},\"mode\":\"lines\",\"name\":\"Spread\",\"showlegend\":false,\"type\":\"scatter\",\"x\":[0,1,2,3,4,5,6,7,8,9,10,11,12,13,14,15,16,17,18,19,20,21,22,23,24,25,26,27,28,29,30,31,32,33,34,35,36,37,38,39,40,41,42,43,44,45,46,47,48,49,50,51,52,53,54,55,56,57,58,59,60,61,62,63,64,65,66,67,68,69,70,71,72,73,74,75,76,77,78,79,80,81,82,83,84,85,86,87,88,89,90,91,92,93,94,95,96,97,98,99],\"xaxis\":\"x2\",\"y\":[-1.0671762494599784,-1.0257185592396887,\"\",-0.5589245486330242,-0.007130808141407166,\"\",\"\",\"\",-2.5007636750764837,\"\",\"\",\"\",-0.8264870169495911,\"\",-3.4960472917096497,-1.6996083911749071,-2.030372381841574,\"\",-0.3817954970282448,\"\",\"\",-0.5127698643589436,-1.0623155145241898,\"\",\"\",-0.8715327668902726,-0.397969146851724,\"\",\"\",\"\",-0.7046489608732367,-0.23458541410730183,-0.731111656594271,\"\",\"\",-1.4861998579781333,-0.2901407265701644,\"\",-0.5823752538200454,\"\",\"\",\"\",\"\",\"\",\"\",\"\",\"\",\"\",\"\",-2.909114454631009,-0.3067018598599641,\"\",-1.4326676995918886,\"\",-0.2709805569021254,-1.3478575975426432,-0.6761554885373454,-1.5572008891621865,\"\",\"\",-0.8746294317047733,\"\",-0.025527798451933648,-2.1152345964928436,\"\",-1.5019499555438889,-0.24484723886259774,\"\",-0.25838152195340947,\"\",\"\",\"\",\"\",\"\",\"\",-0.4103005535001035,\"\",-0.44713469821422813,\"\",\"\",-0.5091140829950642,-1.0133333116374257,\"\",-0.06648282814644782,\"\",\"\",-0.8560051277351204,\"\",\"\",-1.403964579415191,\"\",\"\",\"\",\"\",-0.23646955636072797,\"\",-0.35889431844354625,\"\",\"\",\"\"],\"yaxis\":\"y2\"}],                        {\"hovermode\":\"x\",\"legend\":{\"bgcolor\":\"#F5F6F9\",\"font\":{\"color\":\"#4D5663\"}},\"paper_bgcolor\":\"#F5F6F9\",\"plot_bgcolor\":\"#F5F6F9\",\"template\":{\"data\":{\"bar\":[{\"error_x\":{\"color\":\"#2a3f5f\"},\"error_y\":{\"color\":\"#2a3f5f\"},\"marker\":{\"line\":{\"color\":\"#E5ECF6\",\"width\":0.5},\"pattern\":{\"fillmode\":\"overlay\",\"size\":10,\"solidity\":0.2}},\"type\":\"bar\"}],\"barpolar\":[{\"marker\":{\"line\":{\"color\":\"#E5ECF6\",\"width\":0.5},\"pattern\":{\"fillmode\":\"overlay\",\"size\":10,\"solidity\":0.2}},\"type\":\"barpolar\"}],\"carpet\":[{\"aaxis\":{\"endlinecolor\":\"#2a3f5f\",\"gridcolor\":\"white\",\"linecolor\":\"white\",\"minorgridcolor\":\"white\",\"startlinecolor\":\"#2a3f5f\"},\"baxis\":{\"endlinecolor\":\"#2a3f5f\",\"gridcolor\":\"white\",\"linecolor\":\"white\",\"minorgridcolor\":\"white\",\"startlinecolor\":\"#2a3f5f\"},\"type\":\"carpet\"}],\"choropleth\":[{\"colorbar\":{\"outlinewidth\":0,\"ticks\":\"\"},\"type\":\"choropleth\"}],\"contour\":[{\"colorbar\":{\"outlinewidth\":0,\"ticks\":\"\"},\"colorscale\":[[0.0,\"#0d0887\"],[0.1111111111111111,\"#46039f\"],[0.2222222222222222,\"#7201a8\"],[0.3333333333333333,\"#9c179e\"],[0.4444444444444444,\"#bd3786\"],[0.5555555555555556,\"#d8576b\"],[0.6666666666666666,\"#ed7953\"],[0.7777777777777778,\"#fb9f3a\"],[0.8888888888888888,\"#fdca26\"],[1.0,\"#f0f921\"]],\"type\":\"contour\"}],\"contourcarpet\":[{\"colorbar\":{\"outlinewidth\":0,\"ticks\":\"\"},\"type\":\"contourcarpet\"}],\"heatmap\":[{\"colorbar\":{\"outlinewidth\":0,\"ticks\":\"\"},\"colorscale\":[[0.0,\"#0d0887\"],[0.1111111111111111,\"#46039f\"],[0.2222222222222222,\"#7201a8\"],[0.3333333333333333,\"#9c179e\"],[0.4444444444444444,\"#bd3786\"],[0.5555555555555556,\"#d8576b\"],[0.6666666666666666,\"#ed7953\"],[0.7777777777777778,\"#fb9f3a\"],[0.8888888888888888,\"#fdca26\"],[1.0,\"#f0f921\"]],\"type\":\"heatmap\"}],\"heatmapgl\":[{\"colorbar\":{\"outlinewidth\":0,\"ticks\":\"\"},\"colorscale\":[[0.0,\"#0d0887\"],[0.1111111111111111,\"#46039f\"],[0.2222222222222222,\"#7201a8\"],[0.3333333333333333,\"#9c179e\"],[0.4444444444444444,\"#bd3786\"],[0.5555555555555556,\"#d8576b\"],[0.6666666666666666,\"#ed7953\"],[0.7777777777777778,\"#fb9f3a\"],[0.8888888888888888,\"#fdca26\"],[1.0,\"#f0f921\"]],\"type\":\"heatmapgl\"}],\"histogram\":[{\"marker\":{\"pattern\":{\"fillmode\":\"overlay\",\"size\":10,\"solidity\":0.2}},\"type\":\"histogram\"}],\"histogram2d\":[{\"colorbar\":{\"outlinewidth\":0,\"ticks\":\"\"},\"colorscale\":[[0.0,\"#0d0887\"],[0.1111111111111111,\"#46039f\"],[0.2222222222222222,\"#7201a8\"],[0.3333333333333333,\"#9c179e\"],[0.4444444444444444,\"#bd3786\"],[0.5555555555555556,\"#d8576b\"],[0.6666666666666666,\"#ed7953\"],[0.7777777777777778,\"#fb9f3a\"],[0.8888888888888888,\"#fdca26\"],[1.0,\"#f0f921\"]],\"type\":\"histogram2d\"}],\"histogram2dcontour\":[{\"colorbar\":{\"outlinewidth\":0,\"ticks\":\"\"},\"colorscale\":[[0.0,\"#0d0887\"],[0.1111111111111111,\"#46039f\"],[0.2222222222222222,\"#7201a8\"],[0.3333333333333333,\"#9c179e\"],[0.4444444444444444,\"#bd3786\"],[0.5555555555555556,\"#d8576b\"],[0.6666666666666666,\"#ed7953\"],[0.7777777777777778,\"#fb9f3a\"],[0.8888888888888888,\"#fdca26\"],[1.0,\"#f0f921\"]],\"type\":\"histogram2dcontour\"}],\"mesh3d\":[{\"colorbar\":{\"outlinewidth\":0,\"ticks\":\"\"},\"type\":\"mesh3d\"}],\"parcoords\":[{\"line\":{\"colorbar\":{\"outlinewidth\":0,\"ticks\":\"\"}},\"type\":\"parcoords\"}],\"pie\":[{\"automargin\":true,\"type\":\"pie\"}],\"scatter\":[{\"marker\":{\"colorbar\":{\"outlinewidth\":0,\"ticks\":\"\"}},\"type\":\"scatter\"}],\"scatter3d\":[{\"line\":{\"colorbar\":{\"outlinewidth\":0,\"ticks\":\"\"}},\"marker\":{\"colorbar\":{\"outlinewidth\":0,\"ticks\":\"\"}},\"type\":\"scatter3d\"}],\"scattercarpet\":[{\"marker\":{\"colorbar\":{\"outlinewidth\":0,\"ticks\":\"\"}},\"type\":\"scattercarpet\"}],\"scattergeo\":[{\"marker\":{\"colorbar\":{\"outlinewidth\":0,\"ticks\":\"\"}},\"type\":\"scattergeo\"}],\"scattergl\":[{\"marker\":{\"colorbar\":{\"outlinewidth\":0,\"ticks\":\"\"}},\"type\":\"scattergl\"}],\"scattermapbox\":[{\"marker\":{\"colorbar\":{\"outlinewidth\":0,\"ticks\":\"\"}},\"type\":\"scattermapbox\"}],\"scatterpolar\":[{\"marker\":{\"colorbar\":{\"outlinewidth\":0,\"ticks\":\"\"}},\"type\":\"scatterpolar\"}],\"scatterpolargl\":[{\"marker\":{\"colorbar\":{\"outlinewidth\":0,\"ticks\":\"\"}},\"type\":\"scatterpolargl\"}],\"scatterternary\":[{\"marker\":{\"colorbar\":{\"outlinewidth\":0,\"ticks\":\"\"}},\"type\":\"scatterternary\"}],\"surface\":[{\"colorbar\":{\"outlinewidth\":0,\"ticks\":\"\"},\"colorscale\":[[0.0,\"#0d0887\"],[0.1111111111111111,\"#46039f\"],[0.2222222222222222,\"#7201a8\"],[0.3333333333333333,\"#9c179e\"],[0.4444444444444444,\"#bd3786\"],[0.5555555555555556,\"#d8576b\"],[0.6666666666666666,\"#ed7953\"],[0.7777777777777778,\"#fb9f3a\"],[0.8888888888888888,\"#fdca26\"],[1.0,\"#f0f921\"]],\"type\":\"surface\"}],\"table\":[{\"cells\":{\"fill\":{\"color\":\"#EBF0F8\"},\"line\":{\"color\":\"white\"}},\"header\":{\"fill\":{\"color\":\"#C8D4E3\"},\"line\":{\"color\":\"white\"}},\"type\":\"table\"}]},\"layout\":{\"annotationdefaults\":{\"arrowcolor\":\"#2a3f5f\",\"arrowhead\":0,\"arrowwidth\":1},\"autotypenumbers\":\"strict\",\"coloraxis\":{\"colorbar\":{\"outlinewidth\":0,\"ticks\":\"\"}},\"colorscale\":{\"diverging\":[[0,\"#8e0152\"],[0.1,\"#c51b7d\"],[0.2,\"#de77ae\"],[0.3,\"#f1b6da\"],[0.4,\"#fde0ef\"],[0.5,\"#f7f7f7\"],[0.6,\"#e6f5d0\"],[0.7,\"#b8e186\"],[0.8,\"#7fbc41\"],[0.9,\"#4d9221\"],[1,\"#276419\"]],\"sequential\":[[0.0,\"#0d0887\"],[0.1111111111111111,\"#46039f\"],[0.2222222222222222,\"#7201a8\"],[0.3333333333333333,\"#9c179e\"],[0.4444444444444444,\"#bd3786\"],[0.5555555555555556,\"#d8576b\"],[0.6666666666666666,\"#ed7953\"],[0.7777777777777778,\"#fb9f3a\"],[0.8888888888888888,\"#fdca26\"],[1.0,\"#f0f921\"]],\"sequentialminus\":[[0.0,\"#0d0887\"],[0.1111111111111111,\"#46039f\"],[0.2222222222222222,\"#7201a8\"],[0.3333333333333333,\"#9c179e\"],[0.4444444444444444,\"#bd3786\"],[0.5555555555555556,\"#d8576b\"],[0.6666666666666666,\"#ed7953\"],[0.7777777777777778,\"#fb9f3a\"],[0.8888888888888888,\"#fdca26\"],[1.0,\"#f0f921\"]]},\"colorway\":[\"#636efa\",\"#EF553B\",\"#00cc96\",\"#ab63fa\",\"#FFA15A\",\"#19d3f3\",\"#FF6692\",\"#B6E880\",\"#FF97FF\",\"#FECB52\"],\"font\":{\"color\":\"#2a3f5f\"},\"geo\":{\"bgcolor\":\"white\",\"lakecolor\":\"white\",\"landcolor\":\"#E5ECF6\",\"showlakes\":true,\"showland\":true,\"subunitcolor\":\"white\"},\"hoverlabel\":{\"align\":\"left\"},\"hovermode\":\"closest\",\"mapbox\":{\"style\":\"light\"},\"paper_bgcolor\":\"white\",\"plot_bgcolor\":\"#E5ECF6\",\"polar\":{\"angularaxis\":{\"gridcolor\":\"white\",\"linecolor\":\"white\",\"ticks\":\"\"},\"bgcolor\":\"#E5ECF6\",\"radialaxis\":{\"gridcolor\":\"white\",\"linecolor\":\"white\",\"ticks\":\"\"}},\"scene\":{\"xaxis\":{\"backgroundcolor\":\"#E5ECF6\",\"gridcolor\":\"white\",\"gridwidth\":2,\"linecolor\":\"white\",\"showbackground\":true,\"ticks\":\"\",\"zerolinecolor\":\"white\"},\"yaxis\":{\"backgroundcolor\":\"#E5ECF6\",\"gridcolor\":\"white\",\"gridwidth\":2,\"linecolor\":\"white\",\"showbackground\":true,\"ticks\":\"\",\"zerolinecolor\":\"white\"},\"zaxis\":{\"backgroundcolor\":\"#E5ECF6\",\"gridcolor\":\"white\",\"gridwidth\":2,\"linecolor\":\"white\",\"showbackground\":true,\"ticks\":\"\",\"zerolinecolor\":\"white\"}},\"shapedefaults\":{\"line\":{\"color\":\"#2a3f5f\"}},\"ternary\":{\"aaxis\":{\"gridcolor\":\"white\",\"linecolor\":\"white\",\"ticks\":\"\"},\"baxis\":{\"gridcolor\":\"white\",\"linecolor\":\"white\",\"ticks\":\"\"},\"bgcolor\":\"#E5ECF6\",\"caxis\":{\"gridcolor\":\"white\",\"linecolor\":\"white\",\"ticks\":\"\"}},\"title\":{\"x\":0.05},\"xaxis\":{\"automargin\":true,\"gridcolor\":\"white\",\"linecolor\":\"white\",\"ticks\":\"\",\"title\":{\"standoff\":15},\"zerolinecolor\":\"white\",\"zerolinewidth\":2},\"yaxis\":{\"automargin\":true,\"gridcolor\":\"white\",\"linecolor\":\"white\",\"ticks\":\"\",\"title\":{\"standoff\":15},\"zerolinecolor\":\"white\",\"zerolinewidth\":2}}},\"title\":{\"font\":{\"color\":\"#4D5663\"}},\"xaxis\":{\"gridcolor\":\"#E1E5ED\",\"showgrid\":true,\"tickfont\":{\"color\":\"#4D5663\"},\"title\":{\"font\":{\"color\":\"#4D5663\"},\"text\":\"\"},\"zerolinecolor\":\"#E1E5ED\"},\"xaxis2\":{\"anchor\":\"y2\",\"gridcolor\":\"#E1E5ED\",\"showgrid\":true,\"showticklabels\":false,\"tickfont\":{\"color\":\"#4D5663\"},\"title\":{\"font\":{\"color\":\"#4D5663\"},\"text\":\"\"},\"zerolinecolor\":\"#E1E5ED\"},\"yaxis\":{\"domain\":[0.3,1],\"gridcolor\":\"#E1E5ED\",\"showgrid\":true,\"tickfont\":{\"color\":\"#4D5663\"},\"title\":{\"font\":{\"color\":\"#4D5663\"},\"text\":\"\"},\"zerolinecolor\":\"#E1E5ED\"},\"yaxis2\":{\"domain\":[0,0.25],\"gridcolor\":\"#E1E5ED\",\"showgrid\":true,\"tickfont\":{\"color\":\"#4D5663\"},\"title\":{\"font\":{\"color\":\"#4D5663\"},\"text\":\"Spread\"},\"zerolinecolor\":\"#E1E5ED\"}},                        {\"showLink\": true, \"linkText\": \"Export to plot.ly\", \"plotlyServerURL\": \"https://plot.ly\", \"responsive\": true}                    ).then(function(){\n",
       "                            \n",
       "var gd = document.getElementById('16d113f9-7c66-4491-82b2-c47a23f64da3');\n",
       "var x = new MutationObserver(function (mutations, observer) {{\n",
       "        var display = window.getComputedStyle(gd).display;\n",
       "        if (!display || display === 'none') {{\n",
       "            console.log([gd, 'removed!']);\n",
       "            Plotly.purge(gd);\n",
       "            observer.disconnect();\n",
       "        }}\n",
       "}});\n",
       "\n",
       "// Listen for the removal of the full notebook cells\n",
       "var notebookContainer = gd.closest('#notebook-container');\n",
       "if (notebookContainer) {{\n",
       "    x.observe(notebookContainer, {childList: true});\n",
       "}}\n",
       "\n",
       "// Listen for the clearing of the current output cell\n",
       "var outputEl = gd.closest('.output');\n",
       "if (outputEl) {{\n",
       "    x.observe(outputEl, {childList: true});\n",
       "}}\n",
       "\n",
       "                        })                };                });            </script>        </div>"
      ]
     },
     "metadata": {},
     "output_type": "display_data"
    }
   ],
   "source": [
    "df[['A','B']].iplot(kind='spread')"
   ]
  },
  {
   "cell_type": "code",
   "execution_count": 30,
   "id": "fd0ab269",
   "metadata": {},
   "outputs": [
    {
     "data": {
      "application/vnd.plotly.v1+json": {
       "config": {
        "linkText": "Export to plot.ly",
        "plotlyServerURL": "https://plot.ly",
        "showLink": true
       },
       "data": [
        {
         "marker": {
          "color": [
           "rgb(255, 153, 51)",
           "rgb(55, 128, 191)",
           "rgb(50, 171, 96)",
           "rgb(128, 0, 128)",
           "rgb(219, 64, 82)",
           "rgb(0, 128, 128)",
           "rgb(255, 255, 51)",
           "rgb(128, 128, 0)",
           "rgb(251, 128, 114)",
           "rgb(128, 177, 211)"
          ],
          "line": {
           "width": 1.3
          },
          "size": [
           20,
           69,
           72,
           48,
           71,
           83,
           49,
           44,
           36,
           36,
           98,
           57,
           62,
           56,
           54,
           54,
           26,
           70,
           62,
           50,
           63,
           49,
           85,
           68,
           51,
           37,
           28,
           32,
           29,
           53,
           47,
           56,
           76,
           78,
           22,
           54,
           49,
           47,
           12,
           106,
           67,
           33,
           38,
           72,
           71,
           32,
           52,
           51,
           80,
           112,
           84,
           52,
           48,
           74,
           63,
           53,
           54,
           65,
           38,
           33,
           92,
           36,
           79,
           52,
           43,
           35,
           57,
           54,
           64,
           71,
           44,
           72,
           67,
           85,
           55,
           70,
           56,
           57,
           61,
           48,
           47,
           73,
           16,
           81,
           75,
           63,
           59,
           68,
           43,
           74,
           62,
           87,
           71,
           53,
           41,
           67,
           40,
           49,
           68,
           32
          ],
          "symbol": "circle"
         },
         "mode": "markers",
         "text": "",
         "type": "scatter",
         "x": [
          0.25766725273870794,
          -0.9683683498568538,
          0.4079767983323879,
          -0.35521716328951264,
          0.1067697108260012,
          0.055264414905670536,
          0.16748678722052524,
          -0.03884642071252894,
          -1.9569206918568747,
          -0.012030065425278914,
          0.5147917475168186,
          -1.1929830986432766,
          -0.28630897965301283,
          -0.7269486914270185,
          -0.6042854575279359,
          -0.7860299666916818,
          -1.2232950810912862,
          -0.13550737994759923,
          -1.0734549238772075,
          0.24804028348226617,
          0.6481756930738801,
          -1.6101508373062166,
          -0.1609375642387576,
          -0.4537761843382195,
          0.6669660076254208,
          -0.844428975954758,
          0.5129831796429379,
          1.155804462649625,
          0.6941037484143968,
          2.325681370776554,
          -1.1934765913970897,
          -1.3331393887106655,
          -0.5842075563796505,
          0.823264907901564,
          0.5077909681150676,
          0.04079208347736599,
          -0.3774067504355232,
          1.684633944827573,
          0.8108285494289319,
          -0.9614720723440364,
          0.8033391836123334,
          1.366141053396587,
          1.22710335380521,
          0.5007861886024525,
          0.343001046248468,
          0.9821044423294414,
          1.058739583049605,
          -0.302159064903064,
          0.01997985590888351,
          -0.33131002906924917,
          0.2717518499836177,
          1.3142633549959786,
          -0.8617857664810039,
          0.1400785711199423,
          0.45416005353468314,
          -1.6845394060445138,
          -1.2870651849530947,
          -1.368366894386971,
          0.7796978263073777,
          0.8049718982440207,
          0.6720806332514321,
          0.019012236335749715,
          0.9820030162836629,
          -1.3032056716341103,
          0.24368134319022605,
          -0.11259416554794206,
          0.4777042747792598,
          0.7994237775854384,
          -0.5912923178386565,
          1.8620316169982516,
          1.5979147218970453,
          0.6982224574224856,
          0.06113753691724821,
          0.2011006952610454,
          -0.5264422448448134,
          -0.2860199234535764,
          1.1520711810777065,
          0.3853847234561283,
          0.8496286363248838,
          0.21092045657163339,
          0.4992727903258261,
          0.019602502769003088,
          1.479898271696008,
          0.13819373894873163,
          0.4943303710765866,
          0.8121478456947057,
          -0.920576847331459,
          0.10674261995226657,
          1.2436406766350976,
          0.6251502982138215,
          0.5576995553252935,
          0.15981433848144747,
          -0.46484952881209385,
          0.34931673594281165,
          -1.3197036618486955,
          2.030244713325367,
          1.3293527484805516,
          -0.6014582498008547,
          2.3177502612429897,
          0.24869161904699996
         ],
         "y": [
          1.3248435021986862,
          0.05735020938283478,
          -1.3252283251090466,
          0.2037073853435116,
          0.11390051896740837,
          0.036274803977040415,
          0.07886059125519548,
          -0.2107540123227492,
          0.5438429832196089,
          -1.495186139925318,
          -0.2786757262126936,
          -2.2472868977499583,
          0.5401780372965783,
          -1.2660125619710452,
          2.8917618341817137,
          0.9135784244832255,
          0.8070773007502883,
          -0.47655287637741833,
          -0.6916594268489628,
          -0.29857439303094707,
          -0.5028419053588357,
          -1.097380972947273,
          0.9013779502854321,
          -2.0539267239812853,
          -0.09946671171319675,
          0.027103790935514682,
          0.910952326494662,
          -0.3450271482134044,
          -2.016022367725986,
          1.2318197128416584,
          -0.48882763052385303,
          -1.0985539746033637,
          0.1469041002146205,
          -1.8300962817655162,
          0.3295661962110016,
          1.5269919414554993,
          -0.08726602386535882,
          -0.2746372475405285,
          1.3932038032489773,
          -1.5396569571609415,
          0.27825546855211997,
          -1.2105974754365512,
          -1.117995856964468,
          -0.08862087958247215,
          -0.19882957813497953,
          -0.046593485481045395,
          -0.2823150761795257,
          -0.909045608470984,
          -1.2859323567159786,
          2.57780442556176,
          0.5784537098435818,
          0.28312410196352455,
          0.5708819331108846,
          0.13193351121742164,
          0.7251406104368086,
          -0.33668180850187046,
          -0.6109096964157493,
          0.18883399477521554,
          0.525884140083572,
          -0.29113233390150467,
          1.5467100649562053,
          -1.5034114282884632,
          1.0075308147355966,
          0.8120289248587333,
          -1.3825380096125786,
          1.3893557899959468,
          0.7225515136418575,
          -2.0990836574963083,
          -0.3329107958852471,
          -0.20557479439035437,
          1.2586533985172603,
          -0.3623865838613117,
          -1.81009497493966,
          -0.8144051264697689,
          -0.8543728528659726,
          0.12428063004652715,
          0.42154333813920025,
          0.8325194216703564,
          -1.1316678358816619,
          -0.6752053609299112,
          1.0083868733208903,
          1.0329358144064287,
          0.24154683429897433,
          0.20467656709517945,
          0.4480733678860193,
          -1.4973501519227976,
          -0.06457171959633856,
          -0.7267026226309786,
          0.38549482127688767,
          2.0291148776290124,
          -0.7242805841989912,
          -0.8436208979113577,
          -0.9355965444051567,
          -1.2924130300577341,
          -1.0832341054879675,
          0.40071963830041823,
          1.6882470669240979,
          -1.8897243883593906,
          -1.73705358562559,
          -1.5599300069598463
         ]
        }
       ],
       "layout": {
        "legend": {
         "bgcolor": "#F5F6F9",
         "font": {
          "color": "#4D5663"
         }
        },
        "paper_bgcolor": "#F5F6F9",
        "plot_bgcolor": "#F5F6F9",
        "template": {
         "data": {
          "bar": [
           {
            "error_x": {
             "color": "#2a3f5f"
            },
            "error_y": {
             "color": "#2a3f5f"
            },
            "marker": {
             "line": {
              "color": "#E5ECF6",
              "width": 0.5
             },
             "pattern": {
              "fillmode": "overlay",
              "size": 10,
              "solidity": 0.2
             }
            },
            "type": "bar"
           }
          ],
          "barpolar": [
           {
            "marker": {
             "line": {
              "color": "#E5ECF6",
              "width": 0.5
             },
             "pattern": {
              "fillmode": "overlay",
              "size": 10,
              "solidity": 0.2
             }
            },
            "type": "barpolar"
           }
          ],
          "carpet": [
           {
            "aaxis": {
             "endlinecolor": "#2a3f5f",
             "gridcolor": "white",
             "linecolor": "white",
             "minorgridcolor": "white",
             "startlinecolor": "#2a3f5f"
            },
            "baxis": {
             "endlinecolor": "#2a3f5f",
             "gridcolor": "white",
             "linecolor": "white",
             "minorgridcolor": "white",
             "startlinecolor": "#2a3f5f"
            },
            "type": "carpet"
           }
          ],
          "choropleth": [
           {
            "colorbar": {
             "outlinewidth": 0,
             "ticks": ""
            },
            "type": "choropleth"
           }
          ],
          "contour": [
           {
            "colorbar": {
             "outlinewidth": 0,
             "ticks": ""
            },
            "colorscale": [
             [
              0,
              "#0d0887"
             ],
             [
              0.1111111111111111,
              "#46039f"
             ],
             [
              0.2222222222222222,
              "#7201a8"
             ],
             [
              0.3333333333333333,
              "#9c179e"
             ],
             [
              0.4444444444444444,
              "#bd3786"
             ],
             [
              0.5555555555555556,
              "#d8576b"
             ],
             [
              0.6666666666666666,
              "#ed7953"
             ],
             [
              0.7777777777777778,
              "#fb9f3a"
             ],
             [
              0.8888888888888888,
              "#fdca26"
             ],
             [
              1,
              "#f0f921"
             ]
            ],
            "type": "contour"
           }
          ],
          "contourcarpet": [
           {
            "colorbar": {
             "outlinewidth": 0,
             "ticks": ""
            },
            "type": "contourcarpet"
           }
          ],
          "heatmap": [
           {
            "colorbar": {
             "outlinewidth": 0,
             "ticks": ""
            },
            "colorscale": [
             [
              0,
              "#0d0887"
             ],
             [
              0.1111111111111111,
              "#46039f"
             ],
             [
              0.2222222222222222,
              "#7201a8"
             ],
             [
              0.3333333333333333,
              "#9c179e"
             ],
             [
              0.4444444444444444,
              "#bd3786"
             ],
             [
              0.5555555555555556,
              "#d8576b"
             ],
             [
              0.6666666666666666,
              "#ed7953"
             ],
             [
              0.7777777777777778,
              "#fb9f3a"
             ],
             [
              0.8888888888888888,
              "#fdca26"
             ],
             [
              1,
              "#f0f921"
             ]
            ],
            "type": "heatmap"
           }
          ],
          "heatmapgl": [
           {
            "colorbar": {
             "outlinewidth": 0,
             "ticks": ""
            },
            "colorscale": [
             [
              0,
              "#0d0887"
             ],
             [
              0.1111111111111111,
              "#46039f"
             ],
             [
              0.2222222222222222,
              "#7201a8"
             ],
             [
              0.3333333333333333,
              "#9c179e"
             ],
             [
              0.4444444444444444,
              "#bd3786"
             ],
             [
              0.5555555555555556,
              "#d8576b"
             ],
             [
              0.6666666666666666,
              "#ed7953"
             ],
             [
              0.7777777777777778,
              "#fb9f3a"
             ],
             [
              0.8888888888888888,
              "#fdca26"
             ],
             [
              1,
              "#f0f921"
             ]
            ],
            "type": "heatmapgl"
           }
          ],
          "histogram": [
           {
            "marker": {
             "pattern": {
              "fillmode": "overlay",
              "size": 10,
              "solidity": 0.2
             }
            },
            "type": "histogram"
           }
          ],
          "histogram2d": [
           {
            "colorbar": {
             "outlinewidth": 0,
             "ticks": ""
            },
            "colorscale": [
             [
              0,
              "#0d0887"
             ],
             [
              0.1111111111111111,
              "#46039f"
             ],
             [
              0.2222222222222222,
              "#7201a8"
             ],
             [
              0.3333333333333333,
              "#9c179e"
             ],
             [
              0.4444444444444444,
              "#bd3786"
             ],
             [
              0.5555555555555556,
              "#d8576b"
             ],
             [
              0.6666666666666666,
              "#ed7953"
             ],
             [
              0.7777777777777778,
              "#fb9f3a"
             ],
             [
              0.8888888888888888,
              "#fdca26"
             ],
             [
              1,
              "#f0f921"
             ]
            ],
            "type": "histogram2d"
           }
          ],
          "histogram2dcontour": [
           {
            "colorbar": {
             "outlinewidth": 0,
             "ticks": ""
            },
            "colorscale": [
             [
              0,
              "#0d0887"
             ],
             [
              0.1111111111111111,
              "#46039f"
             ],
             [
              0.2222222222222222,
              "#7201a8"
             ],
             [
              0.3333333333333333,
              "#9c179e"
             ],
             [
              0.4444444444444444,
              "#bd3786"
             ],
             [
              0.5555555555555556,
              "#d8576b"
             ],
             [
              0.6666666666666666,
              "#ed7953"
             ],
             [
              0.7777777777777778,
              "#fb9f3a"
             ],
             [
              0.8888888888888888,
              "#fdca26"
             ],
             [
              1,
              "#f0f921"
             ]
            ],
            "type": "histogram2dcontour"
           }
          ],
          "mesh3d": [
           {
            "colorbar": {
             "outlinewidth": 0,
             "ticks": ""
            },
            "type": "mesh3d"
           }
          ],
          "parcoords": [
           {
            "line": {
             "colorbar": {
              "outlinewidth": 0,
              "ticks": ""
             }
            },
            "type": "parcoords"
           }
          ],
          "pie": [
           {
            "automargin": true,
            "type": "pie"
           }
          ],
          "scatter": [
           {
            "marker": {
             "colorbar": {
              "outlinewidth": 0,
              "ticks": ""
             }
            },
            "type": "scatter"
           }
          ],
          "scatter3d": [
           {
            "line": {
             "colorbar": {
              "outlinewidth": 0,
              "ticks": ""
             }
            },
            "marker": {
             "colorbar": {
              "outlinewidth": 0,
              "ticks": ""
             }
            },
            "type": "scatter3d"
           }
          ],
          "scattercarpet": [
           {
            "marker": {
             "colorbar": {
              "outlinewidth": 0,
              "ticks": ""
             }
            },
            "type": "scattercarpet"
           }
          ],
          "scattergeo": [
           {
            "marker": {
             "colorbar": {
              "outlinewidth": 0,
              "ticks": ""
             }
            },
            "type": "scattergeo"
           }
          ],
          "scattergl": [
           {
            "marker": {
             "colorbar": {
              "outlinewidth": 0,
              "ticks": ""
             }
            },
            "type": "scattergl"
           }
          ],
          "scattermapbox": [
           {
            "marker": {
             "colorbar": {
              "outlinewidth": 0,
              "ticks": ""
             }
            },
            "type": "scattermapbox"
           }
          ],
          "scatterpolar": [
           {
            "marker": {
             "colorbar": {
              "outlinewidth": 0,
              "ticks": ""
             }
            },
            "type": "scatterpolar"
           }
          ],
          "scatterpolargl": [
           {
            "marker": {
             "colorbar": {
              "outlinewidth": 0,
              "ticks": ""
             }
            },
            "type": "scatterpolargl"
           }
          ],
          "scatterternary": [
           {
            "marker": {
             "colorbar": {
              "outlinewidth": 0,
              "ticks": ""
             }
            },
            "type": "scatterternary"
           }
          ],
          "surface": [
           {
            "colorbar": {
             "outlinewidth": 0,
             "ticks": ""
            },
            "colorscale": [
             [
              0,
              "#0d0887"
             ],
             [
              0.1111111111111111,
              "#46039f"
             ],
             [
              0.2222222222222222,
              "#7201a8"
             ],
             [
              0.3333333333333333,
              "#9c179e"
             ],
             [
              0.4444444444444444,
              "#bd3786"
             ],
             [
              0.5555555555555556,
              "#d8576b"
             ],
             [
              0.6666666666666666,
              "#ed7953"
             ],
             [
              0.7777777777777778,
              "#fb9f3a"
             ],
             [
              0.8888888888888888,
              "#fdca26"
             ],
             [
              1,
              "#f0f921"
             ]
            ],
            "type": "surface"
           }
          ],
          "table": [
           {
            "cells": {
             "fill": {
              "color": "#EBF0F8"
             },
             "line": {
              "color": "white"
             }
            },
            "header": {
             "fill": {
              "color": "#C8D4E3"
             },
             "line": {
              "color": "white"
             }
            },
            "type": "table"
           }
          ]
         },
         "layout": {
          "annotationdefaults": {
           "arrowcolor": "#2a3f5f",
           "arrowhead": 0,
           "arrowwidth": 1
          },
          "autotypenumbers": "strict",
          "coloraxis": {
           "colorbar": {
            "outlinewidth": 0,
            "ticks": ""
           }
          },
          "colorscale": {
           "diverging": [
            [
             0,
             "#8e0152"
            ],
            [
             0.1,
             "#c51b7d"
            ],
            [
             0.2,
             "#de77ae"
            ],
            [
             0.3,
             "#f1b6da"
            ],
            [
             0.4,
             "#fde0ef"
            ],
            [
             0.5,
             "#f7f7f7"
            ],
            [
             0.6,
             "#e6f5d0"
            ],
            [
             0.7,
             "#b8e186"
            ],
            [
             0.8,
             "#7fbc41"
            ],
            [
             0.9,
             "#4d9221"
            ],
            [
             1,
             "#276419"
            ]
           ],
           "sequential": [
            [
             0,
             "#0d0887"
            ],
            [
             0.1111111111111111,
             "#46039f"
            ],
            [
             0.2222222222222222,
             "#7201a8"
            ],
            [
             0.3333333333333333,
             "#9c179e"
            ],
            [
             0.4444444444444444,
             "#bd3786"
            ],
            [
             0.5555555555555556,
             "#d8576b"
            ],
            [
             0.6666666666666666,
             "#ed7953"
            ],
            [
             0.7777777777777778,
             "#fb9f3a"
            ],
            [
             0.8888888888888888,
             "#fdca26"
            ],
            [
             1,
             "#f0f921"
            ]
           ],
           "sequentialminus": [
            [
             0,
             "#0d0887"
            ],
            [
             0.1111111111111111,
             "#46039f"
            ],
            [
             0.2222222222222222,
             "#7201a8"
            ],
            [
             0.3333333333333333,
             "#9c179e"
            ],
            [
             0.4444444444444444,
             "#bd3786"
            ],
            [
             0.5555555555555556,
             "#d8576b"
            ],
            [
             0.6666666666666666,
             "#ed7953"
            ],
            [
             0.7777777777777778,
             "#fb9f3a"
            ],
            [
             0.8888888888888888,
             "#fdca26"
            ],
            [
             1,
             "#f0f921"
            ]
           ]
          },
          "colorway": [
           "#636efa",
           "#EF553B",
           "#00cc96",
           "#ab63fa",
           "#FFA15A",
           "#19d3f3",
           "#FF6692",
           "#B6E880",
           "#FF97FF",
           "#FECB52"
          ],
          "font": {
           "color": "#2a3f5f"
          },
          "geo": {
           "bgcolor": "white",
           "lakecolor": "white",
           "landcolor": "#E5ECF6",
           "showlakes": true,
           "showland": true,
           "subunitcolor": "white"
          },
          "hoverlabel": {
           "align": "left"
          },
          "hovermode": "closest",
          "mapbox": {
           "style": "light"
          },
          "paper_bgcolor": "white",
          "plot_bgcolor": "#E5ECF6",
          "polar": {
           "angularaxis": {
            "gridcolor": "white",
            "linecolor": "white",
            "ticks": ""
           },
           "bgcolor": "#E5ECF6",
           "radialaxis": {
            "gridcolor": "white",
            "linecolor": "white",
            "ticks": ""
           }
          },
          "scene": {
           "xaxis": {
            "backgroundcolor": "#E5ECF6",
            "gridcolor": "white",
            "gridwidth": 2,
            "linecolor": "white",
            "showbackground": true,
            "ticks": "",
            "zerolinecolor": "white"
           },
           "yaxis": {
            "backgroundcolor": "#E5ECF6",
            "gridcolor": "white",
            "gridwidth": 2,
            "linecolor": "white",
            "showbackground": true,
            "ticks": "",
            "zerolinecolor": "white"
           },
           "zaxis": {
            "backgroundcolor": "#E5ECF6",
            "gridcolor": "white",
            "gridwidth": 2,
            "linecolor": "white",
            "showbackground": true,
            "ticks": "",
            "zerolinecolor": "white"
           }
          },
          "shapedefaults": {
           "line": {
            "color": "#2a3f5f"
           }
          },
          "ternary": {
           "aaxis": {
            "gridcolor": "white",
            "linecolor": "white",
            "ticks": ""
           },
           "baxis": {
            "gridcolor": "white",
            "linecolor": "white",
            "ticks": ""
           },
           "bgcolor": "#E5ECF6",
           "caxis": {
            "gridcolor": "white",
            "linecolor": "white",
            "ticks": ""
           }
          },
          "title": {
           "x": 0.05
          },
          "xaxis": {
           "automargin": true,
           "gridcolor": "white",
           "linecolor": "white",
           "ticks": "",
           "title": {
            "standoff": 15
           },
           "zerolinecolor": "white",
           "zerolinewidth": 2
          },
          "yaxis": {
           "automargin": true,
           "gridcolor": "white",
           "linecolor": "white",
           "ticks": "",
           "title": {
            "standoff": 15
           },
           "zerolinecolor": "white",
           "zerolinewidth": 2
          }
         }
        },
        "title": {
         "font": {
          "color": "#4D5663"
         }
        },
        "xaxis": {
         "gridcolor": "#E1E5ED",
         "showgrid": true,
         "tickfont": {
          "color": "#4D5663"
         },
         "title": {
          "font": {
           "color": "#4D5663"
          },
          "text": ""
         },
         "zerolinecolor": "#E1E5ED"
        },
        "yaxis": {
         "gridcolor": "#E1E5ED",
         "showgrid": true,
         "tickfont": {
          "color": "#4D5663"
         },
         "title": {
          "font": {
           "color": "#4D5663"
          },
          "text": ""
         },
         "zerolinecolor": "#E1E5ED"
        }
       }
      },
      "text/html": [
       "<div>                            <div id=\"4b2cf4a6-7940-42d8-b4db-697973b137af\" class=\"plotly-graph-div\" style=\"height:525px; width:100%;\"></div>            <script type=\"text/javascript\">                require([\"plotly\"], function(Plotly) {                    window.PLOTLYENV=window.PLOTLYENV || {};\n",
       "                    window.PLOTLYENV.BASE_URL='https://plot.ly';                                    if (document.getElementById(\"4b2cf4a6-7940-42d8-b4db-697973b137af\")) {                    Plotly.newPlot(                        \"4b2cf4a6-7940-42d8-b4db-697973b137af\",                        [{\"marker\":{\"color\":[\"rgb(255, 153, 51)\",\"rgb(55, 128, 191)\",\"rgb(50, 171, 96)\",\"rgb(128, 0, 128)\",\"rgb(219, 64, 82)\",\"rgb(0, 128, 128)\",\"rgb(255, 255, 51)\",\"rgb(128, 128, 0)\",\"rgb(251, 128, 114)\",\"rgb(128, 177, 211)\"],\"line\":{\"width\":1.3},\"size\":[20,69,72,48,71,83,49,44,36,36,98,57,62,56,54,54,26,70,62,50,63,49,85,68,51,37,28,32,29,53,47,56,76,78,22,54,49,47,12,106,67,33,38,72,71,32,52,51,80,112,84,52,48,74,63,53,54,65,38,33,92,36,79,52,43,35,57,54,64,71,44,72,67,85,55,70,56,57,61,48,47,73,16,81,75,63,59,68,43,74,62,87,71,53,41,67,40,49,68,32],\"symbol\":\"circle\"},\"mode\":\"markers\",\"text\":\"\",\"type\":\"scatter\",\"x\":[0.25766725273870794,-0.9683683498568538,0.4079767983323879,-0.35521716328951264,0.1067697108260012,0.055264414905670536,0.16748678722052524,-0.03884642071252894,-1.9569206918568747,-0.012030065425278914,0.5147917475168186,-1.1929830986432766,-0.28630897965301283,-0.7269486914270185,-0.6042854575279359,-0.7860299666916818,-1.2232950810912862,-0.13550737994759923,-1.0734549238772075,0.24804028348226617,0.6481756930738801,-1.6101508373062166,-0.1609375642387576,-0.4537761843382195,0.6669660076254208,-0.844428975954758,0.5129831796429379,1.155804462649625,0.6941037484143968,2.325681370776554,-1.1934765913970897,-1.3331393887106655,-0.5842075563796505,0.823264907901564,0.5077909681150676,0.04079208347736599,-0.3774067504355232,1.684633944827573,0.8108285494289319,-0.9614720723440364,0.8033391836123334,1.366141053396587,1.22710335380521,0.5007861886024525,0.343001046248468,0.9821044423294414,1.058739583049605,-0.302159064903064,0.01997985590888351,-0.33131002906924917,0.2717518499836177,1.3142633549959786,-0.8617857664810039,0.1400785711199423,0.45416005353468314,-1.6845394060445138,-1.2870651849530947,-1.368366894386971,0.7796978263073777,0.8049718982440207,0.6720806332514321,0.019012236335749715,0.9820030162836629,-1.3032056716341103,0.24368134319022605,-0.11259416554794206,0.4777042747792598,0.7994237775854384,-0.5912923178386565,1.8620316169982516,1.5979147218970453,0.6982224574224856,0.06113753691724821,0.2011006952610454,-0.5264422448448134,-0.2860199234535764,1.1520711810777065,0.3853847234561283,0.8496286363248838,0.21092045657163339,0.4992727903258261,0.019602502769003088,1.479898271696008,0.13819373894873163,0.4943303710765866,0.8121478456947057,-0.920576847331459,0.10674261995226657,1.2436406766350976,0.6251502982138215,0.5576995553252935,0.15981433848144747,-0.46484952881209385,0.34931673594281165,-1.3197036618486955,2.030244713325367,1.3293527484805516,-0.6014582498008547,2.3177502612429897,0.24869161904699996],\"y\":[1.3248435021986862,0.05735020938283478,-1.3252283251090466,0.2037073853435116,0.11390051896740837,0.036274803977040415,0.07886059125519548,-0.2107540123227492,0.5438429832196089,-1.495186139925318,-0.2786757262126936,-2.2472868977499583,0.5401780372965783,-1.2660125619710452,2.8917618341817137,0.9135784244832255,0.8070773007502883,-0.47655287637741833,-0.6916594268489628,-0.29857439303094707,-0.5028419053588357,-1.097380972947273,0.9013779502854321,-2.0539267239812853,-0.09946671171319675,0.027103790935514682,0.910952326494662,-0.3450271482134044,-2.016022367725986,1.2318197128416584,-0.48882763052385303,-1.0985539746033637,0.1469041002146205,-1.8300962817655162,0.3295661962110016,1.5269919414554993,-0.08726602386535882,-0.2746372475405285,1.3932038032489773,-1.5396569571609415,0.27825546855211997,-1.2105974754365512,-1.117995856964468,-0.08862087958247215,-0.19882957813497953,-0.046593485481045395,-0.2823150761795257,-0.909045608470984,-1.2859323567159786,2.57780442556176,0.5784537098435818,0.28312410196352455,0.5708819331108846,0.13193351121742164,0.7251406104368086,-0.33668180850187046,-0.6109096964157493,0.18883399477521554,0.525884140083572,-0.29113233390150467,1.5467100649562053,-1.5034114282884632,1.0075308147355966,0.8120289248587333,-1.3825380096125786,1.3893557899959468,0.7225515136418575,-2.0990836574963083,-0.3329107958852471,-0.20557479439035437,1.2586533985172603,-0.3623865838613117,-1.81009497493966,-0.8144051264697689,-0.8543728528659726,0.12428063004652715,0.42154333813920025,0.8325194216703564,-1.1316678358816619,-0.6752053609299112,1.0083868733208903,1.0329358144064287,0.24154683429897433,0.20467656709517945,0.4480733678860193,-1.4973501519227976,-0.06457171959633856,-0.7267026226309786,0.38549482127688767,2.0291148776290124,-0.7242805841989912,-0.8436208979113577,-0.9355965444051567,-1.2924130300577341,-1.0832341054879675,0.40071963830041823,1.6882470669240979,-1.8897243883593906,-1.73705358562559,-1.5599300069598463]}],                        {\"legend\":{\"bgcolor\":\"#F5F6F9\",\"font\":{\"color\":\"#4D5663\"}},\"paper_bgcolor\":\"#F5F6F9\",\"plot_bgcolor\":\"#F5F6F9\",\"template\":{\"data\":{\"bar\":[{\"error_x\":{\"color\":\"#2a3f5f\"},\"error_y\":{\"color\":\"#2a3f5f\"},\"marker\":{\"line\":{\"color\":\"#E5ECF6\",\"width\":0.5},\"pattern\":{\"fillmode\":\"overlay\",\"size\":10,\"solidity\":0.2}},\"type\":\"bar\"}],\"barpolar\":[{\"marker\":{\"line\":{\"color\":\"#E5ECF6\",\"width\":0.5},\"pattern\":{\"fillmode\":\"overlay\",\"size\":10,\"solidity\":0.2}},\"type\":\"barpolar\"}],\"carpet\":[{\"aaxis\":{\"endlinecolor\":\"#2a3f5f\",\"gridcolor\":\"white\",\"linecolor\":\"white\",\"minorgridcolor\":\"white\",\"startlinecolor\":\"#2a3f5f\"},\"baxis\":{\"endlinecolor\":\"#2a3f5f\",\"gridcolor\":\"white\",\"linecolor\":\"white\",\"minorgridcolor\":\"white\",\"startlinecolor\":\"#2a3f5f\"},\"type\":\"carpet\"}],\"choropleth\":[{\"colorbar\":{\"outlinewidth\":0,\"ticks\":\"\"},\"type\":\"choropleth\"}],\"contour\":[{\"colorbar\":{\"outlinewidth\":0,\"ticks\":\"\"},\"colorscale\":[[0.0,\"#0d0887\"],[0.1111111111111111,\"#46039f\"],[0.2222222222222222,\"#7201a8\"],[0.3333333333333333,\"#9c179e\"],[0.4444444444444444,\"#bd3786\"],[0.5555555555555556,\"#d8576b\"],[0.6666666666666666,\"#ed7953\"],[0.7777777777777778,\"#fb9f3a\"],[0.8888888888888888,\"#fdca26\"],[1.0,\"#f0f921\"]],\"type\":\"contour\"}],\"contourcarpet\":[{\"colorbar\":{\"outlinewidth\":0,\"ticks\":\"\"},\"type\":\"contourcarpet\"}],\"heatmap\":[{\"colorbar\":{\"outlinewidth\":0,\"ticks\":\"\"},\"colorscale\":[[0.0,\"#0d0887\"],[0.1111111111111111,\"#46039f\"],[0.2222222222222222,\"#7201a8\"],[0.3333333333333333,\"#9c179e\"],[0.4444444444444444,\"#bd3786\"],[0.5555555555555556,\"#d8576b\"],[0.6666666666666666,\"#ed7953\"],[0.7777777777777778,\"#fb9f3a\"],[0.8888888888888888,\"#fdca26\"],[1.0,\"#f0f921\"]],\"type\":\"heatmap\"}],\"heatmapgl\":[{\"colorbar\":{\"outlinewidth\":0,\"ticks\":\"\"},\"colorscale\":[[0.0,\"#0d0887\"],[0.1111111111111111,\"#46039f\"],[0.2222222222222222,\"#7201a8\"],[0.3333333333333333,\"#9c179e\"],[0.4444444444444444,\"#bd3786\"],[0.5555555555555556,\"#d8576b\"],[0.6666666666666666,\"#ed7953\"],[0.7777777777777778,\"#fb9f3a\"],[0.8888888888888888,\"#fdca26\"],[1.0,\"#f0f921\"]],\"type\":\"heatmapgl\"}],\"histogram\":[{\"marker\":{\"pattern\":{\"fillmode\":\"overlay\",\"size\":10,\"solidity\":0.2}},\"type\":\"histogram\"}],\"histogram2d\":[{\"colorbar\":{\"outlinewidth\":0,\"ticks\":\"\"},\"colorscale\":[[0.0,\"#0d0887\"],[0.1111111111111111,\"#46039f\"],[0.2222222222222222,\"#7201a8\"],[0.3333333333333333,\"#9c179e\"],[0.4444444444444444,\"#bd3786\"],[0.5555555555555556,\"#d8576b\"],[0.6666666666666666,\"#ed7953\"],[0.7777777777777778,\"#fb9f3a\"],[0.8888888888888888,\"#fdca26\"],[1.0,\"#f0f921\"]],\"type\":\"histogram2d\"}],\"histogram2dcontour\":[{\"colorbar\":{\"outlinewidth\":0,\"ticks\":\"\"},\"colorscale\":[[0.0,\"#0d0887\"],[0.1111111111111111,\"#46039f\"],[0.2222222222222222,\"#7201a8\"],[0.3333333333333333,\"#9c179e\"],[0.4444444444444444,\"#bd3786\"],[0.5555555555555556,\"#d8576b\"],[0.6666666666666666,\"#ed7953\"],[0.7777777777777778,\"#fb9f3a\"],[0.8888888888888888,\"#fdca26\"],[1.0,\"#f0f921\"]],\"type\":\"histogram2dcontour\"}],\"mesh3d\":[{\"colorbar\":{\"outlinewidth\":0,\"ticks\":\"\"},\"type\":\"mesh3d\"}],\"parcoords\":[{\"line\":{\"colorbar\":{\"outlinewidth\":0,\"ticks\":\"\"}},\"type\":\"parcoords\"}],\"pie\":[{\"automargin\":true,\"type\":\"pie\"}],\"scatter\":[{\"marker\":{\"colorbar\":{\"outlinewidth\":0,\"ticks\":\"\"}},\"type\":\"scatter\"}],\"scatter3d\":[{\"line\":{\"colorbar\":{\"outlinewidth\":0,\"ticks\":\"\"}},\"marker\":{\"colorbar\":{\"outlinewidth\":0,\"ticks\":\"\"}},\"type\":\"scatter3d\"}],\"scattercarpet\":[{\"marker\":{\"colorbar\":{\"outlinewidth\":0,\"ticks\":\"\"}},\"type\":\"scattercarpet\"}],\"scattergeo\":[{\"marker\":{\"colorbar\":{\"outlinewidth\":0,\"ticks\":\"\"}},\"type\":\"scattergeo\"}],\"scattergl\":[{\"marker\":{\"colorbar\":{\"outlinewidth\":0,\"ticks\":\"\"}},\"type\":\"scattergl\"}],\"scattermapbox\":[{\"marker\":{\"colorbar\":{\"outlinewidth\":0,\"ticks\":\"\"}},\"type\":\"scattermapbox\"}],\"scatterpolar\":[{\"marker\":{\"colorbar\":{\"outlinewidth\":0,\"ticks\":\"\"}},\"type\":\"scatterpolar\"}],\"scatterpolargl\":[{\"marker\":{\"colorbar\":{\"outlinewidth\":0,\"ticks\":\"\"}},\"type\":\"scatterpolargl\"}],\"scatterternary\":[{\"marker\":{\"colorbar\":{\"outlinewidth\":0,\"ticks\":\"\"}},\"type\":\"scatterternary\"}],\"surface\":[{\"colorbar\":{\"outlinewidth\":0,\"ticks\":\"\"},\"colorscale\":[[0.0,\"#0d0887\"],[0.1111111111111111,\"#46039f\"],[0.2222222222222222,\"#7201a8\"],[0.3333333333333333,\"#9c179e\"],[0.4444444444444444,\"#bd3786\"],[0.5555555555555556,\"#d8576b\"],[0.6666666666666666,\"#ed7953\"],[0.7777777777777778,\"#fb9f3a\"],[0.8888888888888888,\"#fdca26\"],[1.0,\"#f0f921\"]],\"type\":\"surface\"}],\"table\":[{\"cells\":{\"fill\":{\"color\":\"#EBF0F8\"},\"line\":{\"color\":\"white\"}},\"header\":{\"fill\":{\"color\":\"#C8D4E3\"},\"line\":{\"color\":\"white\"}},\"type\":\"table\"}]},\"layout\":{\"annotationdefaults\":{\"arrowcolor\":\"#2a3f5f\",\"arrowhead\":0,\"arrowwidth\":1},\"autotypenumbers\":\"strict\",\"coloraxis\":{\"colorbar\":{\"outlinewidth\":0,\"ticks\":\"\"}},\"colorscale\":{\"diverging\":[[0,\"#8e0152\"],[0.1,\"#c51b7d\"],[0.2,\"#de77ae\"],[0.3,\"#f1b6da\"],[0.4,\"#fde0ef\"],[0.5,\"#f7f7f7\"],[0.6,\"#e6f5d0\"],[0.7,\"#b8e186\"],[0.8,\"#7fbc41\"],[0.9,\"#4d9221\"],[1,\"#276419\"]],\"sequential\":[[0.0,\"#0d0887\"],[0.1111111111111111,\"#46039f\"],[0.2222222222222222,\"#7201a8\"],[0.3333333333333333,\"#9c179e\"],[0.4444444444444444,\"#bd3786\"],[0.5555555555555556,\"#d8576b\"],[0.6666666666666666,\"#ed7953\"],[0.7777777777777778,\"#fb9f3a\"],[0.8888888888888888,\"#fdca26\"],[1.0,\"#f0f921\"]],\"sequentialminus\":[[0.0,\"#0d0887\"],[0.1111111111111111,\"#46039f\"],[0.2222222222222222,\"#7201a8\"],[0.3333333333333333,\"#9c179e\"],[0.4444444444444444,\"#bd3786\"],[0.5555555555555556,\"#d8576b\"],[0.6666666666666666,\"#ed7953\"],[0.7777777777777778,\"#fb9f3a\"],[0.8888888888888888,\"#fdca26\"],[1.0,\"#f0f921\"]]},\"colorway\":[\"#636efa\",\"#EF553B\",\"#00cc96\",\"#ab63fa\",\"#FFA15A\",\"#19d3f3\",\"#FF6692\",\"#B6E880\",\"#FF97FF\",\"#FECB52\"],\"font\":{\"color\":\"#2a3f5f\"},\"geo\":{\"bgcolor\":\"white\",\"lakecolor\":\"white\",\"landcolor\":\"#E5ECF6\",\"showlakes\":true,\"showland\":true,\"subunitcolor\":\"white\"},\"hoverlabel\":{\"align\":\"left\"},\"hovermode\":\"closest\",\"mapbox\":{\"style\":\"light\"},\"paper_bgcolor\":\"white\",\"plot_bgcolor\":\"#E5ECF6\",\"polar\":{\"angularaxis\":{\"gridcolor\":\"white\",\"linecolor\":\"white\",\"ticks\":\"\"},\"bgcolor\":\"#E5ECF6\",\"radialaxis\":{\"gridcolor\":\"white\",\"linecolor\":\"white\",\"ticks\":\"\"}},\"scene\":{\"xaxis\":{\"backgroundcolor\":\"#E5ECF6\",\"gridcolor\":\"white\",\"gridwidth\":2,\"linecolor\":\"white\",\"showbackground\":true,\"ticks\":\"\",\"zerolinecolor\":\"white\"},\"yaxis\":{\"backgroundcolor\":\"#E5ECF6\",\"gridcolor\":\"white\",\"gridwidth\":2,\"linecolor\":\"white\",\"showbackground\":true,\"ticks\":\"\",\"zerolinecolor\":\"white\"},\"zaxis\":{\"backgroundcolor\":\"#E5ECF6\",\"gridcolor\":\"white\",\"gridwidth\":2,\"linecolor\":\"white\",\"showbackground\":true,\"ticks\":\"\",\"zerolinecolor\":\"white\"}},\"shapedefaults\":{\"line\":{\"color\":\"#2a3f5f\"}},\"ternary\":{\"aaxis\":{\"gridcolor\":\"white\",\"linecolor\":\"white\",\"ticks\":\"\"},\"baxis\":{\"gridcolor\":\"white\",\"linecolor\":\"white\",\"ticks\":\"\"},\"bgcolor\":\"#E5ECF6\",\"caxis\":{\"gridcolor\":\"white\",\"linecolor\":\"white\",\"ticks\":\"\"}},\"title\":{\"x\":0.05},\"xaxis\":{\"automargin\":true,\"gridcolor\":\"white\",\"linecolor\":\"white\",\"ticks\":\"\",\"title\":{\"standoff\":15},\"zerolinecolor\":\"white\",\"zerolinewidth\":2},\"yaxis\":{\"automargin\":true,\"gridcolor\":\"white\",\"linecolor\":\"white\",\"ticks\":\"\",\"title\":{\"standoff\":15},\"zerolinecolor\":\"white\",\"zerolinewidth\":2}}},\"title\":{\"font\":{\"color\":\"#4D5663\"}},\"xaxis\":{\"gridcolor\":\"#E1E5ED\",\"showgrid\":true,\"tickfont\":{\"color\":\"#4D5663\"},\"title\":{\"font\":{\"color\":\"#4D5663\"},\"text\":\"\"},\"zerolinecolor\":\"#E1E5ED\"},\"yaxis\":{\"gridcolor\":\"#E1E5ED\",\"showgrid\":true,\"tickfont\":{\"color\":\"#4D5663\"},\"title\":{\"font\":{\"color\":\"#4D5663\"},\"text\":\"\"},\"zerolinecolor\":\"#E1E5ED\"}},                        {\"showLink\": true, \"linkText\": \"Export to plot.ly\", \"plotlyServerURL\": \"https://plot.ly\", \"responsive\": true}                    ).then(function(){\n",
       "                            \n",
       "var gd = document.getElementById('4b2cf4a6-7940-42d8-b4db-697973b137af');\n",
       "var x = new MutationObserver(function (mutations, observer) {{\n",
       "        var display = window.getComputedStyle(gd).display;\n",
       "        if (!display || display === 'none') {{\n",
       "            console.log([gd, 'removed!']);\n",
       "            Plotly.purge(gd);\n",
       "            observer.disconnect();\n",
       "        }}\n",
       "}});\n",
       "\n",
       "// Listen for the removal of the full notebook cells\n",
       "var notebookContainer = gd.closest('#notebook-container');\n",
       "if (notebookContainer) {{\n",
       "    x.observe(notebookContainer, {childList: true});\n",
       "}}\n",
       "\n",
       "// Listen for the clearing of the current output cell\n",
       "var outputEl = gd.closest('.output');\n",
       "if (outputEl) {{\n",
       "    x.observe(outputEl, {childList: true});\n",
       "}}\n",
       "\n",
       "                        })                };                });            </script>        </div>"
      ]
     },
     "metadata": {},
     "output_type": "display_data"
    }
   ],
   "source": [
    "df.iplot(kind='bubble',x='A',y='B',size='C')"
   ]
  },
  {
   "cell_type": "code",
   "execution_count": 31,
   "id": "eab03154",
   "metadata": {},
   "outputs": [
    {
     "data": {
      "application/vnd.plotly.v1+json": {
       "config": {
        "linkText": "Export to plot.ly",
        "plotlyServerURL": "https://plot.ly",
        "showLink": true
       },
       "data": [
        {
         "histfunc": "count",
         "histnorm": "",
         "marker": {
          "color": "rgba(255, 153, 51, 1.0)",
          "line": {
           "color": "#4D5663",
           "width": 1.3
          }
         },
         "name": "A",
         "nbinsx": 10,
         "opacity": 0.8,
         "orientation": "v",
         "type": "histogram",
         "x": [
          0.25766725273870794,
          -0.9683683498568538,
          0.4079767983323879,
          -0.35521716328951264,
          0.1067697108260012,
          0.055264414905670536,
          0.16748678722052524,
          -0.03884642071252894,
          -1.9569206918568747,
          -0.012030065425278914,
          0.5147917475168186,
          -1.1929830986432766,
          -0.28630897965301283,
          -0.7269486914270185,
          -0.6042854575279359,
          -0.7860299666916818,
          -1.2232950810912862,
          -0.13550737994759923,
          -1.0734549238772075,
          0.24804028348226617,
          0.6481756930738801,
          -1.6101508373062166,
          -0.1609375642387576,
          -0.4537761843382195,
          0.6669660076254208,
          -0.844428975954758,
          0.5129831796429379,
          1.155804462649625,
          0.6941037484143968,
          2.325681370776554,
          -1.1934765913970897,
          -1.3331393887106655,
          -0.5842075563796505,
          0.823264907901564,
          0.5077909681150676,
          0.04079208347736599,
          -0.3774067504355232,
          1.684633944827573,
          0.8108285494289319,
          -0.9614720723440364,
          0.8033391836123334,
          1.366141053396587,
          1.22710335380521,
          0.5007861886024525,
          0.343001046248468,
          0.9821044423294414,
          1.058739583049605,
          -0.302159064903064,
          0.01997985590888351,
          -0.33131002906924917,
          0.2717518499836177,
          1.3142633549959786,
          -0.8617857664810039,
          0.1400785711199423,
          0.45416005353468314,
          -1.6845394060445138,
          -1.2870651849530947,
          -1.368366894386971,
          0.7796978263073777,
          0.8049718982440207,
          0.6720806332514321,
          0.019012236335749715,
          0.9820030162836629,
          -1.3032056716341103,
          0.24368134319022605,
          -0.11259416554794206,
          0.4777042747792598,
          0.7994237775854384,
          -0.5912923178386565,
          1.8620316169982516,
          1.5979147218970453,
          0.6982224574224856,
          0.06113753691724821,
          0.2011006952610454,
          -0.5264422448448134,
          -0.2860199234535764,
          1.1520711810777065,
          0.3853847234561283,
          0.8496286363248838,
          0.21092045657163339,
          0.4992727903258261,
          0.019602502769003088,
          1.479898271696008,
          0.13819373894873163,
          0.4943303710765866,
          0.8121478456947057,
          -0.920576847331459,
          0.10674261995226657,
          1.2436406766350976,
          0.6251502982138215,
          0.5576995553252935,
          0.15981433848144747,
          -0.46484952881209385,
          0.34931673594281165,
          -1.3197036618486955,
          2.030244713325367,
          1.3293527484805516,
          -0.6014582498008547,
          2.3177502612429897,
          0.24869161904699996
         ],
         "xaxis": "x",
         "yaxis": "y"
        },
        {
         "line": {
          "color": "rgba(128, 128, 128, 1.0)",
          "dash": "solid",
          "shape": "linear",
          "width": 1.3
         },
         "marker": {
          "size": 2,
          "symbol": "circle"
         },
         "mode": "markers",
         "name": "A",
         "text": "",
         "type": "scatter",
         "x": [
          1.3248435021986862,
          0.05735020938283478,
          -1.3252283251090466,
          0.2037073853435116,
          0.11390051896740837,
          0.036274803977040415,
          0.07886059125519548,
          -0.2107540123227492,
          0.5438429832196089,
          -1.495186139925318,
          -0.2786757262126936,
          -2.2472868977499583,
          0.5401780372965783,
          -1.2660125619710452,
          2.8917618341817137,
          0.9135784244832255,
          0.8070773007502883,
          -0.47655287637741833,
          -0.6916594268489628,
          -0.29857439303094707,
          -0.5028419053588357,
          -1.097380972947273,
          0.9013779502854321,
          -2.0539267239812853,
          -0.09946671171319675,
          0.027103790935514682,
          0.910952326494662,
          -0.3450271482134044,
          -2.016022367725986,
          1.2318197128416584,
          -0.48882763052385303,
          -1.0985539746033637,
          0.1469041002146205,
          -1.8300962817655162,
          0.3295661962110016,
          1.5269919414554993,
          -0.08726602386535882,
          -0.2746372475405285,
          1.3932038032489773,
          -1.5396569571609415,
          0.27825546855211997,
          -1.2105974754365512,
          -1.117995856964468,
          -0.08862087958247215,
          -0.19882957813497953,
          -0.046593485481045395,
          -0.2823150761795257,
          -0.909045608470984,
          -1.2859323567159786,
          2.57780442556176,
          0.5784537098435818,
          0.28312410196352455,
          0.5708819331108846,
          0.13193351121742164,
          0.7251406104368086,
          -0.33668180850187046,
          -0.6109096964157493,
          0.18883399477521554,
          0.525884140083572,
          -0.29113233390150467,
          1.5467100649562053,
          -1.5034114282884632,
          1.0075308147355966,
          0.8120289248587333,
          -1.3825380096125786,
          1.3893557899959468,
          0.7225515136418575,
          -2.0990836574963083,
          -0.3329107958852471,
          -0.20557479439035437,
          1.2586533985172603,
          -0.3623865838613117,
          -1.81009497493966,
          -0.8144051264697689,
          -0.8543728528659726,
          0.12428063004652715,
          0.42154333813920025,
          0.8325194216703564,
          -1.1316678358816619,
          -0.6752053609299112,
          1.0083868733208903,
          1.0329358144064287,
          0.24154683429897433,
          0.20467656709517945,
          0.4480733678860193,
          -1.4973501519227976,
          -0.06457171959633856,
          -0.7267026226309786,
          0.38549482127688767,
          2.0291148776290124,
          -0.7242805841989912,
          -0.8436208979113577,
          -0.9355965444051567,
          -1.2924130300577341,
          -1.0832341054879675,
          0.40071963830041823,
          1.6882470669240979,
          -1.8897243883593906,
          -1.73705358562559,
          -1.5599300069598463
         ],
         "xaxis": "x2",
         "y": [
          0.25766725273870794,
          -0.9683683498568538,
          0.4079767983323879,
          -0.35521716328951264,
          0.1067697108260012,
          0.055264414905670536,
          0.16748678722052524,
          -0.03884642071252894,
          -1.9569206918568747,
          -0.012030065425278914,
          0.5147917475168186,
          -1.1929830986432766,
          -0.28630897965301283,
          -0.7269486914270185,
          -0.6042854575279359,
          -0.7860299666916818,
          -1.2232950810912862,
          -0.13550737994759923,
          -1.0734549238772075,
          0.24804028348226617,
          0.6481756930738801,
          -1.6101508373062166,
          -0.1609375642387576,
          -0.4537761843382195,
          0.6669660076254208,
          -0.844428975954758,
          0.5129831796429379,
          1.155804462649625,
          0.6941037484143968,
          2.325681370776554,
          -1.1934765913970897,
          -1.3331393887106655,
          -0.5842075563796505,
          0.823264907901564,
          0.5077909681150676,
          0.04079208347736599,
          -0.3774067504355232,
          1.684633944827573,
          0.8108285494289319,
          -0.9614720723440364,
          0.8033391836123334,
          1.366141053396587,
          1.22710335380521,
          0.5007861886024525,
          0.343001046248468,
          0.9821044423294414,
          1.058739583049605,
          -0.302159064903064,
          0.01997985590888351,
          -0.33131002906924917,
          0.2717518499836177,
          1.3142633549959786,
          -0.8617857664810039,
          0.1400785711199423,
          0.45416005353468314,
          -1.6845394060445138,
          -1.2870651849530947,
          -1.368366894386971,
          0.7796978263073777,
          0.8049718982440207,
          0.6720806332514321,
          0.019012236335749715,
          0.9820030162836629,
          -1.3032056716341103,
          0.24368134319022605,
          -0.11259416554794206,
          0.4777042747792598,
          0.7994237775854384,
          -0.5912923178386565,
          1.8620316169982516,
          1.5979147218970453,
          0.6982224574224856,
          0.06113753691724821,
          0.2011006952610454,
          -0.5264422448448134,
          -0.2860199234535764,
          1.1520711810777065,
          0.3853847234561283,
          0.8496286363248838,
          0.21092045657163339,
          0.4992727903258261,
          0.019602502769003088,
          1.479898271696008,
          0.13819373894873163,
          0.4943303710765866,
          0.8121478456947057,
          -0.920576847331459,
          0.10674261995226657,
          1.2436406766350976,
          0.6251502982138215,
          0.5576995553252935,
          0.15981433848144747,
          -0.46484952881209385,
          0.34931673594281165,
          -1.3197036618486955,
          2.030244713325367,
          1.3293527484805516,
          -0.6014582498008547,
          2.3177502612429897,
          0.24869161904699996
         ],
         "yaxis": "y2"
        },
        {
         "line": {
          "color": "rgba(128, 128, 128, 1.0)",
          "dash": "solid",
          "shape": "linear",
          "width": 1.3
         },
         "marker": {
          "size": 2,
          "symbol": "circle"
         },
         "mode": "markers",
         "name": "A",
         "text": "",
         "type": "scatter",
         "x": [
          -2.361761577852779,
          0.5601682024555253,
          0.7397791306001766,
          -0.6623782490409087,
          0.6857868613529526,
          1.4325764368304839,
          -0.6046702446723863,
          -0.9224023716659426,
          -1.374858370180204,
          -1.4036497288762604,
          2.2809026918611757,
          -0.14793006094281821,
          0.13753424646413842,
          -0.2232675326374695,
          -0.3383929970868634,
          -0.3042114016740749,
          -2.0235518683305784,
          0.6112943301579296,
          0.12262932462534099,
          -0.5540464192991367,
          0.21394765086253906,
          -0.6342840755001222,
          1.5431114456139305,
          0.520000348435981,
          -0.5070277643479835,
          -1.32430202501762,
          -1.8986721120747658,
          -1.6127903072276566,
          -1.8336681094404546,
          -0.37874463908208617,
          -0.7264976899141545,
          -0.18953135953591352,
          1.000835838807099,
          1.1348048263560553,
          -2.246644046452098,
          -0.32131215444600014,
          -0.5973093329881346,
          -0.7168613711733985,
          -2.8584955120003954,
          2.789113453410877,
          0.4650310112167451,
          -1.6048341588683919,
          -1.2999450295037844,
          0.724368075933912,
          0.6605601842134327,
          -1.6403966595508683,
          -0.459508328073549,
          -0.5133337131873488,
          1.2212848371654796,
          3.103375971399639,
          1.4564409020961275,
          -0.44566360817361256,
          -0.6667837021019473,
          0.8649760834336663,
          0.18913022129124796,
          -0.39855900842707215,
          -0.3353945361522721,
          0.3102726463831046,
          -1.2817872368942829,
          -1.5761180255088258,
          1.9451888083978948,
          -1.3839219453105434,
          1.1718263853168165,
          -0.4363400113758351,
          -1.0065709153967863,
          -1.457183604809572,
          -0.17223676739963256,
          -0.31412797718378505,
          0.24725023263052143,
          0.7056310115827593,
          -0.9235051007847629,
          0.7517653837693907,
          0.4752875570000499,
          1.5337404272019972,
          -0.28544253565872163,
          0.640040353020628,
          -0.18323802609196574,
          -0.16975401206998655,
          0.07304670629250355,
          -0.7026185371650298,
          -0.7268743155257561,
          0.8277640495778841,
          -2.603861293255465,
          1.3069975134359773,
          0.9301139393275412,
          0.2241426217480532,
          -0.00934855406999004,
          0.5308123605970554,
          -0.9750164870308707,
          0.8632892044459971,
          0.1762676646661963,
          1.640097229898394,
          0.7176580381238524,
          -0.3623004190144998,
          -1.1176258416306188,
          0.4525957893338102,
          -1.1854120204386869,
          -0.6421062267770715,
          0.49012960496143854,
          -1.664902421214408
         ],
         "xaxis": "x3",
         "y": [
          0.25766725273870794,
          -0.9683683498568538,
          0.4079767983323879,
          -0.35521716328951264,
          0.1067697108260012,
          0.055264414905670536,
          0.16748678722052524,
          -0.03884642071252894,
          -1.9569206918568747,
          -0.012030065425278914,
          0.5147917475168186,
          -1.1929830986432766,
          -0.28630897965301283,
          -0.7269486914270185,
          -0.6042854575279359,
          -0.7860299666916818,
          -1.2232950810912862,
          -0.13550737994759923,
          -1.0734549238772075,
          0.24804028348226617,
          0.6481756930738801,
          -1.6101508373062166,
          -0.1609375642387576,
          -0.4537761843382195,
          0.6669660076254208,
          -0.844428975954758,
          0.5129831796429379,
          1.155804462649625,
          0.6941037484143968,
          2.325681370776554,
          -1.1934765913970897,
          -1.3331393887106655,
          -0.5842075563796505,
          0.823264907901564,
          0.5077909681150676,
          0.04079208347736599,
          -0.3774067504355232,
          1.684633944827573,
          0.8108285494289319,
          -0.9614720723440364,
          0.8033391836123334,
          1.366141053396587,
          1.22710335380521,
          0.5007861886024525,
          0.343001046248468,
          0.9821044423294414,
          1.058739583049605,
          -0.302159064903064,
          0.01997985590888351,
          -0.33131002906924917,
          0.2717518499836177,
          1.3142633549959786,
          -0.8617857664810039,
          0.1400785711199423,
          0.45416005353468314,
          -1.6845394060445138,
          -1.2870651849530947,
          -1.368366894386971,
          0.7796978263073777,
          0.8049718982440207,
          0.6720806332514321,
          0.019012236335749715,
          0.9820030162836629,
          -1.3032056716341103,
          0.24368134319022605,
          -0.11259416554794206,
          0.4777042747792598,
          0.7994237775854384,
          -0.5912923178386565,
          1.8620316169982516,
          1.5979147218970453,
          0.6982224574224856,
          0.06113753691724821,
          0.2011006952610454,
          -0.5264422448448134,
          -0.2860199234535764,
          1.1520711810777065,
          0.3853847234561283,
          0.8496286363248838,
          0.21092045657163339,
          0.4992727903258261,
          0.019602502769003088,
          1.479898271696008,
          0.13819373894873163,
          0.4943303710765866,
          0.8121478456947057,
          -0.920576847331459,
          0.10674261995226657,
          1.2436406766350976,
          0.6251502982138215,
          0.5576995553252935,
          0.15981433848144747,
          -0.46484952881209385,
          0.34931673594281165,
          -1.3197036618486955,
          2.030244713325367,
          1.3293527484805516,
          -0.6014582498008547,
          2.3177502612429897,
          0.24869161904699996
         ],
         "yaxis": "y3"
        },
        {
         "line": {
          "color": "rgba(128, 128, 128, 1.0)",
          "dash": "solid",
          "shape": "linear",
          "width": 1.3
         },
         "marker": {
          "size": 2,
          "symbol": "circle"
         },
         "mode": "markers",
         "name": "A",
         "text": "",
         "type": "scatter",
         "x": [
          0.611714013887907,
          0.6386052403396689,
          -0.02477849377865895,
          0.6197704319247359,
          -1.1967377415806166,
          1.1720391315629168,
          0.8765281439054488,
          -1.0370592385491233,
          0.44021492011010355,
          0.17230177660561485,
          0.4200336292442886,
          -0.16107225295889302,
          0.7200632250852794,
          -2.298592389474176,
          0.25459428501955056,
          0.2542139932244251,
          -1.8107357042692172,
          -0.5108724925504359,
          0.41001152084386977,
          -1.0703118510366805,
          1.0216244610662364,
          0.9974056726181587,
          1.312610610063279,
          -1.1407814799389158,
          1.5480251592844323,
          -0.49410534648003307,
          2.278885873544256,
          0.19104047538383667,
          -0.47014930082533973,
          -1.0344998801228573,
          -0.10032876048732366,
          0.7773925219423091,
          0.5717920894378987,
          0.33987394847518954,
          -0.1973390537737198,
          1.6021603463915783,
          -0.18834810979770195,
          -0.7497884978957049,
          -0.9027557049861357,
          -0.016809405012762894,
          -1.8597598987950288,
          0.856307118575504,
          -0.2162447769364504,
          -0.205476712225501,
          1.683875488970458,
          0.4609337272646481,
          0.8816172290139743,
          -1.5292750990984212,
          0.9459357785069152,
          -0.14509817237364275,
          -0.16696894829690045,
          -0.7401778451042701,
          0.26927875263065426,
          -1.1256758417539952,
          -0.08988833536686605,
          1.2641096243953123,
          -0.2101147329903418,
          -1.1204823391590175,
          0.13693330967014247,
          -0.23803086366322063,
          -0.8854563237832962,
          0.21533140364738995,
          0.9663254927426982,
          0.07511595060091833,
          -0.2487169421683228,
          1.412511316640888,
          -0.0973691612271399,
          -0.4760956995731815,
          0.16454046508612838,
          -0.8842237914144235,
          -1.1596602344406595,
          -0.11564797255073156,
          -0.5850474514779618,
          0.5224811694375456,
          -1.3775956652443182,
          0.007969820810576162,
          0.28740140869153913,
          0.6617076518110719,
          -0.8460664108204242,
          -0.05583557468567738,
          0.7611148188311797,
          0.4847337270794526,
          -2.1536338798360313,
          -0.3390316543921442,
          0.29109295797409984,
          0.3832439726007917,
          -0.593143056703596,
          -0.10685109921118938,
          -0.7925989257172054,
          1.1161161935482944,
          0.15080005441430192,
          -0.6181883497861653,
          0.6251053204524084,
          -0.5618278147974634,
          -0.46915351905109376,
          -1.1894885930032517,
          -0.5933340624232508,
          -1.4204641235088469,
          -0.0008249022356199199,
          1.02916580415784
         ],
         "xaxis": "x4",
         "y": [
          0.25766725273870794,
          -0.9683683498568538,
          0.4079767983323879,
          -0.35521716328951264,
          0.1067697108260012,
          0.055264414905670536,
          0.16748678722052524,
          -0.03884642071252894,
          -1.9569206918568747,
          -0.012030065425278914,
          0.5147917475168186,
          -1.1929830986432766,
          -0.28630897965301283,
          -0.7269486914270185,
          -0.6042854575279359,
          -0.7860299666916818,
          -1.2232950810912862,
          -0.13550737994759923,
          -1.0734549238772075,
          0.24804028348226617,
          0.6481756930738801,
          -1.6101508373062166,
          -0.1609375642387576,
          -0.4537761843382195,
          0.6669660076254208,
          -0.844428975954758,
          0.5129831796429379,
          1.155804462649625,
          0.6941037484143968,
          2.325681370776554,
          -1.1934765913970897,
          -1.3331393887106655,
          -0.5842075563796505,
          0.823264907901564,
          0.5077909681150676,
          0.04079208347736599,
          -0.3774067504355232,
          1.684633944827573,
          0.8108285494289319,
          -0.9614720723440364,
          0.8033391836123334,
          1.366141053396587,
          1.22710335380521,
          0.5007861886024525,
          0.343001046248468,
          0.9821044423294414,
          1.058739583049605,
          -0.302159064903064,
          0.01997985590888351,
          -0.33131002906924917,
          0.2717518499836177,
          1.3142633549959786,
          -0.8617857664810039,
          0.1400785711199423,
          0.45416005353468314,
          -1.6845394060445138,
          -1.2870651849530947,
          -1.368366894386971,
          0.7796978263073777,
          0.8049718982440207,
          0.6720806332514321,
          0.019012236335749715,
          0.9820030162836629,
          -1.3032056716341103,
          0.24368134319022605,
          -0.11259416554794206,
          0.4777042747792598,
          0.7994237775854384,
          -0.5912923178386565,
          1.8620316169982516,
          1.5979147218970453,
          0.6982224574224856,
          0.06113753691724821,
          0.2011006952610454,
          -0.5264422448448134,
          -0.2860199234535764,
          1.1520711810777065,
          0.3853847234561283,
          0.8496286363248838,
          0.21092045657163339,
          0.4992727903258261,
          0.019602502769003088,
          1.479898271696008,
          0.13819373894873163,
          0.4943303710765866,
          0.8121478456947057,
          -0.920576847331459,
          0.10674261995226657,
          1.2436406766350976,
          0.6251502982138215,
          0.5576995553252935,
          0.15981433848144747,
          -0.46484952881209385,
          0.34931673594281165,
          -1.3197036618486955,
          2.030244713325367,
          1.3293527484805516,
          -0.6014582498008547,
          2.3177502612429897,
          0.24869161904699996
         ],
         "yaxis": "y4"
        },
        {
         "line": {
          "color": "rgba(128, 128, 128, 1.0)",
          "dash": "solid",
          "shape": "linear",
          "width": 1.3
         },
         "marker": {
          "size": 2,
          "symbol": "circle"
         },
         "mode": "markers",
         "name": "B",
         "text": "",
         "type": "scatter",
         "x": [
          0.25766725273870794,
          -0.9683683498568538,
          0.4079767983323879,
          -0.35521716328951264,
          0.1067697108260012,
          0.055264414905670536,
          0.16748678722052524,
          -0.03884642071252894,
          -1.9569206918568747,
          -0.012030065425278914,
          0.5147917475168186,
          -1.1929830986432766,
          -0.28630897965301283,
          -0.7269486914270185,
          -0.6042854575279359,
          -0.7860299666916818,
          -1.2232950810912862,
          -0.13550737994759923,
          -1.0734549238772075,
          0.24804028348226617,
          0.6481756930738801,
          -1.6101508373062166,
          -0.1609375642387576,
          -0.4537761843382195,
          0.6669660076254208,
          -0.844428975954758,
          0.5129831796429379,
          1.155804462649625,
          0.6941037484143968,
          2.325681370776554,
          -1.1934765913970897,
          -1.3331393887106655,
          -0.5842075563796505,
          0.823264907901564,
          0.5077909681150676,
          0.04079208347736599,
          -0.3774067504355232,
          1.684633944827573,
          0.8108285494289319,
          -0.9614720723440364,
          0.8033391836123334,
          1.366141053396587,
          1.22710335380521,
          0.5007861886024525,
          0.343001046248468,
          0.9821044423294414,
          1.058739583049605,
          -0.302159064903064,
          0.01997985590888351,
          -0.33131002906924917,
          0.2717518499836177,
          1.3142633549959786,
          -0.8617857664810039,
          0.1400785711199423,
          0.45416005353468314,
          -1.6845394060445138,
          -1.2870651849530947,
          -1.368366894386971,
          0.7796978263073777,
          0.8049718982440207,
          0.6720806332514321,
          0.019012236335749715,
          0.9820030162836629,
          -1.3032056716341103,
          0.24368134319022605,
          -0.11259416554794206,
          0.4777042747792598,
          0.7994237775854384,
          -0.5912923178386565,
          1.8620316169982516,
          1.5979147218970453,
          0.6982224574224856,
          0.06113753691724821,
          0.2011006952610454,
          -0.5264422448448134,
          -0.2860199234535764,
          1.1520711810777065,
          0.3853847234561283,
          0.8496286363248838,
          0.21092045657163339,
          0.4992727903258261,
          0.019602502769003088,
          1.479898271696008,
          0.13819373894873163,
          0.4943303710765866,
          0.8121478456947057,
          -0.920576847331459,
          0.10674261995226657,
          1.2436406766350976,
          0.6251502982138215,
          0.5576995553252935,
          0.15981433848144747,
          -0.46484952881209385,
          0.34931673594281165,
          -1.3197036618486955,
          2.030244713325367,
          1.3293527484805516,
          -0.6014582498008547,
          2.3177502612429897,
          0.24869161904699996
         ],
         "xaxis": "x5",
         "y": [
          1.3248435021986862,
          0.05735020938283478,
          -1.3252283251090466,
          0.2037073853435116,
          0.11390051896740837,
          0.036274803977040415,
          0.07886059125519548,
          -0.2107540123227492,
          0.5438429832196089,
          -1.495186139925318,
          -0.2786757262126936,
          -2.2472868977499583,
          0.5401780372965783,
          -1.2660125619710452,
          2.8917618341817137,
          0.9135784244832255,
          0.8070773007502883,
          -0.47655287637741833,
          -0.6916594268489628,
          -0.29857439303094707,
          -0.5028419053588357,
          -1.097380972947273,
          0.9013779502854321,
          -2.0539267239812853,
          -0.09946671171319675,
          0.027103790935514682,
          0.910952326494662,
          -0.3450271482134044,
          -2.016022367725986,
          1.2318197128416584,
          -0.48882763052385303,
          -1.0985539746033637,
          0.1469041002146205,
          -1.8300962817655162,
          0.3295661962110016,
          1.5269919414554993,
          -0.08726602386535882,
          -0.2746372475405285,
          1.3932038032489773,
          -1.5396569571609415,
          0.27825546855211997,
          -1.2105974754365512,
          -1.117995856964468,
          -0.08862087958247215,
          -0.19882957813497953,
          -0.046593485481045395,
          -0.2823150761795257,
          -0.909045608470984,
          -1.2859323567159786,
          2.57780442556176,
          0.5784537098435818,
          0.28312410196352455,
          0.5708819331108846,
          0.13193351121742164,
          0.7251406104368086,
          -0.33668180850187046,
          -0.6109096964157493,
          0.18883399477521554,
          0.525884140083572,
          -0.29113233390150467,
          1.5467100649562053,
          -1.5034114282884632,
          1.0075308147355966,
          0.8120289248587333,
          -1.3825380096125786,
          1.3893557899959468,
          0.7225515136418575,
          -2.0990836574963083,
          -0.3329107958852471,
          -0.20557479439035437,
          1.2586533985172603,
          -0.3623865838613117,
          -1.81009497493966,
          -0.8144051264697689,
          -0.8543728528659726,
          0.12428063004652715,
          0.42154333813920025,
          0.8325194216703564,
          -1.1316678358816619,
          -0.6752053609299112,
          1.0083868733208903,
          1.0329358144064287,
          0.24154683429897433,
          0.20467656709517945,
          0.4480733678860193,
          -1.4973501519227976,
          -0.06457171959633856,
          -0.7267026226309786,
          0.38549482127688767,
          2.0291148776290124,
          -0.7242805841989912,
          -0.8436208979113577,
          -0.9355965444051567,
          -1.2924130300577341,
          -1.0832341054879675,
          0.40071963830041823,
          1.6882470669240979,
          -1.8897243883593906,
          -1.73705358562559,
          -1.5599300069598463
         ],
         "yaxis": "y5"
        },
        {
         "histfunc": "count",
         "histnorm": "",
         "marker": {
          "color": "rgba(55, 128, 191, 1.0)",
          "line": {
           "color": "#4D5663",
           "width": 1.3
          }
         },
         "name": "B",
         "nbinsx": 10,
         "opacity": 0.8,
         "orientation": "v",
         "type": "histogram",
         "x": [
          1.3248435021986862,
          0.05735020938283478,
          -1.3252283251090466,
          0.2037073853435116,
          0.11390051896740837,
          0.036274803977040415,
          0.07886059125519548,
          -0.2107540123227492,
          0.5438429832196089,
          -1.495186139925318,
          -0.2786757262126936,
          -2.2472868977499583,
          0.5401780372965783,
          -1.2660125619710452,
          2.8917618341817137,
          0.9135784244832255,
          0.8070773007502883,
          -0.47655287637741833,
          -0.6916594268489628,
          -0.29857439303094707,
          -0.5028419053588357,
          -1.097380972947273,
          0.9013779502854321,
          -2.0539267239812853,
          -0.09946671171319675,
          0.027103790935514682,
          0.910952326494662,
          -0.3450271482134044,
          -2.016022367725986,
          1.2318197128416584,
          -0.48882763052385303,
          -1.0985539746033637,
          0.1469041002146205,
          -1.8300962817655162,
          0.3295661962110016,
          1.5269919414554993,
          -0.08726602386535882,
          -0.2746372475405285,
          1.3932038032489773,
          -1.5396569571609415,
          0.27825546855211997,
          -1.2105974754365512,
          -1.117995856964468,
          -0.08862087958247215,
          -0.19882957813497953,
          -0.046593485481045395,
          -0.2823150761795257,
          -0.909045608470984,
          -1.2859323567159786,
          2.57780442556176,
          0.5784537098435818,
          0.28312410196352455,
          0.5708819331108846,
          0.13193351121742164,
          0.7251406104368086,
          -0.33668180850187046,
          -0.6109096964157493,
          0.18883399477521554,
          0.525884140083572,
          -0.29113233390150467,
          1.5467100649562053,
          -1.5034114282884632,
          1.0075308147355966,
          0.8120289248587333,
          -1.3825380096125786,
          1.3893557899959468,
          0.7225515136418575,
          -2.0990836574963083,
          -0.3329107958852471,
          -0.20557479439035437,
          1.2586533985172603,
          -0.3623865838613117,
          -1.81009497493966,
          -0.8144051264697689,
          -0.8543728528659726,
          0.12428063004652715,
          0.42154333813920025,
          0.8325194216703564,
          -1.1316678358816619,
          -0.6752053609299112,
          1.0083868733208903,
          1.0329358144064287,
          0.24154683429897433,
          0.20467656709517945,
          0.4480733678860193,
          -1.4973501519227976,
          -0.06457171959633856,
          -0.7267026226309786,
          0.38549482127688767,
          2.0291148776290124,
          -0.7242805841989912,
          -0.8436208979113577,
          -0.9355965444051567,
          -1.2924130300577341,
          -1.0832341054879675,
          0.40071963830041823,
          1.6882470669240979,
          -1.8897243883593906,
          -1.73705358562559,
          -1.5599300069598463
         ],
         "xaxis": "x6",
         "yaxis": "y6"
        },
        {
         "line": {
          "color": "rgba(128, 128, 128, 1.0)",
          "dash": "solid",
          "shape": "linear",
          "width": 1.3
         },
         "marker": {
          "size": 2,
          "symbol": "circle"
         },
         "mode": "markers",
         "name": "B",
         "text": "",
         "type": "scatter",
         "x": [
          -2.361761577852779,
          0.5601682024555253,
          0.7397791306001766,
          -0.6623782490409087,
          0.6857868613529526,
          1.4325764368304839,
          -0.6046702446723863,
          -0.9224023716659426,
          -1.374858370180204,
          -1.4036497288762604,
          2.2809026918611757,
          -0.14793006094281821,
          0.13753424646413842,
          -0.2232675326374695,
          -0.3383929970868634,
          -0.3042114016740749,
          -2.0235518683305784,
          0.6112943301579296,
          0.12262932462534099,
          -0.5540464192991367,
          0.21394765086253906,
          -0.6342840755001222,
          1.5431114456139305,
          0.520000348435981,
          -0.5070277643479835,
          -1.32430202501762,
          -1.8986721120747658,
          -1.6127903072276566,
          -1.8336681094404546,
          -0.37874463908208617,
          -0.7264976899141545,
          -0.18953135953591352,
          1.000835838807099,
          1.1348048263560553,
          -2.246644046452098,
          -0.32131215444600014,
          -0.5973093329881346,
          -0.7168613711733985,
          -2.8584955120003954,
          2.789113453410877,
          0.4650310112167451,
          -1.6048341588683919,
          -1.2999450295037844,
          0.724368075933912,
          0.6605601842134327,
          -1.6403966595508683,
          -0.459508328073549,
          -0.5133337131873488,
          1.2212848371654796,
          3.103375971399639,
          1.4564409020961275,
          -0.44566360817361256,
          -0.6667837021019473,
          0.8649760834336663,
          0.18913022129124796,
          -0.39855900842707215,
          -0.3353945361522721,
          0.3102726463831046,
          -1.2817872368942829,
          -1.5761180255088258,
          1.9451888083978948,
          -1.3839219453105434,
          1.1718263853168165,
          -0.4363400113758351,
          -1.0065709153967863,
          -1.457183604809572,
          -0.17223676739963256,
          -0.31412797718378505,
          0.24725023263052143,
          0.7056310115827593,
          -0.9235051007847629,
          0.7517653837693907,
          0.4752875570000499,
          1.5337404272019972,
          -0.28544253565872163,
          0.640040353020628,
          -0.18323802609196574,
          -0.16975401206998655,
          0.07304670629250355,
          -0.7026185371650298,
          -0.7268743155257561,
          0.8277640495778841,
          -2.603861293255465,
          1.3069975134359773,
          0.9301139393275412,
          0.2241426217480532,
          -0.00934855406999004,
          0.5308123605970554,
          -0.9750164870308707,
          0.8632892044459971,
          0.1762676646661963,
          1.640097229898394,
          0.7176580381238524,
          -0.3623004190144998,
          -1.1176258416306188,
          0.4525957893338102,
          -1.1854120204386869,
          -0.6421062267770715,
          0.49012960496143854,
          -1.664902421214408
         ],
         "xaxis": "x7",
         "y": [
          1.3248435021986862,
          0.05735020938283478,
          -1.3252283251090466,
          0.2037073853435116,
          0.11390051896740837,
          0.036274803977040415,
          0.07886059125519548,
          -0.2107540123227492,
          0.5438429832196089,
          -1.495186139925318,
          -0.2786757262126936,
          -2.2472868977499583,
          0.5401780372965783,
          -1.2660125619710452,
          2.8917618341817137,
          0.9135784244832255,
          0.8070773007502883,
          -0.47655287637741833,
          -0.6916594268489628,
          -0.29857439303094707,
          -0.5028419053588357,
          -1.097380972947273,
          0.9013779502854321,
          -2.0539267239812853,
          -0.09946671171319675,
          0.027103790935514682,
          0.910952326494662,
          -0.3450271482134044,
          -2.016022367725986,
          1.2318197128416584,
          -0.48882763052385303,
          -1.0985539746033637,
          0.1469041002146205,
          -1.8300962817655162,
          0.3295661962110016,
          1.5269919414554993,
          -0.08726602386535882,
          -0.2746372475405285,
          1.3932038032489773,
          -1.5396569571609415,
          0.27825546855211997,
          -1.2105974754365512,
          -1.117995856964468,
          -0.08862087958247215,
          -0.19882957813497953,
          -0.046593485481045395,
          -0.2823150761795257,
          -0.909045608470984,
          -1.2859323567159786,
          2.57780442556176,
          0.5784537098435818,
          0.28312410196352455,
          0.5708819331108846,
          0.13193351121742164,
          0.7251406104368086,
          -0.33668180850187046,
          -0.6109096964157493,
          0.18883399477521554,
          0.525884140083572,
          -0.29113233390150467,
          1.5467100649562053,
          -1.5034114282884632,
          1.0075308147355966,
          0.8120289248587333,
          -1.3825380096125786,
          1.3893557899959468,
          0.7225515136418575,
          -2.0990836574963083,
          -0.3329107958852471,
          -0.20557479439035437,
          1.2586533985172603,
          -0.3623865838613117,
          -1.81009497493966,
          -0.8144051264697689,
          -0.8543728528659726,
          0.12428063004652715,
          0.42154333813920025,
          0.8325194216703564,
          -1.1316678358816619,
          -0.6752053609299112,
          1.0083868733208903,
          1.0329358144064287,
          0.24154683429897433,
          0.20467656709517945,
          0.4480733678860193,
          -1.4973501519227976,
          -0.06457171959633856,
          -0.7267026226309786,
          0.38549482127688767,
          2.0291148776290124,
          -0.7242805841989912,
          -0.8436208979113577,
          -0.9355965444051567,
          -1.2924130300577341,
          -1.0832341054879675,
          0.40071963830041823,
          1.6882470669240979,
          -1.8897243883593906,
          -1.73705358562559,
          -1.5599300069598463
         ],
         "yaxis": "y7"
        },
        {
         "line": {
          "color": "rgba(128, 128, 128, 1.0)",
          "dash": "solid",
          "shape": "linear",
          "width": 1.3
         },
         "marker": {
          "size": 2,
          "symbol": "circle"
         },
         "mode": "markers",
         "name": "B",
         "text": "",
         "type": "scatter",
         "x": [
          0.611714013887907,
          0.6386052403396689,
          -0.02477849377865895,
          0.6197704319247359,
          -1.1967377415806166,
          1.1720391315629168,
          0.8765281439054488,
          -1.0370592385491233,
          0.44021492011010355,
          0.17230177660561485,
          0.4200336292442886,
          -0.16107225295889302,
          0.7200632250852794,
          -2.298592389474176,
          0.25459428501955056,
          0.2542139932244251,
          -1.8107357042692172,
          -0.5108724925504359,
          0.41001152084386977,
          -1.0703118510366805,
          1.0216244610662364,
          0.9974056726181587,
          1.312610610063279,
          -1.1407814799389158,
          1.5480251592844323,
          -0.49410534648003307,
          2.278885873544256,
          0.19104047538383667,
          -0.47014930082533973,
          -1.0344998801228573,
          -0.10032876048732366,
          0.7773925219423091,
          0.5717920894378987,
          0.33987394847518954,
          -0.1973390537737198,
          1.6021603463915783,
          -0.18834810979770195,
          -0.7497884978957049,
          -0.9027557049861357,
          -0.016809405012762894,
          -1.8597598987950288,
          0.856307118575504,
          -0.2162447769364504,
          -0.205476712225501,
          1.683875488970458,
          0.4609337272646481,
          0.8816172290139743,
          -1.5292750990984212,
          0.9459357785069152,
          -0.14509817237364275,
          -0.16696894829690045,
          -0.7401778451042701,
          0.26927875263065426,
          -1.1256758417539952,
          -0.08988833536686605,
          1.2641096243953123,
          -0.2101147329903418,
          -1.1204823391590175,
          0.13693330967014247,
          -0.23803086366322063,
          -0.8854563237832962,
          0.21533140364738995,
          0.9663254927426982,
          0.07511595060091833,
          -0.2487169421683228,
          1.412511316640888,
          -0.0973691612271399,
          -0.4760956995731815,
          0.16454046508612838,
          -0.8842237914144235,
          -1.1596602344406595,
          -0.11564797255073156,
          -0.5850474514779618,
          0.5224811694375456,
          -1.3775956652443182,
          0.007969820810576162,
          0.28740140869153913,
          0.6617076518110719,
          -0.8460664108204242,
          -0.05583557468567738,
          0.7611148188311797,
          0.4847337270794526,
          -2.1536338798360313,
          -0.3390316543921442,
          0.29109295797409984,
          0.3832439726007917,
          -0.593143056703596,
          -0.10685109921118938,
          -0.7925989257172054,
          1.1161161935482944,
          0.15080005441430192,
          -0.6181883497861653,
          0.6251053204524084,
          -0.5618278147974634,
          -0.46915351905109376,
          -1.1894885930032517,
          -0.5933340624232508,
          -1.4204641235088469,
          -0.0008249022356199199,
          1.02916580415784
         ],
         "xaxis": "x8",
         "y": [
          1.3248435021986862,
          0.05735020938283478,
          -1.3252283251090466,
          0.2037073853435116,
          0.11390051896740837,
          0.036274803977040415,
          0.07886059125519548,
          -0.2107540123227492,
          0.5438429832196089,
          -1.495186139925318,
          -0.2786757262126936,
          -2.2472868977499583,
          0.5401780372965783,
          -1.2660125619710452,
          2.8917618341817137,
          0.9135784244832255,
          0.8070773007502883,
          -0.47655287637741833,
          -0.6916594268489628,
          -0.29857439303094707,
          -0.5028419053588357,
          -1.097380972947273,
          0.9013779502854321,
          -2.0539267239812853,
          -0.09946671171319675,
          0.027103790935514682,
          0.910952326494662,
          -0.3450271482134044,
          -2.016022367725986,
          1.2318197128416584,
          -0.48882763052385303,
          -1.0985539746033637,
          0.1469041002146205,
          -1.8300962817655162,
          0.3295661962110016,
          1.5269919414554993,
          -0.08726602386535882,
          -0.2746372475405285,
          1.3932038032489773,
          -1.5396569571609415,
          0.27825546855211997,
          -1.2105974754365512,
          -1.117995856964468,
          -0.08862087958247215,
          -0.19882957813497953,
          -0.046593485481045395,
          -0.2823150761795257,
          -0.909045608470984,
          -1.2859323567159786,
          2.57780442556176,
          0.5784537098435818,
          0.28312410196352455,
          0.5708819331108846,
          0.13193351121742164,
          0.7251406104368086,
          -0.33668180850187046,
          -0.6109096964157493,
          0.18883399477521554,
          0.525884140083572,
          -0.29113233390150467,
          1.5467100649562053,
          -1.5034114282884632,
          1.0075308147355966,
          0.8120289248587333,
          -1.3825380096125786,
          1.3893557899959468,
          0.7225515136418575,
          -2.0990836574963083,
          -0.3329107958852471,
          -0.20557479439035437,
          1.2586533985172603,
          -0.3623865838613117,
          -1.81009497493966,
          -0.8144051264697689,
          -0.8543728528659726,
          0.12428063004652715,
          0.42154333813920025,
          0.8325194216703564,
          -1.1316678358816619,
          -0.6752053609299112,
          1.0083868733208903,
          1.0329358144064287,
          0.24154683429897433,
          0.20467656709517945,
          0.4480733678860193,
          -1.4973501519227976,
          -0.06457171959633856,
          -0.7267026226309786,
          0.38549482127688767,
          2.0291148776290124,
          -0.7242805841989912,
          -0.8436208979113577,
          -0.9355965444051567,
          -1.2924130300577341,
          -1.0832341054879675,
          0.40071963830041823,
          1.6882470669240979,
          -1.8897243883593906,
          -1.73705358562559,
          -1.5599300069598463
         ],
         "yaxis": "y8"
        },
        {
         "line": {
          "color": "rgba(128, 128, 128, 1.0)",
          "dash": "solid",
          "shape": "linear",
          "width": 1.3
         },
         "marker": {
          "size": 2,
          "symbol": "circle"
         },
         "mode": "markers",
         "name": "C",
         "text": "",
         "type": "scatter",
         "x": [
          0.25766725273870794,
          -0.9683683498568538,
          0.4079767983323879,
          -0.35521716328951264,
          0.1067697108260012,
          0.055264414905670536,
          0.16748678722052524,
          -0.03884642071252894,
          -1.9569206918568747,
          -0.012030065425278914,
          0.5147917475168186,
          -1.1929830986432766,
          -0.28630897965301283,
          -0.7269486914270185,
          -0.6042854575279359,
          -0.7860299666916818,
          -1.2232950810912862,
          -0.13550737994759923,
          -1.0734549238772075,
          0.24804028348226617,
          0.6481756930738801,
          -1.6101508373062166,
          -0.1609375642387576,
          -0.4537761843382195,
          0.6669660076254208,
          -0.844428975954758,
          0.5129831796429379,
          1.155804462649625,
          0.6941037484143968,
          2.325681370776554,
          -1.1934765913970897,
          -1.3331393887106655,
          -0.5842075563796505,
          0.823264907901564,
          0.5077909681150676,
          0.04079208347736599,
          -0.3774067504355232,
          1.684633944827573,
          0.8108285494289319,
          -0.9614720723440364,
          0.8033391836123334,
          1.366141053396587,
          1.22710335380521,
          0.5007861886024525,
          0.343001046248468,
          0.9821044423294414,
          1.058739583049605,
          -0.302159064903064,
          0.01997985590888351,
          -0.33131002906924917,
          0.2717518499836177,
          1.3142633549959786,
          -0.8617857664810039,
          0.1400785711199423,
          0.45416005353468314,
          -1.6845394060445138,
          -1.2870651849530947,
          -1.368366894386971,
          0.7796978263073777,
          0.8049718982440207,
          0.6720806332514321,
          0.019012236335749715,
          0.9820030162836629,
          -1.3032056716341103,
          0.24368134319022605,
          -0.11259416554794206,
          0.4777042747792598,
          0.7994237775854384,
          -0.5912923178386565,
          1.8620316169982516,
          1.5979147218970453,
          0.6982224574224856,
          0.06113753691724821,
          0.2011006952610454,
          -0.5264422448448134,
          -0.2860199234535764,
          1.1520711810777065,
          0.3853847234561283,
          0.8496286363248838,
          0.21092045657163339,
          0.4992727903258261,
          0.019602502769003088,
          1.479898271696008,
          0.13819373894873163,
          0.4943303710765866,
          0.8121478456947057,
          -0.920576847331459,
          0.10674261995226657,
          1.2436406766350976,
          0.6251502982138215,
          0.5576995553252935,
          0.15981433848144747,
          -0.46484952881209385,
          0.34931673594281165,
          -1.3197036618486955,
          2.030244713325367,
          1.3293527484805516,
          -0.6014582498008547,
          2.3177502612429897,
          0.24869161904699996
         ],
         "xaxis": "x9",
         "y": [
          -2.361761577852779,
          0.5601682024555253,
          0.7397791306001766,
          -0.6623782490409087,
          0.6857868613529526,
          1.4325764368304839,
          -0.6046702446723863,
          -0.9224023716659426,
          -1.374858370180204,
          -1.4036497288762604,
          2.2809026918611757,
          -0.14793006094281821,
          0.13753424646413842,
          -0.2232675326374695,
          -0.3383929970868634,
          -0.3042114016740749,
          -2.0235518683305784,
          0.6112943301579296,
          0.12262932462534099,
          -0.5540464192991367,
          0.21394765086253906,
          -0.6342840755001222,
          1.5431114456139305,
          0.520000348435981,
          -0.5070277643479835,
          -1.32430202501762,
          -1.8986721120747658,
          -1.6127903072276566,
          -1.8336681094404546,
          -0.37874463908208617,
          -0.7264976899141545,
          -0.18953135953591352,
          1.000835838807099,
          1.1348048263560553,
          -2.246644046452098,
          -0.32131215444600014,
          -0.5973093329881346,
          -0.7168613711733985,
          -2.8584955120003954,
          2.789113453410877,
          0.4650310112167451,
          -1.6048341588683919,
          -1.2999450295037844,
          0.724368075933912,
          0.6605601842134327,
          -1.6403966595508683,
          -0.459508328073549,
          -0.5133337131873488,
          1.2212848371654796,
          3.103375971399639,
          1.4564409020961275,
          -0.44566360817361256,
          -0.6667837021019473,
          0.8649760834336663,
          0.18913022129124796,
          -0.39855900842707215,
          -0.3353945361522721,
          0.3102726463831046,
          -1.2817872368942829,
          -1.5761180255088258,
          1.9451888083978948,
          -1.3839219453105434,
          1.1718263853168165,
          -0.4363400113758351,
          -1.0065709153967863,
          -1.457183604809572,
          -0.17223676739963256,
          -0.31412797718378505,
          0.24725023263052143,
          0.7056310115827593,
          -0.9235051007847629,
          0.7517653837693907,
          0.4752875570000499,
          1.5337404272019972,
          -0.28544253565872163,
          0.640040353020628,
          -0.18323802609196574,
          -0.16975401206998655,
          0.07304670629250355,
          -0.7026185371650298,
          -0.7268743155257561,
          0.8277640495778841,
          -2.603861293255465,
          1.3069975134359773,
          0.9301139393275412,
          0.2241426217480532,
          -0.00934855406999004,
          0.5308123605970554,
          -0.9750164870308707,
          0.8632892044459971,
          0.1762676646661963,
          1.640097229898394,
          0.7176580381238524,
          -0.3623004190144998,
          -1.1176258416306188,
          0.4525957893338102,
          -1.1854120204386869,
          -0.6421062267770715,
          0.49012960496143854,
          -1.664902421214408
         ],
         "yaxis": "y9"
        },
        {
         "line": {
          "color": "rgba(128, 128, 128, 1.0)",
          "dash": "solid",
          "shape": "linear",
          "width": 1.3
         },
         "marker": {
          "size": 2,
          "symbol": "circle"
         },
         "mode": "markers",
         "name": "C",
         "text": "",
         "type": "scatter",
         "x": [
          1.3248435021986862,
          0.05735020938283478,
          -1.3252283251090466,
          0.2037073853435116,
          0.11390051896740837,
          0.036274803977040415,
          0.07886059125519548,
          -0.2107540123227492,
          0.5438429832196089,
          -1.495186139925318,
          -0.2786757262126936,
          -2.2472868977499583,
          0.5401780372965783,
          -1.2660125619710452,
          2.8917618341817137,
          0.9135784244832255,
          0.8070773007502883,
          -0.47655287637741833,
          -0.6916594268489628,
          -0.29857439303094707,
          -0.5028419053588357,
          -1.097380972947273,
          0.9013779502854321,
          -2.0539267239812853,
          -0.09946671171319675,
          0.027103790935514682,
          0.910952326494662,
          -0.3450271482134044,
          -2.016022367725986,
          1.2318197128416584,
          -0.48882763052385303,
          -1.0985539746033637,
          0.1469041002146205,
          -1.8300962817655162,
          0.3295661962110016,
          1.5269919414554993,
          -0.08726602386535882,
          -0.2746372475405285,
          1.3932038032489773,
          -1.5396569571609415,
          0.27825546855211997,
          -1.2105974754365512,
          -1.117995856964468,
          -0.08862087958247215,
          -0.19882957813497953,
          -0.046593485481045395,
          -0.2823150761795257,
          -0.909045608470984,
          -1.2859323567159786,
          2.57780442556176,
          0.5784537098435818,
          0.28312410196352455,
          0.5708819331108846,
          0.13193351121742164,
          0.7251406104368086,
          -0.33668180850187046,
          -0.6109096964157493,
          0.18883399477521554,
          0.525884140083572,
          -0.29113233390150467,
          1.5467100649562053,
          -1.5034114282884632,
          1.0075308147355966,
          0.8120289248587333,
          -1.3825380096125786,
          1.3893557899959468,
          0.7225515136418575,
          -2.0990836574963083,
          -0.3329107958852471,
          -0.20557479439035437,
          1.2586533985172603,
          -0.3623865838613117,
          -1.81009497493966,
          -0.8144051264697689,
          -0.8543728528659726,
          0.12428063004652715,
          0.42154333813920025,
          0.8325194216703564,
          -1.1316678358816619,
          -0.6752053609299112,
          1.0083868733208903,
          1.0329358144064287,
          0.24154683429897433,
          0.20467656709517945,
          0.4480733678860193,
          -1.4973501519227976,
          -0.06457171959633856,
          -0.7267026226309786,
          0.38549482127688767,
          2.0291148776290124,
          -0.7242805841989912,
          -0.8436208979113577,
          -0.9355965444051567,
          -1.2924130300577341,
          -1.0832341054879675,
          0.40071963830041823,
          1.6882470669240979,
          -1.8897243883593906,
          -1.73705358562559,
          -1.5599300069598463
         ],
         "xaxis": "x10",
         "y": [
          -2.361761577852779,
          0.5601682024555253,
          0.7397791306001766,
          -0.6623782490409087,
          0.6857868613529526,
          1.4325764368304839,
          -0.6046702446723863,
          -0.9224023716659426,
          -1.374858370180204,
          -1.4036497288762604,
          2.2809026918611757,
          -0.14793006094281821,
          0.13753424646413842,
          -0.2232675326374695,
          -0.3383929970868634,
          -0.3042114016740749,
          -2.0235518683305784,
          0.6112943301579296,
          0.12262932462534099,
          -0.5540464192991367,
          0.21394765086253906,
          -0.6342840755001222,
          1.5431114456139305,
          0.520000348435981,
          -0.5070277643479835,
          -1.32430202501762,
          -1.8986721120747658,
          -1.6127903072276566,
          -1.8336681094404546,
          -0.37874463908208617,
          -0.7264976899141545,
          -0.18953135953591352,
          1.000835838807099,
          1.1348048263560553,
          -2.246644046452098,
          -0.32131215444600014,
          -0.5973093329881346,
          -0.7168613711733985,
          -2.8584955120003954,
          2.789113453410877,
          0.4650310112167451,
          -1.6048341588683919,
          -1.2999450295037844,
          0.724368075933912,
          0.6605601842134327,
          -1.6403966595508683,
          -0.459508328073549,
          -0.5133337131873488,
          1.2212848371654796,
          3.103375971399639,
          1.4564409020961275,
          -0.44566360817361256,
          -0.6667837021019473,
          0.8649760834336663,
          0.18913022129124796,
          -0.39855900842707215,
          -0.3353945361522721,
          0.3102726463831046,
          -1.2817872368942829,
          -1.5761180255088258,
          1.9451888083978948,
          -1.3839219453105434,
          1.1718263853168165,
          -0.4363400113758351,
          -1.0065709153967863,
          -1.457183604809572,
          -0.17223676739963256,
          -0.31412797718378505,
          0.24725023263052143,
          0.7056310115827593,
          -0.9235051007847629,
          0.7517653837693907,
          0.4752875570000499,
          1.5337404272019972,
          -0.28544253565872163,
          0.640040353020628,
          -0.18323802609196574,
          -0.16975401206998655,
          0.07304670629250355,
          -0.7026185371650298,
          -0.7268743155257561,
          0.8277640495778841,
          -2.603861293255465,
          1.3069975134359773,
          0.9301139393275412,
          0.2241426217480532,
          -0.00934855406999004,
          0.5308123605970554,
          -0.9750164870308707,
          0.8632892044459971,
          0.1762676646661963,
          1.640097229898394,
          0.7176580381238524,
          -0.3623004190144998,
          -1.1176258416306188,
          0.4525957893338102,
          -1.1854120204386869,
          -0.6421062267770715,
          0.49012960496143854,
          -1.664902421214408
         ],
         "yaxis": "y10"
        },
        {
         "histfunc": "count",
         "histnorm": "",
         "marker": {
          "color": "rgba(50, 171, 96, 1.0)",
          "line": {
           "color": "#4D5663",
           "width": 1.3
          }
         },
         "name": "C",
         "nbinsx": 10,
         "opacity": 0.8,
         "orientation": "v",
         "type": "histogram",
         "x": [
          -2.361761577852779,
          0.5601682024555253,
          0.7397791306001766,
          -0.6623782490409087,
          0.6857868613529526,
          1.4325764368304839,
          -0.6046702446723863,
          -0.9224023716659426,
          -1.374858370180204,
          -1.4036497288762604,
          2.2809026918611757,
          -0.14793006094281821,
          0.13753424646413842,
          -0.2232675326374695,
          -0.3383929970868634,
          -0.3042114016740749,
          -2.0235518683305784,
          0.6112943301579296,
          0.12262932462534099,
          -0.5540464192991367,
          0.21394765086253906,
          -0.6342840755001222,
          1.5431114456139305,
          0.520000348435981,
          -0.5070277643479835,
          -1.32430202501762,
          -1.8986721120747658,
          -1.6127903072276566,
          -1.8336681094404546,
          -0.37874463908208617,
          -0.7264976899141545,
          -0.18953135953591352,
          1.000835838807099,
          1.1348048263560553,
          -2.246644046452098,
          -0.32131215444600014,
          -0.5973093329881346,
          -0.7168613711733985,
          -2.8584955120003954,
          2.789113453410877,
          0.4650310112167451,
          -1.6048341588683919,
          -1.2999450295037844,
          0.724368075933912,
          0.6605601842134327,
          -1.6403966595508683,
          -0.459508328073549,
          -0.5133337131873488,
          1.2212848371654796,
          3.103375971399639,
          1.4564409020961275,
          -0.44566360817361256,
          -0.6667837021019473,
          0.8649760834336663,
          0.18913022129124796,
          -0.39855900842707215,
          -0.3353945361522721,
          0.3102726463831046,
          -1.2817872368942829,
          -1.5761180255088258,
          1.9451888083978948,
          -1.3839219453105434,
          1.1718263853168165,
          -0.4363400113758351,
          -1.0065709153967863,
          -1.457183604809572,
          -0.17223676739963256,
          -0.31412797718378505,
          0.24725023263052143,
          0.7056310115827593,
          -0.9235051007847629,
          0.7517653837693907,
          0.4752875570000499,
          1.5337404272019972,
          -0.28544253565872163,
          0.640040353020628,
          -0.18323802609196574,
          -0.16975401206998655,
          0.07304670629250355,
          -0.7026185371650298,
          -0.7268743155257561,
          0.8277640495778841,
          -2.603861293255465,
          1.3069975134359773,
          0.9301139393275412,
          0.2241426217480532,
          -0.00934855406999004,
          0.5308123605970554,
          -0.9750164870308707,
          0.8632892044459971,
          0.1762676646661963,
          1.640097229898394,
          0.7176580381238524,
          -0.3623004190144998,
          -1.1176258416306188,
          0.4525957893338102,
          -1.1854120204386869,
          -0.6421062267770715,
          0.49012960496143854,
          -1.664902421214408
         ],
         "xaxis": "x11",
         "yaxis": "y11"
        },
        {
         "line": {
          "color": "rgba(128, 128, 128, 1.0)",
          "dash": "solid",
          "shape": "linear",
          "width": 1.3
         },
         "marker": {
          "size": 2,
          "symbol": "circle"
         },
         "mode": "markers",
         "name": "C",
         "text": "",
         "type": "scatter",
         "x": [
          0.611714013887907,
          0.6386052403396689,
          -0.02477849377865895,
          0.6197704319247359,
          -1.1967377415806166,
          1.1720391315629168,
          0.8765281439054488,
          -1.0370592385491233,
          0.44021492011010355,
          0.17230177660561485,
          0.4200336292442886,
          -0.16107225295889302,
          0.7200632250852794,
          -2.298592389474176,
          0.25459428501955056,
          0.2542139932244251,
          -1.8107357042692172,
          -0.5108724925504359,
          0.41001152084386977,
          -1.0703118510366805,
          1.0216244610662364,
          0.9974056726181587,
          1.312610610063279,
          -1.1407814799389158,
          1.5480251592844323,
          -0.49410534648003307,
          2.278885873544256,
          0.19104047538383667,
          -0.47014930082533973,
          -1.0344998801228573,
          -0.10032876048732366,
          0.7773925219423091,
          0.5717920894378987,
          0.33987394847518954,
          -0.1973390537737198,
          1.6021603463915783,
          -0.18834810979770195,
          -0.7497884978957049,
          -0.9027557049861357,
          -0.016809405012762894,
          -1.8597598987950288,
          0.856307118575504,
          -0.2162447769364504,
          -0.205476712225501,
          1.683875488970458,
          0.4609337272646481,
          0.8816172290139743,
          -1.5292750990984212,
          0.9459357785069152,
          -0.14509817237364275,
          -0.16696894829690045,
          -0.7401778451042701,
          0.26927875263065426,
          -1.1256758417539952,
          -0.08988833536686605,
          1.2641096243953123,
          -0.2101147329903418,
          -1.1204823391590175,
          0.13693330967014247,
          -0.23803086366322063,
          -0.8854563237832962,
          0.21533140364738995,
          0.9663254927426982,
          0.07511595060091833,
          -0.2487169421683228,
          1.412511316640888,
          -0.0973691612271399,
          -0.4760956995731815,
          0.16454046508612838,
          -0.8842237914144235,
          -1.1596602344406595,
          -0.11564797255073156,
          -0.5850474514779618,
          0.5224811694375456,
          -1.3775956652443182,
          0.007969820810576162,
          0.28740140869153913,
          0.6617076518110719,
          -0.8460664108204242,
          -0.05583557468567738,
          0.7611148188311797,
          0.4847337270794526,
          -2.1536338798360313,
          -0.3390316543921442,
          0.29109295797409984,
          0.3832439726007917,
          -0.593143056703596,
          -0.10685109921118938,
          -0.7925989257172054,
          1.1161161935482944,
          0.15080005441430192,
          -0.6181883497861653,
          0.6251053204524084,
          -0.5618278147974634,
          -0.46915351905109376,
          -1.1894885930032517,
          -0.5933340624232508,
          -1.4204641235088469,
          -0.0008249022356199199,
          1.02916580415784
         ],
         "xaxis": "x12",
         "y": [
          -2.361761577852779,
          0.5601682024555253,
          0.7397791306001766,
          -0.6623782490409087,
          0.6857868613529526,
          1.4325764368304839,
          -0.6046702446723863,
          -0.9224023716659426,
          -1.374858370180204,
          -1.4036497288762604,
          2.2809026918611757,
          -0.14793006094281821,
          0.13753424646413842,
          -0.2232675326374695,
          -0.3383929970868634,
          -0.3042114016740749,
          -2.0235518683305784,
          0.6112943301579296,
          0.12262932462534099,
          -0.5540464192991367,
          0.21394765086253906,
          -0.6342840755001222,
          1.5431114456139305,
          0.520000348435981,
          -0.5070277643479835,
          -1.32430202501762,
          -1.8986721120747658,
          -1.6127903072276566,
          -1.8336681094404546,
          -0.37874463908208617,
          -0.7264976899141545,
          -0.18953135953591352,
          1.000835838807099,
          1.1348048263560553,
          -2.246644046452098,
          -0.32131215444600014,
          -0.5973093329881346,
          -0.7168613711733985,
          -2.8584955120003954,
          2.789113453410877,
          0.4650310112167451,
          -1.6048341588683919,
          -1.2999450295037844,
          0.724368075933912,
          0.6605601842134327,
          -1.6403966595508683,
          -0.459508328073549,
          -0.5133337131873488,
          1.2212848371654796,
          3.103375971399639,
          1.4564409020961275,
          -0.44566360817361256,
          -0.6667837021019473,
          0.8649760834336663,
          0.18913022129124796,
          -0.39855900842707215,
          -0.3353945361522721,
          0.3102726463831046,
          -1.2817872368942829,
          -1.5761180255088258,
          1.9451888083978948,
          -1.3839219453105434,
          1.1718263853168165,
          -0.4363400113758351,
          -1.0065709153967863,
          -1.457183604809572,
          -0.17223676739963256,
          -0.31412797718378505,
          0.24725023263052143,
          0.7056310115827593,
          -0.9235051007847629,
          0.7517653837693907,
          0.4752875570000499,
          1.5337404272019972,
          -0.28544253565872163,
          0.640040353020628,
          -0.18323802609196574,
          -0.16975401206998655,
          0.07304670629250355,
          -0.7026185371650298,
          -0.7268743155257561,
          0.8277640495778841,
          -2.603861293255465,
          1.3069975134359773,
          0.9301139393275412,
          0.2241426217480532,
          -0.00934855406999004,
          0.5308123605970554,
          -0.9750164870308707,
          0.8632892044459971,
          0.1762676646661963,
          1.640097229898394,
          0.7176580381238524,
          -0.3623004190144998,
          -1.1176258416306188,
          0.4525957893338102,
          -1.1854120204386869,
          -0.6421062267770715,
          0.49012960496143854,
          -1.664902421214408
         ],
         "yaxis": "y12"
        },
        {
         "line": {
          "color": "rgba(128, 128, 128, 1.0)",
          "dash": "solid",
          "shape": "linear",
          "width": 1.3
         },
         "marker": {
          "size": 2,
          "symbol": "circle"
         },
         "mode": "markers",
         "name": "D",
         "text": "",
         "type": "scatter",
         "x": [
          0.25766725273870794,
          -0.9683683498568538,
          0.4079767983323879,
          -0.35521716328951264,
          0.1067697108260012,
          0.055264414905670536,
          0.16748678722052524,
          -0.03884642071252894,
          -1.9569206918568747,
          -0.012030065425278914,
          0.5147917475168186,
          -1.1929830986432766,
          -0.28630897965301283,
          -0.7269486914270185,
          -0.6042854575279359,
          -0.7860299666916818,
          -1.2232950810912862,
          -0.13550737994759923,
          -1.0734549238772075,
          0.24804028348226617,
          0.6481756930738801,
          -1.6101508373062166,
          -0.1609375642387576,
          -0.4537761843382195,
          0.6669660076254208,
          -0.844428975954758,
          0.5129831796429379,
          1.155804462649625,
          0.6941037484143968,
          2.325681370776554,
          -1.1934765913970897,
          -1.3331393887106655,
          -0.5842075563796505,
          0.823264907901564,
          0.5077909681150676,
          0.04079208347736599,
          -0.3774067504355232,
          1.684633944827573,
          0.8108285494289319,
          -0.9614720723440364,
          0.8033391836123334,
          1.366141053396587,
          1.22710335380521,
          0.5007861886024525,
          0.343001046248468,
          0.9821044423294414,
          1.058739583049605,
          -0.302159064903064,
          0.01997985590888351,
          -0.33131002906924917,
          0.2717518499836177,
          1.3142633549959786,
          -0.8617857664810039,
          0.1400785711199423,
          0.45416005353468314,
          -1.6845394060445138,
          -1.2870651849530947,
          -1.368366894386971,
          0.7796978263073777,
          0.8049718982440207,
          0.6720806332514321,
          0.019012236335749715,
          0.9820030162836629,
          -1.3032056716341103,
          0.24368134319022605,
          -0.11259416554794206,
          0.4777042747792598,
          0.7994237775854384,
          -0.5912923178386565,
          1.8620316169982516,
          1.5979147218970453,
          0.6982224574224856,
          0.06113753691724821,
          0.2011006952610454,
          -0.5264422448448134,
          -0.2860199234535764,
          1.1520711810777065,
          0.3853847234561283,
          0.8496286363248838,
          0.21092045657163339,
          0.4992727903258261,
          0.019602502769003088,
          1.479898271696008,
          0.13819373894873163,
          0.4943303710765866,
          0.8121478456947057,
          -0.920576847331459,
          0.10674261995226657,
          1.2436406766350976,
          0.6251502982138215,
          0.5576995553252935,
          0.15981433848144747,
          -0.46484952881209385,
          0.34931673594281165,
          -1.3197036618486955,
          2.030244713325367,
          1.3293527484805516,
          -0.6014582498008547,
          2.3177502612429897,
          0.24869161904699996
         ],
         "xaxis": "x13",
         "y": [
          0.611714013887907,
          0.6386052403396689,
          -0.02477849377865895,
          0.6197704319247359,
          -1.1967377415806166,
          1.1720391315629168,
          0.8765281439054488,
          -1.0370592385491233,
          0.44021492011010355,
          0.17230177660561485,
          0.4200336292442886,
          -0.16107225295889302,
          0.7200632250852794,
          -2.298592389474176,
          0.25459428501955056,
          0.2542139932244251,
          -1.8107357042692172,
          -0.5108724925504359,
          0.41001152084386977,
          -1.0703118510366805,
          1.0216244610662364,
          0.9974056726181587,
          1.312610610063279,
          -1.1407814799389158,
          1.5480251592844323,
          -0.49410534648003307,
          2.278885873544256,
          0.19104047538383667,
          -0.47014930082533973,
          -1.0344998801228573,
          -0.10032876048732366,
          0.7773925219423091,
          0.5717920894378987,
          0.33987394847518954,
          -0.1973390537737198,
          1.6021603463915783,
          -0.18834810979770195,
          -0.7497884978957049,
          -0.9027557049861357,
          -0.016809405012762894,
          -1.8597598987950288,
          0.856307118575504,
          -0.2162447769364504,
          -0.205476712225501,
          1.683875488970458,
          0.4609337272646481,
          0.8816172290139743,
          -1.5292750990984212,
          0.9459357785069152,
          -0.14509817237364275,
          -0.16696894829690045,
          -0.7401778451042701,
          0.26927875263065426,
          -1.1256758417539952,
          -0.08988833536686605,
          1.2641096243953123,
          -0.2101147329903418,
          -1.1204823391590175,
          0.13693330967014247,
          -0.23803086366322063,
          -0.8854563237832962,
          0.21533140364738995,
          0.9663254927426982,
          0.07511595060091833,
          -0.2487169421683228,
          1.412511316640888,
          -0.0973691612271399,
          -0.4760956995731815,
          0.16454046508612838,
          -0.8842237914144235,
          -1.1596602344406595,
          -0.11564797255073156,
          -0.5850474514779618,
          0.5224811694375456,
          -1.3775956652443182,
          0.007969820810576162,
          0.28740140869153913,
          0.6617076518110719,
          -0.8460664108204242,
          -0.05583557468567738,
          0.7611148188311797,
          0.4847337270794526,
          -2.1536338798360313,
          -0.3390316543921442,
          0.29109295797409984,
          0.3832439726007917,
          -0.593143056703596,
          -0.10685109921118938,
          -0.7925989257172054,
          1.1161161935482944,
          0.15080005441430192,
          -0.6181883497861653,
          0.6251053204524084,
          -0.5618278147974634,
          -0.46915351905109376,
          -1.1894885930032517,
          -0.5933340624232508,
          -1.4204641235088469,
          -0.0008249022356199199,
          1.02916580415784
         ],
         "yaxis": "y13"
        },
        {
         "line": {
          "color": "rgba(128, 128, 128, 1.0)",
          "dash": "solid",
          "shape": "linear",
          "width": 1.3
         },
         "marker": {
          "size": 2,
          "symbol": "circle"
         },
         "mode": "markers",
         "name": "D",
         "text": "",
         "type": "scatter",
         "x": [
          1.3248435021986862,
          0.05735020938283478,
          -1.3252283251090466,
          0.2037073853435116,
          0.11390051896740837,
          0.036274803977040415,
          0.07886059125519548,
          -0.2107540123227492,
          0.5438429832196089,
          -1.495186139925318,
          -0.2786757262126936,
          -2.2472868977499583,
          0.5401780372965783,
          -1.2660125619710452,
          2.8917618341817137,
          0.9135784244832255,
          0.8070773007502883,
          -0.47655287637741833,
          -0.6916594268489628,
          -0.29857439303094707,
          -0.5028419053588357,
          -1.097380972947273,
          0.9013779502854321,
          -2.0539267239812853,
          -0.09946671171319675,
          0.027103790935514682,
          0.910952326494662,
          -0.3450271482134044,
          -2.016022367725986,
          1.2318197128416584,
          -0.48882763052385303,
          -1.0985539746033637,
          0.1469041002146205,
          -1.8300962817655162,
          0.3295661962110016,
          1.5269919414554993,
          -0.08726602386535882,
          -0.2746372475405285,
          1.3932038032489773,
          -1.5396569571609415,
          0.27825546855211997,
          -1.2105974754365512,
          -1.117995856964468,
          -0.08862087958247215,
          -0.19882957813497953,
          -0.046593485481045395,
          -0.2823150761795257,
          -0.909045608470984,
          -1.2859323567159786,
          2.57780442556176,
          0.5784537098435818,
          0.28312410196352455,
          0.5708819331108846,
          0.13193351121742164,
          0.7251406104368086,
          -0.33668180850187046,
          -0.6109096964157493,
          0.18883399477521554,
          0.525884140083572,
          -0.29113233390150467,
          1.5467100649562053,
          -1.5034114282884632,
          1.0075308147355966,
          0.8120289248587333,
          -1.3825380096125786,
          1.3893557899959468,
          0.7225515136418575,
          -2.0990836574963083,
          -0.3329107958852471,
          -0.20557479439035437,
          1.2586533985172603,
          -0.3623865838613117,
          -1.81009497493966,
          -0.8144051264697689,
          -0.8543728528659726,
          0.12428063004652715,
          0.42154333813920025,
          0.8325194216703564,
          -1.1316678358816619,
          -0.6752053609299112,
          1.0083868733208903,
          1.0329358144064287,
          0.24154683429897433,
          0.20467656709517945,
          0.4480733678860193,
          -1.4973501519227976,
          -0.06457171959633856,
          -0.7267026226309786,
          0.38549482127688767,
          2.0291148776290124,
          -0.7242805841989912,
          -0.8436208979113577,
          -0.9355965444051567,
          -1.2924130300577341,
          -1.0832341054879675,
          0.40071963830041823,
          1.6882470669240979,
          -1.8897243883593906,
          -1.73705358562559,
          -1.5599300069598463
         ],
         "xaxis": "x14",
         "y": [
          0.611714013887907,
          0.6386052403396689,
          -0.02477849377865895,
          0.6197704319247359,
          -1.1967377415806166,
          1.1720391315629168,
          0.8765281439054488,
          -1.0370592385491233,
          0.44021492011010355,
          0.17230177660561485,
          0.4200336292442886,
          -0.16107225295889302,
          0.7200632250852794,
          -2.298592389474176,
          0.25459428501955056,
          0.2542139932244251,
          -1.8107357042692172,
          -0.5108724925504359,
          0.41001152084386977,
          -1.0703118510366805,
          1.0216244610662364,
          0.9974056726181587,
          1.312610610063279,
          -1.1407814799389158,
          1.5480251592844323,
          -0.49410534648003307,
          2.278885873544256,
          0.19104047538383667,
          -0.47014930082533973,
          -1.0344998801228573,
          -0.10032876048732366,
          0.7773925219423091,
          0.5717920894378987,
          0.33987394847518954,
          -0.1973390537737198,
          1.6021603463915783,
          -0.18834810979770195,
          -0.7497884978957049,
          -0.9027557049861357,
          -0.016809405012762894,
          -1.8597598987950288,
          0.856307118575504,
          -0.2162447769364504,
          -0.205476712225501,
          1.683875488970458,
          0.4609337272646481,
          0.8816172290139743,
          -1.5292750990984212,
          0.9459357785069152,
          -0.14509817237364275,
          -0.16696894829690045,
          -0.7401778451042701,
          0.26927875263065426,
          -1.1256758417539952,
          -0.08988833536686605,
          1.2641096243953123,
          -0.2101147329903418,
          -1.1204823391590175,
          0.13693330967014247,
          -0.23803086366322063,
          -0.8854563237832962,
          0.21533140364738995,
          0.9663254927426982,
          0.07511595060091833,
          -0.2487169421683228,
          1.412511316640888,
          -0.0973691612271399,
          -0.4760956995731815,
          0.16454046508612838,
          -0.8842237914144235,
          -1.1596602344406595,
          -0.11564797255073156,
          -0.5850474514779618,
          0.5224811694375456,
          -1.3775956652443182,
          0.007969820810576162,
          0.28740140869153913,
          0.6617076518110719,
          -0.8460664108204242,
          -0.05583557468567738,
          0.7611148188311797,
          0.4847337270794526,
          -2.1536338798360313,
          -0.3390316543921442,
          0.29109295797409984,
          0.3832439726007917,
          -0.593143056703596,
          -0.10685109921118938,
          -0.7925989257172054,
          1.1161161935482944,
          0.15080005441430192,
          -0.6181883497861653,
          0.6251053204524084,
          -0.5618278147974634,
          -0.46915351905109376,
          -1.1894885930032517,
          -0.5933340624232508,
          -1.4204641235088469,
          -0.0008249022356199199,
          1.02916580415784
         ],
         "yaxis": "y14"
        },
        {
         "line": {
          "color": "rgba(128, 128, 128, 1.0)",
          "dash": "solid",
          "shape": "linear",
          "width": 1.3
         },
         "marker": {
          "size": 2,
          "symbol": "circle"
         },
         "mode": "markers",
         "name": "D",
         "text": "",
         "type": "scatter",
         "x": [
          -2.361761577852779,
          0.5601682024555253,
          0.7397791306001766,
          -0.6623782490409087,
          0.6857868613529526,
          1.4325764368304839,
          -0.6046702446723863,
          -0.9224023716659426,
          -1.374858370180204,
          -1.4036497288762604,
          2.2809026918611757,
          -0.14793006094281821,
          0.13753424646413842,
          -0.2232675326374695,
          -0.3383929970868634,
          -0.3042114016740749,
          -2.0235518683305784,
          0.6112943301579296,
          0.12262932462534099,
          -0.5540464192991367,
          0.21394765086253906,
          -0.6342840755001222,
          1.5431114456139305,
          0.520000348435981,
          -0.5070277643479835,
          -1.32430202501762,
          -1.8986721120747658,
          -1.6127903072276566,
          -1.8336681094404546,
          -0.37874463908208617,
          -0.7264976899141545,
          -0.18953135953591352,
          1.000835838807099,
          1.1348048263560553,
          -2.246644046452098,
          -0.32131215444600014,
          -0.5973093329881346,
          -0.7168613711733985,
          -2.8584955120003954,
          2.789113453410877,
          0.4650310112167451,
          -1.6048341588683919,
          -1.2999450295037844,
          0.724368075933912,
          0.6605601842134327,
          -1.6403966595508683,
          -0.459508328073549,
          -0.5133337131873488,
          1.2212848371654796,
          3.103375971399639,
          1.4564409020961275,
          -0.44566360817361256,
          -0.6667837021019473,
          0.8649760834336663,
          0.18913022129124796,
          -0.39855900842707215,
          -0.3353945361522721,
          0.3102726463831046,
          -1.2817872368942829,
          -1.5761180255088258,
          1.9451888083978948,
          -1.3839219453105434,
          1.1718263853168165,
          -0.4363400113758351,
          -1.0065709153967863,
          -1.457183604809572,
          -0.17223676739963256,
          -0.31412797718378505,
          0.24725023263052143,
          0.7056310115827593,
          -0.9235051007847629,
          0.7517653837693907,
          0.4752875570000499,
          1.5337404272019972,
          -0.28544253565872163,
          0.640040353020628,
          -0.18323802609196574,
          -0.16975401206998655,
          0.07304670629250355,
          -0.7026185371650298,
          -0.7268743155257561,
          0.8277640495778841,
          -2.603861293255465,
          1.3069975134359773,
          0.9301139393275412,
          0.2241426217480532,
          -0.00934855406999004,
          0.5308123605970554,
          -0.9750164870308707,
          0.8632892044459971,
          0.1762676646661963,
          1.640097229898394,
          0.7176580381238524,
          -0.3623004190144998,
          -1.1176258416306188,
          0.4525957893338102,
          -1.1854120204386869,
          -0.6421062267770715,
          0.49012960496143854,
          -1.664902421214408
         ],
         "xaxis": "x15",
         "y": [
          0.611714013887907,
          0.6386052403396689,
          -0.02477849377865895,
          0.6197704319247359,
          -1.1967377415806166,
          1.1720391315629168,
          0.8765281439054488,
          -1.0370592385491233,
          0.44021492011010355,
          0.17230177660561485,
          0.4200336292442886,
          -0.16107225295889302,
          0.7200632250852794,
          -2.298592389474176,
          0.25459428501955056,
          0.2542139932244251,
          -1.8107357042692172,
          -0.5108724925504359,
          0.41001152084386977,
          -1.0703118510366805,
          1.0216244610662364,
          0.9974056726181587,
          1.312610610063279,
          -1.1407814799389158,
          1.5480251592844323,
          -0.49410534648003307,
          2.278885873544256,
          0.19104047538383667,
          -0.47014930082533973,
          -1.0344998801228573,
          -0.10032876048732366,
          0.7773925219423091,
          0.5717920894378987,
          0.33987394847518954,
          -0.1973390537737198,
          1.6021603463915783,
          -0.18834810979770195,
          -0.7497884978957049,
          -0.9027557049861357,
          -0.016809405012762894,
          -1.8597598987950288,
          0.856307118575504,
          -0.2162447769364504,
          -0.205476712225501,
          1.683875488970458,
          0.4609337272646481,
          0.8816172290139743,
          -1.5292750990984212,
          0.9459357785069152,
          -0.14509817237364275,
          -0.16696894829690045,
          -0.7401778451042701,
          0.26927875263065426,
          -1.1256758417539952,
          -0.08988833536686605,
          1.2641096243953123,
          -0.2101147329903418,
          -1.1204823391590175,
          0.13693330967014247,
          -0.23803086366322063,
          -0.8854563237832962,
          0.21533140364738995,
          0.9663254927426982,
          0.07511595060091833,
          -0.2487169421683228,
          1.412511316640888,
          -0.0973691612271399,
          -0.4760956995731815,
          0.16454046508612838,
          -0.8842237914144235,
          -1.1596602344406595,
          -0.11564797255073156,
          -0.5850474514779618,
          0.5224811694375456,
          -1.3775956652443182,
          0.007969820810576162,
          0.28740140869153913,
          0.6617076518110719,
          -0.8460664108204242,
          -0.05583557468567738,
          0.7611148188311797,
          0.4847337270794526,
          -2.1536338798360313,
          -0.3390316543921442,
          0.29109295797409984,
          0.3832439726007917,
          -0.593143056703596,
          -0.10685109921118938,
          -0.7925989257172054,
          1.1161161935482944,
          0.15080005441430192,
          -0.6181883497861653,
          0.6251053204524084,
          -0.5618278147974634,
          -0.46915351905109376,
          -1.1894885930032517,
          -0.5933340624232508,
          -1.4204641235088469,
          -0.0008249022356199199,
          1.02916580415784
         ],
         "yaxis": "y15"
        },
        {
         "histfunc": "count",
         "histnorm": "",
         "marker": {
          "color": "rgba(128, 0, 128, 1.0)",
          "line": {
           "color": "#4D5663",
           "width": 1.3
          }
         },
         "name": "D",
         "nbinsx": 10,
         "opacity": 0.8,
         "orientation": "v",
         "type": "histogram",
         "x": [
          0.611714013887907,
          0.6386052403396689,
          -0.02477849377865895,
          0.6197704319247359,
          -1.1967377415806166,
          1.1720391315629168,
          0.8765281439054488,
          -1.0370592385491233,
          0.44021492011010355,
          0.17230177660561485,
          0.4200336292442886,
          -0.16107225295889302,
          0.7200632250852794,
          -2.298592389474176,
          0.25459428501955056,
          0.2542139932244251,
          -1.8107357042692172,
          -0.5108724925504359,
          0.41001152084386977,
          -1.0703118510366805,
          1.0216244610662364,
          0.9974056726181587,
          1.312610610063279,
          -1.1407814799389158,
          1.5480251592844323,
          -0.49410534648003307,
          2.278885873544256,
          0.19104047538383667,
          -0.47014930082533973,
          -1.0344998801228573,
          -0.10032876048732366,
          0.7773925219423091,
          0.5717920894378987,
          0.33987394847518954,
          -0.1973390537737198,
          1.6021603463915783,
          -0.18834810979770195,
          -0.7497884978957049,
          -0.9027557049861357,
          -0.016809405012762894,
          -1.8597598987950288,
          0.856307118575504,
          -0.2162447769364504,
          -0.205476712225501,
          1.683875488970458,
          0.4609337272646481,
          0.8816172290139743,
          -1.5292750990984212,
          0.9459357785069152,
          -0.14509817237364275,
          -0.16696894829690045,
          -0.7401778451042701,
          0.26927875263065426,
          -1.1256758417539952,
          -0.08988833536686605,
          1.2641096243953123,
          -0.2101147329903418,
          -1.1204823391590175,
          0.13693330967014247,
          -0.23803086366322063,
          -0.8854563237832962,
          0.21533140364738995,
          0.9663254927426982,
          0.07511595060091833,
          -0.2487169421683228,
          1.412511316640888,
          -0.0973691612271399,
          -0.4760956995731815,
          0.16454046508612838,
          -0.8842237914144235,
          -1.1596602344406595,
          -0.11564797255073156,
          -0.5850474514779618,
          0.5224811694375456,
          -1.3775956652443182,
          0.007969820810576162,
          0.28740140869153913,
          0.6617076518110719,
          -0.8460664108204242,
          -0.05583557468567738,
          0.7611148188311797,
          0.4847337270794526,
          -2.1536338798360313,
          -0.3390316543921442,
          0.29109295797409984,
          0.3832439726007917,
          -0.593143056703596,
          -0.10685109921118938,
          -0.7925989257172054,
          1.1161161935482944,
          0.15080005441430192,
          -0.6181883497861653,
          0.6251053204524084,
          -0.5618278147974634,
          -0.46915351905109376,
          -1.1894885930032517,
          -0.5933340624232508,
          -1.4204641235088469,
          -0.0008249022356199199,
          1.02916580415784
         ],
         "xaxis": "x16",
         "yaxis": "y16"
        }
       ],
       "layout": {
        "bargap": 0.02,
        "legend": {
         "bgcolor": "#F5F6F9",
         "font": {
          "color": "#4D5663"
         }
        },
        "paper_bgcolor": "#F5F6F9",
        "plot_bgcolor": "#F5F6F9",
        "showlegend": false,
        "template": {
         "data": {
          "bar": [
           {
            "error_x": {
             "color": "#2a3f5f"
            },
            "error_y": {
             "color": "#2a3f5f"
            },
            "marker": {
             "line": {
              "color": "#E5ECF6",
              "width": 0.5
             },
             "pattern": {
              "fillmode": "overlay",
              "size": 10,
              "solidity": 0.2
             }
            },
            "type": "bar"
           }
          ],
          "barpolar": [
           {
            "marker": {
             "line": {
              "color": "#E5ECF6",
              "width": 0.5
             },
             "pattern": {
              "fillmode": "overlay",
              "size": 10,
              "solidity": 0.2
             }
            },
            "type": "barpolar"
           }
          ],
          "carpet": [
           {
            "aaxis": {
             "endlinecolor": "#2a3f5f",
             "gridcolor": "white",
             "linecolor": "white",
             "minorgridcolor": "white",
             "startlinecolor": "#2a3f5f"
            },
            "baxis": {
             "endlinecolor": "#2a3f5f",
             "gridcolor": "white",
             "linecolor": "white",
             "minorgridcolor": "white",
             "startlinecolor": "#2a3f5f"
            },
            "type": "carpet"
           }
          ],
          "choropleth": [
           {
            "colorbar": {
             "outlinewidth": 0,
             "ticks": ""
            },
            "type": "choropleth"
           }
          ],
          "contour": [
           {
            "colorbar": {
             "outlinewidth": 0,
             "ticks": ""
            },
            "colorscale": [
             [
              0,
              "#0d0887"
             ],
             [
              0.1111111111111111,
              "#46039f"
             ],
             [
              0.2222222222222222,
              "#7201a8"
             ],
             [
              0.3333333333333333,
              "#9c179e"
             ],
             [
              0.4444444444444444,
              "#bd3786"
             ],
             [
              0.5555555555555556,
              "#d8576b"
             ],
             [
              0.6666666666666666,
              "#ed7953"
             ],
             [
              0.7777777777777778,
              "#fb9f3a"
             ],
             [
              0.8888888888888888,
              "#fdca26"
             ],
             [
              1,
              "#f0f921"
             ]
            ],
            "type": "contour"
           }
          ],
          "contourcarpet": [
           {
            "colorbar": {
             "outlinewidth": 0,
             "ticks": ""
            },
            "type": "contourcarpet"
           }
          ],
          "heatmap": [
           {
            "colorbar": {
             "outlinewidth": 0,
             "ticks": ""
            },
            "colorscale": [
             [
              0,
              "#0d0887"
             ],
             [
              0.1111111111111111,
              "#46039f"
             ],
             [
              0.2222222222222222,
              "#7201a8"
             ],
             [
              0.3333333333333333,
              "#9c179e"
             ],
             [
              0.4444444444444444,
              "#bd3786"
             ],
             [
              0.5555555555555556,
              "#d8576b"
             ],
             [
              0.6666666666666666,
              "#ed7953"
             ],
             [
              0.7777777777777778,
              "#fb9f3a"
             ],
             [
              0.8888888888888888,
              "#fdca26"
             ],
             [
              1,
              "#f0f921"
             ]
            ],
            "type": "heatmap"
           }
          ],
          "heatmapgl": [
           {
            "colorbar": {
             "outlinewidth": 0,
             "ticks": ""
            },
            "colorscale": [
             [
              0,
              "#0d0887"
             ],
             [
              0.1111111111111111,
              "#46039f"
             ],
             [
              0.2222222222222222,
              "#7201a8"
             ],
             [
              0.3333333333333333,
              "#9c179e"
             ],
             [
              0.4444444444444444,
              "#bd3786"
             ],
             [
              0.5555555555555556,
              "#d8576b"
             ],
             [
              0.6666666666666666,
              "#ed7953"
             ],
             [
              0.7777777777777778,
              "#fb9f3a"
             ],
             [
              0.8888888888888888,
              "#fdca26"
             ],
             [
              1,
              "#f0f921"
             ]
            ],
            "type": "heatmapgl"
           }
          ],
          "histogram": [
           {
            "marker": {
             "pattern": {
              "fillmode": "overlay",
              "size": 10,
              "solidity": 0.2
             }
            },
            "type": "histogram"
           }
          ],
          "histogram2d": [
           {
            "colorbar": {
             "outlinewidth": 0,
             "ticks": ""
            },
            "colorscale": [
             [
              0,
              "#0d0887"
             ],
             [
              0.1111111111111111,
              "#46039f"
             ],
             [
              0.2222222222222222,
              "#7201a8"
             ],
             [
              0.3333333333333333,
              "#9c179e"
             ],
             [
              0.4444444444444444,
              "#bd3786"
             ],
             [
              0.5555555555555556,
              "#d8576b"
             ],
             [
              0.6666666666666666,
              "#ed7953"
             ],
             [
              0.7777777777777778,
              "#fb9f3a"
             ],
             [
              0.8888888888888888,
              "#fdca26"
             ],
             [
              1,
              "#f0f921"
             ]
            ],
            "type": "histogram2d"
           }
          ],
          "histogram2dcontour": [
           {
            "colorbar": {
             "outlinewidth": 0,
             "ticks": ""
            },
            "colorscale": [
             [
              0,
              "#0d0887"
             ],
             [
              0.1111111111111111,
              "#46039f"
             ],
             [
              0.2222222222222222,
              "#7201a8"
             ],
             [
              0.3333333333333333,
              "#9c179e"
             ],
             [
              0.4444444444444444,
              "#bd3786"
             ],
             [
              0.5555555555555556,
              "#d8576b"
             ],
             [
              0.6666666666666666,
              "#ed7953"
             ],
             [
              0.7777777777777778,
              "#fb9f3a"
             ],
             [
              0.8888888888888888,
              "#fdca26"
             ],
             [
              1,
              "#f0f921"
             ]
            ],
            "type": "histogram2dcontour"
           }
          ],
          "mesh3d": [
           {
            "colorbar": {
             "outlinewidth": 0,
             "ticks": ""
            },
            "type": "mesh3d"
           }
          ],
          "parcoords": [
           {
            "line": {
             "colorbar": {
              "outlinewidth": 0,
              "ticks": ""
             }
            },
            "type": "parcoords"
           }
          ],
          "pie": [
           {
            "automargin": true,
            "type": "pie"
           }
          ],
          "scatter": [
           {
            "marker": {
             "colorbar": {
              "outlinewidth": 0,
              "ticks": ""
             }
            },
            "type": "scatter"
           }
          ],
          "scatter3d": [
           {
            "line": {
             "colorbar": {
              "outlinewidth": 0,
              "ticks": ""
             }
            },
            "marker": {
             "colorbar": {
              "outlinewidth": 0,
              "ticks": ""
             }
            },
            "type": "scatter3d"
           }
          ],
          "scattercarpet": [
           {
            "marker": {
             "colorbar": {
              "outlinewidth": 0,
              "ticks": ""
             }
            },
            "type": "scattercarpet"
           }
          ],
          "scattergeo": [
           {
            "marker": {
             "colorbar": {
              "outlinewidth": 0,
              "ticks": ""
             }
            },
            "type": "scattergeo"
           }
          ],
          "scattergl": [
           {
            "marker": {
             "colorbar": {
              "outlinewidth": 0,
              "ticks": ""
             }
            },
            "type": "scattergl"
           }
          ],
          "scattermapbox": [
           {
            "marker": {
             "colorbar": {
              "outlinewidth": 0,
              "ticks": ""
             }
            },
            "type": "scattermapbox"
           }
          ],
          "scatterpolar": [
           {
            "marker": {
             "colorbar": {
              "outlinewidth": 0,
              "ticks": ""
             }
            },
            "type": "scatterpolar"
           }
          ],
          "scatterpolargl": [
           {
            "marker": {
             "colorbar": {
              "outlinewidth": 0,
              "ticks": ""
             }
            },
            "type": "scatterpolargl"
           }
          ],
          "scatterternary": [
           {
            "marker": {
             "colorbar": {
              "outlinewidth": 0,
              "ticks": ""
             }
            },
            "type": "scatterternary"
           }
          ],
          "surface": [
           {
            "colorbar": {
             "outlinewidth": 0,
             "ticks": ""
            },
            "colorscale": [
             [
              0,
              "#0d0887"
             ],
             [
              0.1111111111111111,
              "#46039f"
             ],
             [
              0.2222222222222222,
              "#7201a8"
             ],
             [
              0.3333333333333333,
              "#9c179e"
             ],
             [
              0.4444444444444444,
              "#bd3786"
             ],
             [
              0.5555555555555556,
              "#d8576b"
             ],
             [
              0.6666666666666666,
              "#ed7953"
             ],
             [
              0.7777777777777778,
              "#fb9f3a"
             ],
             [
              0.8888888888888888,
              "#fdca26"
             ],
             [
              1,
              "#f0f921"
             ]
            ],
            "type": "surface"
           }
          ],
          "table": [
           {
            "cells": {
             "fill": {
              "color": "#EBF0F8"
             },
             "line": {
              "color": "white"
             }
            },
            "header": {
             "fill": {
              "color": "#C8D4E3"
             },
             "line": {
              "color": "white"
             }
            },
            "type": "table"
           }
          ]
         },
         "layout": {
          "annotationdefaults": {
           "arrowcolor": "#2a3f5f",
           "arrowhead": 0,
           "arrowwidth": 1
          },
          "autotypenumbers": "strict",
          "coloraxis": {
           "colorbar": {
            "outlinewidth": 0,
            "ticks": ""
           }
          },
          "colorscale": {
           "diverging": [
            [
             0,
             "#8e0152"
            ],
            [
             0.1,
             "#c51b7d"
            ],
            [
             0.2,
             "#de77ae"
            ],
            [
             0.3,
             "#f1b6da"
            ],
            [
             0.4,
             "#fde0ef"
            ],
            [
             0.5,
             "#f7f7f7"
            ],
            [
             0.6,
             "#e6f5d0"
            ],
            [
             0.7,
             "#b8e186"
            ],
            [
             0.8,
             "#7fbc41"
            ],
            [
             0.9,
             "#4d9221"
            ],
            [
             1,
             "#276419"
            ]
           ],
           "sequential": [
            [
             0,
             "#0d0887"
            ],
            [
             0.1111111111111111,
             "#46039f"
            ],
            [
             0.2222222222222222,
             "#7201a8"
            ],
            [
             0.3333333333333333,
             "#9c179e"
            ],
            [
             0.4444444444444444,
             "#bd3786"
            ],
            [
             0.5555555555555556,
             "#d8576b"
            ],
            [
             0.6666666666666666,
             "#ed7953"
            ],
            [
             0.7777777777777778,
             "#fb9f3a"
            ],
            [
             0.8888888888888888,
             "#fdca26"
            ],
            [
             1,
             "#f0f921"
            ]
           ],
           "sequentialminus": [
            [
             0,
             "#0d0887"
            ],
            [
             0.1111111111111111,
             "#46039f"
            ],
            [
             0.2222222222222222,
             "#7201a8"
            ],
            [
             0.3333333333333333,
             "#9c179e"
            ],
            [
             0.4444444444444444,
             "#bd3786"
            ],
            [
             0.5555555555555556,
             "#d8576b"
            ],
            [
             0.6666666666666666,
             "#ed7953"
            ],
            [
             0.7777777777777778,
             "#fb9f3a"
            ],
            [
             0.8888888888888888,
             "#fdca26"
            ],
            [
             1,
             "#f0f921"
            ]
           ]
          },
          "colorway": [
           "#636efa",
           "#EF553B",
           "#00cc96",
           "#ab63fa",
           "#FFA15A",
           "#19d3f3",
           "#FF6692",
           "#B6E880",
           "#FF97FF",
           "#FECB52"
          ],
          "font": {
           "color": "#2a3f5f"
          },
          "geo": {
           "bgcolor": "white",
           "lakecolor": "white",
           "landcolor": "#E5ECF6",
           "showlakes": true,
           "showland": true,
           "subunitcolor": "white"
          },
          "hoverlabel": {
           "align": "left"
          },
          "hovermode": "closest",
          "mapbox": {
           "style": "light"
          },
          "paper_bgcolor": "white",
          "plot_bgcolor": "#E5ECF6",
          "polar": {
           "angularaxis": {
            "gridcolor": "white",
            "linecolor": "white",
            "ticks": ""
           },
           "bgcolor": "#E5ECF6",
           "radialaxis": {
            "gridcolor": "white",
            "linecolor": "white",
            "ticks": ""
           }
          },
          "scene": {
           "xaxis": {
            "backgroundcolor": "#E5ECF6",
            "gridcolor": "white",
            "gridwidth": 2,
            "linecolor": "white",
            "showbackground": true,
            "ticks": "",
            "zerolinecolor": "white"
           },
           "yaxis": {
            "backgroundcolor": "#E5ECF6",
            "gridcolor": "white",
            "gridwidth": 2,
            "linecolor": "white",
            "showbackground": true,
            "ticks": "",
            "zerolinecolor": "white"
           },
           "zaxis": {
            "backgroundcolor": "#E5ECF6",
            "gridcolor": "white",
            "gridwidth": 2,
            "linecolor": "white",
            "showbackground": true,
            "ticks": "",
            "zerolinecolor": "white"
           }
          },
          "shapedefaults": {
           "line": {
            "color": "#2a3f5f"
           }
          },
          "ternary": {
           "aaxis": {
            "gridcolor": "white",
            "linecolor": "white",
            "ticks": ""
           },
           "baxis": {
            "gridcolor": "white",
            "linecolor": "white",
            "ticks": ""
           },
           "bgcolor": "#E5ECF6",
           "caxis": {
            "gridcolor": "white",
            "linecolor": "white",
            "ticks": ""
           }
          },
          "title": {
           "x": 0.05
          },
          "xaxis": {
           "automargin": true,
           "gridcolor": "white",
           "linecolor": "white",
           "ticks": "",
           "title": {
            "standoff": 15
           },
           "zerolinecolor": "white",
           "zerolinewidth": 2
          },
          "yaxis": {
           "automargin": true,
           "gridcolor": "white",
           "linecolor": "white",
           "ticks": "",
           "title": {
            "standoff": 15
           },
           "zerolinecolor": "white",
           "zerolinewidth": 2
          }
         }
        },
        "title": {
         "font": {
          "color": "#4D5663"
         }
        },
        "xaxis": {
         "anchor": "y",
         "domain": [
          0,
          0.2125
         ],
         "gridcolor": "#E1E5ED",
         "showgrid": false,
         "tickfont": {
          "color": "#4D5663"
         },
         "title": {
          "font": {
           "color": "#4D5663"
          },
          "text": ""
         },
         "zerolinecolor": "#E1E5ED"
        },
        "xaxis10": {
         "anchor": "y10",
         "domain": [
          0.2625,
          0.475
         ],
         "gridcolor": "#E1E5ED",
         "showgrid": false,
         "tickfont": {
          "color": "#4D5663"
         },
         "title": {
          "font": {
           "color": "#4D5663"
          },
          "text": ""
         },
         "zerolinecolor": "#E1E5ED"
        },
        "xaxis11": {
         "anchor": "y11",
         "domain": [
          0.525,
          0.7375
         ],
         "gridcolor": "#E1E5ED",
         "showgrid": false,
         "tickfont": {
          "color": "#4D5663"
         },
         "title": {
          "font": {
           "color": "#4D5663"
          },
          "text": ""
         },
         "zerolinecolor": "#E1E5ED"
        },
        "xaxis12": {
         "anchor": "y12",
         "domain": [
          0.7875,
          1
         ],
         "gridcolor": "#E1E5ED",
         "showgrid": false,
         "tickfont": {
          "color": "#4D5663"
         },
         "title": {
          "font": {
           "color": "#4D5663"
          },
          "text": ""
         },
         "zerolinecolor": "#E1E5ED"
        },
        "xaxis13": {
         "anchor": "y13",
         "domain": [
          0,
          0.2125
         ],
         "gridcolor": "#E1E5ED",
         "showgrid": false,
         "tickfont": {
          "color": "#4D5663"
         },
         "title": {
          "font": {
           "color": "#4D5663"
          },
          "text": ""
         },
         "zerolinecolor": "#E1E5ED"
        },
        "xaxis14": {
         "anchor": "y14",
         "domain": [
          0.2625,
          0.475
         ],
         "gridcolor": "#E1E5ED",
         "showgrid": false,
         "tickfont": {
          "color": "#4D5663"
         },
         "title": {
          "font": {
           "color": "#4D5663"
          },
          "text": ""
         },
         "zerolinecolor": "#E1E5ED"
        },
        "xaxis15": {
         "anchor": "y15",
         "domain": [
          0.525,
          0.7375
         ],
         "gridcolor": "#E1E5ED",
         "showgrid": false,
         "tickfont": {
          "color": "#4D5663"
         },
         "title": {
          "font": {
           "color": "#4D5663"
          },
          "text": ""
         },
         "zerolinecolor": "#E1E5ED"
        },
        "xaxis16": {
         "anchor": "y16",
         "domain": [
          0.7875,
          1
         ],
         "gridcolor": "#E1E5ED",
         "showgrid": false,
         "tickfont": {
          "color": "#4D5663"
         },
         "title": {
          "font": {
           "color": "#4D5663"
          },
          "text": ""
         },
         "zerolinecolor": "#E1E5ED"
        },
        "xaxis2": {
         "anchor": "y2",
         "domain": [
          0.2625,
          0.475
         ],
         "gridcolor": "#E1E5ED",
         "showgrid": false,
         "tickfont": {
          "color": "#4D5663"
         },
         "title": {
          "font": {
           "color": "#4D5663"
          },
          "text": ""
         },
         "zerolinecolor": "#E1E5ED"
        },
        "xaxis3": {
         "anchor": "y3",
         "domain": [
          0.525,
          0.7375
         ],
         "gridcolor": "#E1E5ED",
         "showgrid": false,
         "tickfont": {
          "color": "#4D5663"
         },
         "title": {
          "font": {
           "color": "#4D5663"
          },
          "text": ""
         },
         "zerolinecolor": "#E1E5ED"
        },
        "xaxis4": {
         "anchor": "y4",
         "domain": [
          0.7875,
          1
         ],
         "gridcolor": "#E1E5ED",
         "showgrid": false,
         "tickfont": {
          "color": "#4D5663"
         },
         "title": {
          "font": {
           "color": "#4D5663"
          },
          "text": ""
         },
         "zerolinecolor": "#E1E5ED"
        },
        "xaxis5": {
         "anchor": "y5",
         "domain": [
          0,
          0.2125
         ],
         "gridcolor": "#E1E5ED",
         "showgrid": false,
         "tickfont": {
          "color": "#4D5663"
         },
         "title": {
          "font": {
           "color": "#4D5663"
          },
          "text": ""
         },
         "zerolinecolor": "#E1E5ED"
        },
        "xaxis6": {
         "anchor": "y6",
         "domain": [
          0.2625,
          0.475
         ],
         "gridcolor": "#E1E5ED",
         "showgrid": false,
         "tickfont": {
          "color": "#4D5663"
         },
         "title": {
          "font": {
           "color": "#4D5663"
          },
          "text": ""
         },
         "zerolinecolor": "#E1E5ED"
        },
        "xaxis7": {
         "anchor": "y7",
         "domain": [
          0.525,
          0.7375
         ],
         "gridcolor": "#E1E5ED",
         "showgrid": false,
         "tickfont": {
          "color": "#4D5663"
         },
         "title": {
          "font": {
           "color": "#4D5663"
          },
          "text": ""
         },
         "zerolinecolor": "#E1E5ED"
        },
        "xaxis8": {
         "anchor": "y8",
         "domain": [
          0.7875,
          1
         ],
         "gridcolor": "#E1E5ED",
         "showgrid": false,
         "tickfont": {
          "color": "#4D5663"
         },
         "title": {
          "font": {
           "color": "#4D5663"
          },
          "text": ""
         },
         "zerolinecolor": "#E1E5ED"
        },
        "xaxis9": {
         "anchor": "y9",
         "domain": [
          0,
          0.2125
         ],
         "gridcolor": "#E1E5ED",
         "showgrid": false,
         "tickfont": {
          "color": "#4D5663"
         },
         "title": {
          "font": {
           "color": "#4D5663"
          },
          "text": ""
         },
         "zerolinecolor": "#E1E5ED"
        },
        "yaxis": {
         "anchor": "x",
         "domain": [
          0.8025,
          1
         ],
         "gridcolor": "#E1E5ED",
         "showgrid": false,
         "tickfont": {
          "color": "#4D5663"
         },
         "title": {
          "font": {
           "color": "#4D5663"
          },
          "text": ""
         },
         "zerolinecolor": "#E1E5ED"
        },
        "yaxis10": {
         "anchor": "x10",
         "domain": [
          0.2675,
          0.465
         ],
         "gridcolor": "#E1E5ED",
         "showgrid": false,
         "tickfont": {
          "color": "#4D5663"
         },
         "title": {
          "font": {
           "color": "#4D5663"
          },
          "text": ""
         },
         "zerolinecolor": "#E1E5ED"
        },
        "yaxis11": {
         "anchor": "x11",
         "domain": [
          0.2675,
          0.465
         ],
         "gridcolor": "#E1E5ED",
         "showgrid": false,
         "tickfont": {
          "color": "#4D5663"
         },
         "title": {
          "font": {
           "color": "#4D5663"
          },
          "text": ""
         },
         "zerolinecolor": "#E1E5ED"
        },
        "yaxis12": {
         "anchor": "x12",
         "domain": [
          0.2675,
          0.465
         ],
         "gridcolor": "#E1E5ED",
         "showgrid": false,
         "tickfont": {
          "color": "#4D5663"
         },
         "title": {
          "font": {
           "color": "#4D5663"
          },
          "text": ""
         },
         "zerolinecolor": "#E1E5ED"
        },
        "yaxis13": {
         "anchor": "x13",
         "domain": [
          0,
          0.1975
         ],
         "gridcolor": "#E1E5ED",
         "showgrid": false,
         "tickfont": {
          "color": "#4D5663"
         },
         "title": {
          "font": {
           "color": "#4D5663"
          },
          "text": ""
         },
         "zerolinecolor": "#E1E5ED"
        },
        "yaxis14": {
         "anchor": "x14",
         "domain": [
          0,
          0.1975
         ],
         "gridcolor": "#E1E5ED",
         "showgrid": false,
         "tickfont": {
          "color": "#4D5663"
         },
         "title": {
          "font": {
           "color": "#4D5663"
          },
          "text": ""
         },
         "zerolinecolor": "#E1E5ED"
        },
        "yaxis15": {
         "anchor": "x15",
         "domain": [
          0,
          0.1975
         ],
         "gridcolor": "#E1E5ED",
         "showgrid": false,
         "tickfont": {
          "color": "#4D5663"
         },
         "title": {
          "font": {
           "color": "#4D5663"
          },
          "text": ""
         },
         "zerolinecolor": "#E1E5ED"
        },
        "yaxis16": {
         "anchor": "x16",
         "domain": [
          0,
          0.1975
         ],
         "gridcolor": "#E1E5ED",
         "showgrid": false,
         "tickfont": {
          "color": "#4D5663"
         },
         "title": {
          "font": {
           "color": "#4D5663"
          },
          "text": ""
         },
         "zerolinecolor": "#E1E5ED"
        },
        "yaxis2": {
         "anchor": "x2",
         "domain": [
          0.8025,
          1
         ],
         "gridcolor": "#E1E5ED",
         "showgrid": false,
         "tickfont": {
          "color": "#4D5663"
         },
         "title": {
          "font": {
           "color": "#4D5663"
          },
          "text": ""
         },
         "zerolinecolor": "#E1E5ED"
        },
        "yaxis3": {
         "anchor": "x3",
         "domain": [
          0.8025,
          1
         ],
         "gridcolor": "#E1E5ED",
         "showgrid": false,
         "tickfont": {
          "color": "#4D5663"
         },
         "title": {
          "font": {
           "color": "#4D5663"
          },
          "text": ""
         },
         "zerolinecolor": "#E1E5ED"
        },
        "yaxis4": {
         "anchor": "x4",
         "domain": [
          0.8025,
          1
         ],
         "gridcolor": "#E1E5ED",
         "showgrid": false,
         "tickfont": {
          "color": "#4D5663"
         },
         "title": {
          "font": {
           "color": "#4D5663"
          },
          "text": ""
         },
         "zerolinecolor": "#E1E5ED"
        },
        "yaxis5": {
         "anchor": "x5",
         "domain": [
          0.535,
          0.7325
         ],
         "gridcolor": "#E1E5ED",
         "showgrid": false,
         "tickfont": {
          "color": "#4D5663"
         },
         "title": {
          "font": {
           "color": "#4D5663"
          },
          "text": ""
         },
         "zerolinecolor": "#E1E5ED"
        },
        "yaxis6": {
         "anchor": "x6",
         "domain": [
          0.535,
          0.7325
         ],
         "gridcolor": "#E1E5ED",
         "showgrid": false,
         "tickfont": {
          "color": "#4D5663"
         },
         "title": {
          "font": {
           "color": "#4D5663"
          },
          "text": ""
         },
         "zerolinecolor": "#E1E5ED"
        },
        "yaxis7": {
         "anchor": "x7",
         "domain": [
          0.535,
          0.7325
         ],
         "gridcolor": "#E1E5ED",
         "showgrid": false,
         "tickfont": {
          "color": "#4D5663"
         },
         "title": {
          "font": {
           "color": "#4D5663"
          },
          "text": ""
         },
         "zerolinecolor": "#E1E5ED"
        },
        "yaxis8": {
         "anchor": "x8",
         "domain": [
          0.535,
          0.7325
         ],
         "gridcolor": "#E1E5ED",
         "showgrid": false,
         "tickfont": {
          "color": "#4D5663"
         },
         "title": {
          "font": {
           "color": "#4D5663"
          },
          "text": ""
         },
         "zerolinecolor": "#E1E5ED"
        },
        "yaxis9": {
         "anchor": "x9",
         "domain": [
          0.2675,
          0.465
         ],
         "gridcolor": "#E1E5ED",
         "showgrid": false,
         "tickfont": {
          "color": "#4D5663"
         },
         "title": {
          "font": {
           "color": "#4D5663"
          },
          "text": ""
         },
         "zerolinecolor": "#E1E5ED"
        }
       }
      },
      "text/html": [
       "<div>                            <div id=\"63efa4b6-8204-461e-a097-602d531d92ae\" class=\"plotly-graph-div\" style=\"height:525px; width:100%;\"></div>            <script type=\"text/javascript\">                require([\"plotly\"], function(Plotly) {                    window.PLOTLYENV=window.PLOTLYENV || {};\n",
       "                    window.PLOTLYENV.BASE_URL='https://plot.ly';                                    if (document.getElementById(\"63efa4b6-8204-461e-a097-602d531d92ae\")) {                    Plotly.newPlot(                        \"63efa4b6-8204-461e-a097-602d531d92ae\",                        [{\"histfunc\":\"count\",\"histnorm\":\"\",\"marker\":{\"color\":\"rgba(255, 153, 51, 1.0)\",\"line\":{\"color\":\"#4D5663\",\"width\":1.3}},\"name\":\"A\",\"nbinsx\":10,\"opacity\":0.8,\"orientation\":\"v\",\"type\":\"histogram\",\"x\":[0.25766725273870794,-0.9683683498568538,0.4079767983323879,-0.35521716328951264,0.1067697108260012,0.055264414905670536,0.16748678722052524,-0.03884642071252894,-1.9569206918568747,-0.012030065425278914,0.5147917475168186,-1.1929830986432766,-0.28630897965301283,-0.7269486914270185,-0.6042854575279359,-0.7860299666916818,-1.2232950810912862,-0.13550737994759923,-1.0734549238772075,0.24804028348226617,0.6481756930738801,-1.6101508373062166,-0.1609375642387576,-0.4537761843382195,0.6669660076254208,-0.844428975954758,0.5129831796429379,1.155804462649625,0.6941037484143968,2.325681370776554,-1.1934765913970897,-1.3331393887106655,-0.5842075563796505,0.823264907901564,0.5077909681150676,0.04079208347736599,-0.3774067504355232,1.684633944827573,0.8108285494289319,-0.9614720723440364,0.8033391836123334,1.366141053396587,1.22710335380521,0.5007861886024525,0.343001046248468,0.9821044423294414,1.058739583049605,-0.302159064903064,0.01997985590888351,-0.33131002906924917,0.2717518499836177,1.3142633549959786,-0.8617857664810039,0.1400785711199423,0.45416005353468314,-1.6845394060445138,-1.2870651849530947,-1.368366894386971,0.7796978263073777,0.8049718982440207,0.6720806332514321,0.019012236335749715,0.9820030162836629,-1.3032056716341103,0.24368134319022605,-0.11259416554794206,0.4777042747792598,0.7994237775854384,-0.5912923178386565,1.8620316169982516,1.5979147218970453,0.6982224574224856,0.06113753691724821,0.2011006952610454,-0.5264422448448134,-0.2860199234535764,1.1520711810777065,0.3853847234561283,0.8496286363248838,0.21092045657163339,0.4992727903258261,0.019602502769003088,1.479898271696008,0.13819373894873163,0.4943303710765866,0.8121478456947057,-0.920576847331459,0.10674261995226657,1.2436406766350976,0.6251502982138215,0.5576995553252935,0.15981433848144747,-0.46484952881209385,0.34931673594281165,-1.3197036618486955,2.030244713325367,1.3293527484805516,-0.6014582498008547,2.3177502612429897,0.24869161904699996],\"xaxis\":\"x\",\"yaxis\":\"y\"},{\"line\":{\"color\":\"rgba(128, 128, 128, 1.0)\",\"dash\":\"solid\",\"shape\":\"linear\",\"width\":1.3},\"marker\":{\"size\":2,\"symbol\":\"circle\"},\"mode\":\"markers\",\"name\":\"A\",\"text\":\"\",\"type\":\"scatter\",\"x\":[1.3248435021986862,0.05735020938283478,-1.3252283251090466,0.2037073853435116,0.11390051896740837,0.036274803977040415,0.07886059125519548,-0.2107540123227492,0.5438429832196089,-1.495186139925318,-0.2786757262126936,-2.2472868977499583,0.5401780372965783,-1.2660125619710452,2.8917618341817137,0.9135784244832255,0.8070773007502883,-0.47655287637741833,-0.6916594268489628,-0.29857439303094707,-0.5028419053588357,-1.097380972947273,0.9013779502854321,-2.0539267239812853,-0.09946671171319675,0.027103790935514682,0.910952326494662,-0.3450271482134044,-2.016022367725986,1.2318197128416584,-0.48882763052385303,-1.0985539746033637,0.1469041002146205,-1.8300962817655162,0.3295661962110016,1.5269919414554993,-0.08726602386535882,-0.2746372475405285,1.3932038032489773,-1.5396569571609415,0.27825546855211997,-1.2105974754365512,-1.117995856964468,-0.08862087958247215,-0.19882957813497953,-0.046593485481045395,-0.2823150761795257,-0.909045608470984,-1.2859323567159786,2.57780442556176,0.5784537098435818,0.28312410196352455,0.5708819331108846,0.13193351121742164,0.7251406104368086,-0.33668180850187046,-0.6109096964157493,0.18883399477521554,0.525884140083572,-0.29113233390150467,1.5467100649562053,-1.5034114282884632,1.0075308147355966,0.8120289248587333,-1.3825380096125786,1.3893557899959468,0.7225515136418575,-2.0990836574963083,-0.3329107958852471,-0.20557479439035437,1.2586533985172603,-0.3623865838613117,-1.81009497493966,-0.8144051264697689,-0.8543728528659726,0.12428063004652715,0.42154333813920025,0.8325194216703564,-1.1316678358816619,-0.6752053609299112,1.0083868733208903,1.0329358144064287,0.24154683429897433,0.20467656709517945,0.4480733678860193,-1.4973501519227976,-0.06457171959633856,-0.7267026226309786,0.38549482127688767,2.0291148776290124,-0.7242805841989912,-0.8436208979113577,-0.9355965444051567,-1.2924130300577341,-1.0832341054879675,0.40071963830041823,1.6882470669240979,-1.8897243883593906,-1.73705358562559,-1.5599300069598463],\"xaxis\":\"x2\",\"y\":[0.25766725273870794,-0.9683683498568538,0.4079767983323879,-0.35521716328951264,0.1067697108260012,0.055264414905670536,0.16748678722052524,-0.03884642071252894,-1.9569206918568747,-0.012030065425278914,0.5147917475168186,-1.1929830986432766,-0.28630897965301283,-0.7269486914270185,-0.6042854575279359,-0.7860299666916818,-1.2232950810912862,-0.13550737994759923,-1.0734549238772075,0.24804028348226617,0.6481756930738801,-1.6101508373062166,-0.1609375642387576,-0.4537761843382195,0.6669660076254208,-0.844428975954758,0.5129831796429379,1.155804462649625,0.6941037484143968,2.325681370776554,-1.1934765913970897,-1.3331393887106655,-0.5842075563796505,0.823264907901564,0.5077909681150676,0.04079208347736599,-0.3774067504355232,1.684633944827573,0.8108285494289319,-0.9614720723440364,0.8033391836123334,1.366141053396587,1.22710335380521,0.5007861886024525,0.343001046248468,0.9821044423294414,1.058739583049605,-0.302159064903064,0.01997985590888351,-0.33131002906924917,0.2717518499836177,1.3142633549959786,-0.8617857664810039,0.1400785711199423,0.45416005353468314,-1.6845394060445138,-1.2870651849530947,-1.368366894386971,0.7796978263073777,0.8049718982440207,0.6720806332514321,0.019012236335749715,0.9820030162836629,-1.3032056716341103,0.24368134319022605,-0.11259416554794206,0.4777042747792598,0.7994237775854384,-0.5912923178386565,1.8620316169982516,1.5979147218970453,0.6982224574224856,0.06113753691724821,0.2011006952610454,-0.5264422448448134,-0.2860199234535764,1.1520711810777065,0.3853847234561283,0.8496286363248838,0.21092045657163339,0.4992727903258261,0.019602502769003088,1.479898271696008,0.13819373894873163,0.4943303710765866,0.8121478456947057,-0.920576847331459,0.10674261995226657,1.2436406766350976,0.6251502982138215,0.5576995553252935,0.15981433848144747,-0.46484952881209385,0.34931673594281165,-1.3197036618486955,2.030244713325367,1.3293527484805516,-0.6014582498008547,2.3177502612429897,0.24869161904699996],\"yaxis\":\"y2\"},{\"line\":{\"color\":\"rgba(128, 128, 128, 1.0)\",\"dash\":\"solid\",\"shape\":\"linear\",\"width\":1.3},\"marker\":{\"size\":2,\"symbol\":\"circle\"},\"mode\":\"markers\",\"name\":\"A\",\"text\":\"\",\"type\":\"scatter\",\"x\":[-2.361761577852779,0.5601682024555253,0.7397791306001766,-0.6623782490409087,0.6857868613529526,1.4325764368304839,-0.6046702446723863,-0.9224023716659426,-1.374858370180204,-1.4036497288762604,2.2809026918611757,-0.14793006094281821,0.13753424646413842,-0.2232675326374695,-0.3383929970868634,-0.3042114016740749,-2.0235518683305784,0.6112943301579296,0.12262932462534099,-0.5540464192991367,0.21394765086253906,-0.6342840755001222,1.5431114456139305,0.520000348435981,-0.5070277643479835,-1.32430202501762,-1.8986721120747658,-1.6127903072276566,-1.8336681094404546,-0.37874463908208617,-0.7264976899141545,-0.18953135953591352,1.000835838807099,1.1348048263560553,-2.246644046452098,-0.32131215444600014,-0.5973093329881346,-0.7168613711733985,-2.8584955120003954,2.789113453410877,0.4650310112167451,-1.6048341588683919,-1.2999450295037844,0.724368075933912,0.6605601842134327,-1.6403966595508683,-0.459508328073549,-0.5133337131873488,1.2212848371654796,3.103375971399639,1.4564409020961275,-0.44566360817361256,-0.6667837021019473,0.8649760834336663,0.18913022129124796,-0.39855900842707215,-0.3353945361522721,0.3102726463831046,-1.2817872368942829,-1.5761180255088258,1.9451888083978948,-1.3839219453105434,1.1718263853168165,-0.4363400113758351,-1.0065709153967863,-1.457183604809572,-0.17223676739963256,-0.31412797718378505,0.24725023263052143,0.7056310115827593,-0.9235051007847629,0.7517653837693907,0.4752875570000499,1.5337404272019972,-0.28544253565872163,0.640040353020628,-0.18323802609196574,-0.16975401206998655,0.07304670629250355,-0.7026185371650298,-0.7268743155257561,0.8277640495778841,-2.603861293255465,1.3069975134359773,0.9301139393275412,0.2241426217480532,-0.00934855406999004,0.5308123605970554,-0.9750164870308707,0.8632892044459971,0.1762676646661963,1.640097229898394,0.7176580381238524,-0.3623004190144998,-1.1176258416306188,0.4525957893338102,-1.1854120204386869,-0.6421062267770715,0.49012960496143854,-1.664902421214408],\"xaxis\":\"x3\",\"y\":[0.25766725273870794,-0.9683683498568538,0.4079767983323879,-0.35521716328951264,0.1067697108260012,0.055264414905670536,0.16748678722052524,-0.03884642071252894,-1.9569206918568747,-0.012030065425278914,0.5147917475168186,-1.1929830986432766,-0.28630897965301283,-0.7269486914270185,-0.6042854575279359,-0.7860299666916818,-1.2232950810912862,-0.13550737994759923,-1.0734549238772075,0.24804028348226617,0.6481756930738801,-1.6101508373062166,-0.1609375642387576,-0.4537761843382195,0.6669660076254208,-0.844428975954758,0.5129831796429379,1.155804462649625,0.6941037484143968,2.325681370776554,-1.1934765913970897,-1.3331393887106655,-0.5842075563796505,0.823264907901564,0.5077909681150676,0.04079208347736599,-0.3774067504355232,1.684633944827573,0.8108285494289319,-0.9614720723440364,0.8033391836123334,1.366141053396587,1.22710335380521,0.5007861886024525,0.343001046248468,0.9821044423294414,1.058739583049605,-0.302159064903064,0.01997985590888351,-0.33131002906924917,0.2717518499836177,1.3142633549959786,-0.8617857664810039,0.1400785711199423,0.45416005353468314,-1.6845394060445138,-1.2870651849530947,-1.368366894386971,0.7796978263073777,0.8049718982440207,0.6720806332514321,0.019012236335749715,0.9820030162836629,-1.3032056716341103,0.24368134319022605,-0.11259416554794206,0.4777042747792598,0.7994237775854384,-0.5912923178386565,1.8620316169982516,1.5979147218970453,0.6982224574224856,0.06113753691724821,0.2011006952610454,-0.5264422448448134,-0.2860199234535764,1.1520711810777065,0.3853847234561283,0.8496286363248838,0.21092045657163339,0.4992727903258261,0.019602502769003088,1.479898271696008,0.13819373894873163,0.4943303710765866,0.8121478456947057,-0.920576847331459,0.10674261995226657,1.2436406766350976,0.6251502982138215,0.5576995553252935,0.15981433848144747,-0.46484952881209385,0.34931673594281165,-1.3197036618486955,2.030244713325367,1.3293527484805516,-0.6014582498008547,2.3177502612429897,0.24869161904699996],\"yaxis\":\"y3\"},{\"line\":{\"color\":\"rgba(128, 128, 128, 1.0)\",\"dash\":\"solid\",\"shape\":\"linear\",\"width\":1.3},\"marker\":{\"size\":2,\"symbol\":\"circle\"},\"mode\":\"markers\",\"name\":\"A\",\"text\":\"\",\"type\":\"scatter\",\"x\":[0.611714013887907,0.6386052403396689,-0.02477849377865895,0.6197704319247359,-1.1967377415806166,1.1720391315629168,0.8765281439054488,-1.0370592385491233,0.44021492011010355,0.17230177660561485,0.4200336292442886,-0.16107225295889302,0.7200632250852794,-2.298592389474176,0.25459428501955056,0.2542139932244251,-1.8107357042692172,-0.5108724925504359,0.41001152084386977,-1.0703118510366805,1.0216244610662364,0.9974056726181587,1.312610610063279,-1.1407814799389158,1.5480251592844323,-0.49410534648003307,2.278885873544256,0.19104047538383667,-0.47014930082533973,-1.0344998801228573,-0.10032876048732366,0.7773925219423091,0.5717920894378987,0.33987394847518954,-0.1973390537737198,1.6021603463915783,-0.18834810979770195,-0.7497884978957049,-0.9027557049861357,-0.016809405012762894,-1.8597598987950288,0.856307118575504,-0.2162447769364504,-0.205476712225501,1.683875488970458,0.4609337272646481,0.8816172290139743,-1.5292750990984212,0.9459357785069152,-0.14509817237364275,-0.16696894829690045,-0.7401778451042701,0.26927875263065426,-1.1256758417539952,-0.08988833536686605,1.2641096243953123,-0.2101147329903418,-1.1204823391590175,0.13693330967014247,-0.23803086366322063,-0.8854563237832962,0.21533140364738995,0.9663254927426982,0.07511595060091833,-0.2487169421683228,1.412511316640888,-0.0973691612271399,-0.4760956995731815,0.16454046508612838,-0.8842237914144235,-1.1596602344406595,-0.11564797255073156,-0.5850474514779618,0.5224811694375456,-1.3775956652443182,0.007969820810576162,0.28740140869153913,0.6617076518110719,-0.8460664108204242,-0.05583557468567738,0.7611148188311797,0.4847337270794526,-2.1536338798360313,-0.3390316543921442,0.29109295797409984,0.3832439726007917,-0.593143056703596,-0.10685109921118938,-0.7925989257172054,1.1161161935482944,0.15080005441430192,-0.6181883497861653,0.6251053204524084,-0.5618278147974634,-0.46915351905109376,-1.1894885930032517,-0.5933340624232508,-1.4204641235088469,-0.0008249022356199199,1.02916580415784],\"xaxis\":\"x4\",\"y\":[0.25766725273870794,-0.9683683498568538,0.4079767983323879,-0.35521716328951264,0.1067697108260012,0.055264414905670536,0.16748678722052524,-0.03884642071252894,-1.9569206918568747,-0.012030065425278914,0.5147917475168186,-1.1929830986432766,-0.28630897965301283,-0.7269486914270185,-0.6042854575279359,-0.7860299666916818,-1.2232950810912862,-0.13550737994759923,-1.0734549238772075,0.24804028348226617,0.6481756930738801,-1.6101508373062166,-0.1609375642387576,-0.4537761843382195,0.6669660076254208,-0.844428975954758,0.5129831796429379,1.155804462649625,0.6941037484143968,2.325681370776554,-1.1934765913970897,-1.3331393887106655,-0.5842075563796505,0.823264907901564,0.5077909681150676,0.04079208347736599,-0.3774067504355232,1.684633944827573,0.8108285494289319,-0.9614720723440364,0.8033391836123334,1.366141053396587,1.22710335380521,0.5007861886024525,0.343001046248468,0.9821044423294414,1.058739583049605,-0.302159064903064,0.01997985590888351,-0.33131002906924917,0.2717518499836177,1.3142633549959786,-0.8617857664810039,0.1400785711199423,0.45416005353468314,-1.6845394060445138,-1.2870651849530947,-1.368366894386971,0.7796978263073777,0.8049718982440207,0.6720806332514321,0.019012236335749715,0.9820030162836629,-1.3032056716341103,0.24368134319022605,-0.11259416554794206,0.4777042747792598,0.7994237775854384,-0.5912923178386565,1.8620316169982516,1.5979147218970453,0.6982224574224856,0.06113753691724821,0.2011006952610454,-0.5264422448448134,-0.2860199234535764,1.1520711810777065,0.3853847234561283,0.8496286363248838,0.21092045657163339,0.4992727903258261,0.019602502769003088,1.479898271696008,0.13819373894873163,0.4943303710765866,0.8121478456947057,-0.920576847331459,0.10674261995226657,1.2436406766350976,0.6251502982138215,0.5576995553252935,0.15981433848144747,-0.46484952881209385,0.34931673594281165,-1.3197036618486955,2.030244713325367,1.3293527484805516,-0.6014582498008547,2.3177502612429897,0.24869161904699996],\"yaxis\":\"y4\"},{\"line\":{\"color\":\"rgba(128, 128, 128, 1.0)\",\"dash\":\"solid\",\"shape\":\"linear\",\"width\":1.3},\"marker\":{\"size\":2,\"symbol\":\"circle\"},\"mode\":\"markers\",\"name\":\"B\",\"text\":\"\",\"type\":\"scatter\",\"x\":[0.25766725273870794,-0.9683683498568538,0.4079767983323879,-0.35521716328951264,0.1067697108260012,0.055264414905670536,0.16748678722052524,-0.03884642071252894,-1.9569206918568747,-0.012030065425278914,0.5147917475168186,-1.1929830986432766,-0.28630897965301283,-0.7269486914270185,-0.6042854575279359,-0.7860299666916818,-1.2232950810912862,-0.13550737994759923,-1.0734549238772075,0.24804028348226617,0.6481756930738801,-1.6101508373062166,-0.1609375642387576,-0.4537761843382195,0.6669660076254208,-0.844428975954758,0.5129831796429379,1.155804462649625,0.6941037484143968,2.325681370776554,-1.1934765913970897,-1.3331393887106655,-0.5842075563796505,0.823264907901564,0.5077909681150676,0.04079208347736599,-0.3774067504355232,1.684633944827573,0.8108285494289319,-0.9614720723440364,0.8033391836123334,1.366141053396587,1.22710335380521,0.5007861886024525,0.343001046248468,0.9821044423294414,1.058739583049605,-0.302159064903064,0.01997985590888351,-0.33131002906924917,0.2717518499836177,1.3142633549959786,-0.8617857664810039,0.1400785711199423,0.45416005353468314,-1.6845394060445138,-1.2870651849530947,-1.368366894386971,0.7796978263073777,0.8049718982440207,0.6720806332514321,0.019012236335749715,0.9820030162836629,-1.3032056716341103,0.24368134319022605,-0.11259416554794206,0.4777042747792598,0.7994237775854384,-0.5912923178386565,1.8620316169982516,1.5979147218970453,0.6982224574224856,0.06113753691724821,0.2011006952610454,-0.5264422448448134,-0.2860199234535764,1.1520711810777065,0.3853847234561283,0.8496286363248838,0.21092045657163339,0.4992727903258261,0.019602502769003088,1.479898271696008,0.13819373894873163,0.4943303710765866,0.8121478456947057,-0.920576847331459,0.10674261995226657,1.2436406766350976,0.6251502982138215,0.5576995553252935,0.15981433848144747,-0.46484952881209385,0.34931673594281165,-1.3197036618486955,2.030244713325367,1.3293527484805516,-0.6014582498008547,2.3177502612429897,0.24869161904699996],\"xaxis\":\"x5\",\"y\":[1.3248435021986862,0.05735020938283478,-1.3252283251090466,0.2037073853435116,0.11390051896740837,0.036274803977040415,0.07886059125519548,-0.2107540123227492,0.5438429832196089,-1.495186139925318,-0.2786757262126936,-2.2472868977499583,0.5401780372965783,-1.2660125619710452,2.8917618341817137,0.9135784244832255,0.8070773007502883,-0.47655287637741833,-0.6916594268489628,-0.29857439303094707,-0.5028419053588357,-1.097380972947273,0.9013779502854321,-2.0539267239812853,-0.09946671171319675,0.027103790935514682,0.910952326494662,-0.3450271482134044,-2.016022367725986,1.2318197128416584,-0.48882763052385303,-1.0985539746033637,0.1469041002146205,-1.8300962817655162,0.3295661962110016,1.5269919414554993,-0.08726602386535882,-0.2746372475405285,1.3932038032489773,-1.5396569571609415,0.27825546855211997,-1.2105974754365512,-1.117995856964468,-0.08862087958247215,-0.19882957813497953,-0.046593485481045395,-0.2823150761795257,-0.909045608470984,-1.2859323567159786,2.57780442556176,0.5784537098435818,0.28312410196352455,0.5708819331108846,0.13193351121742164,0.7251406104368086,-0.33668180850187046,-0.6109096964157493,0.18883399477521554,0.525884140083572,-0.29113233390150467,1.5467100649562053,-1.5034114282884632,1.0075308147355966,0.8120289248587333,-1.3825380096125786,1.3893557899959468,0.7225515136418575,-2.0990836574963083,-0.3329107958852471,-0.20557479439035437,1.2586533985172603,-0.3623865838613117,-1.81009497493966,-0.8144051264697689,-0.8543728528659726,0.12428063004652715,0.42154333813920025,0.8325194216703564,-1.1316678358816619,-0.6752053609299112,1.0083868733208903,1.0329358144064287,0.24154683429897433,0.20467656709517945,0.4480733678860193,-1.4973501519227976,-0.06457171959633856,-0.7267026226309786,0.38549482127688767,2.0291148776290124,-0.7242805841989912,-0.8436208979113577,-0.9355965444051567,-1.2924130300577341,-1.0832341054879675,0.40071963830041823,1.6882470669240979,-1.8897243883593906,-1.73705358562559,-1.5599300069598463],\"yaxis\":\"y5\"},{\"histfunc\":\"count\",\"histnorm\":\"\",\"marker\":{\"color\":\"rgba(55, 128, 191, 1.0)\",\"line\":{\"color\":\"#4D5663\",\"width\":1.3}},\"name\":\"B\",\"nbinsx\":10,\"opacity\":0.8,\"orientation\":\"v\",\"type\":\"histogram\",\"x\":[1.3248435021986862,0.05735020938283478,-1.3252283251090466,0.2037073853435116,0.11390051896740837,0.036274803977040415,0.07886059125519548,-0.2107540123227492,0.5438429832196089,-1.495186139925318,-0.2786757262126936,-2.2472868977499583,0.5401780372965783,-1.2660125619710452,2.8917618341817137,0.9135784244832255,0.8070773007502883,-0.47655287637741833,-0.6916594268489628,-0.29857439303094707,-0.5028419053588357,-1.097380972947273,0.9013779502854321,-2.0539267239812853,-0.09946671171319675,0.027103790935514682,0.910952326494662,-0.3450271482134044,-2.016022367725986,1.2318197128416584,-0.48882763052385303,-1.0985539746033637,0.1469041002146205,-1.8300962817655162,0.3295661962110016,1.5269919414554993,-0.08726602386535882,-0.2746372475405285,1.3932038032489773,-1.5396569571609415,0.27825546855211997,-1.2105974754365512,-1.117995856964468,-0.08862087958247215,-0.19882957813497953,-0.046593485481045395,-0.2823150761795257,-0.909045608470984,-1.2859323567159786,2.57780442556176,0.5784537098435818,0.28312410196352455,0.5708819331108846,0.13193351121742164,0.7251406104368086,-0.33668180850187046,-0.6109096964157493,0.18883399477521554,0.525884140083572,-0.29113233390150467,1.5467100649562053,-1.5034114282884632,1.0075308147355966,0.8120289248587333,-1.3825380096125786,1.3893557899959468,0.7225515136418575,-2.0990836574963083,-0.3329107958852471,-0.20557479439035437,1.2586533985172603,-0.3623865838613117,-1.81009497493966,-0.8144051264697689,-0.8543728528659726,0.12428063004652715,0.42154333813920025,0.8325194216703564,-1.1316678358816619,-0.6752053609299112,1.0083868733208903,1.0329358144064287,0.24154683429897433,0.20467656709517945,0.4480733678860193,-1.4973501519227976,-0.06457171959633856,-0.7267026226309786,0.38549482127688767,2.0291148776290124,-0.7242805841989912,-0.8436208979113577,-0.9355965444051567,-1.2924130300577341,-1.0832341054879675,0.40071963830041823,1.6882470669240979,-1.8897243883593906,-1.73705358562559,-1.5599300069598463],\"xaxis\":\"x6\",\"yaxis\":\"y6\"},{\"line\":{\"color\":\"rgba(128, 128, 128, 1.0)\",\"dash\":\"solid\",\"shape\":\"linear\",\"width\":1.3},\"marker\":{\"size\":2,\"symbol\":\"circle\"},\"mode\":\"markers\",\"name\":\"B\",\"text\":\"\",\"type\":\"scatter\",\"x\":[-2.361761577852779,0.5601682024555253,0.7397791306001766,-0.6623782490409087,0.6857868613529526,1.4325764368304839,-0.6046702446723863,-0.9224023716659426,-1.374858370180204,-1.4036497288762604,2.2809026918611757,-0.14793006094281821,0.13753424646413842,-0.2232675326374695,-0.3383929970868634,-0.3042114016740749,-2.0235518683305784,0.6112943301579296,0.12262932462534099,-0.5540464192991367,0.21394765086253906,-0.6342840755001222,1.5431114456139305,0.520000348435981,-0.5070277643479835,-1.32430202501762,-1.8986721120747658,-1.6127903072276566,-1.8336681094404546,-0.37874463908208617,-0.7264976899141545,-0.18953135953591352,1.000835838807099,1.1348048263560553,-2.246644046452098,-0.32131215444600014,-0.5973093329881346,-0.7168613711733985,-2.8584955120003954,2.789113453410877,0.4650310112167451,-1.6048341588683919,-1.2999450295037844,0.724368075933912,0.6605601842134327,-1.6403966595508683,-0.459508328073549,-0.5133337131873488,1.2212848371654796,3.103375971399639,1.4564409020961275,-0.44566360817361256,-0.6667837021019473,0.8649760834336663,0.18913022129124796,-0.39855900842707215,-0.3353945361522721,0.3102726463831046,-1.2817872368942829,-1.5761180255088258,1.9451888083978948,-1.3839219453105434,1.1718263853168165,-0.4363400113758351,-1.0065709153967863,-1.457183604809572,-0.17223676739963256,-0.31412797718378505,0.24725023263052143,0.7056310115827593,-0.9235051007847629,0.7517653837693907,0.4752875570000499,1.5337404272019972,-0.28544253565872163,0.640040353020628,-0.18323802609196574,-0.16975401206998655,0.07304670629250355,-0.7026185371650298,-0.7268743155257561,0.8277640495778841,-2.603861293255465,1.3069975134359773,0.9301139393275412,0.2241426217480532,-0.00934855406999004,0.5308123605970554,-0.9750164870308707,0.8632892044459971,0.1762676646661963,1.640097229898394,0.7176580381238524,-0.3623004190144998,-1.1176258416306188,0.4525957893338102,-1.1854120204386869,-0.6421062267770715,0.49012960496143854,-1.664902421214408],\"xaxis\":\"x7\",\"y\":[1.3248435021986862,0.05735020938283478,-1.3252283251090466,0.2037073853435116,0.11390051896740837,0.036274803977040415,0.07886059125519548,-0.2107540123227492,0.5438429832196089,-1.495186139925318,-0.2786757262126936,-2.2472868977499583,0.5401780372965783,-1.2660125619710452,2.8917618341817137,0.9135784244832255,0.8070773007502883,-0.47655287637741833,-0.6916594268489628,-0.29857439303094707,-0.5028419053588357,-1.097380972947273,0.9013779502854321,-2.0539267239812853,-0.09946671171319675,0.027103790935514682,0.910952326494662,-0.3450271482134044,-2.016022367725986,1.2318197128416584,-0.48882763052385303,-1.0985539746033637,0.1469041002146205,-1.8300962817655162,0.3295661962110016,1.5269919414554993,-0.08726602386535882,-0.2746372475405285,1.3932038032489773,-1.5396569571609415,0.27825546855211997,-1.2105974754365512,-1.117995856964468,-0.08862087958247215,-0.19882957813497953,-0.046593485481045395,-0.2823150761795257,-0.909045608470984,-1.2859323567159786,2.57780442556176,0.5784537098435818,0.28312410196352455,0.5708819331108846,0.13193351121742164,0.7251406104368086,-0.33668180850187046,-0.6109096964157493,0.18883399477521554,0.525884140083572,-0.29113233390150467,1.5467100649562053,-1.5034114282884632,1.0075308147355966,0.8120289248587333,-1.3825380096125786,1.3893557899959468,0.7225515136418575,-2.0990836574963083,-0.3329107958852471,-0.20557479439035437,1.2586533985172603,-0.3623865838613117,-1.81009497493966,-0.8144051264697689,-0.8543728528659726,0.12428063004652715,0.42154333813920025,0.8325194216703564,-1.1316678358816619,-0.6752053609299112,1.0083868733208903,1.0329358144064287,0.24154683429897433,0.20467656709517945,0.4480733678860193,-1.4973501519227976,-0.06457171959633856,-0.7267026226309786,0.38549482127688767,2.0291148776290124,-0.7242805841989912,-0.8436208979113577,-0.9355965444051567,-1.2924130300577341,-1.0832341054879675,0.40071963830041823,1.6882470669240979,-1.8897243883593906,-1.73705358562559,-1.5599300069598463],\"yaxis\":\"y7\"},{\"line\":{\"color\":\"rgba(128, 128, 128, 1.0)\",\"dash\":\"solid\",\"shape\":\"linear\",\"width\":1.3},\"marker\":{\"size\":2,\"symbol\":\"circle\"},\"mode\":\"markers\",\"name\":\"B\",\"text\":\"\",\"type\":\"scatter\",\"x\":[0.611714013887907,0.6386052403396689,-0.02477849377865895,0.6197704319247359,-1.1967377415806166,1.1720391315629168,0.8765281439054488,-1.0370592385491233,0.44021492011010355,0.17230177660561485,0.4200336292442886,-0.16107225295889302,0.7200632250852794,-2.298592389474176,0.25459428501955056,0.2542139932244251,-1.8107357042692172,-0.5108724925504359,0.41001152084386977,-1.0703118510366805,1.0216244610662364,0.9974056726181587,1.312610610063279,-1.1407814799389158,1.5480251592844323,-0.49410534648003307,2.278885873544256,0.19104047538383667,-0.47014930082533973,-1.0344998801228573,-0.10032876048732366,0.7773925219423091,0.5717920894378987,0.33987394847518954,-0.1973390537737198,1.6021603463915783,-0.18834810979770195,-0.7497884978957049,-0.9027557049861357,-0.016809405012762894,-1.8597598987950288,0.856307118575504,-0.2162447769364504,-0.205476712225501,1.683875488970458,0.4609337272646481,0.8816172290139743,-1.5292750990984212,0.9459357785069152,-0.14509817237364275,-0.16696894829690045,-0.7401778451042701,0.26927875263065426,-1.1256758417539952,-0.08988833536686605,1.2641096243953123,-0.2101147329903418,-1.1204823391590175,0.13693330967014247,-0.23803086366322063,-0.8854563237832962,0.21533140364738995,0.9663254927426982,0.07511595060091833,-0.2487169421683228,1.412511316640888,-0.0973691612271399,-0.4760956995731815,0.16454046508612838,-0.8842237914144235,-1.1596602344406595,-0.11564797255073156,-0.5850474514779618,0.5224811694375456,-1.3775956652443182,0.007969820810576162,0.28740140869153913,0.6617076518110719,-0.8460664108204242,-0.05583557468567738,0.7611148188311797,0.4847337270794526,-2.1536338798360313,-0.3390316543921442,0.29109295797409984,0.3832439726007917,-0.593143056703596,-0.10685109921118938,-0.7925989257172054,1.1161161935482944,0.15080005441430192,-0.6181883497861653,0.6251053204524084,-0.5618278147974634,-0.46915351905109376,-1.1894885930032517,-0.5933340624232508,-1.4204641235088469,-0.0008249022356199199,1.02916580415784],\"xaxis\":\"x8\",\"y\":[1.3248435021986862,0.05735020938283478,-1.3252283251090466,0.2037073853435116,0.11390051896740837,0.036274803977040415,0.07886059125519548,-0.2107540123227492,0.5438429832196089,-1.495186139925318,-0.2786757262126936,-2.2472868977499583,0.5401780372965783,-1.2660125619710452,2.8917618341817137,0.9135784244832255,0.8070773007502883,-0.47655287637741833,-0.6916594268489628,-0.29857439303094707,-0.5028419053588357,-1.097380972947273,0.9013779502854321,-2.0539267239812853,-0.09946671171319675,0.027103790935514682,0.910952326494662,-0.3450271482134044,-2.016022367725986,1.2318197128416584,-0.48882763052385303,-1.0985539746033637,0.1469041002146205,-1.8300962817655162,0.3295661962110016,1.5269919414554993,-0.08726602386535882,-0.2746372475405285,1.3932038032489773,-1.5396569571609415,0.27825546855211997,-1.2105974754365512,-1.117995856964468,-0.08862087958247215,-0.19882957813497953,-0.046593485481045395,-0.2823150761795257,-0.909045608470984,-1.2859323567159786,2.57780442556176,0.5784537098435818,0.28312410196352455,0.5708819331108846,0.13193351121742164,0.7251406104368086,-0.33668180850187046,-0.6109096964157493,0.18883399477521554,0.525884140083572,-0.29113233390150467,1.5467100649562053,-1.5034114282884632,1.0075308147355966,0.8120289248587333,-1.3825380096125786,1.3893557899959468,0.7225515136418575,-2.0990836574963083,-0.3329107958852471,-0.20557479439035437,1.2586533985172603,-0.3623865838613117,-1.81009497493966,-0.8144051264697689,-0.8543728528659726,0.12428063004652715,0.42154333813920025,0.8325194216703564,-1.1316678358816619,-0.6752053609299112,1.0083868733208903,1.0329358144064287,0.24154683429897433,0.20467656709517945,0.4480733678860193,-1.4973501519227976,-0.06457171959633856,-0.7267026226309786,0.38549482127688767,2.0291148776290124,-0.7242805841989912,-0.8436208979113577,-0.9355965444051567,-1.2924130300577341,-1.0832341054879675,0.40071963830041823,1.6882470669240979,-1.8897243883593906,-1.73705358562559,-1.5599300069598463],\"yaxis\":\"y8\"},{\"line\":{\"color\":\"rgba(128, 128, 128, 1.0)\",\"dash\":\"solid\",\"shape\":\"linear\",\"width\":1.3},\"marker\":{\"size\":2,\"symbol\":\"circle\"},\"mode\":\"markers\",\"name\":\"C\",\"text\":\"\",\"type\":\"scatter\",\"x\":[0.25766725273870794,-0.9683683498568538,0.4079767983323879,-0.35521716328951264,0.1067697108260012,0.055264414905670536,0.16748678722052524,-0.03884642071252894,-1.9569206918568747,-0.012030065425278914,0.5147917475168186,-1.1929830986432766,-0.28630897965301283,-0.7269486914270185,-0.6042854575279359,-0.7860299666916818,-1.2232950810912862,-0.13550737994759923,-1.0734549238772075,0.24804028348226617,0.6481756930738801,-1.6101508373062166,-0.1609375642387576,-0.4537761843382195,0.6669660076254208,-0.844428975954758,0.5129831796429379,1.155804462649625,0.6941037484143968,2.325681370776554,-1.1934765913970897,-1.3331393887106655,-0.5842075563796505,0.823264907901564,0.5077909681150676,0.04079208347736599,-0.3774067504355232,1.684633944827573,0.8108285494289319,-0.9614720723440364,0.8033391836123334,1.366141053396587,1.22710335380521,0.5007861886024525,0.343001046248468,0.9821044423294414,1.058739583049605,-0.302159064903064,0.01997985590888351,-0.33131002906924917,0.2717518499836177,1.3142633549959786,-0.8617857664810039,0.1400785711199423,0.45416005353468314,-1.6845394060445138,-1.2870651849530947,-1.368366894386971,0.7796978263073777,0.8049718982440207,0.6720806332514321,0.019012236335749715,0.9820030162836629,-1.3032056716341103,0.24368134319022605,-0.11259416554794206,0.4777042747792598,0.7994237775854384,-0.5912923178386565,1.8620316169982516,1.5979147218970453,0.6982224574224856,0.06113753691724821,0.2011006952610454,-0.5264422448448134,-0.2860199234535764,1.1520711810777065,0.3853847234561283,0.8496286363248838,0.21092045657163339,0.4992727903258261,0.019602502769003088,1.479898271696008,0.13819373894873163,0.4943303710765866,0.8121478456947057,-0.920576847331459,0.10674261995226657,1.2436406766350976,0.6251502982138215,0.5576995553252935,0.15981433848144747,-0.46484952881209385,0.34931673594281165,-1.3197036618486955,2.030244713325367,1.3293527484805516,-0.6014582498008547,2.3177502612429897,0.24869161904699996],\"xaxis\":\"x9\",\"y\":[-2.361761577852779,0.5601682024555253,0.7397791306001766,-0.6623782490409087,0.6857868613529526,1.4325764368304839,-0.6046702446723863,-0.9224023716659426,-1.374858370180204,-1.4036497288762604,2.2809026918611757,-0.14793006094281821,0.13753424646413842,-0.2232675326374695,-0.3383929970868634,-0.3042114016740749,-2.0235518683305784,0.6112943301579296,0.12262932462534099,-0.5540464192991367,0.21394765086253906,-0.6342840755001222,1.5431114456139305,0.520000348435981,-0.5070277643479835,-1.32430202501762,-1.8986721120747658,-1.6127903072276566,-1.8336681094404546,-0.37874463908208617,-0.7264976899141545,-0.18953135953591352,1.000835838807099,1.1348048263560553,-2.246644046452098,-0.32131215444600014,-0.5973093329881346,-0.7168613711733985,-2.8584955120003954,2.789113453410877,0.4650310112167451,-1.6048341588683919,-1.2999450295037844,0.724368075933912,0.6605601842134327,-1.6403966595508683,-0.459508328073549,-0.5133337131873488,1.2212848371654796,3.103375971399639,1.4564409020961275,-0.44566360817361256,-0.6667837021019473,0.8649760834336663,0.18913022129124796,-0.39855900842707215,-0.3353945361522721,0.3102726463831046,-1.2817872368942829,-1.5761180255088258,1.9451888083978948,-1.3839219453105434,1.1718263853168165,-0.4363400113758351,-1.0065709153967863,-1.457183604809572,-0.17223676739963256,-0.31412797718378505,0.24725023263052143,0.7056310115827593,-0.9235051007847629,0.7517653837693907,0.4752875570000499,1.5337404272019972,-0.28544253565872163,0.640040353020628,-0.18323802609196574,-0.16975401206998655,0.07304670629250355,-0.7026185371650298,-0.7268743155257561,0.8277640495778841,-2.603861293255465,1.3069975134359773,0.9301139393275412,0.2241426217480532,-0.00934855406999004,0.5308123605970554,-0.9750164870308707,0.8632892044459971,0.1762676646661963,1.640097229898394,0.7176580381238524,-0.3623004190144998,-1.1176258416306188,0.4525957893338102,-1.1854120204386869,-0.6421062267770715,0.49012960496143854,-1.664902421214408],\"yaxis\":\"y9\"},{\"line\":{\"color\":\"rgba(128, 128, 128, 1.0)\",\"dash\":\"solid\",\"shape\":\"linear\",\"width\":1.3},\"marker\":{\"size\":2,\"symbol\":\"circle\"},\"mode\":\"markers\",\"name\":\"C\",\"text\":\"\",\"type\":\"scatter\",\"x\":[1.3248435021986862,0.05735020938283478,-1.3252283251090466,0.2037073853435116,0.11390051896740837,0.036274803977040415,0.07886059125519548,-0.2107540123227492,0.5438429832196089,-1.495186139925318,-0.2786757262126936,-2.2472868977499583,0.5401780372965783,-1.2660125619710452,2.8917618341817137,0.9135784244832255,0.8070773007502883,-0.47655287637741833,-0.6916594268489628,-0.29857439303094707,-0.5028419053588357,-1.097380972947273,0.9013779502854321,-2.0539267239812853,-0.09946671171319675,0.027103790935514682,0.910952326494662,-0.3450271482134044,-2.016022367725986,1.2318197128416584,-0.48882763052385303,-1.0985539746033637,0.1469041002146205,-1.8300962817655162,0.3295661962110016,1.5269919414554993,-0.08726602386535882,-0.2746372475405285,1.3932038032489773,-1.5396569571609415,0.27825546855211997,-1.2105974754365512,-1.117995856964468,-0.08862087958247215,-0.19882957813497953,-0.046593485481045395,-0.2823150761795257,-0.909045608470984,-1.2859323567159786,2.57780442556176,0.5784537098435818,0.28312410196352455,0.5708819331108846,0.13193351121742164,0.7251406104368086,-0.33668180850187046,-0.6109096964157493,0.18883399477521554,0.525884140083572,-0.29113233390150467,1.5467100649562053,-1.5034114282884632,1.0075308147355966,0.8120289248587333,-1.3825380096125786,1.3893557899959468,0.7225515136418575,-2.0990836574963083,-0.3329107958852471,-0.20557479439035437,1.2586533985172603,-0.3623865838613117,-1.81009497493966,-0.8144051264697689,-0.8543728528659726,0.12428063004652715,0.42154333813920025,0.8325194216703564,-1.1316678358816619,-0.6752053609299112,1.0083868733208903,1.0329358144064287,0.24154683429897433,0.20467656709517945,0.4480733678860193,-1.4973501519227976,-0.06457171959633856,-0.7267026226309786,0.38549482127688767,2.0291148776290124,-0.7242805841989912,-0.8436208979113577,-0.9355965444051567,-1.2924130300577341,-1.0832341054879675,0.40071963830041823,1.6882470669240979,-1.8897243883593906,-1.73705358562559,-1.5599300069598463],\"xaxis\":\"x10\",\"y\":[-2.361761577852779,0.5601682024555253,0.7397791306001766,-0.6623782490409087,0.6857868613529526,1.4325764368304839,-0.6046702446723863,-0.9224023716659426,-1.374858370180204,-1.4036497288762604,2.2809026918611757,-0.14793006094281821,0.13753424646413842,-0.2232675326374695,-0.3383929970868634,-0.3042114016740749,-2.0235518683305784,0.6112943301579296,0.12262932462534099,-0.5540464192991367,0.21394765086253906,-0.6342840755001222,1.5431114456139305,0.520000348435981,-0.5070277643479835,-1.32430202501762,-1.8986721120747658,-1.6127903072276566,-1.8336681094404546,-0.37874463908208617,-0.7264976899141545,-0.18953135953591352,1.000835838807099,1.1348048263560553,-2.246644046452098,-0.32131215444600014,-0.5973093329881346,-0.7168613711733985,-2.8584955120003954,2.789113453410877,0.4650310112167451,-1.6048341588683919,-1.2999450295037844,0.724368075933912,0.6605601842134327,-1.6403966595508683,-0.459508328073549,-0.5133337131873488,1.2212848371654796,3.103375971399639,1.4564409020961275,-0.44566360817361256,-0.6667837021019473,0.8649760834336663,0.18913022129124796,-0.39855900842707215,-0.3353945361522721,0.3102726463831046,-1.2817872368942829,-1.5761180255088258,1.9451888083978948,-1.3839219453105434,1.1718263853168165,-0.4363400113758351,-1.0065709153967863,-1.457183604809572,-0.17223676739963256,-0.31412797718378505,0.24725023263052143,0.7056310115827593,-0.9235051007847629,0.7517653837693907,0.4752875570000499,1.5337404272019972,-0.28544253565872163,0.640040353020628,-0.18323802609196574,-0.16975401206998655,0.07304670629250355,-0.7026185371650298,-0.7268743155257561,0.8277640495778841,-2.603861293255465,1.3069975134359773,0.9301139393275412,0.2241426217480532,-0.00934855406999004,0.5308123605970554,-0.9750164870308707,0.8632892044459971,0.1762676646661963,1.640097229898394,0.7176580381238524,-0.3623004190144998,-1.1176258416306188,0.4525957893338102,-1.1854120204386869,-0.6421062267770715,0.49012960496143854,-1.664902421214408],\"yaxis\":\"y10\"},{\"histfunc\":\"count\",\"histnorm\":\"\",\"marker\":{\"color\":\"rgba(50, 171, 96, 1.0)\",\"line\":{\"color\":\"#4D5663\",\"width\":1.3}},\"name\":\"C\",\"nbinsx\":10,\"opacity\":0.8,\"orientation\":\"v\",\"type\":\"histogram\",\"x\":[-2.361761577852779,0.5601682024555253,0.7397791306001766,-0.6623782490409087,0.6857868613529526,1.4325764368304839,-0.6046702446723863,-0.9224023716659426,-1.374858370180204,-1.4036497288762604,2.2809026918611757,-0.14793006094281821,0.13753424646413842,-0.2232675326374695,-0.3383929970868634,-0.3042114016740749,-2.0235518683305784,0.6112943301579296,0.12262932462534099,-0.5540464192991367,0.21394765086253906,-0.6342840755001222,1.5431114456139305,0.520000348435981,-0.5070277643479835,-1.32430202501762,-1.8986721120747658,-1.6127903072276566,-1.8336681094404546,-0.37874463908208617,-0.7264976899141545,-0.18953135953591352,1.000835838807099,1.1348048263560553,-2.246644046452098,-0.32131215444600014,-0.5973093329881346,-0.7168613711733985,-2.8584955120003954,2.789113453410877,0.4650310112167451,-1.6048341588683919,-1.2999450295037844,0.724368075933912,0.6605601842134327,-1.6403966595508683,-0.459508328073549,-0.5133337131873488,1.2212848371654796,3.103375971399639,1.4564409020961275,-0.44566360817361256,-0.6667837021019473,0.8649760834336663,0.18913022129124796,-0.39855900842707215,-0.3353945361522721,0.3102726463831046,-1.2817872368942829,-1.5761180255088258,1.9451888083978948,-1.3839219453105434,1.1718263853168165,-0.4363400113758351,-1.0065709153967863,-1.457183604809572,-0.17223676739963256,-0.31412797718378505,0.24725023263052143,0.7056310115827593,-0.9235051007847629,0.7517653837693907,0.4752875570000499,1.5337404272019972,-0.28544253565872163,0.640040353020628,-0.18323802609196574,-0.16975401206998655,0.07304670629250355,-0.7026185371650298,-0.7268743155257561,0.8277640495778841,-2.603861293255465,1.3069975134359773,0.9301139393275412,0.2241426217480532,-0.00934855406999004,0.5308123605970554,-0.9750164870308707,0.8632892044459971,0.1762676646661963,1.640097229898394,0.7176580381238524,-0.3623004190144998,-1.1176258416306188,0.4525957893338102,-1.1854120204386869,-0.6421062267770715,0.49012960496143854,-1.664902421214408],\"xaxis\":\"x11\",\"yaxis\":\"y11\"},{\"line\":{\"color\":\"rgba(128, 128, 128, 1.0)\",\"dash\":\"solid\",\"shape\":\"linear\",\"width\":1.3},\"marker\":{\"size\":2,\"symbol\":\"circle\"},\"mode\":\"markers\",\"name\":\"C\",\"text\":\"\",\"type\":\"scatter\",\"x\":[0.611714013887907,0.6386052403396689,-0.02477849377865895,0.6197704319247359,-1.1967377415806166,1.1720391315629168,0.8765281439054488,-1.0370592385491233,0.44021492011010355,0.17230177660561485,0.4200336292442886,-0.16107225295889302,0.7200632250852794,-2.298592389474176,0.25459428501955056,0.2542139932244251,-1.8107357042692172,-0.5108724925504359,0.41001152084386977,-1.0703118510366805,1.0216244610662364,0.9974056726181587,1.312610610063279,-1.1407814799389158,1.5480251592844323,-0.49410534648003307,2.278885873544256,0.19104047538383667,-0.47014930082533973,-1.0344998801228573,-0.10032876048732366,0.7773925219423091,0.5717920894378987,0.33987394847518954,-0.1973390537737198,1.6021603463915783,-0.18834810979770195,-0.7497884978957049,-0.9027557049861357,-0.016809405012762894,-1.8597598987950288,0.856307118575504,-0.2162447769364504,-0.205476712225501,1.683875488970458,0.4609337272646481,0.8816172290139743,-1.5292750990984212,0.9459357785069152,-0.14509817237364275,-0.16696894829690045,-0.7401778451042701,0.26927875263065426,-1.1256758417539952,-0.08988833536686605,1.2641096243953123,-0.2101147329903418,-1.1204823391590175,0.13693330967014247,-0.23803086366322063,-0.8854563237832962,0.21533140364738995,0.9663254927426982,0.07511595060091833,-0.2487169421683228,1.412511316640888,-0.0973691612271399,-0.4760956995731815,0.16454046508612838,-0.8842237914144235,-1.1596602344406595,-0.11564797255073156,-0.5850474514779618,0.5224811694375456,-1.3775956652443182,0.007969820810576162,0.28740140869153913,0.6617076518110719,-0.8460664108204242,-0.05583557468567738,0.7611148188311797,0.4847337270794526,-2.1536338798360313,-0.3390316543921442,0.29109295797409984,0.3832439726007917,-0.593143056703596,-0.10685109921118938,-0.7925989257172054,1.1161161935482944,0.15080005441430192,-0.6181883497861653,0.6251053204524084,-0.5618278147974634,-0.46915351905109376,-1.1894885930032517,-0.5933340624232508,-1.4204641235088469,-0.0008249022356199199,1.02916580415784],\"xaxis\":\"x12\",\"y\":[-2.361761577852779,0.5601682024555253,0.7397791306001766,-0.6623782490409087,0.6857868613529526,1.4325764368304839,-0.6046702446723863,-0.9224023716659426,-1.374858370180204,-1.4036497288762604,2.2809026918611757,-0.14793006094281821,0.13753424646413842,-0.2232675326374695,-0.3383929970868634,-0.3042114016740749,-2.0235518683305784,0.6112943301579296,0.12262932462534099,-0.5540464192991367,0.21394765086253906,-0.6342840755001222,1.5431114456139305,0.520000348435981,-0.5070277643479835,-1.32430202501762,-1.8986721120747658,-1.6127903072276566,-1.8336681094404546,-0.37874463908208617,-0.7264976899141545,-0.18953135953591352,1.000835838807099,1.1348048263560553,-2.246644046452098,-0.32131215444600014,-0.5973093329881346,-0.7168613711733985,-2.8584955120003954,2.789113453410877,0.4650310112167451,-1.6048341588683919,-1.2999450295037844,0.724368075933912,0.6605601842134327,-1.6403966595508683,-0.459508328073549,-0.5133337131873488,1.2212848371654796,3.103375971399639,1.4564409020961275,-0.44566360817361256,-0.6667837021019473,0.8649760834336663,0.18913022129124796,-0.39855900842707215,-0.3353945361522721,0.3102726463831046,-1.2817872368942829,-1.5761180255088258,1.9451888083978948,-1.3839219453105434,1.1718263853168165,-0.4363400113758351,-1.0065709153967863,-1.457183604809572,-0.17223676739963256,-0.31412797718378505,0.24725023263052143,0.7056310115827593,-0.9235051007847629,0.7517653837693907,0.4752875570000499,1.5337404272019972,-0.28544253565872163,0.640040353020628,-0.18323802609196574,-0.16975401206998655,0.07304670629250355,-0.7026185371650298,-0.7268743155257561,0.8277640495778841,-2.603861293255465,1.3069975134359773,0.9301139393275412,0.2241426217480532,-0.00934855406999004,0.5308123605970554,-0.9750164870308707,0.8632892044459971,0.1762676646661963,1.640097229898394,0.7176580381238524,-0.3623004190144998,-1.1176258416306188,0.4525957893338102,-1.1854120204386869,-0.6421062267770715,0.49012960496143854,-1.664902421214408],\"yaxis\":\"y12\"},{\"line\":{\"color\":\"rgba(128, 128, 128, 1.0)\",\"dash\":\"solid\",\"shape\":\"linear\",\"width\":1.3},\"marker\":{\"size\":2,\"symbol\":\"circle\"},\"mode\":\"markers\",\"name\":\"D\",\"text\":\"\",\"type\":\"scatter\",\"x\":[0.25766725273870794,-0.9683683498568538,0.4079767983323879,-0.35521716328951264,0.1067697108260012,0.055264414905670536,0.16748678722052524,-0.03884642071252894,-1.9569206918568747,-0.012030065425278914,0.5147917475168186,-1.1929830986432766,-0.28630897965301283,-0.7269486914270185,-0.6042854575279359,-0.7860299666916818,-1.2232950810912862,-0.13550737994759923,-1.0734549238772075,0.24804028348226617,0.6481756930738801,-1.6101508373062166,-0.1609375642387576,-0.4537761843382195,0.6669660076254208,-0.844428975954758,0.5129831796429379,1.155804462649625,0.6941037484143968,2.325681370776554,-1.1934765913970897,-1.3331393887106655,-0.5842075563796505,0.823264907901564,0.5077909681150676,0.04079208347736599,-0.3774067504355232,1.684633944827573,0.8108285494289319,-0.9614720723440364,0.8033391836123334,1.366141053396587,1.22710335380521,0.5007861886024525,0.343001046248468,0.9821044423294414,1.058739583049605,-0.302159064903064,0.01997985590888351,-0.33131002906924917,0.2717518499836177,1.3142633549959786,-0.8617857664810039,0.1400785711199423,0.45416005353468314,-1.6845394060445138,-1.2870651849530947,-1.368366894386971,0.7796978263073777,0.8049718982440207,0.6720806332514321,0.019012236335749715,0.9820030162836629,-1.3032056716341103,0.24368134319022605,-0.11259416554794206,0.4777042747792598,0.7994237775854384,-0.5912923178386565,1.8620316169982516,1.5979147218970453,0.6982224574224856,0.06113753691724821,0.2011006952610454,-0.5264422448448134,-0.2860199234535764,1.1520711810777065,0.3853847234561283,0.8496286363248838,0.21092045657163339,0.4992727903258261,0.019602502769003088,1.479898271696008,0.13819373894873163,0.4943303710765866,0.8121478456947057,-0.920576847331459,0.10674261995226657,1.2436406766350976,0.6251502982138215,0.5576995553252935,0.15981433848144747,-0.46484952881209385,0.34931673594281165,-1.3197036618486955,2.030244713325367,1.3293527484805516,-0.6014582498008547,2.3177502612429897,0.24869161904699996],\"xaxis\":\"x13\",\"y\":[0.611714013887907,0.6386052403396689,-0.02477849377865895,0.6197704319247359,-1.1967377415806166,1.1720391315629168,0.8765281439054488,-1.0370592385491233,0.44021492011010355,0.17230177660561485,0.4200336292442886,-0.16107225295889302,0.7200632250852794,-2.298592389474176,0.25459428501955056,0.2542139932244251,-1.8107357042692172,-0.5108724925504359,0.41001152084386977,-1.0703118510366805,1.0216244610662364,0.9974056726181587,1.312610610063279,-1.1407814799389158,1.5480251592844323,-0.49410534648003307,2.278885873544256,0.19104047538383667,-0.47014930082533973,-1.0344998801228573,-0.10032876048732366,0.7773925219423091,0.5717920894378987,0.33987394847518954,-0.1973390537737198,1.6021603463915783,-0.18834810979770195,-0.7497884978957049,-0.9027557049861357,-0.016809405012762894,-1.8597598987950288,0.856307118575504,-0.2162447769364504,-0.205476712225501,1.683875488970458,0.4609337272646481,0.8816172290139743,-1.5292750990984212,0.9459357785069152,-0.14509817237364275,-0.16696894829690045,-0.7401778451042701,0.26927875263065426,-1.1256758417539952,-0.08988833536686605,1.2641096243953123,-0.2101147329903418,-1.1204823391590175,0.13693330967014247,-0.23803086366322063,-0.8854563237832962,0.21533140364738995,0.9663254927426982,0.07511595060091833,-0.2487169421683228,1.412511316640888,-0.0973691612271399,-0.4760956995731815,0.16454046508612838,-0.8842237914144235,-1.1596602344406595,-0.11564797255073156,-0.5850474514779618,0.5224811694375456,-1.3775956652443182,0.007969820810576162,0.28740140869153913,0.6617076518110719,-0.8460664108204242,-0.05583557468567738,0.7611148188311797,0.4847337270794526,-2.1536338798360313,-0.3390316543921442,0.29109295797409984,0.3832439726007917,-0.593143056703596,-0.10685109921118938,-0.7925989257172054,1.1161161935482944,0.15080005441430192,-0.6181883497861653,0.6251053204524084,-0.5618278147974634,-0.46915351905109376,-1.1894885930032517,-0.5933340624232508,-1.4204641235088469,-0.0008249022356199199,1.02916580415784],\"yaxis\":\"y13\"},{\"line\":{\"color\":\"rgba(128, 128, 128, 1.0)\",\"dash\":\"solid\",\"shape\":\"linear\",\"width\":1.3},\"marker\":{\"size\":2,\"symbol\":\"circle\"},\"mode\":\"markers\",\"name\":\"D\",\"text\":\"\",\"type\":\"scatter\",\"x\":[1.3248435021986862,0.05735020938283478,-1.3252283251090466,0.2037073853435116,0.11390051896740837,0.036274803977040415,0.07886059125519548,-0.2107540123227492,0.5438429832196089,-1.495186139925318,-0.2786757262126936,-2.2472868977499583,0.5401780372965783,-1.2660125619710452,2.8917618341817137,0.9135784244832255,0.8070773007502883,-0.47655287637741833,-0.6916594268489628,-0.29857439303094707,-0.5028419053588357,-1.097380972947273,0.9013779502854321,-2.0539267239812853,-0.09946671171319675,0.027103790935514682,0.910952326494662,-0.3450271482134044,-2.016022367725986,1.2318197128416584,-0.48882763052385303,-1.0985539746033637,0.1469041002146205,-1.8300962817655162,0.3295661962110016,1.5269919414554993,-0.08726602386535882,-0.2746372475405285,1.3932038032489773,-1.5396569571609415,0.27825546855211997,-1.2105974754365512,-1.117995856964468,-0.08862087958247215,-0.19882957813497953,-0.046593485481045395,-0.2823150761795257,-0.909045608470984,-1.2859323567159786,2.57780442556176,0.5784537098435818,0.28312410196352455,0.5708819331108846,0.13193351121742164,0.7251406104368086,-0.33668180850187046,-0.6109096964157493,0.18883399477521554,0.525884140083572,-0.29113233390150467,1.5467100649562053,-1.5034114282884632,1.0075308147355966,0.8120289248587333,-1.3825380096125786,1.3893557899959468,0.7225515136418575,-2.0990836574963083,-0.3329107958852471,-0.20557479439035437,1.2586533985172603,-0.3623865838613117,-1.81009497493966,-0.8144051264697689,-0.8543728528659726,0.12428063004652715,0.42154333813920025,0.8325194216703564,-1.1316678358816619,-0.6752053609299112,1.0083868733208903,1.0329358144064287,0.24154683429897433,0.20467656709517945,0.4480733678860193,-1.4973501519227976,-0.06457171959633856,-0.7267026226309786,0.38549482127688767,2.0291148776290124,-0.7242805841989912,-0.8436208979113577,-0.9355965444051567,-1.2924130300577341,-1.0832341054879675,0.40071963830041823,1.6882470669240979,-1.8897243883593906,-1.73705358562559,-1.5599300069598463],\"xaxis\":\"x14\",\"y\":[0.611714013887907,0.6386052403396689,-0.02477849377865895,0.6197704319247359,-1.1967377415806166,1.1720391315629168,0.8765281439054488,-1.0370592385491233,0.44021492011010355,0.17230177660561485,0.4200336292442886,-0.16107225295889302,0.7200632250852794,-2.298592389474176,0.25459428501955056,0.2542139932244251,-1.8107357042692172,-0.5108724925504359,0.41001152084386977,-1.0703118510366805,1.0216244610662364,0.9974056726181587,1.312610610063279,-1.1407814799389158,1.5480251592844323,-0.49410534648003307,2.278885873544256,0.19104047538383667,-0.47014930082533973,-1.0344998801228573,-0.10032876048732366,0.7773925219423091,0.5717920894378987,0.33987394847518954,-0.1973390537737198,1.6021603463915783,-0.18834810979770195,-0.7497884978957049,-0.9027557049861357,-0.016809405012762894,-1.8597598987950288,0.856307118575504,-0.2162447769364504,-0.205476712225501,1.683875488970458,0.4609337272646481,0.8816172290139743,-1.5292750990984212,0.9459357785069152,-0.14509817237364275,-0.16696894829690045,-0.7401778451042701,0.26927875263065426,-1.1256758417539952,-0.08988833536686605,1.2641096243953123,-0.2101147329903418,-1.1204823391590175,0.13693330967014247,-0.23803086366322063,-0.8854563237832962,0.21533140364738995,0.9663254927426982,0.07511595060091833,-0.2487169421683228,1.412511316640888,-0.0973691612271399,-0.4760956995731815,0.16454046508612838,-0.8842237914144235,-1.1596602344406595,-0.11564797255073156,-0.5850474514779618,0.5224811694375456,-1.3775956652443182,0.007969820810576162,0.28740140869153913,0.6617076518110719,-0.8460664108204242,-0.05583557468567738,0.7611148188311797,0.4847337270794526,-2.1536338798360313,-0.3390316543921442,0.29109295797409984,0.3832439726007917,-0.593143056703596,-0.10685109921118938,-0.7925989257172054,1.1161161935482944,0.15080005441430192,-0.6181883497861653,0.6251053204524084,-0.5618278147974634,-0.46915351905109376,-1.1894885930032517,-0.5933340624232508,-1.4204641235088469,-0.0008249022356199199,1.02916580415784],\"yaxis\":\"y14\"},{\"line\":{\"color\":\"rgba(128, 128, 128, 1.0)\",\"dash\":\"solid\",\"shape\":\"linear\",\"width\":1.3},\"marker\":{\"size\":2,\"symbol\":\"circle\"},\"mode\":\"markers\",\"name\":\"D\",\"text\":\"\",\"type\":\"scatter\",\"x\":[-2.361761577852779,0.5601682024555253,0.7397791306001766,-0.6623782490409087,0.6857868613529526,1.4325764368304839,-0.6046702446723863,-0.9224023716659426,-1.374858370180204,-1.4036497288762604,2.2809026918611757,-0.14793006094281821,0.13753424646413842,-0.2232675326374695,-0.3383929970868634,-0.3042114016740749,-2.0235518683305784,0.6112943301579296,0.12262932462534099,-0.5540464192991367,0.21394765086253906,-0.6342840755001222,1.5431114456139305,0.520000348435981,-0.5070277643479835,-1.32430202501762,-1.8986721120747658,-1.6127903072276566,-1.8336681094404546,-0.37874463908208617,-0.7264976899141545,-0.18953135953591352,1.000835838807099,1.1348048263560553,-2.246644046452098,-0.32131215444600014,-0.5973093329881346,-0.7168613711733985,-2.8584955120003954,2.789113453410877,0.4650310112167451,-1.6048341588683919,-1.2999450295037844,0.724368075933912,0.6605601842134327,-1.6403966595508683,-0.459508328073549,-0.5133337131873488,1.2212848371654796,3.103375971399639,1.4564409020961275,-0.44566360817361256,-0.6667837021019473,0.8649760834336663,0.18913022129124796,-0.39855900842707215,-0.3353945361522721,0.3102726463831046,-1.2817872368942829,-1.5761180255088258,1.9451888083978948,-1.3839219453105434,1.1718263853168165,-0.4363400113758351,-1.0065709153967863,-1.457183604809572,-0.17223676739963256,-0.31412797718378505,0.24725023263052143,0.7056310115827593,-0.9235051007847629,0.7517653837693907,0.4752875570000499,1.5337404272019972,-0.28544253565872163,0.640040353020628,-0.18323802609196574,-0.16975401206998655,0.07304670629250355,-0.7026185371650298,-0.7268743155257561,0.8277640495778841,-2.603861293255465,1.3069975134359773,0.9301139393275412,0.2241426217480532,-0.00934855406999004,0.5308123605970554,-0.9750164870308707,0.8632892044459971,0.1762676646661963,1.640097229898394,0.7176580381238524,-0.3623004190144998,-1.1176258416306188,0.4525957893338102,-1.1854120204386869,-0.6421062267770715,0.49012960496143854,-1.664902421214408],\"xaxis\":\"x15\",\"y\":[0.611714013887907,0.6386052403396689,-0.02477849377865895,0.6197704319247359,-1.1967377415806166,1.1720391315629168,0.8765281439054488,-1.0370592385491233,0.44021492011010355,0.17230177660561485,0.4200336292442886,-0.16107225295889302,0.7200632250852794,-2.298592389474176,0.25459428501955056,0.2542139932244251,-1.8107357042692172,-0.5108724925504359,0.41001152084386977,-1.0703118510366805,1.0216244610662364,0.9974056726181587,1.312610610063279,-1.1407814799389158,1.5480251592844323,-0.49410534648003307,2.278885873544256,0.19104047538383667,-0.47014930082533973,-1.0344998801228573,-0.10032876048732366,0.7773925219423091,0.5717920894378987,0.33987394847518954,-0.1973390537737198,1.6021603463915783,-0.18834810979770195,-0.7497884978957049,-0.9027557049861357,-0.016809405012762894,-1.8597598987950288,0.856307118575504,-0.2162447769364504,-0.205476712225501,1.683875488970458,0.4609337272646481,0.8816172290139743,-1.5292750990984212,0.9459357785069152,-0.14509817237364275,-0.16696894829690045,-0.7401778451042701,0.26927875263065426,-1.1256758417539952,-0.08988833536686605,1.2641096243953123,-0.2101147329903418,-1.1204823391590175,0.13693330967014247,-0.23803086366322063,-0.8854563237832962,0.21533140364738995,0.9663254927426982,0.07511595060091833,-0.2487169421683228,1.412511316640888,-0.0973691612271399,-0.4760956995731815,0.16454046508612838,-0.8842237914144235,-1.1596602344406595,-0.11564797255073156,-0.5850474514779618,0.5224811694375456,-1.3775956652443182,0.007969820810576162,0.28740140869153913,0.6617076518110719,-0.8460664108204242,-0.05583557468567738,0.7611148188311797,0.4847337270794526,-2.1536338798360313,-0.3390316543921442,0.29109295797409984,0.3832439726007917,-0.593143056703596,-0.10685109921118938,-0.7925989257172054,1.1161161935482944,0.15080005441430192,-0.6181883497861653,0.6251053204524084,-0.5618278147974634,-0.46915351905109376,-1.1894885930032517,-0.5933340624232508,-1.4204641235088469,-0.0008249022356199199,1.02916580415784],\"yaxis\":\"y15\"},{\"histfunc\":\"count\",\"histnorm\":\"\",\"marker\":{\"color\":\"rgba(128, 0, 128, 1.0)\",\"line\":{\"color\":\"#4D5663\",\"width\":1.3}},\"name\":\"D\",\"nbinsx\":10,\"opacity\":0.8,\"orientation\":\"v\",\"type\":\"histogram\",\"x\":[0.611714013887907,0.6386052403396689,-0.02477849377865895,0.6197704319247359,-1.1967377415806166,1.1720391315629168,0.8765281439054488,-1.0370592385491233,0.44021492011010355,0.17230177660561485,0.4200336292442886,-0.16107225295889302,0.7200632250852794,-2.298592389474176,0.25459428501955056,0.2542139932244251,-1.8107357042692172,-0.5108724925504359,0.41001152084386977,-1.0703118510366805,1.0216244610662364,0.9974056726181587,1.312610610063279,-1.1407814799389158,1.5480251592844323,-0.49410534648003307,2.278885873544256,0.19104047538383667,-0.47014930082533973,-1.0344998801228573,-0.10032876048732366,0.7773925219423091,0.5717920894378987,0.33987394847518954,-0.1973390537737198,1.6021603463915783,-0.18834810979770195,-0.7497884978957049,-0.9027557049861357,-0.016809405012762894,-1.8597598987950288,0.856307118575504,-0.2162447769364504,-0.205476712225501,1.683875488970458,0.4609337272646481,0.8816172290139743,-1.5292750990984212,0.9459357785069152,-0.14509817237364275,-0.16696894829690045,-0.7401778451042701,0.26927875263065426,-1.1256758417539952,-0.08988833536686605,1.2641096243953123,-0.2101147329903418,-1.1204823391590175,0.13693330967014247,-0.23803086366322063,-0.8854563237832962,0.21533140364738995,0.9663254927426982,0.07511595060091833,-0.2487169421683228,1.412511316640888,-0.0973691612271399,-0.4760956995731815,0.16454046508612838,-0.8842237914144235,-1.1596602344406595,-0.11564797255073156,-0.5850474514779618,0.5224811694375456,-1.3775956652443182,0.007969820810576162,0.28740140869153913,0.6617076518110719,-0.8460664108204242,-0.05583557468567738,0.7611148188311797,0.4847337270794526,-2.1536338798360313,-0.3390316543921442,0.29109295797409984,0.3832439726007917,-0.593143056703596,-0.10685109921118938,-0.7925989257172054,1.1161161935482944,0.15080005441430192,-0.6181883497861653,0.6251053204524084,-0.5618278147974634,-0.46915351905109376,-1.1894885930032517,-0.5933340624232508,-1.4204641235088469,-0.0008249022356199199,1.02916580415784],\"xaxis\":\"x16\",\"yaxis\":\"y16\"}],                        {\"bargap\":0.02,\"legend\":{\"bgcolor\":\"#F5F6F9\",\"font\":{\"color\":\"#4D5663\"}},\"paper_bgcolor\":\"#F5F6F9\",\"plot_bgcolor\":\"#F5F6F9\",\"showlegend\":false,\"template\":{\"data\":{\"bar\":[{\"error_x\":{\"color\":\"#2a3f5f\"},\"error_y\":{\"color\":\"#2a3f5f\"},\"marker\":{\"line\":{\"color\":\"#E5ECF6\",\"width\":0.5},\"pattern\":{\"fillmode\":\"overlay\",\"size\":10,\"solidity\":0.2}},\"type\":\"bar\"}],\"barpolar\":[{\"marker\":{\"line\":{\"color\":\"#E5ECF6\",\"width\":0.5},\"pattern\":{\"fillmode\":\"overlay\",\"size\":10,\"solidity\":0.2}},\"type\":\"barpolar\"}],\"carpet\":[{\"aaxis\":{\"endlinecolor\":\"#2a3f5f\",\"gridcolor\":\"white\",\"linecolor\":\"white\",\"minorgridcolor\":\"white\",\"startlinecolor\":\"#2a3f5f\"},\"baxis\":{\"endlinecolor\":\"#2a3f5f\",\"gridcolor\":\"white\",\"linecolor\":\"white\",\"minorgridcolor\":\"white\",\"startlinecolor\":\"#2a3f5f\"},\"type\":\"carpet\"}],\"choropleth\":[{\"colorbar\":{\"outlinewidth\":0,\"ticks\":\"\"},\"type\":\"choropleth\"}],\"contour\":[{\"colorbar\":{\"outlinewidth\":0,\"ticks\":\"\"},\"colorscale\":[[0.0,\"#0d0887\"],[0.1111111111111111,\"#46039f\"],[0.2222222222222222,\"#7201a8\"],[0.3333333333333333,\"#9c179e\"],[0.4444444444444444,\"#bd3786\"],[0.5555555555555556,\"#d8576b\"],[0.6666666666666666,\"#ed7953\"],[0.7777777777777778,\"#fb9f3a\"],[0.8888888888888888,\"#fdca26\"],[1.0,\"#f0f921\"]],\"type\":\"contour\"}],\"contourcarpet\":[{\"colorbar\":{\"outlinewidth\":0,\"ticks\":\"\"},\"type\":\"contourcarpet\"}],\"heatmap\":[{\"colorbar\":{\"outlinewidth\":0,\"ticks\":\"\"},\"colorscale\":[[0.0,\"#0d0887\"],[0.1111111111111111,\"#46039f\"],[0.2222222222222222,\"#7201a8\"],[0.3333333333333333,\"#9c179e\"],[0.4444444444444444,\"#bd3786\"],[0.5555555555555556,\"#d8576b\"],[0.6666666666666666,\"#ed7953\"],[0.7777777777777778,\"#fb9f3a\"],[0.8888888888888888,\"#fdca26\"],[1.0,\"#f0f921\"]],\"type\":\"heatmap\"}],\"heatmapgl\":[{\"colorbar\":{\"outlinewidth\":0,\"ticks\":\"\"},\"colorscale\":[[0.0,\"#0d0887\"],[0.1111111111111111,\"#46039f\"],[0.2222222222222222,\"#7201a8\"],[0.3333333333333333,\"#9c179e\"],[0.4444444444444444,\"#bd3786\"],[0.5555555555555556,\"#d8576b\"],[0.6666666666666666,\"#ed7953\"],[0.7777777777777778,\"#fb9f3a\"],[0.8888888888888888,\"#fdca26\"],[1.0,\"#f0f921\"]],\"type\":\"heatmapgl\"}],\"histogram\":[{\"marker\":{\"pattern\":{\"fillmode\":\"overlay\",\"size\":10,\"solidity\":0.2}},\"type\":\"histogram\"}],\"histogram2d\":[{\"colorbar\":{\"outlinewidth\":0,\"ticks\":\"\"},\"colorscale\":[[0.0,\"#0d0887\"],[0.1111111111111111,\"#46039f\"],[0.2222222222222222,\"#7201a8\"],[0.3333333333333333,\"#9c179e\"],[0.4444444444444444,\"#bd3786\"],[0.5555555555555556,\"#d8576b\"],[0.6666666666666666,\"#ed7953\"],[0.7777777777777778,\"#fb9f3a\"],[0.8888888888888888,\"#fdca26\"],[1.0,\"#f0f921\"]],\"type\":\"histogram2d\"}],\"histogram2dcontour\":[{\"colorbar\":{\"outlinewidth\":0,\"ticks\":\"\"},\"colorscale\":[[0.0,\"#0d0887\"],[0.1111111111111111,\"#46039f\"],[0.2222222222222222,\"#7201a8\"],[0.3333333333333333,\"#9c179e\"],[0.4444444444444444,\"#bd3786\"],[0.5555555555555556,\"#d8576b\"],[0.6666666666666666,\"#ed7953\"],[0.7777777777777778,\"#fb9f3a\"],[0.8888888888888888,\"#fdca26\"],[1.0,\"#f0f921\"]],\"type\":\"histogram2dcontour\"}],\"mesh3d\":[{\"colorbar\":{\"outlinewidth\":0,\"ticks\":\"\"},\"type\":\"mesh3d\"}],\"parcoords\":[{\"line\":{\"colorbar\":{\"outlinewidth\":0,\"ticks\":\"\"}},\"type\":\"parcoords\"}],\"pie\":[{\"automargin\":true,\"type\":\"pie\"}],\"scatter\":[{\"marker\":{\"colorbar\":{\"outlinewidth\":0,\"ticks\":\"\"}},\"type\":\"scatter\"}],\"scatter3d\":[{\"line\":{\"colorbar\":{\"outlinewidth\":0,\"ticks\":\"\"}},\"marker\":{\"colorbar\":{\"outlinewidth\":0,\"ticks\":\"\"}},\"type\":\"scatter3d\"}],\"scattercarpet\":[{\"marker\":{\"colorbar\":{\"outlinewidth\":0,\"ticks\":\"\"}},\"type\":\"scattercarpet\"}],\"scattergeo\":[{\"marker\":{\"colorbar\":{\"outlinewidth\":0,\"ticks\":\"\"}},\"type\":\"scattergeo\"}],\"scattergl\":[{\"marker\":{\"colorbar\":{\"outlinewidth\":0,\"ticks\":\"\"}},\"type\":\"scattergl\"}],\"scattermapbox\":[{\"marker\":{\"colorbar\":{\"outlinewidth\":0,\"ticks\":\"\"}},\"type\":\"scattermapbox\"}],\"scatterpolar\":[{\"marker\":{\"colorbar\":{\"outlinewidth\":0,\"ticks\":\"\"}},\"type\":\"scatterpolar\"}],\"scatterpolargl\":[{\"marker\":{\"colorbar\":{\"outlinewidth\":0,\"ticks\":\"\"}},\"type\":\"scatterpolargl\"}],\"scatterternary\":[{\"marker\":{\"colorbar\":{\"outlinewidth\":0,\"ticks\":\"\"}},\"type\":\"scatterternary\"}],\"surface\":[{\"colorbar\":{\"outlinewidth\":0,\"ticks\":\"\"},\"colorscale\":[[0.0,\"#0d0887\"],[0.1111111111111111,\"#46039f\"],[0.2222222222222222,\"#7201a8\"],[0.3333333333333333,\"#9c179e\"],[0.4444444444444444,\"#bd3786\"],[0.5555555555555556,\"#d8576b\"],[0.6666666666666666,\"#ed7953\"],[0.7777777777777778,\"#fb9f3a\"],[0.8888888888888888,\"#fdca26\"],[1.0,\"#f0f921\"]],\"type\":\"surface\"}],\"table\":[{\"cells\":{\"fill\":{\"color\":\"#EBF0F8\"},\"line\":{\"color\":\"white\"}},\"header\":{\"fill\":{\"color\":\"#C8D4E3\"},\"line\":{\"color\":\"white\"}},\"type\":\"table\"}]},\"layout\":{\"annotationdefaults\":{\"arrowcolor\":\"#2a3f5f\",\"arrowhead\":0,\"arrowwidth\":1},\"autotypenumbers\":\"strict\",\"coloraxis\":{\"colorbar\":{\"outlinewidth\":0,\"ticks\":\"\"}},\"colorscale\":{\"diverging\":[[0,\"#8e0152\"],[0.1,\"#c51b7d\"],[0.2,\"#de77ae\"],[0.3,\"#f1b6da\"],[0.4,\"#fde0ef\"],[0.5,\"#f7f7f7\"],[0.6,\"#e6f5d0\"],[0.7,\"#b8e186\"],[0.8,\"#7fbc41\"],[0.9,\"#4d9221\"],[1,\"#276419\"]],\"sequential\":[[0.0,\"#0d0887\"],[0.1111111111111111,\"#46039f\"],[0.2222222222222222,\"#7201a8\"],[0.3333333333333333,\"#9c179e\"],[0.4444444444444444,\"#bd3786\"],[0.5555555555555556,\"#d8576b\"],[0.6666666666666666,\"#ed7953\"],[0.7777777777777778,\"#fb9f3a\"],[0.8888888888888888,\"#fdca26\"],[1.0,\"#f0f921\"]],\"sequentialminus\":[[0.0,\"#0d0887\"],[0.1111111111111111,\"#46039f\"],[0.2222222222222222,\"#7201a8\"],[0.3333333333333333,\"#9c179e\"],[0.4444444444444444,\"#bd3786\"],[0.5555555555555556,\"#d8576b\"],[0.6666666666666666,\"#ed7953\"],[0.7777777777777778,\"#fb9f3a\"],[0.8888888888888888,\"#fdca26\"],[1.0,\"#f0f921\"]]},\"colorway\":[\"#636efa\",\"#EF553B\",\"#00cc96\",\"#ab63fa\",\"#FFA15A\",\"#19d3f3\",\"#FF6692\",\"#B6E880\",\"#FF97FF\",\"#FECB52\"],\"font\":{\"color\":\"#2a3f5f\"},\"geo\":{\"bgcolor\":\"white\",\"lakecolor\":\"white\",\"landcolor\":\"#E5ECF6\",\"showlakes\":true,\"showland\":true,\"subunitcolor\":\"white\"},\"hoverlabel\":{\"align\":\"left\"},\"hovermode\":\"closest\",\"mapbox\":{\"style\":\"light\"},\"paper_bgcolor\":\"white\",\"plot_bgcolor\":\"#E5ECF6\",\"polar\":{\"angularaxis\":{\"gridcolor\":\"white\",\"linecolor\":\"white\",\"ticks\":\"\"},\"bgcolor\":\"#E5ECF6\",\"radialaxis\":{\"gridcolor\":\"white\",\"linecolor\":\"white\",\"ticks\":\"\"}},\"scene\":{\"xaxis\":{\"backgroundcolor\":\"#E5ECF6\",\"gridcolor\":\"white\",\"gridwidth\":2,\"linecolor\":\"white\",\"showbackground\":true,\"ticks\":\"\",\"zerolinecolor\":\"white\"},\"yaxis\":{\"backgroundcolor\":\"#E5ECF6\",\"gridcolor\":\"white\",\"gridwidth\":2,\"linecolor\":\"white\",\"showbackground\":true,\"ticks\":\"\",\"zerolinecolor\":\"white\"},\"zaxis\":{\"backgroundcolor\":\"#E5ECF6\",\"gridcolor\":\"white\",\"gridwidth\":2,\"linecolor\":\"white\",\"showbackground\":true,\"ticks\":\"\",\"zerolinecolor\":\"white\"}},\"shapedefaults\":{\"line\":{\"color\":\"#2a3f5f\"}},\"ternary\":{\"aaxis\":{\"gridcolor\":\"white\",\"linecolor\":\"white\",\"ticks\":\"\"},\"baxis\":{\"gridcolor\":\"white\",\"linecolor\":\"white\",\"ticks\":\"\"},\"bgcolor\":\"#E5ECF6\",\"caxis\":{\"gridcolor\":\"white\",\"linecolor\":\"white\",\"ticks\":\"\"}},\"title\":{\"x\":0.05},\"xaxis\":{\"automargin\":true,\"gridcolor\":\"white\",\"linecolor\":\"white\",\"ticks\":\"\",\"title\":{\"standoff\":15},\"zerolinecolor\":\"white\",\"zerolinewidth\":2},\"yaxis\":{\"automargin\":true,\"gridcolor\":\"white\",\"linecolor\":\"white\",\"ticks\":\"\",\"title\":{\"standoff\":15},\"zerolinecolor\":\"white\",\"zerolinewidth\":2}}},\"title\":{\"font\":{\"color\":\"#4D5663\"}},\"xaxis\":{\"anchor\":\"y\",\"domain\":[0.0,0.2125],\"gridcolor\":\"#E1E5ED\",\"showgrid\":false,\"tickfont\":{\"color\":\"#4D5663\"},\"title\":{\"font\":{\"color\":\"#4D5663\"},\"text\":\"\"},\"zerolinecolor\":\"#E1E5ED\"},\"xaxis10\":{\"anchor\":\"y10\",\"domain\":[0.2625,0.475],\"gridcolor\":\"#E1E5ED\",\"showgrid\":false,\"tickfont\":{\"color\":\"#4D5663\"},\"title\":{\"font\":{\"color\":\"#4D5663\"},\"text\":\"\"},\"zerolinecolor\":\"#E1E5ED\"},\"xaxis11\":{\"anchor\":\"y11\",\"domain\":[0.525,0.7375],\"gridcolor\":\"#E1E5ED\",\"showgrid\":false,\"tickfont\":{\"color\":\"#4D5663\"},\"title\":{\"font\":{\"color\":\"#4D5663\"},\"text\":\"\"},\"zerolinecolor\":\"#E1E5ED\"},\"xaxis12\":{\"anchor\":\"y12\",\"domain\":[0.7875,1.0],\"gridcolor\":\"#E1E5ED\",\"showgrid\":false,\"tickfont\":{\"color\":\"#4D5663\"},\"title\":{\"font\":{\"color\":\"#4D5663\"},\"text\":\"\"},\"zerolinecolor\":\"#E1E5ED\"},\"xaxis13\":{\"anchor\":\"y13\",\"domain\":[0.0,0.2125],\"gridcolor\":\"#E1E5ED\",\"showgrid\":false,\"tickfont\":{\"color\":\"#4D5663\"},\"title\":{\"font\":{\"color\":\"#4D5663\"},\"text\":\"\"},\"zerolinecolor\":\"#E1E5ED\"},\"xaxis14\":{\"anchor\":\"y14\",\"domain\":[0.2625,0.475],\"gridcolor\":\"#E1E5ED\",\"showgrid\":false,\"tickfont\":{\"color\":\"#4D5663\"},\"title\":{\"font\":{\"color\":\"#4D5663\"},\"text\":\"\"},\"zerolinecolor\":\"#E1E5ED\"},\"xaxis15\":{\"anchor\":\"y15\",\"domain\":[0.525,0.7375],\"gridcolor\":\"#E1E5ED\",\"showgrid\":false,\"tickfont\":{\"color\":\"#4D5663\"},\"title\":{\"font\":{\"color\":\"#4D5663\"},\"text\":\"\"},\"zerolinecolor\":\"#E1E5ED\"},\"xaxis16\":{\"anchor\":\"y16\",\"domain\":[0.7875,1.0],\"gridcolor\":\"#E1E5ED\",\"showgrid\":false,\"tickfont\":{\"color\":\"#4D5663\"},\"title\":{\"font\":{\"color\":\"#4D5663\"},\"text\":\"\"},\"zerolinecolor\":\"#E1E5ED\"},\"xaxis2\":{\"anchor\":\"y2\",\"domain\":[0.2625,0.475],\"gridcolor\":\"#E1E5ED\",\"showgrid\":false,\"tickfont\":{\"color\":\"#4D5663\"},\"title\":{\"font\":{\"color\":\"#4D5663\"},\"text\":\"\"},\"zerolinecolor\":\"#E1E5ED\"},\"xaxis3\":{\"anchor\":\"y3\",\"domain\":[0.525,0.7375],\"gridcolor\":\"#E1E5ED\",\"showgrid\":false,\"tickfont\":{\"color\":\"#4D5663\"},\"title\":{\"font\":{\"color\":\"#4D5663\"},\"text\":\"\"},\"zerolinecolor\":\"#E1E5ED\"},\"xaxis4\":{\"anchor\":\"y4\",\"domain\":[0.7875,1.0],\"gridcolor\":\"#E1E5ED\",\"showgrid\":false,\"tickfont\":{\"color\":\"#4D5663\"},\"title\":{\"font\":{\"color\":\"#4D5663\"},\"text\":\"\"},\"zerolinecolor\":\"#E1E5ED\"},\"xaxis5\":{\"anchor\":\"y5\",\"domain\":[0.0,0.2125],\"gridcolor\":\"#E1E5ED\",\"showgrid\":false,\"tickfont\":{\"color\":\"#4D5663\"},\"title\":{\"font\":{\"color\":\"#4D5663\"},\"text\":\"\"},\"zerolinecolor\":\"#E1E5ED\"},\"xaxis6\":{\"anchor\":\"y6\",\"domain\":[0.2625,0.475],\"gridcolor\":\"#E1E5ED\",\"showgrid\":false,\"tickfont\":{\"color\":\"#4D5663\"},\"title\":{\"font\":{\"color\":\"#4D5663\"},\"text\":\"\"},\"zerolinecolor\":\"#E1E5ED\"},\"xaxis7\":{\"anchor\":\"y7\",\"domain\":[0.525,0.7375],\"gridcolor\":\"#E1E5ED\",\"showgrid\":false,\"tickfont\":{\"color\":\"#4D5663\"},\"title\":{\"font\":{\"color\":\"#4D5663\"},\"text\":\"\"},\"zerolinecolor\":\"#E1E5ED\"},\"xaxis8\":{\"anchor\":\"y8\",\"domain\":[0.7875,1.0],\"gridcolor\":\"#E1E5ED\",\"showgrid\":false,\"tickfont\":{\"color\":\"#4D5663\"},\"title\":{\"font\":{\"color\":\"#4D5663\"},\"text\":\"\"},\"zerolinecolor\":\"#E1E5ED\"},\"xaxis9\":{\"anchor\":\"y9\",\"domain\":[0.0,0.2125],\"gridcolor\":\"#E1E5ED\",\"showgrid\":false,\"tickfont\":{\"color\":\"#4D5663\"},\"title\":{\"font\":{\"color\":\"#4D5663\"},\"text\":\"\"},\"zerolinecolor\":\"#E1E5ED\"},\"yaxis\":{\"anchor\":\"x\",\"domain\":[0.8025,1.0],\"gridcolor\":\"#E1E5ED\",\"showgrid\":false,\"tickfont\":{\"color\":\"#4D5663\"},\"title\":{\"font\":{\"color\":\"#4D5663\"},\"text\":\"\"},\"zerolinecolor\":\"#E1E5ED\"},\"yaxis10\":{\"anchor\":\"x10\",\"domain\":[0.2675,0.465],\"gridcolor\":\"#E1E5ED\",\"showgrid\":false,\"tickfont\":{\"color\":\"#4D5663\"},\"title\":{\"font\":{\"color\":\"#4D5663\"},\"text\":\"\"},\"zerolinecolor\":\"#E1E5ED\"},\"yaxis11\":{\"anchor\":\"x11\",\"domain\":[0.2675,0.465],\"gridcolor\":\"#E1E5ED\",\"showgrid\":false,\"tickfont\":{\"color\":\"#4D5663\"},\"title\":{\"font\":{\"color\":\"#4D5663\"},\"text\":\"\"},\"zerolinecolor\":\"#E1E5ED\"},\"yaxis12\":{\"anchor\":\"x12\",\"domain\":[0.2675,0.465],\"gridcolor\":\"#E1E5ED\",\"showgrid\":false,\"tickfont\":{\"color\":\"#4D5663\"},\"title\":{\"font\":{\"color\":\"#4D5663\"},\"text\":\"\"},\"zerolinecolor\":\"#E1E5ED\"},\"yaxis13\":{\"anchor\":\"x13\",\"domain\":[0.0,0.1975],\"gridcolor\":\"#E1E5ED\",\"showgrid\":false,\"tickfont\":{\"color\":\"#4D5663\"},\"title\":{\"font\":{\"color\":\"#4D5663\"},\"text\":\"\"},\"zerolinecolor\":\"#E1E5ED\"},\"yaxis14\":{\"anchor\":\"x14\",\"domain\":[0.0,0.1975],\"gridcolor\":\"#E1E5ED\",\"showgrid\":false,\"tickfont\":{\"color\":\"#4D5663\"},\"title\":{\"font\":{\"color\":\"#4D5663\"},\"text\":\"\"},\"zerolinecolor\":\"#E1E5ED\"},\"yaxis15\":{\"anchor\":\"x15\",\"domain\":[0.0,0.1975],\"gridcolor\":\"#E1E5ED\",\"showgrid\":false,\"tickfont\":{\"color\":\"#4D5663\"},\"title\":{\"font\":{\"color\":\"#4D5663\"},\"text\":\"\"},\"zerolinecolor\":\"#E1E5ED\"},\"yaxis16\":{\"anchor\":\"x16\",\"domain\":[0.0,0.1975],\"gridcolor\":\"#E1E5ED\",\"showgrid\":false,\"tickfont\":{\"color\":\"#4D5663\"},\"title\":{\"font\":{\"color\":\"#4D5663\"},\"text\":\"\"},\"zerolinecolor\":\"#E1E5ED\"},\"yaxis2\":{\"anchor\":\"x2\",\"domain\":[0.8025,1.0],\"gridcolor\":\"#E1E5ED\",\"showgrid\":false,\"tickfont\":{\"color\":\"#4D5663\"},\"title\":{\"font\":{\"color\":\"#4D5663\"},\"text\":\"\"},\"zerolinecolor\":\"#E1E5ED\"},\"yaxis3\":{\"anchor\":\"x3\",\"domain\":[0.8025,1.0],\"gridcolor\":\"#E1E5ED\",\"showgrid\":false,\"tickfont\":{\"color\":\"#4D5663\"},\"title\":{\"font\":{\"color\":\"#4D5663\"},\"text\":\"\"},\"zerolinecolor\":\"#E1E5ED\"},\"yaxis4\":{\"anchor\":\"x4\",\"domain\":[0.8025,1.0],\"gridcolor\":\"#E1E5ED\",\"showgrid\":false,\"tickfont\":{\"color\":\"#4D5663\"},\"title\":{\"font\":{\"color\":\"#4D5663\"},\"text\":\"\"},\"zerolinecolor\":\"#E1E5ED\"},\"yaxis5\":{\"anchor\":\"x5\",\"domain\":[0.535,0.7325],\"gridcolor\":\"#E1E5ED\",\"showgrid\":false,\"tickfont\":{\"color\":\"#4D5663\"},\"title\":{\"font\":{\"color\":\"#4D5663\"},\"text\":\"\"},\"zerolinecolor\":\"#E1E5ED\"},\"yaxis6\":{\"anchor\":\"x6\",\"domain\":[0.535,0.7325],\"gridcolor\":\"#E1E5ED\",\"showgrid\":false,\"tickfont\":{\"color\":\"#4D5663\"},\"title\":{\"font\":{\"color\":\"#4D5663\"},\"text\":\"\"},\"zerolinecolor\":\"#E1E5ED\"},\"yaxis7\":{\"anchor\":\"x7\",\"domain\":[0.535,0.7325],\"gridcolor\":\"#E1E5ED\",\"showgrid\":false,\"tickfont\":{\"color\":\"#4D5663\"},\"title\":{\"font\":{\"color\":\"#4D5663\"},\"text\":\"\"},\"zerolinecolor\":\"#E1E5ED\"},\"yaxis8\":{\"anchor\":\"x8\",\"domain\":[0.535,0.7325],\"gridcolor\":\"#E1E5ED\",\"showgrid\":false,\"tickfont\":{\"color\":\"#4D5663\"},\"title\":{\"font\":{\"color\":\"#4D5663\"},\"text\":\"\"},\"zerolinecolor\":\"#E1E5ED\"},\"yaxis9\":{\"anchor\":\"x9\",\"domain\":[0.2675,0.465],\"gridcolor\":\"#E1E5ED\",\"showgrid\":false,\"tickfont\":{\"color\":\"#4D5663\"},\"title\":{\"font\":{\"color\":\"#4D5663\"},\"text\":\"\"},\"zerolinecolor\":\"#E1E5ED\"}},                        {\"showLink\": true, \"linkText\": \"Export to plot.ly\", \"plotlyServerURL\": \"https://plot.ly\", \"responsive\": true}                    ).then(function(){\n",
       "                            \n",
       "var gd = document.getElementById('63efa4b6-8204-461e-a097-602d531d92ae');\n",
       "var x = new MutationObserver(function (mutations, observer) {{\n",
       "        var display = window.getComputedStyle(gd).display;\n",
       "        if (!display || display === 'none') {{\n",
       "            console.log([gd, 'removed!']);\n",
       "            Plotly.purge(gd);\n",
       "            observer.disconnect();\n",
       "        }}\n",
       "}});\n",
       "\n",
       "// Listen for the removal of the full notebook cells\n",
       "var notebookContainer = gd.closest('#notebook-container');\n",
       "if (notebookContainer) {{\n",
       "    x.observe(notebookContainer, {childList: true});\n",
       "}}\n",
       "\n",
       "// Listen for the clearing of the current output cell\n",
       "var outputEl = gd.closest('.output');\n",
       "if (outputEl) {{\n",
       "    x.observe(outputEl, {childList: true});\n",
       "}}\n",
       "\n",
       "                        })                };                });            </script>        </div>"
      ]
     },
     "metadata": {},
     "output_type": "display_data"
    }
   ],
   "source": [
    "df.scatter_matrix()"
   ]
  },
  {
   "cell_type": "code",
   "execution_count": null,
   "id": "d1ae9329",
   "metadata": {},
   "outputs": [],
   "source": []
  }
 ],
 "metadata": {
  "kernelspec": {
   "display_name": "Python 3 (ipykernel)",
   "language": "python",
   "name": "python3"
  },
  "language_info": {
   "codemirror_mode": {
    "name": "ipython",
    "version": 3
   },
   "file_extension": ".py",
   "mimetype": "text/x-python",
   "name": "python",
   "nbconvert_exporter": "python",
   "pygments_lexer": "ipython3",
   "version": "3.9.6"
  }
 },
 "nbformat": 4,
 "nbformat_minor": 5
}
