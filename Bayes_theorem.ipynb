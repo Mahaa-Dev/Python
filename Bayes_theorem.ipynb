{
 "cells": [
  {
   "cell_type": "markdown",
   "id": "86729050",
   "metadata": {},
   "source": [
    "Bayes’ Theorem states the following for any two events A and B:\n",
    "\n",
    "P(A|B) = P(A)*P(B|A) / P(B)\n",
    "\n",
    "where:\n",
    "\n",
    "- P(A|B): The probability of event A, given event B has occurred.\n",
    "- P(B|A): The probability of event B, given event A has occurred.\n",
    "- P(A): The probability of event A.\n",
    "- P(B): The probability of event B.\n",
    "    \n",
    "For example, suppose the probability of the weather being cloudy is 40%.\n",
    "\n",
    "Also suppose the probability of rain on a given day is 20%.\n",
    "\n",
    "Also suppose the probability of clouds on a rainy day is 85%. \n",
    "\n",
    "If it’s cloudy outside on a given day, what is the probability that it will rain that day?\n",
    "\n",
    "Solution:\n",
    "\n",
    "- P(cloudy) = 0.40\n",
    "- P(rain) = 0.20\n",
    "- P(cloudy | rain) = 0.85\n",
    "\n",
    "Thus, we can calculate:\n",
    "\n",
    "- P(rain | cloudy) = P(rain) * P(cloudy | rain) / P(cloudy)\n",
    "- P(rain | cloudy) = 0.20 * 0.85 / 0.40\n",
    "- P(rain | cloudy) = 0.425\n",
    "\n",
    "If it’s cloudy outside on a given day, the probability that it will rain that day is 42.5%."
   ]
  },
  {
   "cell_type": "code",
   "execution_count": 2,
   "id": "1761e7dd",
   "metadata": {},
   "outputs": [],
   "source": [
    "#define function for Bayes' theorem\n",
    "def bayesTheorem(pA, pB, pBA):\n",
    "    return pA * pBA / pB"
   ]
  },
  {
   "cell_type": "code",
   "execution_count": 3,
   "id": "1febf273",
   "metadata": {},
   "outputs": [],
   "source": [
    "#define probabilities\n",
    "pRain = 0.2\n",
    "pCloudy = 0.4\n",
    "pCloudyRain = 0.85"
   ]
  },
  {
   "cell_type": "code",
   "execution_count": 4,
   "id": "fa6155bc",
   "metadata": {},
   "outputs": [
    {
     "data": {
      "text/plain": [
       "0.425"
      ]
     },
     "execution_count": 4,
     "metadata": {},
     "output_type": "execute_result"
    }
   ],
   "source": [
    "#use function to calculate conditional probability\n",
    "bayesTheorem(pRain, pCloudy, pCloudyRain)"
   ]
  },
  {
   "cell_type": "code",
   "execution_count": null,
   "id": "edca8b03",
   "metadata": {},
   "outputs": [],
   "source": []
  }
 ],
 "metadata": {
  "kernelspec": {
   "display_name": "Python 3 (ipykernel)",
   "language": "python",
   "name": "python3"
  },
  "language_info": {
   "codemirror_mode": {
    "name": "ipython",
    "version": 3
   },
   "file_extension": ".py",
   "mimetype": "text/x-python",
   "name": "python",
   "nbconvert_exporter": "python",
   "pygments_lexer": "ipython3",
   "version": "3.9.6"
  }
 },
 "nbformat": 4,
 "nbformat_minor": 5
}
