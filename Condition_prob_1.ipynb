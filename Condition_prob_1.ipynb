{
 "cells": [
  {
   "cell_type": "code",
   "execution_count": 1,
   "id": "1974edea",
   "metadata": {},
   "outputs": [],
   "source": [
    "import enum, random"
   ]
  },
  {
   "cell_type": "code",
   "execution_count": 2,
   "id": "df8d0924",
   "metadata": {},
   "outputs": [],
   "source": [
    "class Kid(enum.Enum):\n",
    "    BOY = 0\n",
    "    GIRL = 1"
   ]
  },
  {
   "cell_type": "code",
   "execution_count": 3,
   "id": "7b094b17",
   "metadata": {},
   "outputs": [],
   "source": [
    "def random_kid()-> Kid:\n",
    "    return random.choice([Kid.BOY, Kid.GIRL])"
   ]
  },
  {
   "cell_type": "raw",
   "id": "fddd5754",
   "metadata": {},
   "source": [
    "# First we establish a random function that assigns a random.choce method to assign gender such that each child(i.e.,kid class instance) is likely to be a boy or a girl. this is the first assumptions of scenario"
   ]
  },
  {
   "cell_type": "code",
   "execution_count": 6,
   "id": "863b4cec",
   "metadata": {},
   "outputs": [],
   "source": [
    "random.seed(0)\n",
    "#CREATING VARIABLE\n",
    "both_girls = 0 # both children being girl\n",
    "older_girl = 0 # only the older child being a girl\n",
    "either_girl = 0 # at least one child being a girl\n",
    "\n",
    "for _ in range(10000):\n",
    "    younger = random_kid()\n",
    "    older = random_kid()\n",
    "    if older == Kid.GIRL:\n",
    "        older_girl +=1\n",
    "    \n",
    "    if older == Kid.GIRL and younger == Kid.GIRL:\n",
    "        both_girls += 1\n",
    "    \n",
    "    if older == Kid.GIRL or younger == Kid.GIRL:\n",
    "        either_girl += 1\n",
    "    "
   ]
  },
  {
   "cell_type": "code",
   "execution_count": 7,
   "id": "a89cc295",
   "metadata": {},
   "outputs": [
    {
     "name": "stdout",
     "output_type": "stream",
     "text": [
      "P(both | older): 0.5007089325501317\n"
     ]
    }
   ],
   "source": [
    "print(\"P(both | older):\",both_girls / older_girl)"
   ]
  },
  {
   "cell_type": "code",
   "execution_count": 8,
   "id": "edd674b8",
   "metadata": {},
   "outputs": [
    {
     "name": "stdout",
     "output_type": "stream",
     "text": [
      "P(both | either): 0.3311897106109325\n"
     ]
    }
   ],
   "source": [
    "print(\"P(both | either):\",both_girls / either_girl)"
   ]
  },
  {
   "cell_type": "code",
   "execution_count": null,
   "id": "2c2d2bbb",
   "metadata": {},
   "outputs": [],
   "source": []
  }
 ],
 "metadata": {
  "kernelspec": {
   "display_name": "Python 3 (ipykernel)",
   "language": "python",
   "name": "python3"
  },
  "language_info": {
   "codemirror_mode": {
    "name": "ipython",
    "version": 3
   },
   "file_extension": ".py",
   "mimetype": "text/x-python",
   "name": "python",
   "nbconvert_exporter": "python",
   "pygments_lexer": "ipython3",
   "version": "3.9.6"
  }
 },
 "nbformat": 4,
 "nbformat_minor": 5
}
